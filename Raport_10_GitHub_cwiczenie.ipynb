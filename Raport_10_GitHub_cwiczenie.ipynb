{
  "nbformat": 4,
  "nbformat_minor": 0,
  "metadata": {
    "colab": {
      "provenance": [],
      "authorship_tag": "ABX9TyNPxZQ7nZy9+x5YQVsA1uSp",
      "include_colab_link": true
    },
    "kernelspec": {
      "name": "python3",
      "display_name": "Python 3"
    },
    "language_info": {
      "name": "python"
    }
  },
  "cells": [
    {
      "cell_type": "markdown",
      "metadata": {
        "id": "view-in-github",
        "colab_type": "text"
      },
      "source": [
        "<a href=\"https://colab.research.google.com/github/BorysGracz/Raport-10-/blob/main/Raport_10_GitHub_cwiczenie.ipynb\" target=\"_parent\"><img src=\"https://colab.research.google.com/assets/colab-badge.svg\" alt=\"Open In Colab\"/></a>"
      ]
    },
    {
      "cell_type": "markdown",
      "source": [
        "#Raport 7"
      ],
      "metadata": {
        "id": "IOjeM_5BzGBz"
      }
    },
    {
      "cell_type": "markdown",
      "source": [
        "## Profile dochodowych aplikacji na rynkach App Store i Google Play\n",
        "###Naszym celem w tym projekcie jest znalezienie profili aplikacji mobilnych, które są dochodowe na rynkach App Store i Google Play.\n",
        "###Pracujemy jako analitycy danych dla firmy, która tworzy aplikacje mobilne na Androida i iOS, a naszym zadaniem jest umożliwienie zespołowi deweloperów podejmowania decyzji opartych na danych dotyczących rodzaju aplikacji, które powinni tworzyć."
      ],
      "metadata": {
        "id": "pZlNkX7TzKT2"
      }
    },
    {
      "cell_type": "markdown",
      "source": [
        "### Otwarcie danych"
      ],
      "metadata": {
        "id": "zjCRj-_qN7Ri"
      }
    },
    {
      "cell_type": "code",
      "source": [
        "!wget https://raw.githubusercontent.com/BorysGracz/Raport-10-/refs/heads/main/googleplaystore.csv\n",
        "!wget https://raw.githubusercontent.com/BorysGracz/Raport-10-/refs/heads/main/AppleStore.csv\n",
        "\n",
        "from csv import reader\n",
        "\n",
        "with open('AppleStore.csv', encoding=\"utf-8\") as file:\n",
        "    read_file = reader(file)\n",
        "    ios = list(read_file)\n",
        "\n",
        "ios_header = ios[0]\n",
        "ios = ios[1:]\n",
        "\n",
        "with open('googleplaystore.csv', encoding=\"utf-8\") as file:\n",
        "    read_file = reader(file)\n",
        "    android = list(read_file)\n",
        "\n",
        "android_header = android[0]\n",
        "android = android[1:]"
      ],
      "metadata": {
        "colab": {
          "base_uri": "https://localhost:8080/"
        },
        "id": "TrG-Gb5xN-pt",
        "outputId": "e128b96d-9a65-4ff2-f3cf-b221d13ea063"
      },
      "execution_count": null,
      "outputs": [
        {
          "output_type": "stream",
          "name": "stdout",
          "text": [
            "--2025-05-05 07:48:24--  https://dq-content.s3.amazonaws.com/350/googleplaystore.csv\n",
            "Resolving dq-content.s3.amazonaws.com (dq-content.s3.amazonaws.com)... 3.5.25.36, 52.216.142.180, 52.216.214.169, ...\n",
            "Connecting to dq-content.s3.amazonaws.com (dq-content.s3.amazonaws.com)|3.5.25.36|:443... connected.\n",
            "HTTP request sent, awaiting response... 200 OK\n",
            "Length: 1349314 (1.3M) [text/csv]\n",
            "Saving to: ‘googleplaystore.csv’\n",
            "\n",
            "googleplaystore.csv 100%[===================>]   1.29M  1.18MB/s    in 1.1s    \n",
            "\n",
            "2025-05-05 07:48:26 (1.18 MB/s) - ‘googleplaystore.csv’ saved [1349314/1349314]\n",
            "\n",
            "--2025-05-05 07:48:26--  https://dq-content.s3.amazonaws.com/350/AppleStore.csv\n",
            "Resolving dq-content.s3.amazonaws.com (dq-content.s3.amazonaws.com)... 3.5.25.36, 52.216.142.180, 52.216.214.169, ...\n",
            "Connecting to dq-content.s3.amazonaws.com (dq-content.s3.amazonaws.com)|3.5.25.36|:443... connected.\n",
            "HTTP request sent, awaiting response... 200 OK\n",
            "Length: 725761 (709K) [text/csv]\n",
            "Saving to: ‘AppleStore.csv’\n",
            "\n",
            "AppleStore.csv      100%[===================>] 708.75K   780KB/s    in 0.9s    \n",
            "\n",
            "2025-05-05 07:48:27 (780 KB/s) - ‘AppleStore.csv’ saved [725761/725761]\n",
            "\n"
          ]
        }
      ]
    },
    {
      "cell_type": "markdown",
      "source": [
        "### Funkcja badająca dane:"
      ],
      "metadata": {
        "id": "Cyvw-TzWOWuT"
      }
    },
    {
      "cell_type": "code",
      "source": [
        "def explore_data(dataset, start, end, rows_and_columns=False):\n",
        "    dataset_slice = dataset[start:end]\n",
        "    for row in dataset_slice:\n",
        "        print(row)\n",
        "        print('\\n')\n",
        "\n",
        "    if rows_and_columns:\n",
        "        print('Number of rows:', len(dataset))\n",
        "        print('Number of columns:', len(dataset[0]))\n",
        "\n",
        "print(android_header)\n",
        "print('\\n')\n",
        "explore_data(android, 0, 3, True)"
      ],
      "metadata": {
        "colab": {
          "base_uri": "https://localhost:8080/"
        },
        "id": "aH030-MIOrOz",
        "outputId": "54b448fc-16ce-4bc1-c0fc-d3bbb9fc8939"
      },
      "execution_count": null,
      "outputs": [
        {
          "output_type": "stream",
          "name": "stdout",
          "text": [
            "['App', 'Category', 'Rating', 'Reviews', 'Size', 'Installs', 'Type', 'Price', 'Content Rating', 'Genres', 'Last Updated', 'Current Ver', 'Android Ver']\n",
            "\n",
            "\n",
            "['Photo Editor & Candy Camera & Grid & ScrapBook', 'ART_AND_DESIGN', '4.1', '159', '19M', '10,000+', 'Free', '0', 'Everyone', 'Art & Design', 'January 7, 2018', '1.0.0', '4.0.3 and up']\n",
            "\n",
            "\n",
            "['Coloring book moana', 'ART_AND_DESIGN', '3.9', '967', '14M', '500,000+', 'Free', '0', 'Everyone', 'Art & Design;Pretend Play', 'January 15, 2018', '2.0.0', '4.0.3 and up']\n",
            "\n",
            "\n",
            "['U Launcher Lite – FREE Live Cool Themes, Hide Apps', 'ART_AND_DESIGN', '4.7', '87510', '8.7M', '5,000,000+', 'Free', '0', 'Everyone', 'Art & Design', 'August 1, 2018', '1.2.4', '4.0.3 and up']\n",
            "\n",
            "\n",
            "Number of rows: 10841\n",
            "Number of columns: 13\n"
          ]
        }
      ]
    },
    {
      "cell_type": "code",
      "source": [
        "print(ios_header)\n",
        "print('\\n')\n",
        "explore_data(ios, 0, 3, True)\n"
      ],
      "metadata": {
        "colab": {
          "base_uri": "https://localhost:8080/"
        },
        "id": "9AB0smJ7O1Ha",
        "outputId": "9d12e7aa-cc33-464d-e0c9-621cb4a2af82"
      },
      "execution_count": null,
      "outputs": [
        {
          "output_type": "stream",
          "name": "stdout",
          "text": [
            "['id', 'track_name', 'size_bytes', 'currency', 'price', 'rating_count_tot', 'rating_count_ver', 'user_rating', 'user_rating_ver', 'ver', 'cont_rating', 'prime_genre', 'sup_devices.num', 'ipadSc_urls.num', 'lang.num', 'vpp_lic']\n",
            "\n",
            "\n",
            "['284882215', 'Facebook', '389879808', 'USD', '0.0', '2974676', '212', '3.5', '3.5', '95.0', '4+', 'Social Networking', '37', '1', '29', '1']\n",
            "\n",
            "\n",
            "['389801252', 'Instagram', '113954816', 'USD', '0.0', '2161558', '1289', '4.5', '4.0', '10.23', '12+', 'Photo & Video', '37', '0', '29', '1']\n",
            "\n",
            "\n",
            "['529479190', 'Clash of Clans', '116476928', 'USD', '0.0', '2130805', '579', '4.5', '4.5', '9.24.12', '9+', 'Games', '38', '5', '18', '1']\n",
            "\n",
            "\n",
            "Number of rows: 7197\n",
            "Number of columns: 16\n"
          ]
        }
      ]
    },
    {
      "cell_type": "markdown",
      "source": [
        "### Usuwanie niepoprawnych danych"
      ],
      "metadata": {
        "id": "jqWukg5nO2sX"
      }
    },
    {
      "cell_type": "code",
      "source": [
        "print(android[10472])\n",
        "print('\\n')\n",
        "print(android_header)\n",
        "print('\\n')\n",
        "print(android[0])"
      ],
      "metadata": {
        "colab": {
          "base_uri": "https://localhost:8080/"
        },
        "id": "G6xRBebYO7eb",
        "outputId": "ca0f6caa-d7f5-4da9-96b4-8d17a7544eb2"
      },
      "execution_count": null,
      "outputs": [
        {
          "output_type": "stream",
          "name": "stdout",
          "text": [
            "['Life Made WI-Fi Touchscreen Photo Frame', '1.9', '19', '3.0M', '1,000+', 'Free', '0', 'Everyone', '', 'February 11, 2018', '1.0.19', '4.0 and up']\n",
            "\n",
            "\n",
            "['App', 'Category', 'Rating', 'Reviews', 'Size', 'Installs', 'Type', 'Price', 'Content Rating', 'Genres', 'Last Updated', 'Current Ver', 'Android Ver']\n",
            "\n",
            "\n",
            "['Photo Editor & Candy Camera & Grid & ScrapBook', 'ART_AND_DESIGN', '4.1', '159', '19M', '10,000+', 'Free', '0', 'Everyone', 'Art & Design', 'January 7, 2018', '1.0.0', '4.0.3 and up']\n"
          ]
        }
      ]
    },
    {
      "cell_type": "code",
      "source": [
        "print(len(android))\n",
        "del android[10472]\n",
        "print(len(android))"
      ],
      "metadata": {
        "colab": {
          "base_uri": "https://localhost:8080/"
        },
        "id": "yHynV-rAPIm2",
        "outputId": "01342d6b-076e-4ff2-fbaf-85055b4f2bda"
      },
      "execution_count": null,
      "outputs": [
        {
          "output_type": "stream",
          "name": "stdout",
          "text": [
            "10841\n",
            "10840\n"
          ]
        }
      ]
    },
    {
      "cell_type": "code",
      "source": [
        "for app in android:\n",
        "    name = app[0]\n",
        "    if name == 'Instagram':\n",
        "        print(app)"
      ],
      "metadata": {
        "colab": {
          "base_uri": "https://localhost:8080/"
        },
        "id": "o6XSQZy1POn0",
        "outputId": "bfc2991b-8bbe-4b8d-f6a1-32b7c09268e1"
      },
      "execution_count": null,
      "outputs": [
        {
          "output_type": "stream",
          "name": "stdout",
          "text": [
            "['Instagram', 'SOCIAL', '4.5', '66577313', 'Varies with device', '1,000,000,000+', 'Free', '0', 'Teen', 'Social', 'July 31, 2018', 'Varies with device', 'Varies with device']\n",
            "['Instagram', 'SOCIAL', '4.5', '66577446', 'Varies with device', '1,000,000,000+', 'Free', '0', 'Teen', 'Social', 'July 31, 2018', 'Varies with device', 'Varies with device']\n",
            "['Instagram', 'SOCIAL', '4.5', '66577313', 'Varies with device', '1,000,000,000+', 'Free', '0', 'Teen', 'Social', 'July 31, 2018', 'Varies with device', 'Varies with device']\n",
            "['Instagram', 'SOCIAL', '4.5', '66509917', 'Varies with device', '1,000,000,000+', 'Free', '0', 'Teen', 'Social', 'July 31, 2018', 'Varies with device', 'Varies with device']\n"
          ]
        }
      ]
    },
    {
      "cell_type": "markdown",
      "source": [
        "### Wykrywanie powielonych aplikacji w zbiorze danych Google Play"
      ],
      "metadata": {
        "id": "s6wKTj_KPUI9"
      }
    },
    {
      "cell_type": "markdown",
      "source": [
        "###Podczas analizy zbioru danych Google Play zauważyliśmy, że niektóre aplikacje pojawiają się więcej niż raz. Duplikaty mogą wpływać na wyniki analizy, dlatego musimy je odpowiednio zidentyfikować i usunąć.\n",
        "\n",
        "###Poniższy kod znajduje zduplikowane nazwy aplikacji:"
      ],
      "metadata": {
        "id": "NQNbRyEfPpY2"
      }
    },
    {
      "cell_type": "code",
      "source": [
        "duplicate_apps = []\n",
        "unique_apps = []\n",
        "\n",
        "for app in android:\n",
        "    name = app[0]\n",
        "    if name in unique_apps:\n",
        "        duplicate_apps.append(name)\n",
        "    else:\n",
        "        unique_apps.append(name)\n",
        "\n",
        "print('Number of duplicate apps:', len(duplicate_apps))\n",
        "print('\\n')\n",
        "print('Examples of duplicate apps:', duplicate_apps[:15])"
      ],
      "metadata": {
        "colab": {
          "base_uri": "https://localhost:8080/"
        },
        "id": "j3TN5Fv9PzXm",
        "outputId": "eb1a962d-7b50-43a6-cbc4-8fa2f8090078"
      },
      "execution_count": null,
      "outputs": [
        {
          "output_type": "stream",
          "name": "stdout",
          "text": [
            "Number of duplicate apps: 1181\n",
            "\n",
            "\n",
            "Examples of duplicate apps: ['Quick PDF Scanner + OCR FREE', 'Box', 'Google My Business', 'ZOOM Cloud Meetings', 'join.me - Simple Meetings', 'Box', 'Zenefits', 'Google Ads', 'Google My Business', 'Slack', 'FreshBooks Classic', 'Insightly CRM', 'QuickBooks Accounting: Invoicing & Expenses', 'HipChat - Chat Built for Teams', 'Xero Accounting Software']\n"
          ]
        }
      ]
    },
    {
      "cell_type": "markdown",
      "source": [
        "### Z wyniku widzimy, że w zbiorze danych znajduje się dużo powielonych aplikacji\n",
        "\n",
        "### Nie będziemy usuwać duplikatów losowo. Zamiast tego, zachowamy tylko to wystąpienie aplikacji, które ma największą liczbę recenzji. Liczba recenzji może być dobrym wskaźnikiem jakości danych — im więcej recenzji, tym większa popularność aplikacji i większe prawdopodobieństwo, że dane są aktualne. Dzięki temu zachowamy najbardziej wartościowe informacje do dalszej analizy"
      ],
      "metadata": {
        "id": "eLDdUcE4P1a7"
      }
    },
    {
      "cell_type": "markdown",
      "source": [
        "### Tworzymy słownik"
      ],
      "metadata": {
        "id": "8BLLycK8QZvP"
      }
    },
    {
      "cell_type": "code",
      "source": [
        "reviews_max = {}\n",
        "\n",
        "for app in android:\n",
        "    name = app[0]\n",
        "    n_reviews = float(app[3])\n",
        "\n",
        "    if name in reviews_max and reviews_max[name] < n_reviews:\n",
        "        reviews_max[name] = n_reviews\n",
        "\n",
        "    elif name not in reviews_max:\n",
        "        reviews_max[name] = n_reviews\n"
      ],
      "metadata": {
        "id": "259nsUgnQizu"
      },
      "execution_count": null,
      "outputs": []
    },
    {
      "cell_type": "code",
      "source": [
        "print('Expected length:', len(android) - 1181)\n",
        "print('Actual length:', len(reviews_max))"
      ],
      "metadata": {
        "colab": {
          "base_uri": "https://localhost:8080/"
        },
        "id": "08-maVtBQmBv",
        "outputId": "50c41b4c-b346-44c2-c42e-946b3c5bc02f"
      },
      "execution_count": null,
      "outputs": [
        {
          "output_type": "stream",
          "name": "stdout",
          "text": [
            "Expected length: 9659\n",
            "Actual length: 9659\n"
          ]
        }
      ]
    },
    {
      "cell_type": "markdown",
      "source": [
        "### Tworzymy dwie puste listy: android_clean i already_added."
      ],
      "metadata": {
        "id": "E3PDRwCJQo27"
      }
    },
    {
      "cell_type": "markdown",
      "source": [
        "### W pętli przechodzimy przez dane android i dla każdej iteracji: Izolujemy nazwę aplikacji oraz liczbę recenzji. Jeśli liczba recenzji aplikacji pasuje do wartości w słowniku reviews_max i aplikacja nie została jeszcze dodana (jest w already_added), dodajemy ją do listy android_clean oraz nazwę aplikacji do already_added."
      ],
      "metadata": {
        "id": "R9BfAJ98RI_s"
      }
    },
    {
      "cell_type": "code",
      "source": [
        "android_clean = []\n",
        "already_added = []\n",
        "\n",
        "for app in android:\n",
        "    name = app[0]\n",
        "    n_reviews = float(app[3])\n",
        "\n",
        "    if (reviews_max[name] == n_reviews) and (name not in already_added):\n",
        "        android_clean.append(app)\n",
        "        already_added.append(name)"
      ],
      "metadata": {
        "id": "V5EGh40PRSWU"
      },
      "execution_count": null,
      "outputs": []
    },
    {
      "cell_type": "markdown",
      "source": [
        "### Teraz zbadamy nowy zestaw danych:"
      ],
      "metadata": {
        "id": "Z9aZTqIqRUIY"
      }
    },
    {
      "cell_type": "code",
      "source": [
        "explore_data(android_clean, 0, 3, True)"
      ],
      "metadata": {
        "colab": {
          "base_uri": "https://localhost:8080/"
        },
        "id": "DboGXZ0iRa7z",
        "outputId": "14be304d-1c5a-4d41-b6b6-504256c67f5e"
      },
      "execution_count": null,
      "outputs": [
        {
          "output_type": "stream",
          "name": "stdout",
          "text": [
            "['Photo Editor & Candy Camera & Grid & ScrapBook', 'ART_AND_DESIGN', '4.1', '159', '19M', '10,000+', 'Free', '0', 'Everyone', 'Art & Design', 'January 7, 2018', '1.0.0', '4.0.3 and up']\n",
            "\n",
            "\n",
            "['U Launcher Lite – FREE Live Cool Themes, Hide Apps', 'ART_AND_DESIGN', '4.7', '87510', '8.7M', '5,000,000+', 'Free', '0', 'Everyone', 'Art & Design', 'August 1, 2018', '1.2.4', '4.0.3 and up']\n",
            "\n",
            "\n",
            "['Sketch - Draw & Paint', 'ART_AND_DESIGN', '4.5', '215644', '25M', '50,000,000+', 'Free', '0', 'Teen', 'Art & Design', 'June 8, 2018', 'Varies with device', '4.2 and up']\n",
            "\n",
            "\n",
            "Number of rows: 9659\n",
            "Number of columns: 13\n"
          ]
        }
      ]
    },
    {
      "cell_type": "markdown",
      "source": [
        "### Usuwanie aplikacji, kórych nazwy sugerują, że nie są one skierowane do anglojęzycznych odbiorców:"
      ],
      "metadata": {
        "id": "qS_emuEsRdF1"
      }
    },
    {
      "cell_type": "code",
      "source": [
        "print(ios[813][1])\n",
        "print(ios[6731][1])\n",
        "\n",
        "print(android_clean[4412][0])\n",
        "print(android_clean[7940][0])\n"
      ],
      "metadata": {
        "colab": {
          "base_uri": "https://localhost:8080/"
        },
        "id": "RlX_gSToRrKU",
        "outputId": "51223889-72fc-4f6a-e68b-e4c9daa3854d"
      },
      "execution_count": null,
      "outputs": [
        {
          "output_type": "stream",
          "name": "stdout",
          "text": [
            "爱奇艺PPS -《欢乐颂2》电视剧热播\n",
            "【脱出ゲーム】絶対に最後までプレイしないで 〜謎解き＆ブロックパズル〜\n",
            "中国語 AQリスニング\n",
            "لعبة تقدر تربح DZ\n"
          ]
        }
      ]
    },
    {
      "cell_type": "markdown",
      "source": [
        "### Chcemy usunąć aplikacje, których nazwy zawierają nietypowe znaki\n",
        "\n",
        "### Angielski tekst składa się głównie z liter alfabetu angielskiego, cyfr (0–9), znaków interpunkcyjnych (., !, ?, ; itd.) i kilku symboli (+, *, / itd.). Wszystkie te znaki są kodowane w standardzie ASCII (wartości od 0 do 127).\n",
        "\n",
        "### Dlatego zbudowano funkcję, która sprawdza, czy nazwa aplikacji zawiera tylko znaki ASCII. Wykorzystuje się do tego funkcję ord(), która zwraca numer kodowania znaku.\n"
      ],
      "metadata": {
        "id": "eP3Q0V_XRtR5"
      }
    },
    {
      "cell_type": "code",
      "source": [
        "def is_english(string):\n",
        "\n",
        "    for character in string:\n",
        "        if ord(character) > 127:\n",
        "            return False\n",
        "\n",
        "    return True\n",
        "\n",
        "print(is_english('Instagram'))\n",
        "print(is_english('爱奇艺PPS -《欢乐颂2》电视剧热播'))"
      ],
      "metadata": {
        "colab": {
          "base_uri": "https://localhost:8080/"
        },
        "id": "sEMUhNKPSIC9",
        "outputId": "281ae8f1-9d08-4027-9dde-1e2d80ca9a16"
      },
      "execution_count": null,
      "outputs": [
        {
          "output_type": "stream",
          "name": "stdout",
          "text": [
            "True\n",
            "False\n"
          ]
        }
      ]
    },
    {
      "cell_type": "code",
      "source": [
        "print(is_english('Docs To Go™ Free Office Suite'))\n",
        "print(is_english('Instachat 😜'))\n",
        "\n",
        "print(ord('™'))\n",
        "print(ord('😜'))\n"
      ],
      "metadata": {
        "colab": {
          "base_uri": "https://localhost:8080/"
        },
        "id": "SUxr2FYzSL1n",
        "outputId": "850bf242-9bad-438f-eac8-b5d96a7c6296"
      },
      "execution_count": null,
      "outputs": [
        {
          "output_type": "stream",
          "name": "stdout",
          "text": [
            "False\n",
            "False\n",
            "8482\n",
            "128540\n"
          ]
        }
      ]
    },
    {
      "cell_type": "markdown",
      "source": [
        "### Aby zmniejszyć utrate danych usunniemy aplikacje tylko wtedy gdy jej nazwa zawiera wiecej niz trzy znaki spoza standardu ASCII"
      ],
      "metadata": {
        "id": "5NceyWi-SNbZ"
      }
    },
    {
      "cell_type": "code",
      "source": [
        "def is_english(string):\n",
        "    non_ascii = 0\n",
        "\n",
        "    for character in string:\n",
        "        if ord(character) > 127:\n",
        "            non_ascii += 1\n",
        "\n",
        "    if non_ascii > 3:\n",
        "        return False\n",
        "    else:\n",
        "        return True\n",
        "\n",
        "print(is_english('Docs To Go™ Free Office Suite'))\n",
        "print(is_english('Instachat 😜'))\n"
      ],
      "metadata": {
        "colab": {
          "base_uri": "https://localhost:8080/"
        },
        "id": "_o1AfRZBSbSw",
        "outputId": "0e3c902c-108f-42d1-b473-2f77ea2f72c4"
      },
      "execution_count": null,
      "outputs": [
        {
          "output_type": "stream",
          "name": "stdout",
          "text": [
            "True\n",
            "True\n"
          ]
        }
      ]
    },
    {
      "cell_type": "markdown",
      "source": [
        "### Funkcja is_english(), do odfiltrowania aplikacji nieangielskich w obu zbiorach danych."
      ],
      "metadata": {
        "id": "ucOfj3e_SdzH"
      }
    },
    {
      "cell_type": "code",
      "source": [
        "android_english = []\n",
        "ios_english = []\n",
        "\n",
        "for app in android_clean:\n",
        "    name = app[0]\n",
        "    if is_english(name):\n",
        "        android_english.append(app)\n",
        "\n",
        "for app in ios:\n",
        "    name = app[1]\n",
        "    if is_english(name):\n",
        "        ios_english.append(app)\n",
        "\n",
        "explore_data(android_english, 0, 3, True)\n",
        "print('\\n')\n",
        "explore_data(ios_english, 0, 3, True)\n"
      ],
      "metadata": {
        "colab": {
          "base_uri": "https://localhost:8080/"
        },
        "id": "fAShp4NpSrSH",
        "outputId": "ff112e7c-4e67-4024-fb7d-0edac95a3af1"
      },
      "execution_count": null,
      "outputs": [
        {
          "output_type": "stream",
          "name": "stdout",
          "text": [
            "['Photo Editor & Candy Camera & Grid & ScrapBook', 'ART_AND_DESIGN', '4.1', '159', '19M', '10,000+', 'Free', '0', 'Everyone', 'Art & Design', 'January 7, 2018', '1.0.0', '4.0.3 and up']\n",
            "\n",
            "\n",
            "['U Launcher Lite – FREE Live Cool Themes, Hide Apps', 'ART_AND_DESIGN', '4.7', '87510', '8.7M', '5,000,000+', 'Free', '0', 'Everyone', 'Art & Design', 'August 1, 2018', '1.2.4', '4.0.3 and up']\n",
            "\n",
            "\n",
            "['Sketch - Draw & Paint', 'ART_AND_DESIGN', '4.5', '215644', '25M', '50,000,000+', 'Free', '0', 'Teen', 'Art & Design', 'June 8, 2018', 'Varies with device', '4.2 and up']\n",
            "\n",
            "\n",
            "Number of rows: 9614\n",
            "Number of columns: 13\n",
            "\n",
            "\n",
            "['284882215', 'Facebook', '389879808', 'USD', '0.0', '2974676', '212', '3.5', '3.5', '95.0', '4+', 'Social Networking', '37', '1', '29', '1']\n",
            "\n",
            "\n",
            "['389801252', 'Instagram', '113954816', 'USD', '0.0', '2161558', '1289', '4.5', '4.0', '10.23', '12+', 'Photo & Video', '37', '0', '29', '1']\n",
            "\n",
            "\n",
            "['529479190', 'Clash of Clans', '116476928', 'USD', '0.0', '2130805', '579', '4.5', '4.5', '9.24.12', '9+', 'Games', '38', '5', '18', '1']\n",
            "\n",
            "\n",
            "Number of rows: 6183\n",
            "Number of columns: 16\n"
          ]
        }
      ]
    },
    {
      "cell_type": "markdown",
      "source": [
        "### Wyodrębnianie darmowych aplikacji\n",
        "\n",
        "### Tworzymy tylko aplikacje, które można pobrać i zainstalować za darmo, a nasze główne źródło przychodu to reklamy w aplikacjach. Nasze zbiory danych zawierają zarówno aplikacje darmowe, jak i płatne, dlatego musimy wyodrębnić tylko darmowe aplikacje do analizy.\n"
      ],
      "metadata": {
        "id": "-2WpmA2QSuGO"
      }
    },
    {
      "cell_type": "code",
      "source": [
        "android_final = []\n",
        "ios_final = []\n",
        "\n",
        "for app in android_english:\n",
        "    price = app[7]\n",
        "    if price == '0':\n",
        "        android_final.append(app)\n",
        "\n",
        "for app in ios_english:\n",
        "    price = app[4]\n",
        "    if price == '0.0':\n",
        "        ios_final.append(app)\n",
        "\n",
        "print(len(android_final))\n",
        "print(len(ios_final))"
      ],
      "metadata": {
        "colab": {
          "base_uri": "https://localhost:8080/"
        },
        "id": "BeRT1a2VS_9N",
        "outputId": "91d2ca34-8289-4f15-972e-0269a318f231"
      },
      "execution_count": null,
      "outputs": [
        {
          "output_type": "stream",
          "name": "stdout",
          "text": [
            "8864\n",
            "3222\n"
          ]
        }
      ]
    },
    {
      "cell_type": "markdown",
      "source": [
        "### Najpopularniejsze aplikacje według gatunku: część pierwsza\n",
        "\n",
        "naszym celem jest określenie, jakie typy aplikacji przyciągają najwięcej użytkowników, ponieważ nasz przychód zależy od liczby osób korzystających z naszych aplikacji.\n",
        "\n",
        "Aby ograniczyć ryzyko i koszty, nasza strategia walidacji pomysłów obejmuje trzy kroki:\n",
        "\n",
        "Tworzymy minimalną wersję aplikacji na Androida i publikujemy ją w Google Play. Jeśli aplikacja spotka się z dobrym odbiorem, rozwijamy ją dalej. Jeśli po sześciu miesiącach aplikacja przynosi zysk, tworzymy także wersję na iOS i dodajemy ją do App Store. Ponieważ naszym celem jest obecność na obu rynkach, musimy znaleźć profile aplikacji, które odnoszą sukces zarówno w Google Play, jak i App Store (np. aplikacja produktywnościowa z elementami grywalizacji).\n",
        "\n",
        "Pierwszy krok analizy: stworzymy tabelę częstości dla kolumn:\n",
        "\n",
        "-prime_genre w danych App Store\n",
        "-Genres i Category w danych Google Play\n",
        "\n"
      ],
      "metadata": {
        "id": "SHtEyqhuTMcE"
      }
    },
    {
      "cell_type": "markdown",
      "source": [
        "### Najpopularniejsze aplikacje według gatunku: część druga\n",
        "\n",
        "Budujemy dwie funkcje do analizy tabel częstości:\n",
        "\n",
        "Pierwsza funkcja stworzy tabelę częstości, która pokazuje procentowe udziały (jaki procent stanowi każda kategoria). Druga funkcja wyświetli te procenty w kolejności malejącej, od najczęstszej kategorii do najrzadszej."
      ],
      "metadata": {
        "id": "PVqtCJfJTaY6"
      }
    },
    {
      "cell_type": "code",
      "source": [
        "def freq_table(dataset, index):\n",
        "    table = {}\n",
        "    total = 0\n",
        "\n",
        "    for row in dataset:\n",
        "        total += 1\n",
        "        value = row[index]\n",
        "        if value in table:\n",
        "            table[value] += 1\n",
        "        else:\n",
        "            table[value] = 1\n",
        "\n",
        "    table_percentages = {}\n",
        "    for key in table:\n",
        "        percentage = (table[key] / total) * 100\n",
        "        table_percentages[key] = percentage\n",
        "\n",
        "    return table_percentages\n",
        "\n",
        "\n",
        "def display_table(dataset, index):\n",
        "    table = freq_table(dataset, index)\n",
        "    table_display = []\n",
        "    for key in table:\n",
        "        key_val_as_tuple = (table[key], key)\n",
        "        table_display.append(key_val_as_tuple)\n",
        "\n",
        "    table_sorted = sorted(table_display, reverse = True)\n",
        "    for entry in table_sorted:\n",
        "        print(entry[1], ':', entry[0])"
      ],
      "metadata": {
        "id": "jO-I7WJbTqDb"
      },
      "execution_count": null,
      "outputs": []
    },
    {
      "cell_type": "markdown",
      "source": [
        "### Najpopularniejsze aplikacje według gatunku: część trzecia\n",
        "\n",
        "### zaczynamy od analizy tabeli dla kolumny prime_genre w zbiorze danych App Store."
      ],
      "metadata": {
        "id": "4cdACLFTTuDU"
      }
    },
    {
      "cell_type": "code",
      "source": [
        "display_table(ios_final, -5)\n"
      ],
      "metadata": {
        "colab": {
          "base_uri": "https://localhost:8080/"
        },
        "id": "MJTR6GMVT-Lv",
        "outputId": "c903e827-902d-4ad6-8934-0adfa0da8b9d"
      },
      "execution_count": null,
      "outputs": [
        {
          "output_type": "stream",
          "name": "stdout",
          "text": [
            "Games : 58.16263190564867\n",
            "Entertainment : 7.883302296710118\n",
            "Photo & Video : 4.9658597144630665\n",
            "Education : 3.662321539416512\n",
            "Social Networking : 3.2898820608317814\n",
            "Shopping : 2.60707635009311\n",
            "Utilities : 2.5139664804469275\n",
            "Sports : 2.1415270018621975\n",
            "Music : 2.0484171322160147\n",
            "Health & Fitness : 2.0173805090006205\n",
            "Productivity : 1.7380509000620732\n",
            "Lifestyle : 1.5828677839851024\n",
            "News : 1.3345747982619491\n",
            "Travel : 1.2414649286157666\n",
            "Finance : 1.1173184357541899\n",
            "Weather : 0.8690254500310366\n",
            "Food & Drink : 0.8069522036002483\n",
            "Reference : 0.5586592178770949\n",
            "Business : 0.5276225946617008\n",
            "Book : 0.4345127250155183\n",
            "Navigation : 0.186219739292365\n",
            "Medical : 0.186219739292365\n",
            "Catalogs : 0.12414649286157665\n"
          ]
        }
      ]
    },
    {
      "cell_type": "markdown",
      "source": [
        "### App Store\n",
        "\n",
        "Wśród darmowych aplikacji w języku angielskim ponad połowę (58,16%) stanowią gry. Aplikacje rozrywkowe to około 8%, a aplikacje związane ze zdjęciami i wideo — około 5%. Tylko 3,66% aplikacji dotyczy edukacji, a aplikacje społecznościowe to 3,29% całego zbioru.\n",
        "\n",
        "Ogólnie można zauważyć, że App Store (przynajmniej jego darmowa, anglojęzyczna część) jest zdominowany przez aplikacje nastawione na rozrywkę (gry, rozrywka, zdjęcia i wideo, sieci społecznościowe, sport, muzyka itd.). Z kolei aplikacje o praktycznym zastosowaniu (edukacja, zakupy, narzędzia, produktywność, styl życia) są mniej liczne. Ważne jednak: to, że aplikacji rozrywkowych jest najwięcej, nie oznacza jeszcze, że mają one najwięcej użytkowników — podaż i popyt mogą się różnić.\n",
        "\n",
        "Teraz przejdźmy do analizy kolumn Genres i Category w zbiorze danych Google Play — wydaje się, że te dwie kolumny są ze sobą powiązane."
      ],
      "metadata": {
        "id": "FVoq8dbeUDA1"
      }
    },
    {
      "cell_type": "code",
      "source": [
        "display_table(android_final, 1)"
      ],
      "metadata": {
        "colab": {
          "base_uri": "https://localhost:8080/"
        },
        "id": "uX8zJ8WFUUqc",
        "outputId": "57a86c14-0c3b-4bdd-f2c2-e8f4a574f95f"
      },
      "execution_count": null,
      "outputs": [
        {
          "output_type": "stream",
          "name": "stdout",
          "text": [
            "FAMILY : 18.907942238267147\n",
            "GAME : 9.724729241877256\n",
            "TOOLS : 8.461191335740072\n",
            "BUSINESS : 4.591606498194946\n",
            "LIFESTYLE : 3.9034296028880866\n",
            "PRODUCTIVITY : 3.892148014440433\n",
            "FINANCE : 3.7003610108303246\n",
            "MEDICAL : 3.531137184115524\n",
            "SPORTS : 3.395758122743682\n",
            "PERSONALIZATION : 3.3167870036101084\n",
            "COMMUNICATION : 3.2378158844765346\n",
            "HEALTH_AND_FITNESS : 3.0798736462093865\n",
            "PHOTOGRAPHY : 2.944494584837545\n",
            "NEWS_AND_MAGAZINES : 2.7978339350180503\n",
            "SOCIAL : 2.6624548736462095\n",
            "TRAVEL_AND_LOCAL : 2.33528880866426\n",
            "SHOPPING : 2.2450361010830324\n",
            "BOOKS_AND_REFERENCE : 2.1435018050541514\n",
            "DATING : 1.861462093862816\n",
            "VIDEO_PLAYERS : 1.7937725631768955\n",
            "MAPS_AND_NAVIGATION : 1.3989169675090252\n",
            "FOOD_AND_DRINK : 1.2409747292418771\n",
            "EDUCATION : 1.1620036101083033\n",
            "ENTERTAINMENT : 0.9589350180505415\n",
            "LIBRARIES_AND_DEMO : 0.9363718411552346\n",
            "AUTO_AND_VEHICLES : 0.9250902527075812\n",
            "HOUSE_AND_HOME : 0.8235559566787004\n",
            "WEATHER : 0.8009927797833934\n",
            "EVENTS : 0.7107400722021661\n",
            "PARENTING : 0.6543321299638989\n",
            "ART_AND_DESIGN : 0.6430505415162455\n",
            "COMICS : 0.6204873646209386\n",
            "BEAUTY : 0.5979241877256317\n"
          ]
        }
      ]
    },
    {
      "cell_type": "markdown",
      "source": [
        "### Na Google Play sytuacja wyglada inaczej\n",
        "\n",
        "Nie ma aż tylu aplikacji nastawionych wyłącznie na rozrywkę — widać też sporo aplikacji o praktycznym zastosowaniu (rodzina, narzędzia, biznes, styl życia, produktywność itd.).\n",
        "\n",
        "Jednak gdy przyjrzymy się bliżej, zauważymy, że kategoria Family (która obejmuje prawie 19% aplikacji) w większości składa się z gier dla dzieci.\n"
      ],
      "metadata": {
        "id": "U2r8itS5UZBt"
      }
    },
    {
      "cell_type": "markdown",
      "source": [
        "\n",
        "### Mimo wszystko aplikacje praktyczne są lepiej reprezentowane na Google Play niż w App Store.\n",
        "\n",
        "Potwierdza to również tabela częstości dla kolumny Genres, którą możemy zobaczyć."
      ],
      "metadata": {
        "id": "xoDnfAQpUtFh"
      }
    },
    {
      "cell_type": "code",
      "source": [
        "display_table(android_final, -4)"
      ],
      "metadata": {
        "colab": {
          "base_uri": "https://localhost:8080/"
        },
        "id": "6HXLM0KlUxRK",
        "outputId": "143d42a0-b5ae-4c9e-f191-c69378100625"
      },
      "execution_count": null,
      "outputs": [
        {
          "output_type": "stream",
          "name": "stdout",
          "text": [
            "Tools : 8.449909747292418\n",
            "Entertainment : 6.069494584837545\n",
            "Education : 5.347472924187725\n",
            "Business : 4.591606498194946\n",
            "Productivity : 3.892148014440433\n",
            "Lifestyle : 3.892148014440433\n",
            "Finance : 3.7003610108303246\n",
            "Medical : 3.531137184115524\n",
            "Sports : 3.463447653429603\n",
            "Personalization : 3.3167870036101084\n",
            "Communication : 3.2378158844765346\n",
            "Action : 3.1024368231046933\n",
            "Health & Fitness : 3.0798736462093865\n",
            "Photography : 2.944494584837545\n",
            "News & Magazines : 2.7978339350180503\n",
            "Social : 2.6624548736462095\n",
            "Travel & Local : 2.3240072202166067\n",
            "Shopping : 2.2450361010830324\n",
            "Books & Reference : 2.1435018050541514\n",
            "Simulation : 2.0419675090252705\n",
            "Dating : 1.861462093862816\n",
            "Arcade : 1.8501805054151623\n",
            "Video Players & Editors : 1.7712093862815883\n",
            "Casual : 1.7599277978339352\n",
            "Maps & Navigation : 1.3989169675090252\n",
            "Food & Drink : 1.2409747292418771\n",
            "Puzzle : 1.128158844765343\n",
            "Racing : 0.9927797833935018\n",
            "Role Playing : 0.9363718411552346\n",
            "Libraries & Demo : 0.9363718411552346\n",
            "Auto & Vehicles : 0.9250902527075812\n",
            "Strategy : 0.9138086642599278\n",
            "House & Home : 0.8235559566787004\n",
            "Weather : 0.8009927797833934\n",
            "Events : 0.7107400722021661\n",
            "Adventure : 0.6768953068592057\n",
            "Comics : 0.6092057761732852\n",
            "Beauty : 0.5979241877256317\n",
            "Art & Design : 0.5979241877256317\n",
            "Parenting : 0.4963898916967509\n",
            "Card : 0.45126353790613716\n",
            "Casino : 0.42870036101083037\n",
            "Trivia : 0.41741877256317694\n",
            "Educational;Education : 0.39485559566787\n",
            "Board : 0.3835740072202166\n",
            "Educational : 0.3722924187725632\n",
            "Education;Education : 0.33844765342960287\n",
            "Word : 0.2594765342960289\n",
            "Casual;Pretend Play : 0.236913357400722\n",
            "Music : 0.2030685920577617\n",
            "Racing;Action & Adventure : 0.16922382671480143\n",
            "Puzzle;Brain Games : 0.16922382671480143\n",
            "Entertainment;Music & Video : 0.16922382671480143\n",
            "Casual;Brain Games : 0.13537906137184114\n",
            "Casual;Action & Adventure : 0.13537906137184114\n",
            "Arcade;Action & Adventure : 0.12409747292418773\n",
            "Action;Action & Adventure : 0.10153429602888085\n",
            "Educational;Pretend Play : 0.09025270758122744\n",
            "Simulation;Action & Adventure : 0.078971119133574\n",
            "Parenting;Education : 0.078971119133574\n",
            "Entertainment;Brain Games : 0.078971119133574\n",
            "Board;Brain Games : 0.078971119133574\n",
            "Parenting;Music & Video : 0.06768953068592057\n",
            "Educational;Brain Games : 0.06768953068592057\n",
            "Casual;Creativity : 0.06768953068592057\n",
            "Art & Design;Creativity : 0.06768953068592057\n",
            "Education;Pretend Play : 0.056407942238267145\n",
            "Role Playing;Pretend Play : 0.04512635379061372\n",
            "Education;Creativity : 0.04512635379061372\n",
            "Role Playing;Action & Adventure : 0.033844765342960284\n",
            "Puzzle;Action & Adventure : 0.033844765342960284\n",
            "Entertainment;Creativity : 0.033844765342960284\n",
            "Entertainment;Action & Adventure : 0.033844765342960284\n",
            "Educational;Creativity : 0.033844765342960284\n",
            "Educational;Action & Adventure : 0.033844765342960284\n",
            "Education;Music & Video : 0.033844765342960284\n",
            "Education;Brain Games : 0.033844765342960284\n",
            "Education;Action & Adventure : 0.033844765342960284\n",
            "Adventure;Action & Adventure : 0.033844765342960284\n",
            "Video Players & Editors;Music & Video : 0.02256317689530686\n",
            "Sports;Action & Adventure : 0.02256317689530686\n",
            "Simulation;Pretend Play : 0.02256317689530686\n",
            "Puzzle;Creativity : 0.02256317689530686\n",
            "Music;Music & Video : 0.02256317689530686\n",
            "Entertainment;Pretend Play : 0.02256317689530686\n",
            "Casual;Education : 0.02256317689530686\n",
            "Board;Action & Adventure : 0.02256317689530686\n",
            "Video Players & Editors;Creativity : 0.01128158844765343\n",
            "Trivia;Education : 0.01128158844765343\n",
            "Travel & Local;Action & Adventure : 0.01128158844765343\n",
            "Tools;Education : 0.01128158844765343\n",
            "Strategy;Education : 0.01128158844765343\n",
            "Strategy;Creativity : 0.01128158844765343\n",
            "Strategy;Action & Adventure : 0.01128158844765343\n",
            "Simulation;Education : 0.01128158844765343\n",
            "Role Playing;Brain Games : 0.01128158844765343\n",
            "Racing;Pretend Play : 0.01128158844765343\n",
            "Puzzle;Education : 0.01128158844765343\n",
            "Parenting;Brain Games : 0.01128158844765343\n",
            "Music & Audio;Music & Video : 0.01128158844765343\n",
            "Lifestyle;Pretend Play : 0.01128158844765343\n",
            "Lifestyle;Education : 0.01128158844765343\n",
            "Health & Fitness;Education : 0.01128158844765343\n",
            "Health & Fitness;Action & Adventure : 0.01128158844765343\n",
            "Entertainment;Education : 0.01128158844765343\n",
            "Communication;Creativity : 0.01128158844765343\n",
            "Comics;Creativity : 0.01128158844765343\n",
            "Casual;Music & Video : 0.01128158844765343\n",
            "Card;Action & Adventure : 0.01128158844765343\n",
            "Books & Reference;Education : 0.01128158844765343\n",
            "Art & Design;Pretend Play : 0.01128158844765343\n",
            "Art & Design;Action & Adventure : 0.01128158844765343\n",
            "Arcade;Pretend Play : 0.01128158844765343\n",
            "Adventure;Education : 0.01128158844765343\n"
          ]
        }
      ]
    },
    {
      "cell_type": "markdown",
      "source": [
        "### Najpopularniejsze aplikacje według gatunku w App Store\n",
        "### Średnia liczba ocen użytkowników dla każdego gatunku aplikacji w App Store"
      ],
      "metadata": {
        "id": "9cvjKBQYUzwW"
      }
    },
    {
      "cell_type": "code",
      "source": [
        "genres_ios = freq_table(ios_final, -5)\n",
        "\n",
        "for genre in genres_ios:\n",
        "    total = 0\n",
        "    len_genre = 0\n",
        "    for app in ios_final:\n",
        "        genre_app = app[-5]\n",
        "        if genre_app == genre:\n",
        "            n_ratings = float(app[5])\n",
        "            total += n_ratings\n",
        "            len_genre += 1\n",
        "    avg_n_ratings = total / len_genre\n",
        "    print(genre, ':', avg_n_ratings)"
      ],
      "metadata": {
        "colab": {
          "base_uri": "https://localhost:8080/"
        },
        "id": "QIZhMRnoVFEP",
        "outputId": "af01a9f8-1524-4e8b-bf66-cf81a48872cb"
      },
      "execution_count": null,
      "outputs": [
        {
          "output_type": "stream",
          "name": "stdout",
          "text": [
            "Social Networking : 71548.34905660378\n",
            "Photo & Video : 28441.54375\n",
            "Games : 22788.6696905016\n",
            "Music : 57326.530303030304\n",
            "Reference : 74942.11111111111\n",
            "Health & Fitness : 23298.015384615384\n",
            "Weather : 52279.892857142855\n",
            "Utilities : 18684.456790123455\n",
            "Travel : 28243.8\n",
            "Shopping : 26919.690476190477\n",
            "News : 21248.023255813954\n",
            "Navigation : 86090.33333333333\n",
            "Lifestyle : 16485.764705882353\n",
            "Entertainment : 14029.830708661417\n",
            "Food & Drink : 33333.92307692308\n",
            "Sports : 23008.898550724636\n",
            "Book : 39758.5\n",
            "Finance : 31467.944444444445\n",
            "Education : 7003.983050847458\n",
            "Productivity : 21028.410714285714\n",
            "Business : 7491.117647058823\n",
            "Catalogs : 4004.0\n",
            "Medical : 612.0\n"
          ]
        }
      ]
    },
    {
      "cell_type": "code",
      "source": [
        "for app in ios_final:\n",
        "    if app[-5] == 'Navigation':\n",
        "        print(app[1], ':', app[5])"
      ],
      "metadata": {
        "colab": {
          "base_uri": "https://localhost:8080/"
        },
        "id": "BB0tas4GVK7k",
        "outputId": "5c523257-5fc2-40d0-e509-89ecbce4b176"
      },
      "execution_count": null,
      "outputs": [
        {
          "output_type": "stream",
          "name": "stdout",
          "text": [
            "Waze - GPS Navigation, Maps & Real-time Traffic : 345046\n",
            "Google Maps - Navigation & Transit : 154911\n",
            "Geocaching® : 12811\n",
            "CoPilot GPS – Car Navigation & Offline Maps : 3582\n",
            "ImmobilienScout24: Real Estate Search in Germany : 187\n",
            "Railway Route Search : 5\n"
          ]
        }
      ]
    },
    {
      "cell_type": "markdown",
      "source": [
        "### Naszym celem jest znalezienie popularnych gatunków, ale aplikacje nawigacyjne, społecznościowe czy muzyczne mogą wydawać się bardziej popularne, niż są w rzeczywistości.\n",
        "\n",
        "### Średnie liczby ocen są zaburzone przez kilka aplikacji z setkami tysięcy ocen, podczas gdy reszta ledwo przekracza próg 10 000 ocen. Lepszy obraz sytuacji uzyskalibyśmy, gdybyśmy usunęli te najbardziej popularne aplikacje i wtedy przeliczyli średnie — ale tym zajmiemy się później.\n",
        "\n",
        "### W przypadku aplikacji typu \"reference\" średnia liczba ocen wynosi 74 942, ale to głównie dzięki The Bible i Dictionary.com, które mocno zawyżają wyniki."
      ],
      "metadata": {
        "id": "ygsw7vaWVbw4"
      }
    },
    {
      "cell_type": "code",
      "source": [
        "for app in ios_final:\n",
        "    if app[-5] == 'Reference':\n",
        "        print(app[1], ':', app[5])"
      ],
      "metadata": {
        "colab": {
          "base_uri": "https://localhost:8080/"
        },
        "id": "41yL3GH8Vki9",
        "outputId": "9b5ebb01-d194-4b09-daf3-445ab1c6e7a8"
      },
      "execution_count": null,
      "outputs": [
        {
          "output_type": "stream",
          "name": "stdout",
          "text": [
            "Bible : 985920\n",
            "Dictionary.com Dictionary & Thesaurus : 200047\n",
            "Dictionary.com Dictionary & Thesaurus for iPad : 54175\n",
            "Google Translate : 26786\n",
            "Muslim Pro: Ramadan 2017 Prayer Times, Azan, Quran : 18418\n",
            "New Furniture Mods - Pocket Wiki & Game Tools for Minecraft PC Edition : 17588\n",
            "Merriam-Webster Dictionary : 16849\n",
            "Night Sky : 12122\n",
            "City Maps for Minecraft PE - The Best Maps for Minecraft Pocket Edition (MCPE) : 8535\n",
            "LUCKY BLOCK MOD ™ for Minecraft PC Edition - The Best Pocket Wiki & Mods Installer Tools : 4693\n",
            "GUNS MODS for Minecraft PC Edition - Mods Tools : 1497\n",
            "Guides for Pokémon GO - Pokemon GO News and Cheats : 826\n",
            "WWDC : 762\n",
            "Horror Maps for Minecraft PE - Download The Scariest Maps for Minecraft Pocket Edition (MCPE) Free : 718\n",
            "VPN Express : 14\n",
            "Real Bike Traffic Rider Virtual Reality Glasses : 8\n",
            "教えて!goo : 0\n",
            "Jishokun-Japanese English Dictionary & Translator : 0\n"
          ]
        }
      ]
    },
    {
      "cell_type": "markdown",
      "source": [
        "### Chociaż aplikacje referencyjne wydają się mieć pewien potencjał, możemy rozważyć stworzenie aplikacji opartej na popularnej książce, wzbogaconej o dodatkowe funkcje — takie jak codzienne cytaty, wersja audio, quizy czy inne interaktywne opcje. Dodatkowo, w aplikacji można by dodać słownik, by użytkownicy nie musieli opuszczać jej w celu sprawdzenia definicji słów.\n",
        "\n",
        "Taki pomysł mógłby zyskać zainteresowanie w App Store, który w dużej mierze jest zdominowany przez aplikacje rozrywkowe. W takim przypadku aplikacja praktyczna mogłaby się wyróżniać na tle licznych aplikacji rozrywkowych.\n",
        "\n",
        "Inne popularne kategorie to pogoda, książki, jedzenie i napoje oraz finanse, jednak nie wydają się one dla nas interesujące:\n",
        "\n",
        "Aplikacje pogodowe — użytkownicy rzadko spędzają czas w takich aplikacjach, a zarabianie na reklamach w takich przypadkach jest trudne. Jedzenie i napoje — wymagałoby to stworzenia usługi dostawy, co wykracza poza naszą działalność. Finanse — aplikacje tego typu wymagają specjalistycznej wiedzy, której musielibyśmy się nauczyć lub zatrudnić eksperta. Teraz przyjrzyjmy się rynkowi Google Play.\n"
      ],
      "metadata": {
        "id": "CLkGvLlRVxbN"
      }
    },
    {
      "cell_type": "markdown",
      "source": [
        "### Najpopularniejsze aplikacje według gatunku w Google Play"
      ],
      "metadata": {
        "id": "vngsJv2FV0Ln"
      }
    },
    {
      "cell_type": "code",
      "source": [
        "display_table(android_final, 5)"
      ],
      "metadata": {
        "colab": {
          "base_uri": "https://localhost:8080/"
        },
        "id": "5sbDb-EMV8fH",
        "outputId": "c72df9a6-ae11-438b-f088-6e8ab84536ad"
      },
      "execution_count": null,
      "outputs": [
        {
          "output_type": "stream",
          "name": "stdout",
          "text": [
            "1,000,000+ : 15.726534296028879\n",
            "100,000+ : 11.552346570397113\n",
            "10,000,000+ : 10.548285198555957\n",
            "10,000+ : 10.198555956678701\n",
            "1,000+ : 8.393501805054152\n",
            "100+ : 6.915613718411552\n",
            "5,000,000+ : 6.825361010830325\n",
            "500,000+ : 5.561823104693141\n",
            "50,000+ : 4.7721119133574\n",
            "5,000+ : 4.512635379061372\n",
            "10+ : 3.5424187725631766\n",
            "500+ : 3.2490974729241873\n",
            "50,000,000+ : 2.3014440433213\n",
            "100,000,000+ : 2.1322202166064983\n",
            "50+ : 1.917870036101083\n",
            "5+ : 0.78971119133574\n",
            "1+ : 0.5076714801444043\n",
            "500,000,000+ : 0.2707581227436823\n",
            "1,000,000,000+ : 0.22563176895306858\n",
            "0+ : 0.04512635379061372\n",
            "0 : 0.01128158844765343\n"
          ]
        }
      ]
    },
    {
      "cell_type": "markdown",
      "source": [
        "### Dane o instalacjach są nieprecyzyjne\n",
        "\n",
        "ale wystarczą do analizy, więc traktujemy aplikację z 100,000+ instalacji jako 100,000, a z 1,000,000+ jako 1,000,000. Przed obliczeniami usuwamy przecinki i znak plus, aby przekonwertować te wartości na liczby zmiennoprzecinkowe."
      ],
      "metadata": {
        "id": "0j34DuqSWFKK"
      }
    },
    {
      "cell_type": "code",
      "source": [
        "categories_android = freq_table(android_final, 1)\n",
        "\n",
        "for category in categories_android:\n",
        "    total = 0\n",
        "    len_category = 0\n",
        "    for app in android_final:\n",
        "        category_app = app[1]\n",
        "        if category_app == category:\n",
        "            n_installs = app[5]\n",
        "            n_installs = n_installs.replace(',', '')\n",
        "            n_installs = n_installs.replace('+', '')\n",
        "            total += float(n_installs)\n",
        "            len_category += 1\n",
        "    avg_n_installs = total / len_category\n",
        "    print(category, ':', avg_n_installs)\n"
      ],
      "metadata": {
        "colab": {
          "base_uri": "https://localhost:8080/"
        },
        "id": "HHLAf0bYWI5n",
        "outputId": "0461ff88-f45c-48bd-cebb-b6569b513a1c"
      },
      "execution_count": null,
      "outputs": [
        {
          "output_type": "stream",
          "name": "stdout",
          "text": [
            "ART_AND_DESIGN : 1986335.0877192982\n",
            "AUTO_AND_VEHICLES : 647317.8170731707\n",
            "BEAUTY : 513151.88679245283\n",
            "BOOKS_AND_REFERENCE : 8767811.894736841\n",
            "BUSINESS : 1712290.1474201474\n",
            "COMICS : 817657.2727272727\n",
            "COMMUNICATION : 38456119.167247385\n",
            "DATING : 854028.8303030303\n",
            "EDUCATION : 1833495.145631068\n",
            "ENTERTAINMENT : 11640705.88235294\n",
            "EVENTS : 253542.22222222222\n",
            "FINANCE : 1387692.475609756\n",
            "FOOD_AND_DRINK : 1924897.7363636363\n",
            "HEALTH_AND_FITNESS : 4188821.9853479853\n",
            "HOUSE_AND_HOME : 1331540.5616438356\n",
            "LIBRARIES_AND_DEMO : 638503.734939759\n",
            "LIFESTYLE : 1437816.2687861272\n",
            "GAME : 15588015.603248259\n",
            "FAMILY : 3695641.8198090694\n",
            "MEDICAL : 120550.61980830671\n",
            "SOCIAL : 23253652.127118643\n",
            "SHOPPING : 7036877.311557789\n",
            "PHOTOGRAPHY : 17840110.40229885\n",
            "SPORTS : 3638640.1428571427\n",
            "TRAVEL_AND_LOCAL : 13984077.710144928\n",
            "TOOLS : 10801391.298666667\n",
            "PERSONALIZATION : 5201482.6122448975\n",
            "PRODUCTIVITY : 16787331.344927534\n",
            "PARENTING : 542603.6206896552\n",
            "WEATHER : 5074486.197183099\n",
            "VIDEO_PLAYERS : 24727872.452830188\n",
            "NEWS_AND_MAGAZINES : 9549178.467741935\n",
            "MAPS_AND_NAVIGATION : 4056941.7741935486\n"
          ]
        }
      ]
    },
    {
      "cell_type": "markdown",
      "source": [
        "### Średnia liczba instalacji aplikacji komunikacyjnych wynosi 38,456,119. Jednak ta liczba jest mocno zawyżona  przez kilka aplikacji, które osiągneły ponad miliard instalacji."
      ],
      "metadata": {
        "id": "Bih6TKe2WgNo"
      }
    },
    {
      "cell_type": "code",
      "source": [
        "for app in android_final:\n",
        "    if app[1] == 'COMMUNICATION' and (app[5] == '1,000,000,000+'\n",
        "                                      or app[5] == '500,000,000+'\n",
        "                                      or app[5] == '100,000,000+'):\n",
        "        print(app[0], ':', app[5])\n"
      ],
      "metadata": {
        "colab": {
          "base_uri": "https://localhost:8080/"
        },
        "id": "jLCJEnneW9KC",
        "outputId": "73596e97-2a71-445a-9b1b-29c7ba6b7277"
      },
      "execution_count": null,
      "outputs": [
        {
          "output_type": "stream",
          "name": "stdout",
          "text": [
            "WhatsApp Messenger : 1,000,000,000+\n",
            "imo beta free calls and text : 100,000,000+\n",
            "Android Messages : 100,000,000+\n",
            "Google Duo - High Quality Video Calls : 500,000,000+\n",
            "Messenger – Text and Video Chat for Free : 1,000,000,000+\n",
            "imo free video calls and chat : 500,000,000+\n",
            "Skype - free IM & video calls : 1,000,000,000+\n",
            "Who : 100,000,000+\n",
            "GO SMS Pro - Messenger, Free Themes, Emoji : 100,000,000+\n",
            "LINE: Free Calls & Messages : 500,000,000+\n",
            "Google Chrome: Fast & Secure : 1,000,000,000+\n",
            "Firefox Browser fast & private : 100,000,000+\n",
            "UC Browser - Fast Download Private & Secure : 500,000,000+\n",
            "Gmail : 1,000,000,000+\n",
            "Hangouts : 1,000,000,000+\n",
            "Messenger Lite: Free Calls & Messages : 100,000,000+\n",
            "Kik : 100,000,000+\n",
            "KakaoTalk: Free Calls & Text : 100,000,000+\n",
            "Opera Mini - fast web browser : 100,000,000+\n",
            "Opera Browser: Fast and Secure : 100,000,000+\n",
            "Telegram : 100,000,000+\n",
            "Truecaller: Caller ID, SMS spam blocking & Dialer : 100,000,000+\n",
            "UC Browser Mini -Tiny Fast Private & Secure : 100,000,000+\n",
            "Viber Messenger : 500,000,000+\n",
            "WeChat : 100,000,000+\n",
            "Yahoo Mail – Stay Organized : 100,000,000+\n",
            "BBM - Free Calls & Messages : 100,000,000+\n"
          ]
        }
      ]
    },
    {
      "cell_type": "markdown",
      "source": [
        "### Gdybyśmy usunęli wszystkie aplikacje komunikacyjne, które został zainstalowane ponad 100 milionów razy, średnia zmniejszyłaby się mniej więcej dziesięciokrotnie:"
      ],
      "metadata": {
        "id": "tw-_p7AkXC-A"
      }
    },
    {
      "cell_type": "code",
      "source": [
        "under_100_m = []\n",
        "\n",
        "for app in android_final:\n",
        "    n_installs = app[5]\n",
        "    n_installs = n_installs.replace(',', '')\n",
        "    n_installs = n_installs.replace('+', '')\n",
        "    if (app[1] == 'COMMUNICATION') and (float(n_installs) < 100000000):\n",
        "        under_100_m.append(float(n_installs))\n",
        "\n",
        "sum(under_100_m) / len(under_100_m)\n"
      ],
      "metadata": {
        "colab": {
          "base_uri": "https://localhost:8080/"
        },
        "id": "ts__nHLHXUhg",
        "outputId": "bf28405d-f7e8-4b46-fb00-4251b08d835c"
      },
      "execution_count": null,
      "outputs": [
        {
          "output_type": "execute_result",
          "data": {
            "text/plain": [
              "3603485.3884615386"
            ]
          },
          "metadata": {},
          "execution_count": 29
        }
      ]
    },
    {
      "cell_type": "markdown",
      "source": [
        "### Podobny wzór\n",
        "\n",
        "występuje w kategorii odtwarzaczy wideo (zdominowana przez aplikacje takie jak YouTube i Google Play Movies & TV) oraz w kategoriach społecznościowych, fotograficznych i produktywnościowych (gdzie dominują giganci jak Facebook, Instagram, Google Drive, Microsoft Word). Choć te kategorie wydają się popularne, są zdominowane przez duże aplikacje, z którymi trudno konkurować.\n",
        "\n",
        "Kategoria gier jest popularna, ale rynek jest nasycony. Kategoria książek i odniesień, z średnią liczbą instalacji wynoszącą 8,767,811, wydaje się mieć potencjał na obu rynkach, więc warto ją rozważyć."
      ],
      "metadata": {
        "id": "GLXEuLf6Xdk1"
      }
    },
    {
      "cell_type": "code",
      "source": [
        "for app in android_final:\n",
        "    if app[1] == 'BOOKS_AND_REFERENCE':\n",
        "        print(app[0], ':', app[5])\n"
      ],
      "metadata": {
        "colab": {
          "base_uri": "https://localhost:8080/"
        },
        "id": "HoKJ3yarXh-n",
        "outputId": "d2501ba4-6b95-4b95-f1d0-27437e0a3a62"
      },
      "execution_count": null,
      "outputs": [
        {
          "output_type": "stream",
          "name": "stdout",
          "text": [
            "E-Book Read - Read Book for free : 50,000+\n",
            "Download free book with green book : 100,000+\n",
            "Wikipedia : 10,000,000+\n",
            "Cool Reader : 10,000,000+\n",
            "Free Panda Radio Music : 100,000+\n",
            "Book store : 1,000,000+\n",
            "FBReader: Favorite Book Reader : 10,000,000+\n",
            "English Grammar Complete Handbook : 500,000+\n",
            "Free Books - Spirit Fanfiction and Stories : 1,000,000+\n",
            "Google Play Books : 1,000,000,000+\n",
            "AlReader -any text book reader : 5,000,000+\n",
            "Offline English Dictionary : 100,000+\n",
            "Offline: English to Tagalog Dictionary : 500,000+\n",
            "FamilySearch Tree : 1,000,000+\n",
            "Cloud of Books : 1,000,000+\n",
            "Recipes of Prophetic Medicine for free : 500,000+\n",
            "ReadEra – free ebook reader : 1,000,000+\n",
            "Anonymous caller detection : 10,000+\n",
            "Ebook Reader : 5,000,000+\n",
            "Litnet - E-books : 100,000+\n",
            "Read books online : 5,000,000+\n",
            "English to Urdu Dictionary : 500,000+\n",
            "eBoox: book reader fb2 epub zip : 1,000,000+\n",
            "English Persian Dictionary : 500,000+\n",
            "Flybook : 500,000+\n",
            "All Maths Formulas : 1,000,000+\n",
            "Ancestry : 5,000,000+\n",
            "HTC Help : 10,000,000+\n",
            "English translation from Bengali : 100,000+\n",
            "Pdf Book Download - Read Pdf Book : 100,000+\n",
            "Free Book Reader : 100,000+\n",
            "eBoox new: Reader for fb2 epub zip books : 50,000+\n",
            "Only 30 days in English, the guideline is guaranteed : 500,000+\n",
            "Moon+ Reader : 10,000,000+\n",
            "SH-02J Owner's Manual (Android 8.0) : 50,000+\n",
            "English-Myanmar Dictionary : 1,000,000+\n",
            "Golden Dictionary (EN-AR) : 1,000,000+\n",
            "All Language Translator Free : 1,000,000+\n",
            "Azpen eReader : 500,000+\n",
            "URBANO V 02 instruction manual : 100,000+\n",
            "Bible : 100,000,000+\n",
            "C Programs and Reference : 50,000+\n",
            "C Offline Tutorial : 1,000+\n",
            "C Programs Handbook : 50,000+\n",
            "Amazon Kindle : 100,000,000+\n",
            "Aab e Hayat Full Novel : 100,000+\n",
            "Aldiko Book Reader : 10,000,000+\n",
            "Google I/O 2018 : 500,000+\n",
            "R Language Reference Guide : 10,000+\n",
            "Learn R Programming Full : 5,000+\n",
            "R Programing Offline Tutorial : 1,000+\n",
            "Guide for R Programming : 5+\n",
            "Learn R Programming : 10+\n",
            "R Quick Reference Big Data : 1,000+\n",
            "V Made : 100,000+\n",
            "Wattpad 📖 Free Books : 100,000,000+\n",
            "Dictionary - WordWeb : 5,000,000+\n",
            "Guide (for X-MEN) : 100,000+\n",
            "AC Air condition Troubleshoot,Repair,Maintenance : 5,000+\n",
            "AE Bulletins : 1,000+\n",
            "Ae Allah na Dai (Rasa) : 10,000+\n",
            "50000 Free eBooks & Free AudioBooks : 5,000,000+\n",
            "Ag PhD Field Guide : 10,000+\n",
            "Ag PhD Deficiencies : 10,000+\n",
            "Ag PhD Planting Population Calculator : 1,000+\n",
            "Ag PhD Soybean Diseases : 1,000+\n",
            "Fertilizer Removal By Crop : 50,000+\n",
            "A-J Media Vault : 50+\n",
            "Al-Quran (Free) : 10,000,000+\n",
            "Al Quran (Tafsir & by Word) : 500,000+\n",
            "Al Quran Indonesia : 10,000,000+\n",
            "Al'Quran Bahasa Indonesia : 10,000,000+\n",
            "Al Quran Al karim : 1,000,000+\n",
            "Al-Muhaffiz : 50,000+\n",
            "Al Quran : EAlim - Translations & MP3 Offline : 5,000,000+\n",
            "Al-Quran 30 Juz free copies : 500,000+\n",
            "Koran Read &MP3 30 Juz Offline : 1,000,000+\n",
            "Hafizi Quran 15 lines per page : 1,000,000+\n",
            "Quran for Android : 10,000,000+\n",
            "Surah Al-Waqiah : 100,000+\n",
            "Hisnul Al Muslim - Hisn Invocations & Adhkaar : 100,000+\n",
            "Satellite AR : 1,000,000+\n",
            "Audiobooks from Audible : 100,000,000+\n",
            "Kinot & Eichah for Tisha B'Av : 10,000+\n",
            "AW Tozer Devotionals - Daily : 5,000+\n",
            "Tozer Devotional -Series 1 : 1,000+\n",
            "The Pursuit of God : 1,000+\n",
            "AY Sing : 5,000+\n",
            "Ay Hasnain k Nana Milad Naat : 10,000+\n",
            "Ay Mohabbat Teri Khatir Novel : 10,000+\n",
            "Arizona Statutes, ARS (AZ Law) : 1,000+\n",
            "Oxford A-Z of English Usage : 1,000,000+\n",
            "BD Fishpedia : 1,000+\n",
            "BD All Sim Offer : 10,000+\n",
            "Youboox - Livres, BD et magazines : 500,000+\n",
            "B&H Kids AR : 10,000+\n",
            "B y H Niños ES : 5,000+\n",
            "Dictionary.com: Find Definitions for English Words : 10,000,000+\n",
            "English Dictionary - Offline : 10,000,000+\n",
            "Bible KJV : 5,000,000+\n",
            "Borneo Bible, BM Bible : 10,000+\n",
            "MOD Black for BM : 100+\n",
            "BM Box : 1,000+\n",
            "Anime Mod for BM : 100+\n",
            "NOOK: Read eBooks & Magazines : 10,000,000+\n",
            "NOOK Audiobooks : 500,000+\n",
            "NOOK App for NOOK Devices : 500,000+\n",
            "Browsery by Barnes & Noble : 5,000+\n",
            "bp e-store : 1,000+\n",
            "Brilliant Quotes: Life, Love, Family & Motivation : 1,000,000+\n",
            "BR Ambedkar Biography & Quotes : 10,000+\n",
            "BU Alsace : 100+\n",
            "Catholic La Bu Zo Kam : 500+\n",
            "Khrifa Hla Bu (Solfa) : 10+\n",
            "Kristian Hla Bu : 10,000+\n",
            "SA HLA BU : 1,000+\n",
            "Learn SAP BW : 500+\n",
            "Learn SAP BW on HANA : 500+\n",
            "CA Laws 2018 (California Laws and Codes) : 5,000+\n",
            "Bootable Methods(USB-CD-DVD) : 10,000+\n",
            "cloudLibrary : 100,000+\n",
            "SDA Collegiate Quarterly : 500+\n",
            "Sabbath School : 100,000+\n",
            "Cypress College Library : 100+\n",
            "Stats Royale for Clash Royale : 1,000,000+\n",
            "GATE 21 years CS Papers(2011-2018 Solved) : 50+\n",
            "Learn CT Scan Of Head : 5,000+\n",
            "Easy Cv maker 2018 : 10,000+\n",
            "How to Write CV : 100,000+\n",
            "CW Nuclear : 1,000+\n",
            "CY Spray nozzle : 10+\n",
            "BibleRead En Cy Zh Yue : 5+\n",
            "CZ-Help : 5+\n",
            "Modlitební knížka CZ : 500+\n",
            "Guide for DB Xenoverse : 10,000+\n",
            "Guide for DB Xenoverse 2 : 10,000+\n",
            "Guide for IMS DB : 10+\n",
            "DC HSEMA : 5,000+\n",
            "DC Public Library : 1,000+\n",
            "Painting Lulu DC Super Friends : 1,000+\n",
            "Dictionary : 10,000,000+\n",
            "Fix Error Google Playstore : 1,000+\n",
            "D. H. Lawrence Poems FREE : 1,000+\n",
            "Bilingual Dictionary Audio App : 5,000+\n",
            "DM Screen : 10,000+\n",
            "wikiHow: how to do anything : 1,000,000+\n",
            "Dr. Doug's Tips : 1,000+\n",
            "Bible du Semeur-BDS (French) : 50,000+\n",
            "La citadelle du musulman : 50,000+\n",
            "DV 2019 Entry Guide : 10,000+\n",
            "DV 2019 - EDV Photo & Form : 50,000+\n",
            "DV 2018 Winners Guide : 1,000+\n",
            "EB Annual Meetings : 1,000+\n",
            "EC - AP & Telangana : 5,000+\n",
            "TN Patta Citta & EC : 10,000+\n",
            "AP Stamps and Registration : 10,000+\n",
            "CompactiMa EC pH Calibration : 100+\n",
            "EGW Writings 2 : 100,000+\n",
            "EGW Writings : 1,000,000+\n",
            "Bible with EGW Comments : 100,000+\n",
            "My Little Pony AR Guide : 1,000,000+\n",
            "SDA Sabbath School Quarterly : 500,000+\n",
            "Duaa Ek Ibaadat : 5,000+\n",
            "Spanish English Translator : 10,000,000+\n",
            "Dictionary - Merriam-Webster : 10,000,000+\n",
            "JW Library : 10,000,000+\n",
            "Oxford Dictionary of English : Free : 10,000,000+\n",
            "English Hindi Dictionary : 10,000,000+\n",
            "English to Hindi Dictionary : 5,000,000+\n",
            "EP Research Service : 1,000+\n",
            "Hymnes et Louanges : 100,000+\n",
            "EU Charter : 1,000+\n",
            "EU Data Protection : 1,000+\n",
            "EU IP Codes : 100+\n",
            "EW PDF : 5+\n",
            "BakaReader EX : 100,000+\n",
            "EZ Quran : 50,000+\n",
            "FA Part 1 & 2 Past Papers Solved Free – Offline : 5,000+\n",
            "La Fe de Jesus : 1,000+\n",
            "La Fe de Jesús : 500+\n",
            "Le Fe de Jesus : 500+\n",
            "Florida - Pocket Brainbook : 1,000+\n",
            "Florida Statutes (FL Code) : 1,000+\n",
            "English To Shona Dictionary : 10,000+\n",
            "Greek Bible FP (Audio) : 1,000+\n",
            "Golden Dictionary (FR-AR) : 500,000+\n",
            "Fanfic-FR : 5,000+\n",
            "Bulgarian French Dictionary Fr : 10,000+\n",
            "Chemin (fr) : 1,000+\n",
            "The SCP Foundation DB fr nn5n : 1,000+\n"
          ]
        }
      ]
    },
    {
      "cell_type": "markdown",
      "source": [
        "### Gatunek książek i materiałów informacyjnych obejmuje różnorodne aplikacje:\n",
        "\n",
        "oprogramowanie do przetwarzania i czytania e-booków, różnorodne zbiory bibliotek, słowniki, samouczki dotyczące programowania lub języków itp. Wydaje się, że nadal istnieje niewielka liczba niezwykle popularnych aplikacji, które zaburzają średnią:"
      ],
      "metadata": {
        "id": "Zk-9RB2CXyvc"
      }
    },
    {
      "cell_type": "code",
      "source": [
        "for app in android_final:\n",
        "    if app[1] == 'BOOKS_AND_REFERENCE' and (app[5] == '1,000,000,000+'\n",
        "                                            or app[5] == '500,000,000+'\n",
        "                                            or app[5] == '100,000,000+'):\n",
        "        print(app[0], ':', app[5])\n"
      ],
      "metadata": {
        "colab": {
          "base_uri": "https://localhost:8080/"
        },
        "id": "3LiZTh77X6vF",
        "outputId": "2bb8d066-3238-4721-9d4e-a8e546e49145"
      },
      "execution_count": null,
      "outputs": [
        {
          "output_type": "stream",
          "name": "stdout",
          "text": [
            "Google Play Books : 1,000,000,000+\n",
            "Bible : 100,000,000+\n",
            "Amazon Kindle : 100,000,000+\n",
            "Wattpad 📖 Free Books : 100,000,000+\n",
            "Audiobooks from Audible : 100,000,000+\n"
          ]
        }
      ]
    },
    {
      "cell_type": "markdown",
      "source": [
        "### Wygląda jednak na to, że jest tylko kilka bardzo popularnych aplikacji, więc ten rynek nadal ma potencjał. Spróbujmy znaleźć kilka pomysłów na aplikacje w oparciu o rodzaj aplikacji, które są gdzieś pośrodku pod względem popularności:"
      ],
      "metadata": {
        "id": "WWHb1RAYX9_k"
      }
    },
    {
      "cell_type": "code",
      "source": [
        "for app in android_final:\n",
        "    if app[1] == 'BOOKS_AND_REFERENCE' and (app[5] == '1,000,000+'\n",
        "                                            or app[5] == '5,000,000+'\n",
        "                                            or app[5] == '10,000,000+'\n",
        "                                            or app[5] == '50,000,000+'):\n",
        "        print(app[0], ':', app[5])\n"
      ],
      "metadata": {
        "colab": {
          "base_uri": "https://localhost:8080/"
        },
        "id": "gzmrRGw2YCjT",
        "outputId": "1f814adc-f023-4da9-c67c-26bdb2efbf86"
      },
      "execution_count": null,
      "outputs": [
        {
          "output_type": "stream",
          "name": "stdout",
          "text": [
            "Wikipedia : 10,000,000+\n",
            "Cool Reader : 10,000,000+\n",
            "Book store : 1,000,000+\n",
            "FBReader: Favorite Book Reader : 10,000,000+\n",
            "Free Books - Spirit Fanfiction and Stories : 1,000,000+\n",
            "AlReader -any text book reader : 5,000,000+\n",
            "FamilySearch Tree : 1,000,000+\n",
            "Cloud of Books : 1,000,000+\n",
            "ReadEra – free ebook reader : 1,000,000+\n",
            "Ebook Reader : 5,000,000+\n",
            "Read books online : 5,000,000+\n",
            "eBoox: book reader fb2 epub zip : 1,000,000+\n",
            "All Maths Formulas : 1,000,000+\n",
            "Ancestry : 5,000,000+\n",
            "HTC Help : 10,000,000+\n",
            "Moon+ Reader : 10,000,000+\n",
            "English-Myanmar Dictionary : 1,000,000+\n",
            "Golden Dictionary (EN-AR) : 1,000,000+\n",
            "All Language Translator Free : 1,000,000+\n",
            "Aldiko Book Reader : 10,000,000+\n",
            "Dictionary - WordWeb : 5,000,000+\n",
            "50000 Free eBooks & Free AudioBooks : 5,000,000+\n",
            "Al-Quran (Free) : 10,000,000+\n",
            "Al Quran Indonesia : 10,000,000+\n",
            "Al'Quran Bahasa Indonesia : 10,000,000+\n",
            "Al Quran Al karim : 1,000,000+\n",
            "Al Quran : EAlim - Translations & MP3 Offline : 5,000,000+\n",
            "Koran Read &MP3 30 Juz Offline : 1,000,000+\n",
            "Hafizi Quran 15 lines per page : 1,000,000+\n",
            "Quran for Android : 10,000,000+\n",
            "Satellite AR : 1,000,000+\n",
            "Oxford A-Z of English Usage : 1,000,000+\n",
            "Dictionary.com: Find Definitions for English Words : 10,000,000+\n",
            "English Dictionary - Offline : 10,000,000+\n",
            "Bible KJV : 5,000,000+\n",
            "NOOK: Read eBooks & Magazines : 10,000,000+\n",
            "Brilliant Quotes: Life, Love, Family & Motivation : 1,000,000+\n",
            "Stats Royale for Clash Royale : 1,000,000+\n",
            "Dictionary : 10,000,000+\n",
            "wikiHow: how to do anything : 1,000,000+\n",
            "EGW Writings : 1,000,000+\n",
            "My Little Pony AR Guide : 1,000,000+\n",
            "Spanish English Translator : 10,000,000+\n",
            "Dictionary - Merriam-Webster : 10,000,000+\n",
            "JW Library : 10,000,000+\n",
            "Oxford Dictionary of English : Free : 10,000,000+\n",
            "English Hindi Dictionary : 10,000,000+\n",
            "English to Hindi Dictionary : 5,000,000+\n"
          ]
        }
      ]
    },
    {
      "cell_type": "markdown",
      "source": [
        "### Ta nisza wydaje się być zdominowana przez oprogramowanie do przetwarzania i czytania ebooków oraz różne kolekcje bibliotek i słowników, więc tworzenie podobnych aplikacji może nie być dobrym pomysłem z powodu dużej konkurencji.\n",
        "\n",
        "Zauważamy także, że istnieje sporo aplikacji związanych z Koranem, co sugeruje, że stworzenie aplikacji opartych na popularnych książkach może być dochodowe. Może warto wziąć popularną książkę (np. nowszą) i przerobić ją na aplikację, co może przynieść zysk na obu rynkach.\n",
        "\n",
        "Jednak rynek jest już pełen bibliotek, więc warto dodać unikalne funkcje, takie jak codzienne cytaty, wersja audio książki, quizy, forum do dyskusji o książce, itd.\n",
        "\n"
      ],
      "metadata": {
        "id": "CRgtz4PSYPon"
      }
    },
    {
      "cell_type": "markdown",
      "source": [
        "### Podsumowanie\n",
        "\n",
        "W ramach tego projektu przeanalizowaliśmy dane o aplikacjach mobilnych z App Store i Google Play, mając na celu polecenie profilu aplikacji, który może być dochodowy na obu rynkach.\n",
        "\n",
        "Doszliśmy do wniosku, że przekształcenie popularnej książki w aplikację może być dochodowe na obu rynkach – Google Play i App Store. Rynki są już pełne bibliotek, więc konieczne jest dodanie specjalnych funkcji oprócz samej wersji książki. Mogą to być na przykład codzienne cytaty, wersja audio książki, quizy, forum do dyskusji o książce itp"
      ],
      "metadata": {
        "id": "fxQBevNaYTB_"
      }
    },
    {
      "cell_type": "markdown",
      "source": [
        "### https://app.dataquest.io/view_cert/WTJONMIYYCX8AX9J9QFA"
      ],
      "metadata": {
        "id": "ELHhZJStY981"
      }
    },
    {
      "cell_type": "markdown",
      "source": [
        "![image.png](data:image/png;base64,iVBORw0KGgoAAAANSUhEUgAAA94AAAL/CAYAAACQ6h8MAAAAAXNSR0IArs4c6QAAAARnQU1BAACxjwv8YQUAAAAJcEhZcwAADsMAAA7DAcdvqGQAAP+lSURBVHhe7J13gF1F2YefmXPv1vRk03sCARI6JKH3JlIE7A1QmkpVRAWUIkVQQYqfSFGadJAqvZeQRhJIQiAJ6T27m+27956Z7493zr13NxtqVgm8TzjsufeeMmfOtN/MO++Ycbvu7vEoiqIoiqIoiqIoirIxMWAAs+see6nsVhRFURRFURRFUZQOwBiDWbRo0ccS3josriiKoiiKoiiKonz5MG2/aEXu10Qyt3O4WbVq1cdU1K7tF4qiKIqiKIqiKIryBce2/eITY6qqqj6m8P6YhymKoiiKoiiKoijKFwFPwRC2l62dEW0AvMlP6m6Dqa2tVUWtKIqiKIqiKIqiKG1ZTy17MOt9KXyY8G5oaNjAWYqiKIqiKIqiKIqifFZMc3NzK+HtvbhRM8bgHBgj3xkj3ymKoiiKoiiKoiiKAj6npj3eg7Gm3RnhJpPJtBLezjmam1toam7OnQwmJ8YVRVEURVEURVEU5cuBX89yPMz0zn8IOyaKKC0tpTSdyh2bYLLZbCvhHTuora1h3boastks3nsR3sa27xddURRFURRFURRFUb6Q+PVGsJ0MUcuv3mOMIYoiwNCzZw+6dSptcwYY51zrEW8PVVVVVFZWMWzYEB3lVhRFURRFURRFUZQCfPifN2Ju3tjYzKpVa6io6EW3zh9TeFdXV1NdvY7BgweR6G5jjIpwRVEURVEURVEURfEy6i1q2tDU1Mjy5avpXVFB1y4fU3hXVa2jqqqKYcMGAyK4DeJoTVEURVEURVEURVG+zHgf5np70ckNDY2sXCkj3l3aG/H2Pg4rgIuqdh6qqmuorKpm+NCBQXQbsWFPRr8LpLrZ0BpmmIKZ5l/0fRM+6/7G2/fhs+5/tn0TPuv+Z9v34bPuf7Z9Ez7r/sbb9+Gz7n+2fRM+6/5n2/fhs+5/tn0TPuv+xtv34bPuf7Z9Ez5/2fblr3OulRW4T44MOw0NDaxYuZqKigq6di4Lv+ZZT3h7oLKqhsqqdYwYNkCWEcMSO4ex4eZ5DQ7IUmPrk7+moiiKoiiKoiiKomyqeO9zjtQKp2AnAryhoYHlK1bTq3cF3Tp9BuHtcpfMC+/2blx4jKIoiqIoiqIoiqJsqrSWtflP3nustRtfeMuyYoJzDloJ7naEt6IoiqIoiqIoiqJ8EfDrW3obYza+8Cao+nAaTc0tNDc35T4riqIoiqIoiqIoyhcJkcBi6V1eVkoqFeV+ay28GwuE98dwrrYh4V044u0x1NTUsm7dOrJZV3C5tqggVxRFURRFURRFUTZdjAFrLb169aC8rBRj8tOu1xfevenWqaTNFT6x8PaAwWNYt66GyspqBg3qj02crimKoiiKoiiKoijKFwQP1Dc2smZVJX16V9CpXIR34e9sTOEtv3hAJpBXV4vwHjp0INaKKXprkuMJ1/4i75vwWfc33r4Pn3X/s+2b8Fn3P9u+D591/7Ptm/BZ9zfevg+fdf+z7ZvwWfc/274Pn3X/s+2b8Fn3N96+D591/7Ptm/D5y7XvMdTVN7Jq5Wr69O5N5zai2oe/9UF4V/w3hbcpCICiKIqiKIqiKIqibIp4+FDhnRxTKLy7dirJSfiEjSy8PXgweHzbOymKoiiKoiiKoijKJoSMeDexYuVq+vauoEun0uBxLcjoMBW7vqGRZStW0/u/Iry9Jze9vO2dFEVRFEVRFEVRFGUTwmOobRDh3ad3L7qWlwGFDsYLhPfK1fSu6GDhbRDhLcckl2tv7reiKIqiKIqiKIqifP7xQG1DYxDeFXQt/5AR7w8R3p9QGbc9PcHnZLlo+LyQVxRFURRFURRFUZRNllZiN/nbjuYNY9Dt8QmEdzsXzn1ua17e3rGKoiiKoiiKoiiKsmlh26rbVoPN+V8KZXlbPoHwVhRFURRFURRFURTlk6LCW1EURVEURVEURVE6EBXeiqIoiqIoiqIoitKBqPBWFEVRFEVRFEVRlA5EhbeiKIqiKIqiKIqidCAqvBVFURRFURRFURSlA1HhrSiKoiiKoiiKoigdiApvRVEURVEURVEURelAVHgriqIoiqIoiqIoSgeiwltRFEVRFEVRFEVROhAV3oqiKIqiKIqiKIrSgajwVhRFURRFURRFUZQORIW3oiiKoiiKoiiKonQgKrwVRVEURVEURVEUpQNR4a0oiqIoiqIoiqIoHYgKb0VRFEVRFEVRFEXpQFR4K4qiKIqiKIqiKEoHosJbURRFURRFURRFUToQFd6KoiiKoiiKoiiK0oGo8FYURVEURVEURVGUDkSFt6IoiqIoiqIoiqJ0ICq8FUVRlP8p/jNs7V9JURRFURTl84XxPvZgkE2aLJVVNVRWrWPEsAEYA6aNPvdAdXUNlZXrGDp0ANYSNLzH4FXPK4qifMnx3uO8wxqD9w5jLDgw1uK9B2MAj8cTO0dzxtFQ38DMWXOZNHkqb02bTl1tjVzMWHr26MF2225Nz1492GqrzRk2ZBDlpSWkUimMMUBcUIvZXJ3mnMNaG45RFEVRFEX5ZHigvr6R5StX07tPb7qWl7Q9RI5paGT5itVU9O5Nt07rH6PCW1EURdnoOO9kJ/kLGKLwGxhjcN6zcMkSZsyYwQsvTeClF1+nrr4BTJSrk3LnGoOLY4yNMXj69+vDfvvuxQH77cuoUSPp1rUT4LEWvHMYY/DeYAyIzjcqvhVFURRF+cSo8FYURVE+t3gvZt++QHgnI9EeqKmp59lnX+DBhx9j1sx3qW/MYEyK2Gex1uAcWGtxzmOtyV1PrhLhfYbIOHr37s3YsTvx7W8dzfbbjQHAGNda8BsR/Cq8FUVRFEX5pGws4a0KWVEURekwjLF4bwAR0R7P7Hfnc/5vL+XSy69m8pTZ1Dd6DEVkY4e1EXHssdbincEQEWd9EN4yih17h4lSOCJWrqrmkUee4te/vojb73iAmpo6POCNAWMwGEzoXlYURVEURflfocJbURRF2eiIUBYzb2stGEtDUzP/efJFfnjciTz97IvUNrTgYgsU4TBEUYT3nsimkNMNGIhSKawV83NrbW5EPPYRsTdgi1iwaDmXX3E1l152FSuWrwEfzNWNkZnkEhxFURRFUZT/CSq8FUVRlI2OWHXLKLXDsK6mjrvufoBLLrmCmtoGPGEk3Fo84FwMBrw3MmnJe6K0Z/NRw0mlgpD3wTEboql9ENbOg8cSO3j0sSe56ur/Y8XKVeDDOLfxsimKoiiKovyPUOGtKIqidAhOvKjhveOpp17ihr/fxurKWjwR3tjgXsSBcdjIggeDwRpPt27lHH/89/jTlRdw4QW/YfDA/lgrv8t0b3GchnFgY7xxeCD2hif+8yx/+9utVFXV6ki3oiiKoiifC1R4K4qiKBsfI0uHOQ+TJs/iksv+SE1dM5hIRrsJo9AmBpPBOxdOiqmo6Mbll1/AcT/8JnPnzmXs2K25+i+XsOOO2yB6XZy0mWQk28RhczhvyMTw4IOP8/eb7qC5JUPsc0PwiqIoiqIo/xNUeCuKoigdgJiML16yjOuu+xuNTRnA4gurHeMAh8ERReDiFnr26MJpPzuBrUZtzt//dhMXXfB7rrj8Kqxx/PLsn9KvT0+8z+Y8nAt5U3LvwZMik/Xce9+DTJ32Dt5IB4AOfiuKoiiK8r9ChbeiKIqyUfFBADc0NnP//Q8zY8Y7GBMRu2R+dvjrTW7zPktRseUrBx/IQQfuy63/vIMHH3iExoYmXnn5Va6/7ga6d+/Mz356EiUlKQwu3Ch/HY/ByPqWxN5TW9/IDX//Jw0NzQWhUxRFURRF+e+jwltRFEXZ6HgP77wzi38//BgNTS04DDYSD+P5gwzGG4y3GCybjRzOD3/4baZMmcELL7zAL88+i+efe5rLLvs9lWsreeC+R9lt97Hsu9/e4D0GG86Pghdzi3NO1g4Xa3Smv/0OjzzyeN4pm6IoiqIoyv8AFd6KoijKRsd5z7PPvcKq1WvBWkxwspYYfJvcFgERxnn23mtPysrKuOuuezj88K/ylUP2Y9bMt9hum6340Y+O48UXXybOOnYdvzPl5WXhfBuqMtmiVAqH3Md7T0NDIy+98gZr1lS2DeIGyQ2kf4zto2h7vJyz/tltj/mwrT3aHrOh49qj7Xkb2uT/Mj1AtvXPb4/1r8OHXqPt1h5tj9nQ9mnOaXueoiiKomwMjPexzzeBpMKprKqhsmodI4YNwJikYZPHA9XVNVRWrmPo0AGIZZ8FWQRG9byiKMqXiPZGk6trWzjg4COprqrBm2BSbozUILI8dzARl+MNLdx77x2sWrWciy68lCuvuBzvW7j88j/zla8cxMGHHMjZvziPb3/7m4zcfAjn/Pr3zJ27GE9wypbgZVTdAMZ4nI/p1asbf7j0PPbafZdQgzkZLTc2eD3Pyy3nDLV1dUyc8haV1TUYZzHhHwYGDR7AmDGbU1xchDUGXIw1Uv9hDDhP8AAHBhyO5uYM/7rzPrbbbmu2334MsoCa1JbEFhNJR8U7M99jzpz3C0JjpD71Yp4fWUN5WTm7jtuBrt065RWigdjHYCWeb77pDnbaaTt22G5M67hpQ/4enqzzLFqyjDdef5NVK1YRRSmGDh3KzmO3p3fvHlhjsMQyTcAn54lZwbtz3ufRx5+iuKiYn5x8giz/Ft6B8575C5Zx5513MXToEI456jDKSotCuwE8lqVLVjJp8gwy2TiEKmmPeAyOUSNHsM02W4ERSwpjIes8xkB1VS2Tpkxj8uRJpFIRffv2ZfjwoYzecgu6d++KNQbnnXjDx/DyK2/w6qtv4DzgPN5bjDV4EzqFvGfk8KF89SsH0qVLGcZE+OBBX/3zKYqifDnxQH19I8tXrqZ3n950LS9pe4gc09DI8hWrqejdm26d1j9GhbeiKIrymWkrvp965g1+etrZAJgoEbhg2lUvjq6dinnppf/wj3/cwXXX/p1bbr6RbLae3//+Dxx1zJEcdMAB/PLsC+jdtyeXXHoeZ5x1Lq++NjUnmmVEHUCEsvceYzwehzGek0/4ISef/EPKStIYHN6BtSmcE4FeqGLfe38Bv/7txcx4eyY4SwR457GRxREzeMhATjjhWA4+aF+6lJaBB2NlhN2YSJ4oBhNJt8ALL73Oz352NnvssQsXX/RrKnp2D47lwPo03jkcnquu/Rs3/v0fpKIURaUl1DY0iUWA81jjcS7DFpuP4Ko/XcaIEUNDuEW8umDE/+JLr3Pqz87m4AP35/xzf06PHl3xeLyTOAIRkLH3Mh/eGSZOnMpfb7iFiVOm4JyjrKSUlE3R1NiAjSwHHXwAJ514LMOGDRHx7eKgQg3OwTPPv8xvzv89Pbp149GH76ekyILxeB9jreWFlydz8k9OY9zOO/GnP15MRY+uraT1E08+x4UX/ZG6ugaKS1Ii8o0IZWvhW988mjNOPRljk+c1ZOKYu+5+hJtuupnlK1bQuUsXrLU0NDTg4gwjhw/jvPN+xbixO2KBbBxjjOUv1/4fN/z9FjwW4y3YNB5DushQUpzGAjttvz3nn/dz+vevCKJbnrXdpKsoiqJ84dlYwju64ILfXVAovAEam5ppbGqmR/cuQXivX9s0NTXT2NhMt25yTHJ+4f8VRVGULzZtBTeh8rn73oeYPmNW/suc6GuvfvAMHz6IIw//Kq+/Po2pU2cyYGB/dt1tZ/oN6MOee+7B0iXL+c8Tz2ON4Zvf+hqvvPoG789dgLUi6nPXLdw3Yd870inLQQfuQ3FROogoIyLd5J9B9g1V1dU89/yrVFfX8rUjD+WAffdk7Njt2WGHbenZqyezZs5i6tS3KC8vZ/PNRpJORxgr18nVlwaccTQ2tnDV1X9j3rylVK6tZqeddmLwoP4YY7DYsB55MAEwhiGDBjJ+l3GMHTeWZStXUl21jsO+cjAHHrgX48btwPhxOzJ69JaUl5UmkQfe4Iylrq6Rv/3tZua9v4iqqmq2325bBg7shzEem4v2pKMiAgNz3pvLr39zMe/MnM2I4cM48vDDOfigfdh77z0YOnQYVVVVTHxzEvPnL2LLLTanZ88e2DB1QOLPMHfeAp5/4RVKiov57re/SUoGwnMd94sWreSRR55g4MCBHHzQvpSVlmK8kWXlvGHevIU8/8Ir9O7Ti+OO/x4HHLAXu+8xnt332IXdd9+VnXfanj69e+GJQ2cKLFi4lF+dcx7r1tWw55578N3vHMOee+zG1mO2pKUp5t3Zc1i2ZDlfO/KrGAhWCTJaPmDgAMaN25ExW49hydLlxC7LYV89iG98/Uj23G0Xxo/bkaFDB5IuSp7T5Ea9FUVRlC8nmUyWuvoGyjuVU1KUavszJMfUNVBe3v4xOjStKIqifCYKxbcxhmw25r057+Ocb9URK6PS6wt1gLLSMqLIElmLiQz33v8QTz37PHvvuxeLlqzgbzf8kxUrV9LY2EimuYVuXbviXEw2mwlzx1uLehHcMgqNscx+dw4tLS3rWXAVkogsALylpLiUrx1xKCefcjw//cmPOfWnP+b8837BT045icq11dx0420sXbIKDHjvgjALzxe+mzJ1Gm+/PRsbWeobGnn43/+RdcVz90w2y67jxnLySSdw4gnH8pVD9mfQwAEYDIceejA//cmP+elPTuRb3/w6vXr0IJvJFFxEzL9nTH+H6dNm4vGsXlPJU0+/RNbHQQSLBYAYzcuofH19Izfe+A8WLVrKmNFbc965v+SM007k2986hq8deSg/++mPuPDCc9l+h+2YOHEKd939EHV1Tbn3akzSgQFgcM7jfcE7gFx8eO9x3oVzC5JF6BwxxtCrohcH7L8vhx12GEceeRiHHX4Ihx9+CGO22jIIXxnZN8CECZOprW1g55125uc/P5VvfP0ojvraYZx04rGcduqJDBs6hHfemcGa1WsLOhtg/Nid+NkpJ3LKKSdw8sk/on+/PqQjy/bbb8MRR3yFI478CrvvPp5O5WXJY0gwVXQriqIon5ENt0AURVEU5WNQKMC899TW1FFXX0cURVhrP5ZqqautI0pZunYtwbssq1av5vIr/szO4/fmR8efzJsTp5KNs6TTlpLiIurrakmnUqRSKaJIepVFZIvg9d7llhbzzlNdXc2aNdVB8dlc9ZeMlvtEFOasvEwYPndExoN3WGvo2a0b3/n2URyw//6sWV3J/Q88IpOskqXRjA1T1z21tQ38++EnWFe9jqOPOYIdd9yOZ59/jtmz3wvrmYd7EGMS0/NkerjxWO+w1uPirESSl+lcBkM6VVzwDJ6amlqeeOJZVqxYyUknHc+YMVvx0MOPsHDhcpyH2ElngndhbjmGSRMnMXHSVDp368qJJx/L+J23ozgdYY0nMo50yrPd9qO58MJz6datK88/9xIzZ87KxavcOz8SnKSDJC047/EeMR23FmvCsUaexRtZf90hQt7LFGsim/yNsOF7A+ANkUmBj6hZV4f30LuiH70rekrnReiAGTd+Jx599D6mTH6Nit49ZN13E2OIsWHoPzKQTkcUFdnQKeGwie8BpDMjsV4wiNm8oiiKonwWVHgriqIon5pCwZ3Q0NhAJpORUc5kBDhQOCpdSK9ePbEGevbqTucunWVc06cwphhv0mHudMzgIQPwHvr374dzGZyLcS4WjUwUxHfYEolpDJFNsWzZCrlZO4PuYj4tglAGZXNqL8xEDk7FDJSWFrP33ruRSqV4/fU3ACPh8zKSDAaH4d135zNl8nS6du3Kj378XcbtsgOxj3nwoUdpyWSDApU7tAqU90QmyD4vZuKRF7HYymLAk7vG3PnzeeXVV+nbry/f/PZR7Lr7zmRchnvvewAXi9qV+exhDnzsWbx4OWsrq6mo6M7OO28XvIzLszqXIYrAmJjhwwcyfMQw1lSuZcHCJTjncLlweDDBoZ1EYO5JjE3uG+PxuXO898GZmXyPaGpqaxt4++3ZvDnhLaZMms6kiW8xefIMamvqcreSjhLP+PHjKCkuZvKkSdxx+z28/tpEpk2bwaKFS8VJmzjLx5sYmXbvcuLZBidteE82mw1WAOG7hPAheUMbSLaKoiiK8rFR4a0oiqJ8atozHXfOEYtCkhHvgPce5wqWkPKipIpSKY45+nDSqRSbjRxJ7969kcFLC168SntvMBbGjx8HwOGHH573LF6AQQbYTSuRKqO89XX1rczBjZERZtmX6yTnJteSYz2EgXtrILKWil696Ny5C2vXVtPYJJ0M+eWxHJmWDM8++zIrV65i7713Y/CgPuyzz270qujKpMlTeO/9eQVSO9wDGXUlCEPvvfQhFAzFGp8LWB5reeKJp6lcW8khhxxERa+ujB+/I336VPD6a5OYP38x1kStOj2ycUxVdR0uNlRU9KJLl1KsFTNuGVlOQ8Gthg0fjveweNFyMpk4/0tOsebfbeErMcZhrPgUtyZ5jryolfckruEWLlzEH6+8mvPOv4hzz72A8869iIsvupT335sbRspjIAYcW201gu//4NtUVa/llltu4/zzf89vfn0RZ55xDqf+9BfcdNMdLF9ZGSwLxLqgMC1K2JLReXnuxAZBBsWTb2QzYY64oiiKonxatCZRFEVRNjomiKw4joMpt8y3ttbinMuJYg+MGTOG0aO3Yu3aSkaOHMHoLTcTQewN3iHmxXj69+/HfgfsQ2NzE/369WK3XccHSZ2YT+cFtOyTMxv3MTJH2JETjYkuT8S4nCu/mWROcSyCOBm7d148lYPHxbJcWSabwRODcTifJetjFi1dxoMPPUqnzp045htHYvBsMWo4O26/HXPnLeK551+noaGlQETnPbPnniG3n4h6B9aBl2W3fBhZX7x4Bf9+6BF69erNgQfuhTWWHXfcgXHjx7Jo0XKeePwpWjIZMZ82TuZa48Sxm4+wJhKhD6HDQwzavbd4b3HOUJROScdAFCwDCOuyh/dqgFRKHLbhJXSEEerYyb28k44ETDDND87VEkGcSll69uxKv369qKjoSZ8+FfSu6EFJSRoX5qoTLPpTRRGnnnoit91+Ez/84XcZu/OOdO/ZE+ctM96exdVXXc+JJ5xKTU2DiG8TyQYhHsJuuKC875AWvHwv/gBC+sm/KEVRFEX5VKjwVhRFUT4Tbc3HI5uYXMtv+ZHQvHM1Y4KBr/P069ePLl26cM899zF//jy+//1v0a1rOcYbIiKcy9Kpcwk/PuEHxHELzz77EpVr17LFFqOCqAvi2+fNnAsxyKhxUZGM4n60hkqEr8HaVLimjOqCIRt7Fi9eQW1dLT16dKVzebGIYhPGTo3lwQcfpr6+iTGjtyayEcuWrmTF8tWMG7sLPhvxzDMvsnL1qoIry7Vbhy0ozRwivj0uzI+Wdcfvu+8hmhozDBs2nLVrqpkyZQYzZrzD8KHDibOOV16dwKJFS8Ro3jqiyJGKInr17EEqVcTatVXU1zWJ0E4eHQMmJW7AgXfnvIv3Mb379CSKohDqMCofLBviOCaTaQm/SGeID2b4Di8j917i1WDBi7CNg6HAqFGbcdXVV3DrP2/gzjtu4rbb/85Nt1zPmG22CnOzI7zPm/RHkWH06JGcfvqJXH757/jnrX/jmmuu5LTTT2HI0KHMnT+fF154LUxbSEavk/eYhDKJ49yDBxLRLUJfURRFUT4rKrwVRVGUT01b0Q1QWlZKUVFRTpQVbsk5MgIuDsuKi4qIohTTZ8zk8cefZtiwgXz7W0eTTlki6ylOWw4+cF8O2H8fZs2ew8MPP0pDQyPlZWW5NZ/DktaQl4SFKgrvHL17V4SR9Nbiq12CRpRqMsITydxvY2hoqOfxJ54mm21h/Pidg+OwVO64hQtX8tKLb+K84b335vO7317KWaf/ijNOP4fbbr0b41N8MG8Rr70+RUa4kWXF1g+NyVfTuWiW+dQyZ9mzcMESXnt1It4bZs16hz9cfiXn/eYCfvPr33HnnXfiiXn//blMnDhNvI4T43BEkWHIkP707NWVNavWMG3a22F2t4RD5mPLnd57by7vvz+Xnr16MHhwf4lD43KCu6ysjOLiElqas6xetTY3eo6xYC1rKquIooiy0mKilG0d9V7m11trcx0KxsjcbE+MCw7TXOK8zkl8TJ70Fo8++jgffLAQ52KMdaTTMGhwb4444hB23nk7jPG8O+fdJOLyot/n5bZQ2BQKlgXrvY38FAlFURRF+TSo8FYURVE+NYkJOQUivFOnTpSUlLQa7QaZ+90W7z2V1dU0NjXSs2dv7r7rAR5++DF+dPx3Of20Exg0sBeHHXYgZ599OqtWr+aC312EtRGlZaWsXr0K4+N2rttG2QGlpSX07987eC437QirQjx48TTuQeaYY2mJHQsXL+Oaa25i8ltTGDZiKD/4/rfxYRkt5z3ZTIZHHn6cxYuX0b1XFwYMrKA4HZFORRSlIjqVpxm5+UAwjn/+8zbqahvCPfNWAnmC2Ax/fRi1NcbiMWQyWZ5+9gXmzV9Aj57dGTFiCL0qutOrVzcqenWnf7/eDB8xiDiOufXWu6mtawz3EXG9w47bs/feu1C5di233PQv3po6k/qGRmLvMBZq6hp5/bWp/Pa3l1Nb08D48ePZdtsxeLI5437nHP37D2DAwIFUV6/jnnvuo7K6Gucgk3UsW7aKBx96BO8Mo0dvSUlxiQh678Q8H4jjLJlMlsimgyiWEXHTZm517DxYcez26qtvcO65F3H99TezbOkq4qzHYjHeUFfXSE1NDXhPp04F651DPk7DMPZ6qaCVY77WaUhRFEVRPgvRBRf87oJWZlZAY1MzjU3N9OjepWCOXGuampppbGymWzc5Jjm/8P+KoijKlw9rLdPfeZcZb8+GAkEunsOT+kHEjDWGyBr22nM8nco78/rrkyhKRxx08L5sNXoUO+64LV899GA6lZfy2GP/4a23prHHnrux226787cbbmTVqrVBjEZyRSPiKV8XyTZ6q1Ec9bVDKC4uDg7VfL7GylVZcmxlVRXPv/ASy1esxBiYO3c+U6dM44033uS22+7ihRdfYMiQAZx26slst81WpKIU1ojwXrBwEf+49XZWrV7Fccd9k0sv/R1fP+YIjjnmCL521BEcfcxhjB23PTPensGCDxbSv19vth4zWsaWE0/mQF19PS+88BqLFy/jkK8cwLAhg8CLGJUhYViybAU33XQbS5eu4JSfnsDvLz6Xo48+nKOOOoKjjjqSo48+gp132oFXX3udBQuWsOVWmzNysxGhXreki1IMGz6Mt96awVtvvc2kydNZuGAxCxYuYNbs2Tz+2DPcfsfdvP/eAqxNs+MO27P7HuMpSqXCVAEZqe/cpTN19c1MnjSFOe/OYcGCBVRVVzHtrWn88x93MOWtdxi1xeYcd+y3GNC/D5DFWPA4sJZ58xfw6qsTaGpsprmpmVnvzGbq1GlMmTqdaVOns666hmHDhmKtOFfzxtKjR0+eefplZs+ay6KFS1m7upIli5cx851ZPPLIU7z8yiukUilOPfWn9O3Tq00rRz5kY8fDjzxB5doq9thjHFtuuXmYNZ8cXDDpm/bbQoqiKMqXg0wmS119A+WdyikpkmVM25LJZKmra6C8vP1jVHgriqIon5q2ZuTyHTS3eJ58+lmM91gb4cVOOzen1pCs/+ypq6tls81Gsvfeu7H9Dtty0MH7Ul7eiWVLV7N82UpaWrL06NGVYcMGM27sWHbYYXsWL1nBrbffRSYTEzsR9c7HmDD32Yels+QDHHLIvuy+y86k0ykMecdqIcTBi7g8T2VVNc89/xLLlq9k9qzZvDFhIhPenMjUqVNYsWIZu44fx9lnn8X4cTtQVJTCu1i0sPM8++zzPPLIw3Tt0olzf3M2Pbp1y9WwiXPyLp3KWL16DdPemk5DfS3jdhlHeXk51ubXxK6rr+elF19m8ZLFHHLIAQwdNliWwUoi2BiefOpZHnzwITp3LueiC39DWWkJJnheN0YcxJWWlrBqxQpmzpxBbU01+++/L+lUkdzHQJcundlyi81Yvnwls2bPYeas2UycOJk3Jkxi+rQZeGfYffddWbliOZWVa9huuzH069sn9/5M6FAZMWww6VQRM2ZM493Zs3hz4kQmTJjIgoWL2HabbfjFWT9j2222IIoK0oCV0ff335/Hyy+9wupVq5g+bQYTJkxiwoTJTHjzTSZOmAjeceBB+wdDeDm7R/fuDOjfj/nz5zP1ralMeHMib06czMuvvM5b09+iS5fOnHTi8Ry43965tbvbtkyyzvHII49SVbmKPffYhS02HxWeKz+/W4W3oiiKwkYS3sb7OCxWKhWKByqraqisWseIYQNyPeOFeKC6uobKynUMHTogjB5YyM0OUwt2RVGULyseqG3IsMdeB9BQnwnrR6fEwZXxYMIc2pyO8fTo1ombbrqeHj268torb3Lb7f9iyeIldOnShZraGrp368YhhxzI147+KviICy+6nAkTpwEiln2YK+ycExGcE9aebl27cuXl57P3HmNzHQTOufWWl0pYt66W19+cwpq11WFkV1R5166dGTFiGAMG9adTaYk8i88vP5XNOCZPnsrChQvpP2AAu+++i9yvwGdasmb3smWrePW1N1m8cCGHfvUQRo0aiQ9h8kBjQyNvTpzC8uUr2WOvPRjYvzfeZQucvcGtt/2LufPmsceee3DAvnsBJqxRHQfBKM+3dOkyXn75VZYvX84xRx/F4MGDJUDei5M272lqdrw1bRbPP/cczZkWyktLGTp0GGPH7siAgb156snnmDJ1Crvttiv77LMH6SjCeHDh+Z0zeGIWL17OU08/w6o1qxkyZCijRm3O6NGjKC8tweQsESS+Ejm7cOFiJk+eTnNLJjhCk5jCiGH8oMH92XXXceDl3cqvFu8ctXWNTJo8jSlTptLQ0EjPXt0ZPXo022+/NV06l5OK8u/YhMsSOl7i2PHCCy9SU1PDtttuy/ARw4D8EnN5kqkM6/2gKIqifAnwQH19I8tXrqZ3n950LS9pe4gc09DI8hWrqejdm26d1j9GhbeiKIqyUfFAxjku/cPV3Hn7vXifOB4zMiJNWBoK8i6jTcyozUdQUdGbSROn0tLSwhZbbMaxx36PRx99ktdeewNrPZuPGkmP7j2YOOktMllxMJZ31kbB6DpgZF3sXcbvzKUX/4Z+fXpsUGwn1yCIMufDEHUbwZaM0iciWYR+cpxc24fjZAQ9OSePD/co0JcYk19uLY5jbPAMn7j5siTzzsXJmxxbUHeHsCfCOxm1TUbx5Zhwv3Ca9xJ272Ocl3njUfB9JmJajnXOyxrfRhy7yfJhMv4rx8gFQxdF7vldeEZjIGrrsD0gTtyQ5cUSzZ2LZ1k5zeDDaL8448sd7w3eQDZ538kovAGTxIdtf5zae7FQSO7jQtxTcG9FURRFIdRrG0N4t98CURRFUZTPQMoYDj5gH3pX9AC8OAQLI6zeIAIOgnC0eAfvvfces2bNorS0DIARI4ez517jGTd+LGApLi6ltraO115/nZaWTE50Oi9O0DCyLrRUbSIDy0pT7L3XLlRU9MS0mmOeF6RtMcFc2wZXZHI1l5//m5zrPNZYjE/uG8azfSKX2zp9E5JruFhM1I3JC+dEyIvzMVGuydgwXpzVWQORNTmP3x4ZCc6PIdtgOp+IWh/eQVgdzMhob76zwWCNI7Li0dvgwDusiTEmSxSJozn5zWO9/BXxn+9ccF7uEbRxCGf+8/rIdSRs4W8uvsNWEOacSHZ5iwnv8/eILGFUXRykGeNwcbag+6KQkP6M3FXWeJf10RVFURSlI1DhrSiKomxUDOB8zJittuDIw79CUSoKo7B5MdhqGNKDJUXfvv256k+XccUfLqEoXURjQx21NbU01NVhfMxZZ57G3/7vKrbdenuMjXCxXCgZHZYRWbleZAzGO7bYfDhHHn4IqSiEq8ADei4sBfv5Ncc9hizeZ2SEPhGuxou1fKIEvQjAZPDZGBllzV+6fSFnjCeyYp4tIrF1h4AJjtaM8SJEwz0LR+ytEbFvEgWaC78srybXyQvWOCyYnQhmH6wFcmH0Mi/cSM9IfvmusPk46UuQudlJmJ2Lw7UkGDlh7J10QnjXjud5QW6fF/wWuYmIYBcEf+I5XzoKpBOH3O/y1mMgi0U6CQwuWCUk8SrCvpB8VMr3G7KGUBRFUZSNgdYyiqIoykYnMobSkmKOOfpIttlmCyIbRJIhDDMm45ry2WApLSqje7duDOjXB4PnnRnvcN1fbuCJxx8H7+lT0YOunTvTrUt30VmIcBRBKaPOIog9zrfQtVs5P/3Jj+nWtTyYYOfN0gkCty3Jd0FHB2EYyyhwEIDJP4wM64qkCybYJnQABDPuDeJllNeG/WSku7UA9+G+4d4hvhIR610Il49z54l4NDLxq6BjASCKEpGdf/4kTgw2iOpgMu6QJkKy9JaPsCaFIYXJ2QEI+Y6P0FFQYN5tvIxARxsY9s7fX9Zaly+dmKaHcyWukjdSmG6SOPBERhYgw5P/u56Qbh0fPrcUnryLtvGlKIqiKBuTtrWSoiiKonx2vMEaw9AhAznppB+RToXRXR8m/jqDj0VIJabS+EwQ5g5jYrp27cROO2/DgP59sTbG48Kc5SBKbTDNTtZ8BvBZrIkpSsM3v34UO++0Y14EBmHbelmz1uS+D0LPEIljOJPKyXFjLaZQ1BmCGTs5kRxF0XpCuj2Sudjri0Rai8yCkWsJf+GcZBPEY+7Q4CG9/XsXhkv+ir24jYJXdWOwSfjDs+YcfYfNBPNskLhs714iqJPv2xO14d5hs0YEvcyVT86T+7S9ftLBYG2B11hvMCaStGfzkwTy1yK8HxfiT0a9xcy94N0riqIoSgfQXk2vKIqiKJ8JMX8GvGePXXfi178+i66dSxEXXohQNjaMDEMcZ2lobGHeBwtYsnQF2djRs6IXm28xiv4DB+KIWLxkGUuWLmNtVaUMwoY5ztYYmS/tRbAXp+EbXz+S44/7LsVFRTJiugFhlYjGtpuoy4IJzKbgc/7kIIh9EHOFV/5w5JJyn7b3zoehIHytjkuu0fq73DXb/f2jtkSjevE6b2SedG5OfjtbEvYNPkMimlsJ30LaniPH5v/mN9o8T9vPSXqSexWGqfUIeXu0DsOHH6soiqIonxb1aq4oiqJsdLwTL+Oivw31DQ3cc+9D3HTT7aytrMXYKPc7Rna8c/Tt25eidCmLFi8glYYhQway4IMluDiid5+elJeXsnjREjJxnLuX8WIybW1MOg1HHXkYp/7sZHr17CYm5rHDiuetVmH8JLQ3XiuIqTIiFdv+2MEUzpvO1+OfjuQ51v92Q3X6Z7lbuxTe/tNcPDl/g+e2fcb2n0tRFEVRCvHq1VxRFEX53BIGiEGWwepUXso3jjmCX5x1KukIrHU5p2U+OCiLvWf5ylUsXroMhyETO+Z/sIhM7HAGVq5ew7wPFpD1DhfmUBsD1nqsaaGsNMV3v/0Nzjj9FHr17JbzvI1dX1BuXDao9DqY/OjuZ6fwWoXbJtRM+FjR8LEOUhRFUZSNziZUoyqKoiibEonzKjEFhi6dyjny8IP505UXM2qzoZSVF+FcBmMMcTZLKpXC4HEuIx67vcVlIUpFWCPescHj4hhrUrhYPGpbG7PFFsO5+MLzOP3Uk+jRrWuo3ERkyTjnpxHfyQipF0dfYn3dZhMv4EZsrz8leYdtOcdt643OynGtaSuSE9o79yPwtLEll++Cm7Z2tlYnrrd91JO0xZOYtYet1Rltr1l45YLzifFGlmHLH1NI23hSFEVRlP8eKrwVRVGUDkCcfVkrTs+8E7GWTkcceNC+XHvdlZzw42PZcsvNwhrSFh+L8zVZL9tjvSGyaXzGYcKyVMYja2cDUWQZNKAfXz/mCK6+6goOPeQAyktLgmA04sgN0VptJdhHs76Y7Dja3mdD92vvu/bY0Pkfl7bh2ND2cY79uLQ9r+25bX/7OMdsCKvNH0VRFOW/js7xVhRFUTY6bZdmKpz/7LwDY8lmHe/NncvEiVP5z5PP8dZbb4szLE9+rWZjACcj4MmST94zdPhgvvqVgxg3dke23HIzOpWVhbWg5T6JkyxPqOLahOGjaSPcPB89WvoRP2+Y9sdm2+5JID7OTZKrfZxjA60CkI+zD8e0PTFH/tv2n6Qt68dA4fuS39oeEd50+M2HOe+mzT0/7K6KoiiK8tH4jTTHW4W3oiiK8l8jWYM6EcbOOZzzNDQ1sa62nlkz5zJr1mwWL15MXV0dq1auwvmYvn37MnLESEZtMYqtthpJ717dKSsrJRVFEEzZc2btn8GJmrIp8yk6HBRFURTlI1DhrSiKomxyJMKbIJSttTIXPHg/lzpHvJS3GrkMay17qbjEdL3NslLJKLsKb0VRFEVRNhYbS3irQlYURVH+a1jpqYUgkJ0L3snxWLJYPLiwJnfiyMu70D0s++CxNi+6aSPoFUVRFEVRPm+o8FYURVH+axQK5GSk2jkR1nhTMJIt63oTzMdFb8ta2UFy5+dxt5lPriiKoiiK8nlDhbeiKIryX6PQPDz5K6PgEcakMCYKjtUM1kYYZD8/JcoAtpU5eSLgC6+rKIqiKIryeUKFt6IoivJfpa04bvsZyJmSY5BlyXKHqPM0RVEURVE2PVR4K4qiKP81ktHpwk2+97kN8vu579r8Lse0fy1FURRFUZTPGyq8FUVRlM8BeUH98TZFURRFUZRNBxXeiqIoyucA22Ye94dtybGKoiiKoiibBiq8FUVRlP89HsJi3h+xFRyjKIqiKIqyiaDCW1EURfmcsJ7K3sCmKIqiKIqyaaHCW1EURfn8YIIb8w1tiqIoiqIomyAqvBVFUZT/PSaI7vXmc7fZjMl/VBRFURRF2URQ4a0oiqIoiqIoiqIoHYgKb0VRFEVRFEVRFEXpQFR4K4qiKIqiKIqiKEoHosJbURRFURRFURRFUToQFd6KoiiKoiiKoiiK0oGo8FYURVEURVEURVGUDkSFt6IoiqIoiqIoiqJ0ICq8FUVRFEVRFEVRFKUDUeGtKIqiKIqiKIqiKB2ICm9FURRFURRFURRF6UBUeCuKoiiKoiiKoihKB6LCW1EURVEURVEURVE6EBXeiqIoiqIoiqIoitKBqPBWFEVRFEVRFEVRlA5EhbeiKIqiKIqiKIqidCAqvBVFURRFURRFURSlA1HhrSiKoiiKoiiKoigdiApvRVEURVEURVEURelAVHgriqIoiqIoiqIoSgeiwltRFEVRFEVRFEVROhAV3oqiKIqiKIqiKIrSgajwVhRFURRFURRFUZQORIW3oiiKoiiKoiiKonxCvPd478GHzwX/b4sKb0VRFEVRFEVRFEX5TJi2X7RChbeiKIqiKIqiKIqifEKMMRiTCO78yHd7qPBWFEVRFEVRFEVRlE9IztT8Y6DCW1EURVEURVEURVE+E+ZDrc1VeCuKoiiKoiiKoijKZ8AYMT3fECq8FUVRFEVRFEVRFOUzosJbURRFURRFURRFUTYiOedqYbRbhbeiKIqiKIqiKIqi/I9Q4a0oiqIoiqIoiqIoHYgKb0VRFEVRFEVRFEXpQFR4K4qiKIqiKIqiKMpH8fGW7G4XFd6KoiiKoiiKoiiK8iEYDBbwHya+P+Q3Fd6KoiiKoiiKoiiKsgGMtVhrP9RruQnbhlDhrSiKoiiKoiiKoigdiApvRVEURVEURVEURelAVHgriqIoiqIoiqIoSgeiwltRFEVRFEVRFEVROhAV3oqiKIqiKIqiKIrSgajwVhRFURRFURRFUZQORIW3oiiKoiiKoiiKonQgKrwVRVEURVEURVEUpQNR4a0oiqIoiqIoiqIoHYgKb0VRFEVRFEVRFEXpQFR4K4qiKIqiKIqiKEoHosJbURRFURRFURRFUToQFd6KoiiKoiiKoiiK0oGo8FYURVEURVEURVGUDkSFt6IoiqIoiqIoiqJ0ICq8FUVRFEVRFEVRFKUDUeGtKIqiKIqiKIqiKB2ICm9FURRFURRFURRF6UBUeCuKoiiKoiiKoihKB6LCW1EURVEURVEURVE6EBXeiqIoiqIoiqIoitKBqPBWFEVRFEVRFEVRlA5EhbeiKIqiKIqiKIqidCAqvBVFURRFURRFURSlA1HhrSiKoiiKoiiKoigdiApvRVEURVEURVEURelAVHgriqIoiqIoiqIoSgeiwltRFEVRFEVRFEVROhAV3oqiKIqiKIqiKIrSgajwVhRFURRFURRFUZQORIW3oiiKoiiKoiiKonQgKrwVRVEURVEURVEUpQNR4a0oiqIoiqIoiqIoHYgKb0VRFEVRFEVRFEXpQFR4K4qiKIqiKIqiKEoHosJbURRFURRFURRFUToQFd6KoiiKoiiKoiiK0oGo8FYURVEURVEURVGUDkSFt6IoiqIoiqIoiqJ0ICq8FUVRFEVRFEVRFKUDUeGtKIqiKIqiKIqiKB2ICm9FURRFURRFURRF6UBUeCuKoiiKoiiKoihKB6LCW1EURVEURVEURVE6EBXeiqIoiqIoiqIoitKBqPBWvlj4tl8oiqJ8ydhEykG/6QRV2WgUvvH2UkDyXdvvFUVRNn1UeCtfDArr6lBf5z76sLWtzgu+8N63s+XP/WR8ERoNhc+wXsyt99nj1zsi91urOHVJhLeOd/LH5H9LdpN/4fqFwfGy470LW+F1klvldlqdm4RH7t82nAXXaHVDBYnxVv9axavGVscQMkSr9FkYy5KIc3kCfPjY9pz1yeWudl5c4fts+25zt2vnc5ugrB/U5Jh2D2lzgrKJkH9vSZlNq7QgZW7+3RaU2+EccPktJJD108d/g9b1Tut7t//tBgmHJs9Z+F3u+5BZknonn5cK86/EVVs+YWgURfkfosJb+UJT2LDLf+dxzuFDvd4eSSUXPrVb2W2YtnfcVGkVawX7yecN/N5uK8CHxpT84LxsScPC+RhPjHMOPBS2zZJLJW+jEO/BuTgnvJOjkwa/8+C8ywfJg3ce75LjYrm/cziXD7CL5Rjn8tfMbcnul5rCOFH+KyRp18c5YSLp3+McJEnVOzmO8FurS2xQfH/Cd9nm0CQcyQ/O5TvBEgWRlLuSx+W4Dd91w78on2cK35vPl9qJls6lWymjE7EpR+cF5ufj/X9UGD7stw0jeSN88OBz+SGpw1yubmydr5JOivbFt6IomwYqvJUvMB6Dx+DwLsa7GLwL38nv4HE+W9AgkEatMV42Ynz8IQq9XUzYlMKGvohYQzYbS5MlRJPH4H2EJ8JYizcUNHo8JjRANhyj4ULG4rwhG3sy2SyNmWaaMs00Z7I0tWRpyeZHVjDS4PFe7i/nG5w3OA9Y+Wzshu/6peOj2qHKfwkbSjaLA7LOkclkaG5ppqmlhaZMCy3ZmEzsJJ2Hd+acw5iPSs8FPV7rkVNPgpey1QRRkE8gyTFShubGDZMy1YRjkrK43bJVy9BNm3z5DaHwNomIlBQjWwQ+khQXkkFSa4eK4H/IR6XBD/vtw5AH9UlPmQmtFG/xyCb1YjjSmFweNsbwkVlYUZTPNcb7OF8qhoxeWVVDZdU6RgwbgDFg2uhzD1RX11BZuY6hQwdgLUHDS5Gpel75b9O26ZZU7dLYlG8g6WEHYyS9eqn3kOZAvkZLRrtz53owNsr9/sUnsXOzYJImQGFDJGlc2xD5Dsz6+T4R3sZ4nDdYY/FAS0uWRUuWsXzFcpyLKS4qYcjQQVT07Ekk7Q55Lx6MNTjvseFFtXpPyeZhTWUlM9+ZzfRp7zD97Xd4b95CYhcTRTCg/wC23XoM222zNaO3HMGgQQOIIkJKMTQ2ZZg1ezZ1dQ0YAz26dWPY8CGUFpcQpUwo2xKSvS9ZCyjX+qPAiFS+MAWN5ML28pcshjoWH+LdGJzzrFxdxczZs5kyeQYzZ85i3rz5uVw6bPgwRm85iu22Hs3WW4+if//+oZ4uKNNaUSCoW+XzQpJjkt+8DLPnMmsoCsIxvk2e8QUH5MSDDy2GpIPLy7HhFGVTI7ESy5URHkOEd+H94wHHkqUrWLRwKbGL8d6A/Ed5WSmbbzGSzp3KQ4eMJFpvClPWppswxPYqVKnOgbVSrBqoWlfL/PkLqKurwxhLr549GDZ0CMXFRUQ2H594j7X2Q/KpoigdgQcaGptZuXINvSt6UV5WvF5HmAeamppZvmINPXr1oFun0tYHoMJb+YIg1XmSkpN0KI0AaQuENG6S/XwlmE+78ouI8XwjgTAqam0qd78vPhtHeIOY7LsQr9ZEOAdPP/Mct/zzTma/O4eWliydOpUzduyO/OTkHzNm9Oa5kTRplEgjwxofVF2+pPNAcyZm2vS3ueue+3nh+VdobmrGe0sWGzpYgjjwMcUpw+k/O5Ef/eh7YfQtxZo11dxz77+54657qaysBA9DBvfnsMMP5VvfPIbevboVlG2FfNkaPnlxJjGRf/6CdrEK7w7Ee09LNsukSdO574F/8+xzL9GciQFL7BxRFBHHMdYarM+SNo7zzj2Hb3zzmFBPO0Tjtp9X18/nhRSK8+SrkLdalaD5nOKS1kWbzk1r8mboraxKPPmwtRcE5fNN8uKNxwcrCEOE9yZ0wEJLNsvtt9/LtdfeQHNTCy5JN94zcrMhXHHFhYzeclRBmeKD8HZAtMkLb3muMNqNwXvLmrXVXPWX/+PFl19lzZq1RJFl6JBBHHHYoRx/7PdIpSM53niMF8sVsV5pLx8ritIR+I0kvDXXKl8Y1quOfTBXC2LNI6bIsfO0xI7mjKMlE9OcydCSydLcEpPNBvNjLxViIvqMlZHattLrC4unVYwmsjO/tW2crxf70mAK89EMBmMssYf3537AddfdyLS3Z9GcAUeK2voWXnjxNa6//kZqaupaX6+VKao0wJJwOOeZ8fZsrrjyLzz59PPUN2aJSZHFgolCuC3eW7yXMAwZOiSIQ0NLS5bHHn+aW2+9i7WVtTjSeFIsXLKCf/7zTp5+9gUchG6A9aX3l4oQ6YUCS/nv4IOIdcDUqe9w2eV/4smnnqepKQafwnmLMSm8jzBGhA6kMDbNwEGD8n1iPpnykTT8PymS/yQhiKoW89go5DNDNhbz9+ZMTCabpTmbpTmTpSUbk41jmZPug2gwNlwuKHPlC0Jh2ZCvOXP1h7F4m8KRwpPCmzQOC0iZ/flLC0meyeeb3LO0Oi7JH8nWhmDhAcH3iIeWTIY77ryXfz/8H1atXocnTdZFzPtgCTfceAuvvvFmrr5SFGXTR4W38oUgJ4u8wySOSUJFjo3Ixp5lK1by5qRp3HLbffz01HM45NCvM3b8/myz3W6MHbcfhx72Lc4+52LuuvdR3poxk5q6hjD32OZN3nLeRQsdwXwRCZ0VOQdoJnRGhMaGTz4nI1dtzwfwGGNyZnHeyfFvTJjA4qVL8T7C+RT4NN5FxLFh2tvvMO+DhbnLyYh1JE0OL8GS+4vh3co1a/nDlVcx4513yWQM2BTORViTwvic7MbgiIylR/fujB4zhsjKaPjaqiomvDmJdbUNOJ80/Cz4iLq6Rp55+jniOB8HyXBuGKz7EhLeZWhAuhAPopvCvy90vuh42pYtSf5ywLJVlVx08eW8N/cDYmcxtgjnDMaEkUAXyyxR48HH9O/fjy1Hb5VcGWMI+XF9fLtCIk8+XCH/E4lowpJ1njWV1UyYNJ1773+Uc379ew497JvssvtBbLv97uyw094cePBRnPSTn3P7vx5k4pQZrKmsxrkgwghliwGPy6UlZdOlbdec9GFLIS6+NCwuefcEHxvtasvkSu2n2w6lVaYoTP8FPydloOSwD60b8o9nsCYCDCtXreW11yaQyTqMSQPFOBfhvKWhoZnnn3uZlhaxLJHR/v9BPCiKstHQHKx8MfDBBMuLt/KkzRY7WLpsFbf88y7O++1lnPKzX/CHK//Ciy+9wZKlq2lscniKaGzxLFq8kseffIYLL7qU004/hz9f/VcmTp5OJhZTaZmPtoEa9QuGD/Pjk+ZvMtrmErGVO6btmesjXlydDG45aGhokiaIsxgsJooA2c9mMtSsqykwKc83VbxPHNIQGkHw/PMvM3P2u3gT5a0TjMHgiYzDugzGZYl8jPUZhg0dQkWvHrn0kclkaWpqwRgrjZpkJC5sNTV1ZLO5IATkPl82pAsj8RRfkCaCF+0kb0gnyYe0PpVPRTYb89RTzzHvg8V4UtJJFHxU4GIMWazJyl+XxRrPZpuNpFOnUnkVhk/lEbl1R4rkj0RoxMDqtdXcc9+/uej3f+S0M87mgosu47HHnmHR4hXU1bXgfJpMNmLZ8kpeeW0il1z2R047/ZdcePEfeeb5V2jJOmIvosU5GQmMfTaYKiubLnmR2NYcUxJjaH4apGYxfE5tiqQelBSfdDh64mQ1gaRezPlgXe9hW5E3lZf6LZPJ0NTUFOok6ZwGg/EWvKG2tpZsNoMxkjdkGpyiKJsqOsdb+WLgZT0d8Qgqabm5JcsLL73ObbfdyYyZc2hqyYrnawfWWKkljcXFyZwpizGxzKPCY62nX78+HHHYVzjuuO/RubwoCDMxto3jmFQq9TE8BW96eO/Fm7s1NDa18PDDT/D6hAlYG+HxWAwjRw7jR8f9gNKSYkCcoLW5Smi0y/zvOJbRtgcffJRLL/tTMAu3xLEnlTLgsvTt050b/u8attxiBPhYRry9kZESn1wTsIbKqlrO/PmvmTBxKrGLwETgvMxvJWa/fXfnmK8dTqcuZTQ3tjBl6nR69erOd79zNBhp1K+prOHii//Ef558AW+j3D2sd0DMIYfsx5+uvIQoypeQX8T3/XGIszFPPPksTz/9nHSWGAve0bNnd35x1mmUFBflnGR5L/H0ZY2rz0quE8PkG+KLl6/i7F/9jokTpxPZlEydAMCRijwHH3wARx52COXlRdTXNTFp0mSGDh3KkUcdgjU2FIthRq1J6vz8+ykcYW7taFLysDHSkRlZi/Oy/9bbs/jrdTcwbcbbNDZmyGRjUlERznmMsbkRQrlfMh9cRIzB0ad3Lw45aF+OPfY79O3Ti9h50pF0ckY2CqOCyiZDkoQK3nPyhXxytGQ8t97+ANdeezONzY0FJ8RsPnIwV/zhQsZssXkr+SqGRiFPfISw/Wy41vnCy3fOu9AuEFP42bPncve991Ozro7YOyJrSKcs3/3et9h269Ehj9Eqf0EQ5ibfgWyMZeXqSs4++zwmTppOJoYoVSSrq3iHJcuPj/sep5/xE9JpK/kQneOtKP8L/Eaa4x1dcMHvLmhbATc2NdPY1EyP7l2C8F6/oGtqaqaxsZlu3eSY5PzC/yvKfxcR3d4bVq5eyzXX3ciVf76WJctXk4nFkZaLPVEqhXcxNnQWRZH8BR9GZYO4w1BTU8fUt6YzY/p0hg8bQkVFL4yxRNbmTDaNKZiT9gVK+iYsqdXQ0Mg99z/CU08+y3tzP2De/IXMfX8+kbUcfPD+FJcU4Z0rEN75v4WFkg2Nhd4VvXh3znssXrwEY1zYYkqKI77x9aM59OADsDZxxpM4xMtdMUzbt7w1fQb33v9v6utbRHR7g7WeKDIcdujBXH7J79hss8EMGNCXwUMGMG7cDmy7zehQpskLK0oXU1JaxsxZs6hdV42xTppWJmbIkIGccvIJDBvSP3f8l1VIeiAbOx557Gnuf/Ah5s5bzJz3P2De3PlUVVdzxBGHUV5amnvfSTx9WeNrY2KMweN5c9Jb/PuRJ2lsbMIgotZaSEVw1FGHcfGFv2b4sIEM6NeXoUMGssuuY9lq9Oah41z6103OIzIhnxa+n+Rz63UDTOIIzUQipjFUVtbwz9vv4ZJLr2TevEVkMl4cqZmU+FuTogOQjjBwcq4r7Liy1Nc3MP3tt3n9tTcYPHgogwb2x1gbOkZFmCibECYxwaAgPckcAgN4I6PE02fM5s1JU8nGiTmRHNezR1cOOGAfelf0bF2Vmvz1Wn2/kUk6n1rfpWDagxE/BrNmv88tt9zB9LdnMff9+cydN58PPljArruMZ8Tw4RvudDT5jihpNxjKS0tJpdO8OXEimWwzzmWwxpOKYNDAPpz9izPo2bObRGsYFJBBAgryb9IAKfxOUZSNTSYbU1/fQHl5GUXp1HrCm2CdVlfXQGlZKSVF6bY/a3eZ8kXB5NyeLFy0lKuv+T/+dfcDxIVztD1E1uBiqdiMifE+i/cZDDHWOpyLc41F58BjiWPDxIlTuP76G1izplIawoX13BcYAzQ2tbB2TTXZ2ABpvE8B4tDJYaQxbUMDaz1MzozcGGnOVFT05OdnncZ3vnUM226zJQMHVLDrLjvyk1OO5wff/zaplMUAUdvRrmAJbozBOceSxcuor29MJoZi8HgX07lTKUcc/hVKSqNglhfWZg+dK/lwQSoVsftuO3PWGT9hv/32YPiQAQwfPoivfvVgzvnlmey049a5ThkZDWnvGb8cxN6xZNkqvCnCEYFJiYk/lihK5dp7n9SUWflwvPdkM1mWLFlGXV1dbtQsWQ+7oncPvnrYwWI1YhKz2Lz+McGTeWSS0Ws+5nQJSe/JiLsP0wvWravjhhtv5e83/oOadfXETr5PMmh+Lm8sFkS+BWMy4EO5WxA+MS+3vD/3A/70p6tZ+MEiccRYqN+UTYiknCyknbTmg112mFIk/xcMn6NiNgQs1wFsIPaeyqp1NDQ0SR1o0+IkzgSrq0+KgYMO3Jczz/gJ++6zG0MH92WrLUdy5BGHct65v2TosEFERuJMasZw0nrN989LpCmK8mG0zbmKskkSmnJUr6vln7fdyeNPPk3sxIO5k65ifDARN4DxWUpKIrbacgT77bM72+8whm7dOhFFjigSM/IoisLIEqTSRQwePJiSkpLW920rMvwXrP4zhmwcU1vXiCfCeYPH4kIjw5AfkW7v0b2XueJJg8wYme89cuRQzjjjFP5w6YVcf80f+f3F53Hcsd+jd0X3gislV0vOzTt7y2ZiVqxYRZyNc98bA9Z6+vftQ7/+ffCJiSAOT5wXIqGx552Yu6ZTEQfuvycX/PaXXHP15fzlqsv4za/PZO+9dqMkmNEXhmP9huWXA+ehtq6BOJZOqWT0U3JVvipJ3oey8chms6xevTqk/zDtwoDzWQYM6EefPj0LrA3ELNZ7B146EsHjXPZDHKu1TdOFeS9MGwCam5q5654Huf/+h2hqygCWVKoIgm8Fj5ikG+9IR7DZiMHstdcu7DJ+RyoqupFKmQLhbXHeQxThTYq+/QbQq1cPEd2tRsaVTYm2pfeGyL/dXK0s6ajVUYX89zo+NxR+6S/w1NU10pyJ8aEDUkb0g0f2DT9AyEuhHgllpAHSRZajjz6c888/h2uuuZI/X3kxvzz7NHbddSw2OK4UXLvN9o8b54qi/O9ZPwcryucI8XAbB2OvglmIPnHe5HHBw3VLnOXGm2/jnvsforEpiwueQ633WBwRjl49u/C1ww/mrjv+wcQ3nuffD97OX6//A3fdeQOvvfIfnnzi3/z4+O8zfNgAcDJKU5xOcfhXD+Hkk39E166dg6mYBMPaMI+xoOrzyShR7quCajH5kw9+/kMrb8b5/fUr1Tb3KbwoXhrbwYlSIlTlJ/nNE+OSVVaTqdOtghnnRomdj6mtbaC6eh0YK8uq+dAAMQaHzIn3OY92rcNfGEdJmEUgGzqVlzB06AC22GIE/ftUUFQUgYnza6ib/LPmhLIJU4vxtLS04JyMQESRxcUxOEM6bSkpFgNbE4bODDbcXZ5c5vADJksUSXgqKrqz2chhjBw5jO7dusrvwZlN4tBG4issLVfwHvNxXfAOfVzgzCp5l0lsy2O1fjdJGii8ZnvXdzIHkBDvufOSuJJ3lwsH8pLbhi9/fC44SaoK4Sx8FmhqjFm5ciVRKsLYSObxYsB7EXshPDIfOGl9Js8QrpX8C9fMb+FBE69tBUFrHdbCSItDWk++a3O9Vk+Su9zHpjCs64c3H2Z5F63jXI5vs7W5Xj50be5b8KyJmXfsHC3NzbQ0N4epMeKnwhhDuihFOgrr/AYB7X1i4i15BgjLjK1/v0IMYbC64PmSDpbmTJYHHnqcf/zzdhoaWyDkg0xLcxASWbp3LeOAfXflr9ddyZRJL/LoI3dxw//9mX/cfD0vv/gEL7/4BD8/8xQ2Gz6QyMRExpE2nl3Hj+W8c8+ha5cuAHgr6WpDb67dNFEYtwW/tf284eM/jNZpTMo7ee+5PFjgZND7OGyt75GEI7fv88+SBKHt8e1dR/r/Wh/T9rqto63tfX0Ifxbvs62iRrZwzYKOm7ZhaHUt78OxBfcrCINMD0q+ynfyJHI7txccim2QgvjKhYs4107I3TQXt63jMwmnHJsvn33oWEyWnczHUf6vCVYmzsWsXLGSTCabC7cLFl25Bw7xJfGYhFXSiXfJHG050xiHxZNOQ9/ePdhi8xEMGzaE7l07kQ6mrD5MK4Ew+h7iolUkJ04PfZtyKxcnhWXlBrbc9ULcFr7rNneTD22Oy+2H+A2blNUen5TtIf0m9211Hy93aBV+H85TlC8AKryVzye5Ej7ZyVfW+QJZGvniNRsmT57Og/9+lGxscl5/8R7jPSkTs93Wozj3V6dz0QW/Yoftt6S0KEIMZSECUtYwdFAfzjztZC783Tnsvdc4Sopgxx224oQff5+KXj2wxhPavW1GZETQ5RoVXhph5CojCauEPal4xDuqnOOCmg2jVGGktn3Wv578zYvfxGQ+d0YYeXaJGETmZCZ3yIUpt85vcDBnPE1N9TQ21geBHZzPWfA+zmljGRGTsc98BSpipDUyIpZ7tz4OI2AmzLmXxo2xEnaZyxZG1sMpyTOGI8LzOjF39lF4m3Ivef/yhpOGUbJcUaIwkoreeC/mscn7yCdCIHG+ly8yw2m5v3KsnOt9LKPt4X16J795HzqKknZOaICEpp/csY3n6fx9knCFa3qHi7P5NNWqsyV5Tskb4rcgpJGkQR2ukb9PErZ8vkrCDNDc0kxjY50IAecKxqbk+Ny7zYW5IH0GU/UkrbeKsuRDEiG5B05+yr+zQk/7yTNKHCeXSN5n4YU/HXKf/P2c8zkLWXJtwRBfuX8hPlsFQY6JYxFQSUmRy/dtyJcrSR6XfGYQx2by3BImQvklPvnlhiIQxNeFtSnJP2GTz+tX+yYYsUq6LIy3cFVvmDtvIffc9wDV1XU4rKzFbSKMNRgTM2xIP846/ST+cNlvOWC/XSktThEhJu6RgZSBih6dOf7Yb3PlHy7ga4cdROeyFKM2G8LJJ/6QPr27Jw9T8PY29A59Lq0kqyZIuPP5Nh9L4XPuWIl7F1apSJ63cH998qGR+MjntSSBe5mbFMR36/IjH7YkXyWXTc6VDqfk/vl07nC5NBiuK3b94XRJH54Y52RrP8oK40Fu61yBMCqIg1x8JoK2MI7C5pCyQtJo63I+SauFtWNCLmgm97/Cb9v5VIhtddWknJJnCsKuVRmYe6yCzyFNhLJInlPiN4kbOTApJ3079/TU1K4riBfJcx6xNEnes0/KpeS+3ktOtSl5FtP6keSP1KFJOpZ6Qzr65XyT+5cnb8knb0bqnnwJkZSbsuWuHcovsQrLBTQfr23qhiQu84RzQoqQexc+v6Rf78XyLElbrV5wQRmanJP3sROuVRAORfkisH4NrCifK9qrvgO5nmDLqtVrufueB1hbWSNzT73IOBkh9YwevQXnnns2Bx64DyVFKRI/YIWNhGRLRTB+5x349Tln8YMffIczzvgZgwcPzJlIFpI0SJLGcvK5daWaVOviGMyBrFcafpf+btlAhGbyY+56hRTOizP5hnEyH915uYYPx+VEuBFpLOP/cl5Bp3MuPNJoR9bp9RHr1tVSX9+AD6NfgoTVk6zpbImdJXbiVUnaC4UNpSTM4lXeA8ZaMFGwRRAzdlliZv137gkN23A/ZyzeWJyT9++9J/Yx3ibNCoPzEYR1hpP7e5KRvxCPhc/vbTAXDK1/ZPQjN1SzHtJgsLawYSIv1hh5NlnrOG+iH4f1r3NbCJrEocmNXOUbL3kT+eQ5nfPJsD/GpqTZZQyxk/cRh2fIb0mSKVwzN5hFhtGlOE7EnbyjkBBkbXMjXqxra+upqamVVQGiKBcuQqeEpAc5Xl5hcj9ZascamxcNPt8slM/yJ/aW2MgUkRgQIwZL7IPQC9eMnZd4xcg60MZIvOTyizzNZyJEnHcyShVerbyv0ISVuEwRxxFZb3Hk80DWmRAuG/KkyGNrZJPQtZuwAOTZfMgjichtO4fUG7zL5zfvxfdCkr4+GyGteEPsHPfe9yDvz52PN2HlCA8EL8vDhw7mFz8/naOPOozOncpysV+4Jak+FRlGb7E5v/j5zzjxhOM4+eQfs/32o0mlpGyREcF8GNqSLxND+ArKIoeUC7GX8iiffuX3fGjaK2fkuu2WuW3jsyBvS3oP1zWAMRgTlnuTMc2wXnU+jzgnx+euacAlo+eImX2Sbhwpsk7SljeWZOgzDp1A0jEpzrYkGO2FP8zRL+wwMykJP1E+vYTXKkelZJ12n5TxIT2HOkTWX0/iVVanaJ9E2H0Ubd9H+8hocb5uzAvRUG+Geo9w5zjUFyBWWqGbXcr7pDPVA146mpN7gOSr2IVykBTYFHHsWL5ipdzZhtgynjh0engM2VjKaGckTUgcFVIoJpO0YMGkpFOL/OosbaPuw2Iy9+Re4sWFsEs5LHVh4fWlzgjf+aQcyftzIOQHI8q/dd4wiVWalFNJPSv3kzaY8cG/i5dyy9p82RSH8pGQlpyRMOTqjKT98mEPrCibILqcmPL5JCn0cz3IFFSqMofQG4/3hkzs+fcjT3LFlddQU9tA7ESQ4GKMcQwa2Jtrrr6SLbccHmSIeNhuDy/1bxCeeaSxLMIvySuESimcFb7J/+6cePJtyWRZvnIlS5YsZ8rUabw/dy7z5y+ktLSEAQMHMGqLUWw9eisG9OvLgP59SUcpbIQ0aoNJWv7qiViU3mvnoaU5ZtGiZTS3NOGNx2LweAYP6E+Xrp1CI8KSdZ4Vq1YxfcYsJk6axMx3ZlNcVMKwIYPYZfzOHHzQvhhjqa2tZ13NOmLnaWhs4uVXJ3H99bfQ3NKMJ7QHvGHM6C355dk/oby8SO6Yezeezp3LGTigf1hurSCuDMSx54P5i2hsaipsI2EcdO/RjUED+0o54pFGbegJb2rMsLaymuZshqp1Ndzxrwd56skXaGkJo/BGRo4232woZ515Er0regIQx4Z02jCgbx+6dessprNhTrgnpqq6kaXLVuLjLMaAQ+IwiiwDBw6ga+dOoSUjbyFpROVHI8LngiSQiPB162pYsmwFq1evYdq0d5g3bz5Lly4BPCNHjmDosGFsv922DB7cjz4VFaRTVswZfRZrUuGC65e/ub8eamobWblyBatWrWPO+/N4991ZrK1cy+JFi+jZqxe9KyrYdtttGbX5CAYN6kf/Af1JJ2bIIdy57ODz4a+ta6B6XTXZ2NHU1My7cxbw2wsuoyWTIU6sSo2jX58KLr3kt3TtXJprsuOkwVlSXMSQIQNJB8+e1oRRFZLGs6TlpEHmPFTX1LB48XLen7eAaVNnMH/+QirXVjJw0AAGDOzPTjtsx5Ah/Rk0sD9du3bGGpMTayYkUBMavLl4SoJbsP9R5ERKOMk5h7EyMuyQdLxmTSVLl61g7ryFvDNzJosWLWLlipUMHjyEYcOGsd12WzN4QB8GDuwv6SiII+cc1powhaG1mI5jcQve1NTM2soqsnGW1aurueP2+3n6uZeInZM3ZzzGObbZdjSnnPhDKip6BGsNQyqy9O/fT1YdaXX1DZMXMoRY89Io9zBx8jROPf1s1tU0SMPaGWxkMcZR0as7F/721+y113hSRpyrtXfPwka7lK8G5xPrGS9lsnehbA6N/Vzab3NuEAOxM8TeU1VVxeLFS/lgwVJmTH+bDz6Yz7p1NfSuqGD4iGFsu+02DBzQmyFDhtClS7mUpEakQv76ck3v2/NI7Yhjz8pVa1izpoo4rOJggU6dyhk0eACRjcI8+hT19Y28N/cD3pk5h7dnvMOc9+aQjlIMHDSQnXbcju2324YhQwZSVlpCFBlcYj1kDCA+FFavrmTBwmVMnDiVt9+ZydLlS+nbpzfDhw9l5512YLPNhjGwfz/SqVR+ek4Y3YxsKDsKniMZeVy5opLVa6okDq3DAOWdpLxOp1K4kP+rqmr54IMFzJk9l7ffnsmsd2dTUlLKkCGD2WmnHdhss+EMHdyfHt27tZnWEAoRkorLBYEFDkcmE3PbbQ9w7XW30NjcHEIn5fxmIwZz5R9+x+gtN2uVhkLVEgrWwhydIJ1x1lrWrq1m0dJlzJ+3iEmTp7Jw4ULWrVvHgAEDGTp0CFuP2YqhQ/sxZPBgOpeX5cIuVwlCOSyf55whm41Zs7aSpuYMLXGG6qoaLvvDNcya9Z7EeCg/i9IpTj/tJMaP3VaulVzWG2zK0L9fX7p36yIWXRQ+hqWqeh0fLF4qXQiSEMB7ImPYbLNhpItCPeq9dL75UHaEZTElvmXVAO8cJpK2UnMmy/IVK1m5ai1vvzOLd2bOYunSZTQ3NTN4yBBGDh/OmDGjGDy4P/379aO8tFgCXhDP0gmUL6PzRWt4AG/JOsf8DxZKne6lLRAZQ5/ePenRvTupVCpYzEm9smTpMt6dM5eJEyczb/4CGhubGTJkKJuPGsH2W49h1Kih9OrVUzoqrdy0MD0oyv8Cv5GWE1PhrXzOScaWaCW8JRU6wLK2spqLL7mKJ596kWzsMVFKKmHj6FRWxCknH88Pf/B10pEVRyVhTnB7SKXhxUNpMKF2zhFFJqTtfF4JZ4RRClr9luSExYuX89jjT/DiS68za/YcWrIyn87hMFbmXBobkTKWLUZtxn777MUxR32Vvn16yjMWzO0S5IOEMwZjmT9/Mef/9g/MmzdPrhtaAhf+7jccdPBe4B2NjRleeHki9973EBMmTgqjxxHGGwxZttt2S265+a9ENuKuux7kySefpTnOsrayiup1tTQ2ZqRZkjSgnCOdjigvKwqjBFKMeA/Ww7jxO3Leb35B7169IFTWHo83nvq6Zk477ZfMnDVXKmOkgwLv+OqhB/Pb888KAi55XkfsHG9Oms7NN9/B2rXVrFqzmup1dbS0xKG3XRpK3nvSKUtZaWku3qLI0rm8jDPO+AmHHLR3zlzXGIPD89zzr/HHP15LVWW1NF6CF+hOncu58MLz2H2XHcPbDM8Y3kQyV0+uJaPoPiSR2tp6JkycwnPPvcIbb05k1arVGB+JWLeJCZ6EoaioiG222Zp999mNIw//Cj17dC5Ia4nIiMS0MzTMYwfr1tXwyquvM2XydCZOmsqiJcvIZkURS3RKeCXlOorTabbeekuO+frX2Huv3ejWuRORDaM9QTAbZFQok8ny+BNPc98D/6a+sYXqqlqq19VS39AYnj9phIlQ6lRWSsrKfeRXCxiGDxvE5Zf9joED+xNFQVkjj+a8iE+QEevmbMxzz7/Ec8+/xOuvT2bN6qpQ9yTvV7zWp1NpunXrym67juOwww5k/LidKUpbaRwaybPrC6dPQRB4LnSAee/CaKOhcl0tzzz1PC+++DoTJ0+ltqYeE1mci7FRWA8+CLtePbuz227jOfTgAxi38/bBYZ+kJxmIW79+jWPPa69P4uZ/3EpNbT0rV1RRW1tPU0s2lInyzwDpVERpcYms8+vER0KXLp0555ens/9+e37sBmsijEW8h++wNDS2cO31f+fW2++mJetzyzIa44ms5/vf+yZnnnGyrONObkB2PZLr5/YTs6Pc1z6XDqXMTSx/kt/kQBmBlUKlsqqGl155g2efe5nXXn2dxqZmeW+53GOkfDKeLp3L2W//fdhn7z0ZP34nyspLsS4pX6UcT9LNepYFOBoamvn7zbdx770P0dwSAxEWz05jt+X3vz+fbl07E8eOuXMX8PDDT/LwI/+hsqpSLDFC3pJlErP0qejFwYccwA9/8C369+uD91lJYxiyMbz04qs8cP8jTJz0FnUNTZJfIHSpxkSRYfSWW/K9b3+D/ffdk85dypNxwhD+pC7Kv33vHU3NLdx087+4++6Haclkwn1jdtxpO357/q+oqOhFXUMjr78xhReee5lnn3uBxvqGYHGB1L/B70WnzuXstts4vv2to9hxh+1IRRHWShiFAgGXs7bytGRibrvtfq697uZPIbwLR8/zCc1jqK1r5M2Jk3n8iWd4/Y0JVK+rQ4rApDQNZTvQo0dX9t9nLw45aF/G7rw9RemU5O/w/pM6yTnPnDkfcO11N7Jq9RpqG+pZW1lFbV2jdJB5g7URcSw+FcrKikilEo8iyIiv8XTp0onTTj+FQw/ehygKb8XLM3jgif88ywUXXZYftQ+hLitJcettf2fgoL6YUF94LyV1Xnj7cI7FxUlZZVi6fCUPPfwfXnn1DWbOnk0mG6Y8Jcv6EUn5bT1Dhwxm993Gc+ihBzBm9JZh1ZcQc95L6g3Tv9qKYO8ttXWNnHbmOcyaOUd8fxhDFEV8/7tf50fHfYfi4mKch1nvvsd9DzzMSy+/ytLlK/DeEtmIOJYOB2NiilOW3XffhW996+uMG7s9xUVpSckftyBTlA7CbyThret4K5sABRV5m7Tlsbz77nxuvf1uauqaghmfDyPGWbbbbjTHH/sdevXslmsUyJzED0+jVhJ+K9O8fDpPzhXxlEd+80Am65kw8S2uuPJqHnv8WZYsWYVzYbmRYIbsvMHYImIHOMOq1at5660ZLF6yhKFDB9OrV88gJApuUdisCT+sXbuOxx5/lsVLl9PY3ExTU4bm5izbbjuG7bYbDRju/Nf9/OWavzN33gIxg7PBFN2L2ev4XXZi3/32JHaO++77N6++PpmVq9dQW99ANhvMbENl7L3DBmdmzS0ZGQnIxDQ0NtPUnKW5uYWBA/qy91570rlzWWh8SQQaY2hobOGBBx9h4eIVNDa10NSSobGhmUwmy+abj2C/fXdHSh1pLoHMR58y/R3uufchFi9ZQX19A2J5LubhckyWKBIB3JLJ0tws4atvaCKKLLvuOpbNRw2XEdLQqeIxvD93AU89/RKV1bW0tGQlPI3N2Miy3377MHTogBCe1slP4kKeTUbRpQG4ZMkqrvrLX7ntznuY8tY71DU2EzsrS7ElZufGBFPPFNmsZ+nSFUybNoM5c+YwdOgweveukGZqLu6kMeYwNDY18/AjT3LdX2/kgQceZepbM6heV0fsvFh6hLVmScwoExM+D8uXr2DK1Kmsq6llmzFjKCkpkoaVCTooNNqy2Zj/PPkcTz3zPCtWVVJdU0c2k2+YGhP8E4Qtm4lpamqhuSVLU1OGppYWGuub6dq9KwcdtC89e3QJ7e8QgRI8meqAYdWadfz95lu58eZbmTp1BvUNzfgQfm+MOPVzENkUznvqGxp57/25TJ82g1Q6xYgRw0mlZQqJNBg/PH9/XLyTtC5pV+J15qz3+PNV13L3PQ/x3vsf0JLxYRkhS5SKkDwqI8UYS0NjE3PefY/Jk6eydm0lozYfRXl5SUhTBeVJmyC/8eZb3Hvfgyxfvob6hhaycRziP99XboIWaclkaWxokbhvbiFKReyx+3g2Gzms7WU/mhCHSZpbsGgJd/zrXpatWB3SkYgNQ0yfih78/Oen079fLwxi0ZB0KBXigzgyQVQXjpDmYqBgLqe1InzlOvnvQUxQvYcFC5dx8SV/5O57H+TdOfNoycQ502drxeTe2FToEDM0NrUw+905TJk6nfkLF7HTjjtSUpIO+j/Ea7hnbrCh4DGaM1lenzCJNydOpbExS3OLo7G5hU6dOrH/AftQ3qmMNyZM4vI//InnX3iNmtomeWZjcybpPnQe1zU0MnPmTFatWsV2229LWVk5sYeGhmbuufcRrrvub7z9zhxasi4s3RdW2AjP5zCsXrWGGdNnUFJcxhZbboa1qVC2JR0IuZjNPUsmG/PGG1OYMGE6dY3NNLe00NTcQrq4mD322BWH5Y9/vJY7/3UvU6bOoCWbdGyGKUw2mO/biJaWDHPnzWf69BkUF5cyYuRQitKpgnRdGIR8WGLnmT59FhMnviVpOnegrON94AF7b2Adb9rtWHDesHZtDddf/3du+scdzJgxm7qG5jCXGkkLTjq4PQbvLc3NzcycOZtp02ZQlE6x9dZbhbwlnQXGhnRsI2a/O4/b77iXDxYtpaq6hqam5pzVlAQ7dCx4cfgpdWILTc1ZWloy1Dc0EqUtu+4yjlGbDw/tkCT4kgFmvTuXxx5/isbmmKamLE3NUq86n+HoY46kR/duUgZhxFImFy8FbaMgyFtaHC+/MoE/X/1XHv3PMyxespzYiWm35AuT8/kg7gYiqqqqeGfmLKZPn0E2GzNi5HCKitKQ5ARj8vcqEN4eaaA0t8Q89O/H+OCDxTQ1S/ibmzOMHDGcceN3JI7hyWde4Mo/X8PLL09gXW0j3qfFtN4bjJWpS+IfwbBg4SJmznyHzTYfxcCB/XLPmmv95HpiCtOGonQ8uo638iUhX2knezIXVhpgk6dOY9myFcTZYP5nwbuY8vIS9tpzVwYP6id9yDJM8qEltTEmzKWVEVdr2lR0G0D0kQi5ujpZcucXvzyfiZPepqnJYygCk8bFJnTaB/HvHKkwJx1StGQcTz/7Ir/6zUW8NW1maCgkLVepdBItJl6lPd6E+VDGiKC2KbxJUVndQH1DhjvvvJ8//el61q6tIhtGQX1ovNsIopRl5GbDiSJDTBYbWZlD66MgagufU0S4OObJx6dzHhNFYa6vkdGA0JY2IWhJASWCNzySQQRilCLrZbS1dTMbuUewSZfefou1KbGFcCEeDEF0BwdYLrhIC++FJOweIKzTntThoWEOUW7eJFbCKA6EksdsnQry3mll3no2jpkwcQrHHnciDz38OCtXVeNNRDYGrDRIIRE0BQ1xkwKToqExyyuvTOD//u/vLF26Ipi8ivh0Xjofpk2byQ9+eBIXXHgpb7wxhZraxjB3L6Sn4MBGGuAewhzgKEqHjooUVVV1/OvO+7j2uhtobGoOa7BLmpB0LyaBkU1jsLmpG0kaJ8SLMTJnzxgx982l1cTgeT1HYMEhU67RLM82a85czj3vIm6++V+sXFmDc9J5YAx4I87uZLRHxKz3cm1MxIJFy/jjn67hbzfcQmNjU266g7zTgnzjwzDoJ8FLeZLQ2JLl0cee5Re/+A1PPvUCtXXNYR6iYJBhSR/LKJSkR4t3Ec6nWL6ikn/edjc/OfUs3p2zIMRZEu+JF2xx+JWNkXu3mkdrEBsNFwSI5OFkzAvCqgMY4tCh8YkI2cy7xGGlJ5ONmTlrDgsXLyUbQxRJY9zjiCwceMA+jBjSX+4UzF7biu62yJJmQZx5L89iZFnAZEvyinTskOuAct6QzWZ47vmXOenk03n2hVdYV9Mk80WRUTN55eLoKpvN4oM/A7E/SLN0+WoeeeRJfvKTM5k6dSaZTJxIbimb8gmnINQSHplzHeakevBY1lbXsnTpSu65+9+cdeavmPH2uzQ1S/0kb5fwV0SiN2kgRTZjeOqp57n+rzdSVV3D8hWrufiSq7jyT9ewZPmaMBc3lJc+dHQhogkvZfzqNTXc8PdbmDBhWnj2j+pUlvQhHX/J80RUrq3joYef4tjjTubf/36ClSvWhvwsVkqe/JQACU9+Lu8HC5fyxz9fw113/5tM7FplOdkpcKj1SfPgBkiycybreH/eIk497Rfcedf9rFpVhQv1QxwsDVycCZZuksYwRqbK2BQLFi/nij9fyw033UZdY5Nc3JDLWx6xzLBR6MAhmfctjsRMLu2GTqQImR4XOiYdwbqulZPE/PsJqR+8IfZSJibvJ6kbQ6Ga/5vbT8pWSR/eQ31TEzfdcjvn/OZ8Xp0wkabmDN5EMsfdRmFKQ7CWwwVLLekYih28+958/nz1dfzugstYvmKlFNWJKf56HWohj4aQOBemFISIyMaepctXsWjpSv549fWc/7tLmD1nPpnYBP8rUehrMzmHnRhLHEPsI+bOX8jFF1/OosUrwjvJI2Vm6yhRlE0FFd7K55y2JauUtkmhm8k6pk2fgUdEpFR1DmMc3bt1Zccdt6OoKB1GucXpWGK++mGbtSkReMEhkghKaTC2jzT8MlnHk089y/V//TtrKqtzAkRmZYrzFnF/lcW4DBEx1mfC/PFQkXrLu+/P47rr/071urq8aWVAnJMZIhvlxKCYnRFMt6XXeM2aSl55dSK33X4v2ayEkWQuLMj9vKdLl3KGDRuS+15GTHzBUiBybFKnyjvJL1eUbFKZx2BiImukSk5M1sLF5RrJTmjchEaEYT1tGwjnQgiHwbtgUh0uJQ30ZLQtH05pEEl6kDeU/13m2MozhP4C+WslHnPft0GaG0lakC0bZ3n5lQlceskVLFuxCufCaK0XCwtpdMVAC8ZkgAyQDUuuSHzjY/r17cs3vvEN+vbtnRMg3hMaa57ly5ezePESXFYalcmW/C7upRzGZUlZ5HMYSbAmhYsRU2Fveeyxp3jp5TdE5LWK+LBfEJ+Jeam8a4mfJK/lwh8kYLKsj7ES95I2PBhJe4Sge29YvnI1V1z5F157fSIuNuDTRCYNDqx3GJ/FmgyGZgwtRCZ4/A9CxNiIxsYW7rn3AV5++Y3w4pNnCfctCPbHR9JuMi/Re8PLL03gmmv+xsJFyzFeBKgIXXlWa7KSn4NUljQqvigwItayRMyYNYdLrvgzs9+dm+vYyf9fCjZrJR/KEk2hM4RCT8VyvHyW9O2NpCVCWs+Phn06pHzNMH/+Aupq67FhCbnkJXbt2pmddtyWouIijIHI2BDn63edQT6v5gW2dNqYYLWS/z6/nwjvpMxzzvPyKxO45i//x6LFy+S8kPpFAmRDmovFZZRNvpMCxJvENBimz5jFn/58NTNnvRvK15DXTL5sWh/50ifxaz3r1tVwyz/u4rr/u5l1tQ3SierJ5QcpS8O7Cx2LPji0ysTw0kuv85//PMfVf7mBhx99kpaMl5LKJHeKpazwsZjNO8nxPnjorK6p5Z5776euvlFC2F6hBZJek3ye5FcDIM5J/3HLHcybuzBcN4lPF+IvK2EwcehgkXt7b3E+oqa2kVtv+xezZs3F5RxzybtLUrckx7aR+unTqHMwd95CrrjiKma8PSvvsC501EgdlCEyMSaUtYYY4x0mkjnhGEtdUwv/uucBXnplAplsLOkEwruTtCDTuhzgsFFh+gj1bch33oc6JmxyRLJyx4cjHVKI0DV5AY+JkH711nGX5A0kpNQ3NnHfA4/x91tuZV1tI9aGMsokVVroxCQmwmF98k6Tp5CR56aWLE8+/ZyY16+pxpNUqPmO1XYxSBzkOmoMc+bO4+prb+TOu++nobE5Hx5DWNHE5ZZ7zcVR6JjzPsWixUt57LH/0NTUkmvzSXtBUTZdNlRCK8rnFh88mWOgubmFRYuWBDMyL00aY3De0a9/X4YMHpzUjxsPuU3BNaVi8g5mz5rDTTffSlV1rRzqpRGIzxBFWcaN246LLzqXv/3fn7jxhqvC0ju7Y3xL3ukKMqIwafJbPPXU88GRlTR0xEyz8GGSLCzNOWnbyVXmz1/Evfc+zNKlq6SRhAsCweOdiH1LTPduXelT0QtjDNZLxSgN1xh8FmuSeWOF4laOM2TCliUyMdZIg9e5bBBahWEtbJD7fMMv2dpSGM8evI+JrAOfAZP3AEyo5EFGveW7rDS2XDOWGJM0WpHGUyG5W7dqbG9IuOQDm5geO294b84C/vrXm3h//sKcKWbuDBcTGU9JKeyzzzh+/KPvcMpJx3L44QfRt283IitCPIo83/nuNxi78w65UcGkkWENWGPZa89d2X67bfMiBhHsxmTp37cnXzvyEH559mlcftmFnPqzExm307YUpww+zoJ3MqfbifOm+vpGHnvsSSqrqiQWg6ki0tTCGBGA1khjzVjIZjOSvnxiGSLHWhzWxDlxbFwL3jeHdCQWKLkXGeK4vrGJ2++4j4mTphFn5SrJsRZDn4pe/Oi4H3DtX67g73+7iuuvu4LTTj2RPr17ho6AMLJrIqrX1fOvu+5h+YrVOUsGICdN201fHxMPfLBgCTfeeAtLlq7EI56HPcmIbZaiNGwzZgt+8L1v8dNTjufrxxzGwAG9SVlptJsCb9CZ2PDWtHe4/c57qa6ukXmoBvGKHO5o8diCjixPSxDj8nCJMJVOCBkpT1kHviXkwcyneGQDYX5mkr9bmptZvHgxLS1Z6WwqiNvevXsxaNAAUjmrgCApC6wEPpokPxVugqQt+WytWJWsWLmGG278B/MWLM55j5eOH8J8VceYrUZy3LHf4aQTj+MH3/8m/fv2AjJY63FxHEy/5Xoz3p7FdX+9WUaok963JAxJ2dOK8LvxuRH+2ppaXnjhJarWVIMzGC/+RcrLi6jo2YWe3TuRsl463nw252dEpFnEypVV/P2m2/nPk8+F6QkS/1Hk6d6tE716daFLp2Ip+4KIM95jQxdP7C0z3n6buXPnAyFJfihSDnoTxCKAjzAmHVZ28FjviEzMzjttxw++/01OPOlYdhm/HeXlaQwyL1zSo8mZwK9ctYZ/3XUv1etqcx2W7QVFYrfdyP2YiDfuurp67r7nft58czLZ/IpoUjYQ07NHF0456Uf89bo/8/e//Zn/u/4KfnTcd+nTpzsm8S9hDN5blq9cw70PPMSaqnWh9EseIAhCnw35KotzGQii3HuLNalc54+sViB5PrKy7kJkpPyVIn39dL4+8n4K46cgV4QvRKYaDC42ZDKeNydO45+3/4v6pjDKnfQ5uhjvM5SVpth7r1348fHf46QTfshXv7I/Fd07Y2iRNGXkuZ0Tb+hPPf0cDzz4CI1NLeGuSSjaD3/SUQTk6s4lS5fzwguvkMmE0WyXwdoMZWURvSu6UNGjM+Wl6WD5J93Z3kuxZm1ENut4/fWJrF69ttW9CFEZmjqKskmhztWUzzmJSAolrJfRO2kDGubOX8p3vvsjqmsacEGQe++xJuaYow7nd+f/kuIiG8zMJW36cLlPXWbn6sOwPiWAiVi+Yg2XXPJHnn/hlWTcEQN4n2HooIH89KcncMjB+5JOiVfSpCHd3JzhmWdf4k9X/ZVlK9ZIZWkkpNuM2ZLLfn8+m40Ygg0OqSTgoZIyhvfmfsAvfnEBs9+fK6FyBmNSRMbgXEY83LosPXt1Yey4nfjxCcczaGBfosjQWJ+hsrKSfn160qlzKd6LY63Yifllcwv89NSfM3HSW7kRqmQUY+zYHfnzHy+mc6ciCXOI4shCylrS6RR4F8zCk/doWVfTyI9O+BnT33k3V6EbLDjHN75+GBdfdI7Enpfj5W6ebOxozmRxztOSzfJ/N9zGnXfeR0tzLNYOPsY7GDNmK/545fkM6NcHwqiAsYZ0KiIVBe/JYakfDzz51AtcePGfWFu5LsStB2K6de3EFX+4hH32GCuhTN57khRDw6ahsZkzz/wNL73yOt6E5XeQDgprYnr27MFBB+zLT04+nq7dO+VGNrz31Dc0c+utt/PYo0+w0447cP65v6S8vDTfuRFuKaazIgzenDidn5/1Kyqrq+nTpw877LQ93/z60Wy15UjS6RSplMUaQ9Z54jhm2luzufCiy1iwcAlxLPkGa4h8TL++vTjvvF+wz967BWsMD6HjJ5ONyboYh6e5BS697M88/vjTZMN61NLqcQzs34d/3fEPunUtluhJ4sfJutNFReJ1WRqwIj6zseORx57lT1ddz8rVlTkrFIOnrLSIffbejZ+fdSp9+3ULI6kS1855li5bw9VXX8fTz79Mc0ssZvVxTHmnEk495US+//1jKEpLAzhft0mgPn5DTd5f7D3V1XX84Yq/8PgTz9Hc4rFRKqxY4IisY8zozfjVOT9n9FajKIqkQ9DhqW9q4f77H+OOO+9h6dJgBRFJPRnHLXQqTXP6aSdx7A+/TWQkzeElZ3sscdbR4jJ4D3X1TVx7/S08cP/DZMK8WB86PMaNG8tvz/05/Qf0znd0eUNROkU6FX2ick6EfWKhYFm6dBWnn/VrZrz9LpgiyePW412W/fYez+8v+DW9e8vqAcaEaQ5W3mWr6xbk9I+L97KOsbEyStzY1MLlV1zFXXc/BD4VlncCfJYoZdh26y057WcnscP225AuCmasBurrm3jqqRe4+ZZbWbh4Wc5M2gCR8Vgbc9aZP+UH3/8m6XSE5LKCtBOCXNfQxDXX38Jtt99FJnbyjCG6LQbjY4qL02w+agTf+tY32H+/PSgqkg645curuOba/+O5F16hobFZ6ikn05jEIZ6RWDLQrWtn9thtPCeccCyDB/fFGMhmHS+99AZX/+VaFi1eKcseerF4MiamuAhOOuGHnHzicaSi4Akacuk+KbqamjNce93N/PO2e2jOZuQ3bzA+wuCIjKdnj27su98e/PAH32HgoD658iqbdaxctYqb/3knD97/GJmMR8z3CZ2onj4V3Tjv3F+w/357krLSCSEWGOL7wAEt2Sy33XZfgXM1E9LLRztXc3EmZx59/0OPc8klV9LUnM2Fw7kMnTuX8tVDD+HHP/oeA/r3lmUMMWAcmaxnxYq1XHrpn3j+pVflPCu+XIqLIs4/9+d88+jDg4WU3NTFYvmRTA15+ZXJnHHWOWGEPUSuh+LiNJdddgH77D1eOi2RDk4QE/R0FJFOReTWRQgj6w7Lo488w9m//h3eyei23NrRuayI++65g5HDB+QqWCkfQj5F6uMFi5Zw7rmXMGXa22QdQLJkoae0rIjdxo/jnHPOpG/v7qSCY1mX9VTXNPK3G2/i0Uf/Q3VNPZ5QxzuHNY4B/Ss479xfsuce4zEYcTJbWC+Fraa2kR+ffBrTpr2NJz/P33tk2hAxJcUptt9+DD85+QRGb7V5cFgLjU1ZHnzgMf72txuprm2AqAgfBws14+nftyfnn/9L9tl7V6T4DHkvjJ4ryn8Lv5Gcq7WuHRXlc0uuNso1UgDqG+rJZKTBWoj3yPIo6aRxlPQvFY5qfnaMFfP1bBzz6qtvMmnKNLJORkGlbnUMHtiPM888hUMP2Y+iVIQ1EFkRIgYoLkpxwP578Z1vHkV5aTqILplnvXDhYqZPf4c4DnPKDOFZpKGTPHjyaHgrDSXviH0M1hD7LMOHD+acX57BxRf+hi02H0qnsmJKioro2aOczUYOpEuXEhHJxpNOR5SWFFNaXEJZWTHGeCIT5RadNsZgsaSMoaQ4RWlxMaVFJZSXlFBeWkJxqph0OiVmbblSKd8Yz79JMFiMz9n2BZLnyn9pMETWUlZcRHlZCcVFRUSRjPiJIxxpZVsTEVkoLiqirLiIkuJiSktKKC2WAlKuGNJEmzQjFISu8Jh2jwUXe155ZQITJk7OrUWeNIascfTr24uzTj+Fs3/+Uyp6daUoMhRZS9paUjaiW5dyTjnpeP5w+UX85OQfU1ZWGjzOSigkLSSWAzJqPHqrkRz1tUP52hGHcuklv+XSS85np53G0KmshJJ0KkyPgHRkKC5KscMOW3Hc8d+la5cyMHHOZ4H3hrVrq3h3zlwymUxuFIUg+tPpFKUlxZSVFFNeliadsmSyLfI2bAqw8s9AWanEc1mJpKvS4hJKikooKS6SBmwwE5QRJli6fBWPP/E0a9ZW5Rr2kfWk0nDQQXvzq3NOpX+/HqSsQaZIyih4yloGDejNCSd8n622HBniRcR8U2OGCW9OZs3qtfKdD2a+GzB9/nCMmId7w9S3pvPGhIm0ZGRUVHwKiOXI1ltvwe9++yu2324MJUVpokgarpE1dCkv5bvf/hpnnnYKfSp6BIePstxPFKVobGrh3vseYuWqyjBKL/eTf+J7QeKwhNKSItKpxFRYtiQPRcZTWprO5dnS4mLKSos+heimIGfKfnNLC/V19a0Fs/ekUhEVFb0oKyuVsBhTkMfXb1aEXLHhjNQeOesdsWyYPHU6L778GsamMFEaefNy7ZHDB3PB+b9i13E7UVpcRNpailKWokjy2NFf+wq/Oufn9OjeRTrErJitO2/IOnj40Sd4f+4HOJd0EQSx1i6FzyB5zTtHOm058oivcMVlF3Lk4QfRpXNZyAtFDBnSl1NOOZ5ttt6CdFjpy0ZeRuuj/PKGw4b054zTTuLii37NqM2GUFpcTElxMV3KSznk4H044cc/oqy0SMp/K3WCdErGLFq0hPqGxo8cVTWEuE0ew5AzQR4ypD+//tVZ/PqcMxg+bCDFqTQpG5GODKXFEYMH9ucXZ/6M/fbdE2ulnAKpBzGGqup1TJgwmfr6BiD4DEhGXpMAfAasTWGMYdWaSu6+534am1pknW4vcZlKWb76lQM564yTGTSgH5GR+tYasXpKRzBoYAVnnH4yw4cMElXtAGNpasny9DPP09Akvhukj9sSWUtJURFloSwsKU7hsnHBdCPp8LcmpigNZWXFIS+m6VRWRFlpmtKiFOl0246/9mIk/97af3uC5Ec5wmN45pmXeWfmbJyXKWiRlU7MorThgH324tfnnMnggRUUp1NE1pKKLMXFKXpXdObM00/ie985hm5dyjFJZ5eJyDpYvmI1/374cWrqGsTJ5IeFKjxO65QnSx5279aZ737761xx+UWM3WkbaX+kUxQXFdGtSznf/fbXOOqoIygqTuF9NkwDk7Jk3bpaFi9eJtMACq7bfvwpyuef9WtIRdlEcF7WSW7OZPCEOVKha9wYS5cuwZMy5Oe0tTLhSj63/T5frMuWODRav6yXxqqMqjz/wkusq6mTXmMkLEWpNIcf/lX23HM3GekmWacWqT6DSWdxcREH7L8PQwYNwODDXMoUdfUNzJo9h4amxty9yI1Myhf5TCwVlXf5kSvwFJekOP2Mn3LwgftSXloUZhd6RLc6GYeIkdFIZ4msOE/Du+CYxueq02Ttag84lyUSu8kwQh3LvFyTqKz8sevh5X5CUlUXVur58xMswezZy/rsyWxJ6aEXj9c4L2aEEkKMz4a/SFjDaEBh48bk4lBMqAvDVhjC1mlF4riyah2PPf4fGpszMooePABba4mM4ZijjuTQQ/anvKQI62UpG7xMgoyAyENJlGLH7bdlyKABoTc/f0fpLJC4kBEAR3lZCcf+8Ducc/bpjB+7PcVpWWM+yOZcQ9MaiaeidMTYsduz+aiRWAsuCHhvZFR7/gcLaGwWx0LGiBUFiL2f8T681xCPYU6ud1Y6YkL+ci4jJu9hLrvxMdZ6vHj5Co0oE5bRg3feeZe333kH74PDNetwrpmRIwfzve9+g4qKHjnvv96JWashcWLkGDFiGHvvuydRKr80jveWhQsWsXTp8pAupDEu+20bvR+PxsYmXnzxdVavqcS55FpiStqrR1e+862vs8XmI0N6k8hIfArgMxSnIw7Yfw+++tWDxHQ8zNkGMZFfumwlr702QfKtt1gjI4NxsCowLhi1+xjr42AqbUKjXyxnxBwWGSc30nkmwWk3530sTJha0tjYRENDYy6XJB1p1hrKysuIUinJNiG35jva1keOSd5Jks7bIvk2eW8JDQ2NvPzKa6xeUwmk8M5ibYR3jvJOJXzvu99ii1EjcmnWx05MbF0WgyOVMuy261i+duThFBencLGsgBB7DyZi6bIVvDlxCtlMYeM+0LYoMoS0nxcixaUpjj76CE796QkMHdJPpt2QOAaURaKGDx3I7ruNJ5WyYapMvlPIWEv/fn34xVk/46gjD6G8tIjIiF1OFG4eWcMee4xj+PChco7Jq+dsNmb16tU0NNTngtk63BLnUt6Z0F0QPnmPJ6b/gD784hencshB+1BaKuUVYlwWOk5kqk+nTqV89zvH0L9/3+CjIljAAJlMzJz33mPt2up8OBI2nDQ+NlJeGCZMeJMPPlgoHt+Tes97tthic4794ffo3q1TrrxI0pR0ljmMdwwd1J9DDtqf4nRKOhq9mIm///48li1bkbPuyucjBy7M1fZO6hLpCsQY6SwP2V/ybGKinovl8AoK01FSpuc+J0fm2zEfjWHdulqefOoZmptlqVJP0lEJg/v353vfPoZB/SvkPYY6wfsYF6aydCov5eijj2T77bfBRqFlEaYQOAwTJ09m/sJF+aoTcnFa+ECtxESoR42BLp1KOPmk4zjxxz+gT8/uWOfAZcP7kGOKitLsvc+u9OzVHQp8IjjnyGZjVq1eTVYc1YSCvFVEKsomhQpvZRMkcTIUU1tbJ1+FCkEcmVCwpMqG+KiCO6mwC4/b8DkLFy5l8pSp+CAyZFTF069vb444/KuUlZYA0jB1TszTPeIgRpwLQf8BfdhmmzEyVzFYOGazMe+//z61NbU54SBtiVDDtiE3ahUcmKRTcPxx32OffcaHpQ9MgWiXnnqDFYcm3mKC+XtkrXiIJzgy86GSFWUGyJxjFypQ2aQWlQqeULxs6B0kjYyC371U2K3PSBroYZSfgnt4xOwueJ+Os/l3LleWMFlkRMQgjpUKGzWt33Cy107YWhFi0MHcufOYOetdcTzlxQrBIKa42243hu9971tiNWCNxHHiUCpx7OYlssRrdxg5sfl755JwIsC9OHzr2asbXbqWy6iTi4NJpxxvCOnLS+eEx9O7dwVbjt4Sk1vuSnIQGFYsX01TUzOQn7/vSebNxyEM0kgCGbFFdpOgySht+D1JB8ZIWHPp1khaiz0889zzVFXXhAYu0jCOHIccvB9bbjkymEkGjAkvO8yXBorSEbvvsgtlJcUYK8/uvWP16rUsWLBYzOEl0jAEk8d28suGSLLYipWVvPb6BJwzIjIhzN+07Ljjtuyx+3hSkc3lAZLgYrBGrAFKS4r4+jFH0qd3L1klwYivBmNMWMXgBdZWilDx4R1EkUwXMME6wdA6SSZCJ5dOQgPeixeyDabcD0NeX+uIyrTEtDRngrBJ1p5P7i939V5SUxKm5AqtruST/62nPjZAeN/IOuqLFy9h0sSpxFnxKO0Q0RpZz7iddmDvvXbBGILjq4JVGyXRYoDitOGwrx7EyBFDpbjDieNLJ6b8r732JmvWVsnROcGWR6I/L7AK2WqLUXz/u8fQq1c3KVOTNG3COUasBMbuvAPF6VRutNkgHUfg+OY3juaAfXenrKQ4lLeJQ69cTNOlSye22GKLIJpCmpObsK6mlpoa8S2yIeSpkrxPq0TVo3tXRo0aJutM+1jWbU7KlXzCI8IzavMRjNt5B1KRJUqW1vLgMXzwwSKWLFle0FFcGFsf591/GIba2jpeevl16hubg0aVueplpSUcdujBDBrUJ+erIP8WpdNY2gVQXJJmm21G07NH91wMGG+orWlg9rvvy/MYgoPRfOeIxISRvOBcztO8RFJIa6EzPVcOhHOkbmr9/K1TmQmdI0GM+3xdK+Q7q5JznPdMnzGT99+bh5cEDyEMEHPwIQew7TZbSrsjjjEYnM8mlWe4p6d/3wq+fvQRwcJNyn+ZUmNYW7mOp596LnQU5YLQJvBhxyedBiHcLmaffXbnu98+im5dO4VvpfPWhM49EF8iffv2YdDAfvlrGogiS3MmS826Wlmh4GN3SCjK5xcV3srnHOnNziONmKRRk5/LRq6CTCrXpNEgmIJrfZzCO6lV2tQ0SYup8FtvmDXrXerrG8UUNecBNcNOO23HgH4VuTt6Y/BWPNb6MHIkFZEhXVzEoCGDQiMgOFgynlWrVlJTU0ccJ1W8CXPmEhGVVNWJQEkafI4tR43k4AP2Jh2JqJZGgazhmevVD+rIppIGQ/43Y4w4jwnXFUL1aXw4Tsztc+dEyX3CbyGU68VlgjxwaLckTbzQiDBh2NMQWjJJfCXvseA7a3KeYCU+UhiTwlgjjcncSGFy33wN3/qtmg2kE0k/yRhF1sW8P/cDqqvrpJ2cxD0xpSUpDjpgX7p0kg6XJMwmxLXEe/KY4h07J8qNzNHMCTksxkdYUuF8QtM5ETGhgeaTWJYwem+JY0NtQyPLV6wim41lyoAxMrfRyKh3XV0DLc3ZpNcm5CsRkxKmkNa8vB0Jujh0y4tNSVdYCWMiqGULDc8QB/V1zbw7+70wV9PIfT2Ul5ax79775CxCfMjC8n5kZCvn8Rro07sXXbt0EpFiRIg0NjeyaPGSMNJuMD7k+Xyb9RMxZ84cVq+qCsIzL1mKilPsvPMOdOvWOaTbkIKMkTRnkngQcdSvX0+232HbUEbJc/iwWsHixUtZumwFhLILK50eSedMLi/l0nqSPPOiS9q64R2E8sQkx34CkqxGENgyqpvc2+HJIrlL8kfuvhBG8ws7BQoJBd7HJolraex/8MFili9fjfcRFksUOriKS4rYaaft6N6taz6t5eIlyVOS552H/gN6s802Y0SghzxkjHQ6LlywmDVr1ha8y8ItyYs+V0IVivN0ypJKS1mTj3cpZ30SP0D37t0oKSkJciyUmeF1FqcjbCT5RvJ/Umbk32MUWXpX9CAVlqpLMES4WEYIc+kxJ65yf3LxKuVk8nD5ckc2wrrKUa5OkHhM0jR0Ki9jyy03p6S0qNX1jbHU1tWzdOlSCULyHjAhOEnp+enwGFasXM3CRctCok+e09O/f2+222Y06Sg4O8sJwPCMNi0O5EJd0at3D7p26xy84AMY4iwsWriUbLawLAw74Xo5B3g26WxLpn2Fq0hCzOVNWuVlQng30BYxhHrW58LdHnKWIY49E9+cIk4mwxz0JLWVlpWw5167YlMyj12sUyxReLdJ2gR5xm222Zr+/fvm2k8+lrzhiZg5czb1NfUFIU7Clg+/h4LnkndiTESUSpFO2xBfob4LaS9J/8ZAp7JSunXp2uqK0oVsCjqakLwT6gFF2RRpP1cryueUwsZv0hQiGHfnp3IGx1aFqjw0svJIwd96K+TDfkuQ77PZmPfmvE+cdfn5ucYAli1GjwErayG7IHj+n73zjrPrqA7/d+be9972ptWutKveXbFxk41t3ABTjBvVBpLQAphA4tBNS0hISCWEkPxCCAmQ0KttwAWMe6+yrGJbXVuk1fbyyr0zvz/O3PvurlbGMhLB9nz1udrd9+6dO33mzDlzJr2Uwrj5aOLzub6xhcgdEyMTcxGMxsbH0UFi0CrfJ1SHfPeXAoU47jnpxBNZtLB72h0Hx4HS/tRf7Y/E/OkzPY3Tybx4ZhzcZHPanOuAVOMzfSH91z4IQLFYZvuOnUxOTsoaTzIRsJb29naOPnpN5si1g6eaY9lJWuZKJzmJiTtUYkNP3z6uufaXfOYvPs/7/+Qq3v/+j/LBD36Kn/7sRsqVyJ0/Xm1DpVKJUqns5oqJ87wsMzLzKfNWzSi3/QKjt6+Pvr7+NIAk7zo6u5jbMS9tqRaF+N135yYrjXHewUFRKNRSU1vnBCfJD2Msg0NDRLFztChvkKw6SJQSi4Yojqvn9mpZLMvn8xx55Go5o/dpEIYhRx99JLlcINPJVEiF8bExenv7sNZtl5k9Yw/w+WyfPTMsbmEQ0j7WOGuSRAhOPJbLEpZcsnCS9LcmXcCZTrLolZgGP1W8lQitrh7FcUxfbx9jo7LX3Lqz6sHQ1FTPkiULyeVy1ao2S9AyHkBtbS3Lly+hpiCOABOUUgwODdGzWxZA9iebpllesB/71wul5NSFfKHgwnjKhjQrgdbU19eTC/Ppth/h14WRic+0W5P37x/fpyIIAxYs6KKxvmGadZm1SkyD9+xxf2cts6QO/bqYPhXGWHp697BvcIg4NrK4hmx56ezooqOzg8goYuXOwnZ1WvqOzIUiX8gT5nLijwXp94yJGR4aJo7FsqaKE6Jn4oT+/b+b+UH276eoqNN46jIx1jA1WaSnp4fIOVwEZ5FkLfM6O1m4cEGqVa5SDVe5RWelLHPamli+fJmzsnHPWLHQ6e3pY3hoJBNG8nyV31QZnc+F1NXVuZNJHE5Af7o55vE8G3jqlu3x/J8zy6CROPkC2ufMIafD1JQ4uxo6OSkOXqqaWmaEl0w6slfyzf7/Ml9mbleUKxV27d6NCpw2zgnaVuX46899nrWnvZSTTj2Xk04+m5NOOYeTTjl3+rX2XE5Zey4nn3Ien/2rvycI8hi3u0/pgEpsiOJk6jt9Yjwb8o0ll8vR1NhIGDhvPp5DSqlcZM+eAVBOwLO4ybCia/58OjrmSn1Ipg6zCiQHg6t0zjO4QVOqxOzu7ePu+x7iU5/5O849/2LOf9Vr+OhVn+Vb37mGG264iztvf5jH1m9hcGAU644Bw2k1jDvCKkiF1MNH0vL27t1LqVJOTRe11qLV3LaT8156AWtPeyknnnQWJ59ytlxrpc2c6K6T1sp1znmvZMuWHc5zcEBsLEprSuUyKLd3PFmImdGLPB3i2NLb149WgdsCICbixlham5uZN69zv0BnmxhaJ7AuXLiAhoYGVFaA1Zqx8XH27tkrJwlYpvdFmQCfSRoOnuQNEoemxgYaGxsz37r+x1qKxRJxHKVRTLYgiFZqNrJ96ex3JO+Ve0Rbba2hr6/f9XlJvsndLU1NzJ83z22DEGbmkbVVYU+c83VTX1+fuUG8WpeKJXp7e6ufT+NA8X1qstr/9NeD7AdmWhAYI6dpTF9YPowkFW9GtFtbWygU8m6xzo2xShrb0NBIItK5uxPh9BmanqQY9g0MMjkxQRC4kyksWKO5+94HeeWFb+DUM8/jhSe9mBPWnsuJa8+r9hunnMuJp5zDiaecw8lrz+V1b/gDHtv0ODgBPdmWUK5Ut93A/umexlN9d0jZ/0UKxfjEOPv27UMRuK0tol0HWLxoETWFxOJq9nJM2oY1liBQHLF6taufol021mCtYmqqSG/fgdrGwSNRSCIi8dWBJp9L6tPTyHuP51nKb6nn9nieKTNHfPldIeNDY2Mj2h1LIZO0qkakt7cv46X2cCCTjCiKmRifwFrE5M+A0iGRVVQiw8joJBMTZcYmKoyMFhkbLzE6XpZrrMzIWJHRsSJjY1OUShHGuKNmgoDY7QVNJgegqo7eDkCSN4npWfKZ59BSiWMmJibSfLY4oVZBU3OzeHxOz4E9RLXQJlolw5Yt2/na17/LH195FW9/53v5329/n56+ASanKhTLFcqxxViNsYEsBDk5FLePe3qYYkmSmkMeKtSMCxgeHnEaSwVIXVcqII4tY+NTDA1PMDEVMTpeZmyizOhYidHxEqPjFdduioyMFxkbL8oQpoLUnNNgqpKfuyxu0n+Q6YqimLGxCWJj5LJG+hoFjQ311Na4Y0Is7vzjAw+nSinq6+upqcnL3uJUQwi4I/ysyVhNZJnlo8OJtWIKao0lXwgp1OTcPtokIorIGPYNDVKcEqd8uDQqMrcdAqwVj+ajY2NYI5YCVSsSS01NQRYGLJlxYnoEpOiVOF1UiobGegr5fHUscbcbY2TRZlaeeaKkTOV56cqfYVgumCAQb/WHqks5OFxPp5BF3TAHaRqTRQIl2ugk1dnkPsOkJ8QGpopFyu4UBkGBDqhEMVPFCoND40yWYoZHk76jzNi4/D42LtfoWJHJqYo7gQSslv7PUj31IVlEOPC+4gN9fjipvtNaS7lcZmqq6OY8zimru62lpRnnliKDq4czruSz9vZ22YKUbUtWfNGUK8652WHBLaC4BY+0PqXx8HieOxx4puDx/F8i43t1LpXgHH+ARitNY2MjTU4jkx0GtQrYuXsXk5Nucv5MmBGH2aOjKJaKTDjturHGnRsq2qxkELHGoqwcdzXN1FIBaBGlE3lB4c70jaoe0K04S6vO2WbGpMrMb1Rieu05pJRLZcbHx11+u4lCulIvgqVNpN3fKP+TPX9CFEXcdPOdfPLP/orPf+FfeWjdBkoVpF4Zt0dTWbSqoFUZrUoEukIQWoLAacxM4ihLnOhZV5ftTAc6vwGiHd2/7e3bt9fV5+p+dWPEpBm3512sJWUPo7SX5ErCVHKuvRHPvJhItJ7Ow3c1Cc4U+hlQqlSYGJ/EAKHbNyoLFAZj4+kax5nvsExvdIlQ7QSTZEKplaISRYyNj4t5q9tnm/Q1zyzmzwzpW1Ral5WG2tocrS0tab4mWGPYu3eAsfGMM69pAuX0OntgxGT8qe6PY8Pw8IjTbiZ7mBNLCfuUzwozGp+xzpmha7Ou7htrGRoc2r8sfwNmCtnJgujBkNQJkMjGceziPPPOQ81seet+dz+SMqj2ewCyd/fXc3D5AGBszNj4GHEcE8exnODg2pGYnIu1RGL9IpnkrnRrjpz8oZyGGJKTMGQkThZKXSuYHgH351NbbRxqZl9o11ozOTlBsVjCZrfWJVpskrPCs+b+CS51SfrTflgcryUtI5nLxLFheGgWT/WHkhlxTP6s9psez3ODp9M7ejz/p9jMBaQOhLDQ2tLE/PkdclCR82QKYja7Y8cu9g4MyIq22y8tGqbZhszsW6pXoglMJxdOeZmdbBTyeWpra1JzdBkoYogrTni2BMqAqbijltyRWLhLRWhiIAIqQJkgiDGmhFIVcqEiHyar72JS/+smb1pLWpXMM/cb1J4u8p5ZHp7x/l8TneckuVxIXX0dpBOxKkEQAuIkyxwoD38dGUV58vRUscT/fvMHXPXxT3Pf/esoVYw7cEicF+UCaGmsZeXyBZx91il8+CPv5Vvf/gq/+MXVvPvdbyVMHDhp57Rpv0nzwZFtB5LMTHiztDKA5uYWcOapiXdviYscM6OVRSHHMYUhrr0YFHI0lCICIpSK0URyrzJgy3KGeyEkcPmRCrzSCcyMylOSz+WprasVocyIA6U0rbgFFZtN5oHKuWpFIBNZOe4KxCtxGAbkc3l0IHvUZ7bt2UI8XIjGrJqompoCCxbOR2mbejW31oJS7Nmzl927+9LtFUn/NDP+kHyd6UchTVny2cwruUNrRWNjk2ittXbmr4kjsUQAyginjuSbNAfd98m+/JnxVEBtXe0hze+ZaZ3+2cExbXz5DcJ5uthpiwSZeuGqfWySvfaZBYa0nKVsqkLf7H3BwaKUpq6ujjAUR3ZgxemfibE26QtEkMZGrs+I3FGHyfGIcuKINRE2rhBqI8cl2jJKWfK5XLoVJG24Lhum5Xjy2Yw6/9vS0loLNTU15HKyFca4xSTxtF7dwvNUOZ/G22nKZRuSzHlIF47l4M66usz2jN8Q5d4t2St1K9t8Z7Zlj+e5hBe8Pc8ysh2ypbYmx4rlS8FN0BLNmUWxd2CQRx59TBwjOcE7mY5Nn7Mkk4pkcimXsfG0QVQG2OkTHoslCAK33ywZ+ESDE2jDqWtP4LI3XMzll13Cmy+/hLdcdjFvuuwi3nz5xbzpskt402UXy3X5Jbz58kvdT7nnLW+6hDe98VIuf8OlLOien04kFSpzFvgMEo1ZRqMTTPO0+/SoTiZmTiLkb5sM2mmezLjteYDSuqoJdRMVkMwplUpEkRzfcjBMn8QlwoyUerkScf0Nv+JfvvTvjI5OgpWJlQVQlvY5LVz86pfzqY9/iG987cv867/8A7//ljdw7LGraW9volCQCWW1HlcnllqJucXTmdQn5Z6tg1UdyVM/C3JmK8iMsBqEpbWlkde/9hIue+PFXH7Zxbz58ku5/PUX8+bLLuLNl13Em9LrkhnXxVx++UXSfi67hPPOPt15fZYysaZaLgeDwhIGAVoh2iOnVVJKEVUi4mg2beDMl1TzqFKOptUJpQBnIVNbW0hNqA+yqR5SgqC6qKeAXL7A0qWLqakRZ2QK2RYAloGBfazfsIlyLHvTrfOq/3Q6A6mDIkBn/077F9f3aOfMLpcLsM5UnIym1bhzfiUsCVtaS5bMNh0L5UrFLYZl6qoLt76ubr+nfxOy/a5y9f1g++IsyZNSDs88nNmQspv5KSJIS82clrtDQ0PuGEL5W6Ijtbu2tiYjdB+Ig4+/0oogJ2NtgrUWhWFR9zwuvvDlvOmy1/CWyy7hzcnYetnFvPnyi3jT5dU+5M2XXcJbLr+U37v8Ut78xkt4y2Wv4S2XvYbLLnsNZ5xxKrlc1UZbNOfpny4/5F/ycVKNpG+s3ntoyE7TM+nGEAQBYRimJST9h5RBsVjK1JeZZCJp5exRBUxNTaVfS/2S+3KBplCTny2gZ0yioVdZb/pKxrz08+SFh7iuezz/l3jB2/MswU2dVDJZko5Yazju+GOpqcm5VXa5z1qYmCpy770PMjo2KRpB13nHqQdQZjGlE2KLNA83DsSmamqplJjrCpZcPk9DQ0M6WayaTsacdOLxfPxjf8onPvYBPnHVh/j4xz7IJ676AJ+46gN88qoP8ImrPsgnrvpQ5vogH7/qA3zcfffxqz7Eu9/9DjrnzgVjRMhL3/3bwg2MbuIqE53qQGiNTfP9+UQ+l6OxsQGSlXtnuq21ZmBggPHxMaknVske65kB/BrstL3Ylp27e/jBD69mdHwKg2j/LHK+9qIFXXz0w1fysQ//Ma98xUtoa25yBtlyHC9O+LCW/Y4o+nWIUCSxTwRPnPdzpWRfu4mjpz03amlpcTM7MUbHvaO2tob3vuedfOJjH+BTn/gQV33sA3z8qg/yiY9X24y0mw/yyRltJvnu41d9iLPOOlMmcYi344NJa5Yw1DS3NJII3Lj8MwbGxyYZHq56+bXV+WIGJZdVGGMZGx0TD/jIwiCuL8k5b7463V+f9CH/N1TTainkA5YvW0JLS1NVSI4NWgcUS2XuuONuRsdkn7csOM6WDwmSrmo/6Y69U84M2DkplHrv7jWGQGlaW+R87OT7pG1MTEwxODgodXCal+/9sVYc7g0ODjNZLErZpMcYGnK5kMbG5Hg4jzTz2TJDtoIMD41QLlcAsOnRT9JWOjrmJrceIIxnhlaK+vo6wpws/pDWB0NHRztvf9tbZKz92Af55Mc+wCc/9kE+edUHp/UR0k9Uf5fv5Proh/+U01+0tipg2sRh5uzIWChplObh2vxvAQXk8wVx2OjyOTHxtyj29O+lXInTvv9AWKfwthZ27e5xx9TJ2KI0WGsIcwEtTU3/l92Sx/OcwQvenmcJMqhXBze3L8kajj32aBYvWSh7PZMJsAool2Puuus+1q/bJOvTbs/lUx7x5IQKreQAT+MEJq2dx3KxznUaFxHG8/mA5cuXopQlNrGY8qKxxvLA/Q9SKlWcwCoCuXLaM5Ltv878TS7j/FU7szggEexMIgApjZGVgcNKOn1Q1cWKZA4l+SBmaIdwXvWsor62hu6ueeTygSsjmXwZa+nv28OOHX3gzsFO99/NQiLQzPZZshc7ig0PPbKexzZtlhpkFFEcE2hN1/wOPvzBP+EVLzubhoY6t0dRjrZzvxKgCFWAwpki7v/KlKQ8E8GaRCOeiQ9usm2Req2DIA1T8kFerFw9ly/lWrhwAY1N4pchEbKUUuzZs4dNmzehFMSRiKfaCWAqaQ9puIn5efKdBC/tZbrH5+T1BysAaK1YtXI5SjmTWivm6xrN6Pg4W7ZucymaJWw1ff4dmZgNGzcyPjHptJVi0gmW+rpaFiyY5+L867eRHE6qC4rJRF6xetUKVi5fRhgk/aeW/kApHnjoEe648x5icJP+6qLOjCxIka8VsTUieBtpM4kWGlde8qclCDRLliyiUJMnjqNpZTs0MsyuXb1EsXF7/JO6lqVqb1sul3n8ya2MT4hmT+qqtJXGpkYWLFhQfeZ5jpTB9HyQLsUSxzHbtu9ieHTUlbssMCkFtbUF8fgvT+wXxm9CoBVd8zpoaWoGxJmYLAZqdu3aya4du9zCdLW/SMbVaf1FRludjMPyM4lrdbEx/cS1Vy3GQZBauMkdiXl6Vht/6Jjekowz5W9ubqK7u8vlc9Lnyx72HTt3MjQ0vH9zSJoJzg2Fa+cTk2U2b3ocnSzMJovsytDW1kJHR/vMYDwezzPgwLNBj+d3gv2nbunEXgHKMn9+O6eeeiL5glsFTwZClWPXrj6++a3vMTw8JnOD/TwHy2SxeiVDsghRsYXe3j1uEuIGVmurE2Ql2t+jjjqSXKgJtCKKEo+rAY8/8SSPbdiYCqrK+XvRSoQKpZCJuPs3LTYqOfHbCTdayxnMKNTTPD/4NyUMQ+rr6tzCg3yWTDbSCbabSD/fyOdyLF26mIb6ehEG0yzQDA4Nc/PNt1Iux1hUelbs0yGtn4kDMhTlcoUtW7czMjqOsRCEoZsgWU456YWcdOKxBKEziXTaD6012tUra51lQhKL2WZjjpkTZaUUOtCiWUkd+EgYSVRlIWraY+676kQ2uebMaWPRwoXVOu0ejGPDL37xK6aKZZnEuoU1meBW20ziZDC55O9qXOTdYpOhnK8Dq+xBORhULh+OPuoIGurrCNzCm5upUi5F3H/fg0xOlTJPJWnMIu+fmixx//0PpIJmUheUgnnz5tLd1TUtv5JySsvrt4BMsl28UmHE0jF3Dmec8SJCV+fkZgBNsRTzjf/5Njt39iUF7vpJJ4zNwGYWfbQKiGLDwNAw5UrsHE8mYbi+0dXlJUsW0d4+R469c5p1pTVjYxM8uv4xJiaL6fv3QymJk9KMjI7y2GMbKVcqqRVUkuau+fOdvxCm1VdhZrk+91Dpf0+F1MjBwSHWrVtHFEVO8JTx0GJob5/jFsIl/1S2Ev+G2aixzO/spLOjA61DrFsMMCgGh0e58+57qVTEM73F9QMz+gu5kgU/uUg+1/Kk1HIRZpNFx6R61dbWksvlpV91wjeuzv62kHeKV/+jjjqSwFkiSbsRx7P7BgZ5+OF1kM32GY4+08UFC7t29/L4k1szW/K05IVWrFi2hJaW5gM2MY/H8/T57czePZ5DhRsgU89JWOpqaznj9Bcxf968zH3OjBHF7Xfcwfe+/yPK4vq5SnZelfxpZU+odXtqf/Wr2/jc3/wdj23YDIjzIa3EhDXZL6uANWvW0NHRgcXI54BSIYNDI/zsZzcwNjaBzgjLM16dYbrNquxdrA6OKhATsMONDOwKrRU1tbWZeCRpVkRRRKlUOvCE9zlOEGiWL19KW6uYwSbOnqwVIfLmX93C9u07IDNpm41k4jabtlEmsxBFFXp6+jKOAmXCVwgDFnR3Ul9XyHixNdOudDIpsixYmUwdKE7Z+aN1Wg+tNbW1NcSRHCmjEunXeVmfmpxEnAgfIFA3lVNATSHPSSecIOnLmnGqgDvvupdH1m3ITBSTp7IhuMtWBeHZMCRneeM0zDPveGq0hu4F3SxdtsRp0eRdFjn+68EHH2Tnzp3ubmnRs71CKcX99z/Ips2b5bbUcsaidcCaNWvo7OxAFjKmLyBUOXA6Dx0SexEoqsJvkFOcddaZLFy4EBPHaX2wbgvFxk2P8/VvfIuBfcMoZKvFflgXciK4u0SuX7+Bz/z5Z7nrrnuJY/HFkfQ9ViofWim6u7pYumRxtQyVkiPe4pi777mXXT39s+Z9Fmst6x59jEfXr8/0qRZjDblcjtVr1tDRMceZTDOjl/51oT/7sel/DuXKKVMhlVt03bhpM4888ojrs+Qe5Ra7Vq5aydy57elz03NulrpxkMyd086a1atdH6mxBKA0UWS48aab2bptBygZu4Rqn5GUqPSN4sMlGz9j4qr626XXunoiVnPGOTQL0zqU9NMAk5MTB/a/coiRNxqOf+Hx1NXXublH4I5y08TG8stf/pLR0dGZhZCSfFwql7nppptEQw7uiEeZiygsp556MjWFMF308ng8z5zfvBf0eH4rVAcz47S+WDmiK9CK4487lvPOO5tcqFBKPJbK3FwzVYr58le+xhe/9GX69+4lchonN5RmTGZd+Fj2Dgzy9W98l8/85ee48Re38fl/+lee3LJTnlPIkGWt20dqmd/RyhkvOpVAudVyK++IKnDjjb/iZ9fdxFSxLIZu0xy9kQ79MtzLxD6OwRi3BO+EpHQfdXZgdwOjLEK4QTFNzDMfJGXSK1rcluZmmWjLF+n3ff399DlrANL4i0l/4kFeJiQz45HEXxZOqlcmDZD5PPk1WZRwn2W/d7nw9JglTs6EUs5InxkP+W76+4Tly5dzwgnHobSoCGViolBBSN/eAf7hn77Erl39qVBt3XYBJ1NgrWhsiqUKu3v6mZoqidltxltwMrGLoooThqTbtkZMPifGJ92xWsk+29TmGqsgtoatW7dzz70PUHTn30ocknKQVEvFdhogebt86wSwttaWqkdoZ3ptjWVoeJQdO3cRGdn/nDwjzrYyk13rflOWs846nfmd7ShlpA0pjTGKXbv38PVvfIdt23ZJWK6d2KTsM/mWtBVjII6mO+rC5Z0IBCJcHSwWaG1u4NxzXkxtrXMI59KjdMD6xzbxox9fy+joOLHTqGbbgrHi+Xn79t189avfoDhVwuKOGETi1VCb45WveBk1znFRsj1gf2zaXqZ/ffDpOjCuvI0s4CR1SBlLd1cHl73xNdTU5lDKLfBYRaBzTBUjvvPdH/H3//Altu/qoRKZtAWl9d3F2jgHbEMjE1x97Q185KOf5oYbb+Xv//6LrHt0s+vaJB6JAA7QMXcOp516Eg2NNZl+Q2HQPP7kdr7xP99hsljK1AsJx3VjAOwbGuEr//k1BgaHXDkplBVhsa2tiTPPXEt9Q311pEkWdmxSD9Mvpv2Y1o9Zpve97uOZZPuTrBA4nWr7PGBA4D7PxCH7uWSIu6ptUQqweruyUC6WGRwcITYWa1y+JY0tMy719Q/yL1/6MnsGBhMVsdRbBU0Ntbzo1JOZ09rsqo9yAUn7nPZ+l0fVT5M0VKOe/F590FJbE3LOOWfSUC/bapL3WKXZ3dvPv/37f9K/Z1ByNC1/V5ey5Zn0LUBsJP+TxQO5P7HacO9wn9fU1VKoqXECuvtUyQLk5s1PMlUsu2yrCuTVdGXjUH1e8qC6ECDfzCzTanuQvxQaxdKlCzn1lBPRyqbn3FvXPu+48z5+ft0vKVcit2jrTOgzfWQlttx338P86Mc/JYqM2BUouVcpWLFiGaecclL19Wncs3FLcPXZnQVumdmfJc9MT0uVpOdIsPK329YHM+t05laP51mCF7w9v5sk/bJKhpfkX+LgSfbOyqWoq83zhtddzOqVi8GUUcSAcXu0A4ZHSvzHf32Tj3/qr7nhxpvZOzAo+1WTrt5CbC17B4f55a/u4NN//rf8w+e/RG//CJUox213PsiXvvx19gwNu/HaAhpl5aii2toCLz//HBYv7sbGFp0xtezbM8A/f+n/8d3vX8vYRBFjE9Pj9BSPdIiNjGXb9h5+8MNr2LRpq0wiFYi/k2QQkkE3m1UoIxOH6ZZkv9m45Aa2VatWimCJLGSgwWrLvsFhbrrpNiYnS9V8dGmSuWdWULYSU4tMPFSifp3xQuXuq47w+w/U6YQn+ZmaQUhGTUv0LM+ThJF5Hp0xw8tOtDK3KDlSKhu7+vo8F130Spoa65xAYkEZKWMCbrntbj77uX/k4Uc2ikYvEyNcXu3s2cM3/vf7vPu9f8rPr/8lxm2HqNZ4OZ6spbVFNKI4HwFAZOCR9RvYvqMX0pYivgmMUpQqhltvv5dP/vnfcMttdyO7IJIJuFiFVPNTUpUouRKhP9FgLl++lCDA7ZEERQCElMqGq6+9jtGxCVePJc6xMwG1LnxrIrCGAMORq5dx9otPl/3xgDUBqJAoivnVr27lc3/zTzz+xFZZfHJtjGTOlSn+sYkpbr39bn567fWUimWsQczCcRo4p0EOdLbePF0UuXyOM198KkesWelyx/mRUIpiBN/9wTX877d/yPDoOMbIOcLWCdyxMWx6cgdf+NKXeXDdBgyS1kSTFNiYs89Yy7FHrnG9hVuUQ88+NCtAy/tnJ1uzDp6kvFWgpfydBYPSiiCAl5x7BqefdiKBlrIQPxYaRY5iyfL9H13LBz/yaX50zfXs2NXrBHARKQ0GYy3jE1Pcftf9fPZzn+eTf/45ntjaQ0yOTU/u4B/+8V/YuasPa6tWRcniUL4Qcu65Z7Bq1TLXB8oClEUTGc1PrrmOr33je/QPDBFbsNb553A+F7bv2M0XvvBvPPTwY1gjPhcUoKxCY1h78nGcdOKx6LSPTVp5ktnys5rD2XFJ6la2WLJPzsq0m620kWn1Mxk/1CzCSHVsSX8mz+/30pn1IdvWXR64T558Yit/+Zd/z02/uouh0XHXzqrpjmLD409u52/+/p95eN0mjA1SixIAbS2rVyzhtLXHEwbVbQPV+FtworIsismYZa30mWCIogqVSM4pT76zWBHsDVKgyvLC44/ixaefIn0hxoUFcay48abb+Zu/+yIbN28jThc8MxcKazXWaiYmStx88+1cd/1NTEwUq2WqxE8LLgus69UUirbWZjo65qZ9pHX7rStRxD333s/mJ7YRm+o4aDPvr5bpjHJRTG+/yvXLKsk33CRA8rRaXRSFnOZ1r7mQ+R2taJ0cSwpWhQyPFvnKf32Tq396A8VShZgk/ZJtJoL773+EL/7rf7JtRy/GJmm2WGWorc3xqle+lM6OOTNj7MbDpF4mZe3qw7R6WF3AmJae6TdVcWFWq7MoAA5wt8fzrCP49Kc/9emZLWWqWGKqWKKttclV+P2rfLFYYmqqREuL3JN2CJn/PZ7DR7XOJrWtubmR5sYWHnjwQSYnp0Qod6aLyQC4Y/tO7r7nXh56aD333PMg69ZtYuvWXdx88x1cfc3P+cGPruX7P/gJj67f6CZuMvE0xrB9+xZyuYATTzhezGrdAJaYlre2tjI4NML6xzalGjilZPV4bHyCdeseZefO3eTzNczt6CAIqhPxUiXiyS07+Oa3v89//ff/8MMfXs34xKR4aAaMjcS81w22ShodAANDw1x3w69Ek4PbRG4hl1OceOLxnHD8sQSBTLIOhmR4nCpW+OVNNzNVLKf5rhRElYhdu3YyVSqydPly6upqKJcNmzY+zq6dPcydO4cglH3IgjxbLEX8+Oqf0r9nIDOZUCgMRx21mnPPPt3dPf25BKvElPvuex7g4UceIzZ2Wl3o7JzD+eefQ3Njw4EHeWXcZ5onntzOzbfcyWRR9usmb6stFHjJS85lyeIu93nyjIQlkzFFe/scenr72bBxk2hXXP4rLeZ+23fs4JFH1rNnzx7q6hrI5WsolSts3b6TH/74Wv7rv7/NT67+OX19/QwM7OPkk0+gpUWcB8mkVMw7t2zdzn0PPEgcW5k0KznTeHh4hL7+fhYtWkh7+1xQisjA40/s4Otf/zZf+co32LRpi8xZtRIthJs0oqCtpYFXvOJ82lpnenSenmcqCPj5z69nfGJSzDut7Ck31tDb28PY2BgLFy6kpaWRSmzZsbOHRx5ZR1fXfAKtM6afEOZyNDU3c9/9DzIyOo5KSkqJtm3b9m1s2LCZ0dEx5s7tpKmpwS0SKIyFoZFxbrn1Dv7jP7/Gt771XW657TbWnrKWTjchlginMc/Ujxn14KmwUq+aGhuxKO5/4CHK5chpjCTIcqXCunXr2bFjJ1ElpqW5lSi29O3Zx4+v+Tlf+crXuOPOeyiWIrQ7210SG7N8yUL+6Io/ZPHibkDKJmnX2fYNUC5XuPOu+3hk3SYnjIpwrjAsXNDFueecSVNa36f3D88cV8+NLOjV1BXomNvB+sc2sHfPPoJAY20sVgtKNHW9fXu45957eejBR7nv/od45OENbN26m9tuvZurr/05P/rxT/n+D67m3vseoliKQCVO+RR79/ZRLk5x7LFHUVdb40QEKXOFor6hnpqaWm697XYqlSgjICni2PDY+kd54okniCJLa2sbsYGBgSF+/JNr+fJ/fI1bb72LcuTS5TS1GktbaxMf/vCVLF2ywC2NGLeoNKMMooi773uAhx9ejzHJAgkoDN1dHZx7zpm0NIumt9rrKCd0SpmMjE7wox9dw9jYVGZxRaxMTj9tLS88/uhZaqh1lyaODQ89/Bj33HM/scGlQxyIzZ3Txnnnvpi57XMO2I6jOObeex/moYflmM30DvfAnr393Hvv/Tz62AaGhkdpaGhE6ZAdu3r5/o+u5itf/QZ33S3vlrFP9txrrQiU5Yp3v41TTjreLY4nYeOkKIVSAcbCk09s4+577qVYjuR4OucrpVIp09zczIqVKwjDoDpuJf2Vq99hGNA2p52777qX8fEJ6dtcXYmjmC1bt/HY+seYmJygq6ubQk2tLBi7e/YNjXPDjTfzX//9P/zP/3yHhx5exzHHHJtu+XDdbvoT3HF1Svqx9es3snHTZrdQJgnVSjM6NsrOHbuZ0z6XBQu6MFYxNDTM/Q88RN6dfuJalaRJcohNm5/khht/Jf1qugwH+bzmda+9mLbW5rTPSUrTZsqttaWZffuG2LBpM1HqeFUshUZHR3lk3Tp6enrI5wvU1TdSKcc88eR2vvP9H/PV//5fHn10A8YqlArdlikIteWUk47nD37vMrFgcGWQ9qFuDLVoSuWIn1z9M/r6BzL1Te49Ys0KzjvvDLfk4jJUKoW7TyiVytx2x908tvEJ51k9yR3DkUes4owXraWmkJ/WurI/PJ7fBpUoZmJikvr6OvK5cEZfK0RRzPj4JLV1tdTkczO/RlkbT1uissDg0CiDQyMsX9otbWTG6rsFhodHGRwcYcmSbkQh4gYAN0B4PL9NxIQKisUyP776Ov71375Mb/8+rA0g64wNd/6wlUEk1AFBLiSqVIhNLCv41hBb5GxuK88oFdPaXM+Vf3wFr730QrS2xJWYMMyJaaY7O7x/7xB/9uef46ab78AYjbHWaVHAxIZcTs7sra+vo72tNT03d3BomIliiYnxKaJKBCampbmRf/r833DKyccBFkuMuMtyA7OTwzc/uZU//eCn2Lh5S1VbZg21NZp3vfMPePtbL6eQDw9qfBITOfE63L93iE/92V/zy1/dIQOiCtAoYlNBa8jnNI2N9Wjn9dhEMScdfzyf+PgHmdvRtp/gPTI6xdve8V4eXrcZ3FRXJo8Rr33tBfzln30EmWBkV9OrsTfWUipX+Kd//g/++2vfpSx7B+ROozj2mBX80+f/goVd85w2hGqf5MoTDFbJpOHn1/2KP/vM3zEwOOqEGenHWprq+ZvP/QVnvfgE17fJ0SxyidCB01Ju2baLz3zmb7n73geIY0CLZ1npFiX9uVBRX1/jtLyKqBIzOVWiWKyknvZzIfz+W97IO9/5B7Q01IGVkjfA3fc8xKf//K/Ytk00E2KiDXFcJp/TNDfV09TUQF1dPRMTE4yOTjI5MUUUW6I4Fv8A1pnDKwU2QCnD8iVdfPGf/4EVy7rR0zQY1Ty3wFS5zKc+/df86Mc/d4K3mF9bIqw15HOapqYG8qF4eY+jiCVLFvJXn/0zFi3scm1PJmvGKiJjue76m/nkn32W0dFJLBqlA6yRiTw2olDI09TQQENDLU1NjZjYMDk1yejYOFPFCuPjEyhirIm59JILuepjH6ShrqY6t0uqXsJBNILUr4EKGB2b5HN/+wV+9KNrKVdseravMTFKibflupoCtTV5dBBQiSImJqcolsrOKkcTRbFbbDO0tTRxxbveyutecwGFfAHlju0BN7mdMZqPj0/yD//0b3zjWz8ijl0bBxRlTlv7Qv7yMx9jQXdn1a7aOeU7iOQegOR8bFnwiIzhttvv43N//Q9s2bHT1afEukAWIpXrPxSKMMzJ9gQLkalgTUwcW5QWAUwKyaBsTGN9gd97yxt52x+8iYb6Wuk3rEgaxkieT0wV+bu//xI//NE1TE5WcK4mwTndg5i6mgJ19bVoJQL51KQoEowTRHD9prIxLY0NvP3tv8db3/oGcoG0fWnrSb9UrTPjk0W+8C9f4Wtf/xaVSLm+y6KocOKJR/PZz3ycJYsXZtKfCG3JAlrA9p39/N7v/yE9vftcX63EPFgZPvyB9/G2t75+ljKTbSSJgPPV//4u//zF/0e5YrEqBBujiDly9XL+6rMf58g1K1NhUeq/hGiVpViq8MUvfpX/+u/vUoqiTPNQWBuJNYuWMqkp5Gisr0drTSUyjI5NELl9+GnRWcmvUCvOO+9sPveXH6e+Lu+8jct7VbJrXkEci0B++5338IlP/iW7egfdGA0Yi9aGQiFkTmsDb3j9JfzB77+JQj4HzuwZxJM5BJQrFb73w5/yxS99mcF9o86KzBJone7VrslrGhrraWpupKGuHgNMTUwxNjbJ+MQUpVIZExuCMOB1r72YK//47TQ31qdbZmT+i2jUrbSrODZcfe0v+Ku//nuGR6eIrVgF2dhgbEQ+DKmrr6G+Ji8LiXFMbW2BP3rfe3nFy88hl7jfV1J7DIqf/OQGPvTRT2FM6PxRSBk0NAR899v/zYplC5P1G4mPddZ6Vrm+A7Zu3clnP/eP3HrHPcSxQieLWtaAiglDRX1dLflcjkAHVCoxE5NFpkoltLNQEB82oJRhycIuPnHVBznt1BOd/w63ECY13FkZKCwBo6NF3vGH7+PBhx9LFw6k8hkuuegV/NVnP4ZsDDHVxfZsH2dhdHSMv/q7f+Z7P/y507wrZ2Ieceklr+QjH3ofLU31LlwyfaDH89vBApNTJfr7B+iY2059XWE/wds6xXRv3wBt7W20NNROv8FLyJ7nCgrxblxTk+Pii17OB658P0sXLUATp5MpkIEuNrLvNbYVKrbCZHGCyMTE1hmU6RCtM8cjoVgwv5v3vffdXHDBK2RSbEVrl7w4mXh2drTxgSvfy8knHUcQiCdma51TNh0QRTA2Xqavf4hHH3uSR9Y9zqMbnmRnz14Gh8YpVyzGaqwOGRub4H+/+W23lw60CsHtSZTJwFONOtk0PwPc5NRaaG1t5rzzzqKtpVEmc3HszPTFXK9cUQzsm2Dv3jH6+0cY2DfKzl299A8MilYmjWQSk+RnNgHV+P56qs8k+oZEWJbr1wkcyXtnxiv7efJd9mcyoZBHFC6DrGXpom6ufP97OPmEF6C1AROLFtAiWj2lKMcwODLF3r1j7N07wuDQGCXn9dyiMVYRx5brrv8FGx7b6Mw4jaRTwZFHruL0004hFyZLL/L6IMwTm4B9Q5Ns27GHxzZuY8fOvQwNj1OqxERxRC6nWXPEKubP76ya2bo3S/KzeZ9Nf5VcGHL++S9h/vy5WBtjrdP+qlDibhQD+8bo2zNC/55R9g2N0du3lx07e6RUtErsl1EKwkBz/svO4Q/f/hY62pvSBSrR5IMlpFg29A8Ms2VHHw+t28wjjz3Jk9t62TswxujYlHt3Dh3mufmW27nt9ruIbbLY8psh+WtQxtLcWMef/PF7uOCVL6W+PifpN0YWCtDENmB8ssKefeP07RlmcGiCYsmgVA7RVMYESmFNheamWt79rrdyySUXUFMjQnf6zpmj+DSkXJL6Lf3a4aZa56XMAs484xSu+tgHOPqINYRhQbxLWw02xBrpE1ABaFmAKJbLFMslKpEhNgFK5zFGUiHG4pa2tmbe/KbLefvb/oD6+rrq65X0C9KWDPU1NbzrHX/ApRdfQGN9AWVid4yYxVgwNmRiKmJg3yi9/YPsG5pgbLIkZv4qSE2GtbLMmdPC2972Jt74hosIVEbQfsrKk3yX9FfJNbNEsvfNwM68U3LiwL3W9PZYfVNiv5x8r5zAlkG5PHSm8E7Urz6f7sUV4VN2B2msCpkqxewdGKW3b5ih4UnKkRubXNDih8KQDxUnnngc73zH71FXl8c6542QyR6XziCQcXL5sqUsWbJIlpGVxFsF0pZK5Yj+vfvYtn0XE1NFl0QrYw9uYUpDPp/n1a96GW99y2W0NNeBjdDudAQIsDZgqqzYu2+cJ7fs5uF1m3l0/ZM8saWH/r0jTE5FRLHCKFkE/Pl1N/DIw49OXzRI93yT9sVBoDnhhcdw3LHHpONPHMtCrtI5IqMYGy/Su2eY3v5h9gwM09c/yPbtu2VRfVpxuvdAOrYnN8hn6X/ZKpCWq9ZJNbAsXrKQj370Sl54/DHkAskvsW7SQEAcBwyPFtk3OEFv/zCDw1NMlS1W51LfC7JIHrGwu5MPXPk+XnTayYSBSPbToqyYPh5Oq8PVS9Ig8a+mJ/1rFtLAZ/x5oPs9nmcfXvD2PCewWIwVzUA+F/Ly88/mqo9eyalrTyAXWBSimcKKxCQaq8AJhuLYCYJ0P6lCVlvBsGbNSj5+1Qe55MJXUVcoOM2Km1NYcY2TfKKApYu7ueqjf8rLzz+XQk6DE/5lYEtWs91BYTogjhENS9YZi5Wjx+bN70gdWrkZm7DfOCRxTX9PwkknWQeJJA6lIBcEnHn6qbz4jBeRC9xgjxyzYp0mzCJnS4NC65A9e/fQ27cnjVEW95TTaMtefLmS3x0HiPa09CjrnpNJqFJxZt+ZYME5MNofibHEJxuHavxmSYELyBgpD63EzPCoI1fzkQ9dyemnnoRWxjkOI9WMx1acciVWCVoHYHETT4PCUijkeNFppzJv3vz0dVJvoamhgcve+DqOWLOSwJn3iiYmSVso2iO3xxssShkKtZpXvOolfPpTH+JFp52MNbGbJFXLoTqdlooleZYkVX7TSvGCY4/i5eefR31tXva0E4MRTW4cG9laYZ04ZWB8fIIdO3tkocY5XxNP5nIFGt7w+tfw/j96F4sWzANTQRE5R0OCdXt5LdJmU3N+xLO2ZJ+hra2Vurr9V5efMUpMaVHSzue0NvBHV7yT1116IQ11eVlUM1K21jnJQ4vAaaxM2uX8b8k7RUTH3Fbe/Ydv5bWveTV1tQVABErlzDifGneOeaauSvkl2sDflCTs2VqK1AypubB27Qv51Cc/ystedi6FXOC007FbRHAitZHfE8eM4hRQSX5o0BiUjVi6pJv3/9G7efvb35Q6sZO6nYg1Lm+ctca8zjbe+dY38+Y3vZ7amkDavNN9a6e1s2hUEBJb0ZQbK+byWsme7oa6PO9519t5wxsuprGhnkCKOZPSAyH1tto3yJUKspn7prehhGq/Ug0jc8f+D6S9lOQr6fuk7JM6kIT566iGJbi8Bo455mhOOvFE6a+MkTJUAUGYEyuFdE+7AgxaGUJlOPGEF3DlH1/BEWuWufAgdt7vBak11pKOS3Pb53DWi09Ha9HWQyzla8SpaGwUff0DYtGiSK1PEi/qkgJLY30tl192Ke+74l3M62hDqzhjOeL6DRtiyYFK+kfpI8UqwW2TsBXmtDdTqC1Uj0xMcKcvSPqF+R0dvO41F9HR3iZ9vUuDmlZDnFZXh5QrMVue3Mbk5FQmX7LIHKU6Bkm56gOUadb5ZmJdEWjFkiUL+fAH38eLzzyVfOh8WyBxt1ZaSGylT0UHrl1KuVgTEaiII9cs50N/+kec9eJTUUpOhhCfC0muZ0nqpJ3WHqrtIhlfsshfkk+JPZcLdUb/Nj08j+e5gRe8Pc8plMKtBCtOf9FJ/P3f/AUfv+oDrF65lMb6HGEgZwHLJE6LuS2hTESMM0PHUigELF40n3e948186Z//ihefeRJ1dVWhO/Us7YQu0umMIdCKlSsW86lP/il/9umPsHzJAhrq8zIpIHICi0HrzKTbiRY5rWhva+a0tSfyhX/6e973R++ira0lnWjI5FzU0dY6YVP0pWgbo20kWn4Vo2wyKatOeA4G2T8p6eqY08qfvO89nHvWmdTVaEIt5qHTJqBOK2FtzOjYCFuefBwTO60oLg4y2rpnRchSlFFUqgNtMntx6SR5LPHIKolHWZm4KyKUqrjwJF7pQD5t2iKCsgz2ycIKboLg4qMi+WnLzpGWLObMRiIMgAjfYaA48ojl/PVffooPf+D9LF+ygEIeAi2TqgALRuKmERNERUygRRA4YvVy/vzTn+ADV76XJQvny8KGS4YIbpalSxbwF3/2CdaufSGFgkInCw0qRmsRwrEi9NfUhixc1MlHP/InfOKqKznmqJWsXLFEdq+apG64n6kGf3+tmU3qHpbWpkbe/gdv5jWXXEBjfZ5Ax07TJMK7JtHSixA2OTXBlie3MDk1lZaIZL3USwU0NtRx0YWv5N++9Hlecf45zGlrlEljIlA5AVchk0OlEGEfQ0NtnqWLunjH23+ff/3S5zl17QkEiSlnej0zJO9lZUUpKYPu7g7++P1/yN987jMcsWopjfV5NEmbs06AiNPFKYUcS9bSVM9LX3I2X/ynv+PyN15KbSEn/VBSj1z9rr7bOZZKr6RcXX13lyZGWbfQljoEO7RMj59BK0suDDjm6BX8+aeu5K8/+wmOO2YlrS21aBWlAoS0H/G8L0cvun6JiEIIHXObee2lr+b//cs/8pqLX0ljfa078s6lw4rwmkxTtJYjohRy9vkfvuMt/O3ffpYXHnc0TfW1KGKMiQm0cl7+RfzRWjTcENHSVMuZZ5zCv33pC7zhdRfQ0tSQ6YedhQqzZ2PazyLtVsq94v52bSjbR7nw0nokH7l+rlLt91TkHGJVhazptdf1A67/FNFH2p3Ug+xi1ewLjKThSfueKc4pZWltaeKTn7iS97zrHXTN7yDUADHGxihdFfSxEbnAMretmQtf/Qr+5q//ghccs5rQaYetO24uHavSd1XfGYYBF17wCs540SnkQkOoY5StyHvc+Nzf38foyAjWgnZOVJOfSZyVstTX1vC6117Al774t7zs/HPomNuCDgwQod2YmS4ZWFstPxVTX5dj6aJ5XPn+P+RLX/xbjjvumDSO8hoZLaorWxZrDLlcwJlnruUDV76XeR2tFHKgbFKO0gckAmccV1BYtm/fxujoWKZNS5kqSPvw6jgmF0TS76WF6kYvnRzFKHMdaV8QKMPRR6/ms3/xST7yoT+ma14btYVQ+uPUGZpBaYu1ZQItY2g+B/PmtvLG11/KF/7p7zjnnDMIw6CaB0rqjovt/g3EhSv1OpJ+ytXPdAx1C/QuR137dnnhvlfWSLuykZvPJOOUW3R0jSLTVXo8zzr8Hm/Psx7pg9Pu3NXmxCuufD86OsnNt97Gvffez66ePnbu6mVoeIxKuUIURYRhSEN9LV1d8+ia38Exx6zh/Je/hK75HTK4gVvvru5Nmtn3S92Xy1jrVts1+waH+cWNN3Hf/Q+xc1cvfX17GBsfEwdBWlEo5OnsnEv3vHksXtTN+eefz1FHriZfkL2yqQkuVNtWOmjBnr0DfPs736e3d28mByxhoDjnnBdz5umnEYbijOtpMzNxiLZydGyCa6/9OXfedS9Pbt1G/96B9KiSQj5Pc3MjixZ0sWDBPM49+wzOOP1UwsBpxACMZmqqxFf/62vs6OlxOZuMpoaTTzqBSy+50E1Qq9hkSmlF016pRNz4i5u5/fa7qThnMMZCgKa7u5PLL3sdbS0t8mx233J6BjZOEAh5ZN16fnz1TxmbnAQUgVKYKKauvobXve61HLF6efJ0Epnqj8z8I4mzleKhb88+fvCDH7Np8xPs2t3Lrt5+ilNF4iiikAtpbKynq2s+S5Ys5pRTTuTFL34RLU0NkhBXzWZqQZOwB/YN8ZOrf8ad99zH5sefYGRklGKxTH1dPa3NLSxdsoiTTjqOl7/yJXTN60wXjNat28S3vvkdmbhohSWmY04bb3nT5bS3t6YezGezWBXzcjEVLZYifvazG7n5ltvYtn07u3v6KJcrWGMJ8yFNDY10dc9j0cJuTjttLeecfQb1dbUy0VTGCVfT66OxUC6XWbduAzf+8mae2LKNXT297BscojhVxBhDLszR2tTMvPmddM3r4MSTTuDss0+nvb3NaS2lrKvZVh3bDpbpVTARVeT/OIah4VFuvPEm7r7vQbZv301Pbw8TU5PElYgwl6O5qYlFixaxaGE355x1BmecfppsE9DW1b3Z22T1PPhqDEqlMtddfyP33PcgUST7cK0T9FauXMrFF72a1pam6nNO6EnK/emR9F8HyrOq1kkEOBGvrVUUiyXuu/9BbvzFLfT17WX37j4GBgYplorEUUyYC6mpzdPZMYeFC7pZuXIFL3/pS1i+bKHrH6a9SN6R+Sz9NdvGsESxZXxikhtuvJk77ribnt197N69m/FJ2T4UhgHNjc0sXLiQ7q4OXv7S8zj55BOoq8u7hczqO4QDpV3K4MZf3Mwdd9xJRTaog1tsWrpkEZdcfKEskioR9kSgcB7infA8NDTCv//HfzI8Mprpq6U1vPL8l3DmGafCzPbnBDWlxC/E7Xfcw/W/+AWVKE6FW60snZ1zee1rLqFr/jxX7kl5uTaNHFv4xX/+Kl/92ncoR2XXaclAedaZL+Izf/4R2tta2bDhCX5yzbU88NB6du3eTbE4hVaK+vo6urvmc+QRq3npS87hhS88hlwYilCkZJEp+86nwgK7d/fxzW9+l7vufYBt23ZRLFYIAkVNbYEXHHsk73vfuzly9QrEfYjL87TQqnvYZVuOJorhnvse5PobfsnOXb3s3tnDvsFByqUyxhjy+ZDmxgbmd3WxcGEXxx9/NOeeexZz2pqwboxXWfPylIzGNbPAVYkM6x7byE9+ci2bNj/Bjp27GB2fpFKuUMjnqa3J0zF3LsuWLmHl8iVc+poLmTu3ze1Dl3aOUjzw4CN853vfdz4ItLO6sxQKIe+94l3MmTMnVQoY5wNj/z5OyjKKIwKdw1rYtrOPn//sejZs3Czj9Z49lEoljDHUFGpobW1l0aIFrFqxjJecdxYvOPYo2Q6QaRsibE/PkWnVE5iaKvGf//V1duzYBc7hofgugOOOfwGve83FshihQKwNlGjTkTFdoSlOlrnmZz/noUceIYrc4oJbaDrxhON45ctfSk2h4D63ad+5fxv2eA4P9hDt8faCt+dZj0xgxGBJarJ8gkxJUpNg5Rw67R3Yx67dPewbGiKuRJQrEYV8jvr6OubPn8+8zg7qG2pkAmXFVAoQ76voTFtxk5bM5EkG6ORMYY1FOfNbabA9vf309/UxNjFBuVIm0AH5fI55nfNYMK9TTgkIxExTKTN9/ydk2pYljiMxf0tMW92cQJ6tDo7idTj77NOgmoXTMEa+GxkdY/vOHfTvHaBULovgXcjT0tzEogULaJ/Tmq6YJ1ogMbNPEqIwWo6cUuAGX/k81E7TnSERvJWbbMkcRPZOu90BAOgk7SpOHSTNFLxxg3lkKgRBHgvERraluvlj9R0inyZPC+5dyWlpSa6KGXCi8RLzVpRifKJIb28vu3t7mZqawlQMuTCgqbmR+V1dzO+cR6EmFK1uZtKXTMpmYqxkogH69+5jy9atjAwPUy6XZTLV0sqypUuY09YKWrTbsmdRnJppp6gXI+nkksl3VfDev25bG4MzqdZaExuYnJxi565d7O7ppVyqiHCcz9HU2EhX93y65s8jDAMx1dTWLV7ZqlZzZtpcHsRGsW9oiJ7eXgb2DTI1VcQaQxiGtLW00tk5j655c8nlcuggqfOJRiexDEna6v7veTpMr4IZbaS1zuuuMFmssGvnbvr6pV3HUUQ+L17bFy1cRMfcOeJwjqTeWqyNnEOj2dtkohVTzlxda9n3jjsKzmUjJCNvYkGgRKMkLzqUgndG8ACpMdYtEri6Za04MxsaGaW3p489e/dSKsuCSRAE1NbW0jG3nYULFlBfX0egZNuBO9whg8sTV09J8g2JXtLvysKjCCrGQKlcprenj56e3YyNTxe8Fy1cSGdnO4V8KJ2Ys86RPj0hecnMtAs2o2lLckqLH0sxY9dgTIROnRharBJ3mNXnnUDhtp5Y95yybstK8q5sFKwcp6USh41KSsPitu+6opE+321tSAu+WpbWCd7//MWv8l9f+w7lihO8rQUbc86LX8Rn/vyjdLTPwVrxgL5lx0527+6hODWF0uKca0H3AhYs6CbUzhmdswaBOFNQs9Xr/euXtZZiscSOnbvZvn0XxXIZrRW1tTUsXriIrq751NaEbjHSOR1M8ybJBSvjktvKYJWiEsUMDY6yu6eHfQMDklZjyOfyNDQ20t3VxbzOuRTyOTlz2hppKy6M/WuAK/j01yRPLXFsiGJD3549bN++i/GJCcrlMvlcnpqaAp0dHSxauJCGuhqss8ZTSTiZsStpYbGxhC6diupCXCJ4J/3C9KFBvgOxCpLTAsSfhjEwMTnJtu076NvTX12EyBWY09bKwgULmdvRRqBc/dVIWJk+NJnZJyWXxt+92mROe0Nl24PcImFXJA0qRB6XUV0rMQTTSkzfk7qvsu0fi3IZZZk+Nk7PB4/n8GG94O3xCEn/Xx0HZACa9mHmG6yMDAYwcYwO5NzfdKxJHzLg9udW67gMRHJX8h5pP9UWJBMCa2x1MpBGR9qJRCPzjFVOyE+CV1hm2/spz8tcScyylXL7UJ1gLAN0mlriuEIQOm+pT5dMviWaN9HiuL9dlGQ1XHIiQWUHQ+uELDcip2G5I9hQUIljgsThlzMLzAYmZeYEb7fXT2uFNdrlr8TAKuRZtzdfJwO8E8bA7VOTAEWUTyKReGRWQHomrwgxwX75JmmYrgNN8ltMEafXE8kQ+VYmJSr5IlXtu8URFwfJY1cvs8XvysM6qwrZh4mrfckRdmq6YOtM6uU78fgbBOLMzaAIlCwapK9RieDt/kgFbyPtRYcYa6bthUzqd0J10qQkF114ykoZzzq1TbYISCGkmhapOs50RYm56PSnJWentV0XRvU6eKYnKSt4y7eJ8J3UdZvcZasZorXLAetabiLoOK3obGNlsn9zVtzLXIrdthn3vqTuIN6OtUr6raeJlVChOql1X+yXG6CwxmmenFdl5Y69q+aHCDTyd1VL5WqTtBeLTL6d8C6z7qeIdNI20roui5tJ3bCpMCv9O4kzyqT+YZ2kLOlVOit4J+/dP60kWWwkfclMxxjZR5v0tdOkYKw7oilpP/JZEqRFFh61AhuLhVI6IkzLflntsrbab1ZLSjSH8rv0c/KZy89M3bdPIXgrYs540cl89i8/Tmf7XFd6BqtlsVSKUCJtjJXtHInEqHDbIKiuUu5Xhtk6VI1Xsh8btyhI9TWy9Uu7LFXSLnSQmLBTzWucp3WL9G9pzrgqnZa9kLRHnH+IarxMOpZOZ8YHNv0vHUOMseggSL3vy1NSZslDikSYduG59up6Z6LYpS99YzJvSLbAye9VwXtmRKVuy9ghoWR7SglL5j42mUmkQ7mEmWy5AFcQLjbZcNL4pWkDY5NTQuRzrdz6ltsfn2zn0G7fPVTHZYVFWe2Op5RxXKXBu9xK+kTX/pWSOEk+VOPh8RxO7CESvGf2jh7Ps45kINCpuKNSRyjilKV6yX0yjGgrXnq1tXKlU33X2VuNUnlxFjVtJjT9vQo3ticDmzwtz1gZ3WQwE4c0CtlnrhGBB2MJtEUHLlLKgtNSy2CZpGzGxFDJirZMcOUYkEA+qk5KrCUI3fnBB8O0xM1IaJrY6n55lZrj47TXbkBN4ucmGCpQqCCZgEj6Q3eMj+zljWbGBHBrJUnpuJmZSsJQFqViOarEJJPsmcKLpN8Vh4TjzECTuGiVTALcTTaWPcv7hePS7tJcLfHsHfIPK3vTpOQSZzkuv1wdkLgmZZpMFhMBZTZkv2+gQKvq3mqdLJGaTP4jwgnOmZtSOA2j7MMNndBgjExXRaiZmeYEJVo33B7mjA8BSY/T2iXCpZX9wJJXbp9lVms1M+OoCnxKSRloRbpXUiXtW2XyVxmxdUmFIXHAljhQmvGCgyKp6sriclauJD+zdUHSm/QtrmyVaB+TvaiiWZNJL4iGeDYSq4PqPlmZwIpjMFfvlWiRJH7yTtE4SpvT2vUlB0WawzO/mIHco1x5C8nEOql3Ui8Dt5CmgVA77a+LrzGZhcPkvTPrxMy/0yTJ+61N+h9XOirxqSBlESjpc62RSx515t+JsJ+WbZZM2ToUSd+SXIYgcN/bpO0kY4ULV1F19uW2yUhZGZRKjlcyBO4oxtlI+gFXFdyzVp53bU3CkTp4YLL1FYmji6sFhoeHZbsISMWyBu3GzOn5KxGxrk6DRK46AszMS6blY5aqYIrrS5wvA1v1gYIGiwi20ytD9n1Sf6zN9INOiy37hpOwYzGBFt9iaXAKwHn2FrLlPIMkQ5K0owjDEKwsSIjvkWQuIW1BFkUSL+PVNky15hMGTvXrfDZIjibH5ElcUvP0WVFyzKOSfkP6UOeHxVnuJX2p5I/UG4UzY3ILF1J/AxRB0mtXpyUzX+lQrl5LHXd10vUFiQZdfOFMDyHpP6xUIVfPJF+V+ywtA6Wk7mucfWN1kc/jeTYxWw/p8Tz7yI6Trp+2qFTjnIx06cTXyiQq6beTibxM5hJTcfldazEVT6a3BxqPQT63gDGJAJAMNiJwyCTMCVqJ4OKErWpsSFfw04Fqv/TJKJWEKWZd4shE9uK6NClSgfWZIK9yeec+Syf2MyfbqdO46mQTqvNBGTDdZM1NmEG5Ad1Nlg+koksEQivvT/JU4iDfKUT7BqQO72YlkxUy2LuUZco1OwWbTubzGWWSiUW6vQAlwmr6gJV8Suudq2dyjzxrnemss8mYFi9Erq5aL0xfB8FahXZabWx1EpdgqSqqwLiTABILAmen/xQYpCCzuWOdibpNvQ7LnVppZwIt7W52kvaQaEyS6aaUbeIkS+5JvNwmGh9cO9CptiXJ/+lvS54/UBxmwZKJWzV/cfmfhJTEw62BSXm4doEyKO0WBmTK7YKqavdmY/a8ctozC8rubxUCVU2b5Fu1jj0jZotClmoGZOLrnPtlH7bKVUEtFioJynn1d+24Wm7ZWFfLLcn+2aKlZP1lBiIEJE9ppTMTf+UWU6uCQDb8Wd+V/UNJvNJYKWfOkHytZFFFHqkKHiBaWylH6TBkYcl9PS0NyQeZmGTapmha5QF5XtI1/dofEbySep30N0qO33Iij3VymCxMuBHMkgpnSZySRTR5dZKQ6SSxz6RiOqnn8WS8Iz0twSJtP7GuSfIz7S/SEki2YbjyzIwn0gcH7hg0GceS8bYaB9m+M1uT/LXxd+O6SfMGlzcGa6J04THJH3lFpqDd10m/KfXBLU6627IWMEk/+1TI0Y6un1dSeDJcuOesrMlVq6yR7W3g0lMdW+SS/E4WD2ZU1Cru1IA0H5LXOQ11wizZPINkcbZ6Z7Zs0jFTiabd43m28RSzU4/n2Y6bgKiqSbJyGlgRuq0MKIp0kmMSr8muY09DeipBbj+qA3zyfhkrZFCTiZkT8rGpRsPaZP6UDDr6wIKoS4v8lPCVSo78EA/AyT3JnuBnSlVkqGaKSaW36gq+pE8mCpLG5JHMYK7cM8lkxKV+uhfcmSRaFxeOmT4oq3SPoUtzUu7TmPl3Fic8uYmkSstvtnCeCne/m4zKkXWJQCgTwSTMdPKUMZWzrtyVcmdeH4Ck3CWMahwToRuckDEt+skCBSgVYJ1jL/ekfO7M/Q+EsZkFDVem1QWqJGyZhGbr5jTBf7ZJY5ptSYSdNjjNm+QZVa077m+Xq9Ou2V5xSFHJf0lblndm8yCtRyQTUZdP7nPlyvpASLjZfHPm0S48a5ItDS7fkvxGfg108v5DTSZMlzxJbzXdVaT+V+uZPKSUyxMlImAqMKXX9F+n/e0SaJBzu5O2ispUizQM93Oapi4Rime+4Glgs3XPLRJm2mKa9iQ+SPxMLGNLWi8yeSKl5Kxbfk19SCp2EnzSRSicsJk668tm1gHIfmVx2mq3EJKuYrhye6r2614zm9B6sCgl41amOld9Uxi3kf4A76lmvfxiZyzQOlsRp82t7sFPy1PhrAgygT4tqg9Im58+9mY/RyFzjvTdVdJ73P9WEoCasV3kqTXebsFk2rur9UG5xadMjF36Z4Yn98/G7J9KDif5na3n2vUNduZrlDxjM3GVLHHjpcsjMWGXR2QeUu0/zYEWADye33EOPKv3eJ5NJGNFZsxQiEAmJpoilMhA5gRxFaBUIAOSDtE6QGvZC50IgslPmSglE6TkHco1ocxnbkCRAUelmjAJJ7mS97ifujpIaWfeJfszMyPVtPQ5U0k32a2GLekRk+Jq3LMmqweLpFAmBemllMurajqSfFQqIAhyLh7J+8XJk6RPSxp1IOnWTkB1BnAqKzC6KCv3ueSnQgXub+3+dsKm3CP5gwoy5aGd2ZyLR1L8Wk2LZxqe+zxJ03SqcU1nwOl75AqcQyWdlpHLszSPNCrQkH0X7hmX11J/kohW8wKqdUnqTjUftFgZpnma1gl33IyUQ7WeaSWX3CPhSKSTmEhsklcH6fNSikkcsvVMa00QJGFWyyt7z3QyZZ+2V4mGtNdsW0nKROp32mZU0r6rz2ayK63FMz99ShSZuE2vj2n8kq9cWUn6Xby0K2uqcdZKPOZrKfoDxiZJW5pG7cpaqWrV09l2Xa2viZXN/vX2aZCkcUZ9q+ZfJg8z3yfpr5bN9DKqtqtqW1BK6lWgpNxnfW363hn9DxCogCBT/2XfRba9ZeKjg0xbk3JL+ufsm6qXSuv/tPLXSvotVxfTVuLKqNp3JHVE2krSH6Zx0Nn8cnXGtdskEtU4uAS5dpT0F6LBlzxOv8vUmVlJHGBlP3CfpIpZQOvEisn1o0mFTeOeubI9xSzvreZpNj+r92XbkvQNytVf6ZtAE2i5qr1R0l9U60XS9pVy/brr5NOoa6QsXLtM+/xMG1OqaoFRfcf0+jk9ZdUwpAxdBFz8lQ4zc4xAxr1M28i8JtOny3gk9cnVhUxbkr519rwG2WpW7eeT+DuT8WQsqXawKB26Ou3SkBmzqglPyq2aJzCtcF08Z9QN18ml6UnH7Ez7cCbtWuvUQDDNU6WqY2maJ27uoAICFT61ZZvH8zuKr7Uej+c5wPQJnSeZ1XmeMbPPuA8Cn/+ew0UiCB0kFtH2Z8ybARGglTPZdp/M0G3/FskKes+48XkOJb9RP+jxeLI8g57b4/F4PB6Px/NswTpTZDFjBu2cXJp0v3SyL9pLWB6Px3O48IK3x+PxeDwez3MYpZSc4qHBEsnxfc7TOomzNndKWGb3s8fj8XgOIV7w9ng8Ho/H43mOI+bl1aO1IELZCKXcsVPGnXAAXvT2eDyew4AXvD0ej8fj8Xiey1hLqDXHHLmGi179Cl5z6YW85pJXc8nFr+TSS17N2WedTn19DSaO/XZej8fjOUwoa+PkAAJwa5yDQ6MMDo2wfGm3c9w7XT63wPDwKIODIyxZ0u28u2rxjon18rzH4/F4PB7P7wzuKCs0JnPcsnJfaZAzn6d940Vwj8fjwcm+k1Ml+vsH6JjbTn1dQU4AmHFPsViit2+AtvY2Whpqp9/gJWSPx+PxeDye5wfKndo981Iid2fwpuYej8dzqPGCt8fj8Xg8Hs9zmVSOFq12etlEyz1d0PZit8fj8Rx6vODt8Xg8Ho/H85xGZaZ8VcEb5a7MPVWduMfj8XgOJb5n9Xg8Ho/H43leUNVve622x+Px/HbxgrfH4/F4PB7Pc5nEV9pMb0B4Cdzj8Xh+W3jB2+PxeDwej+d5gkKnF2hQWgRyJ5N7f+Yej8dzePCCt8fj8Xg8Ho/H4/F4PIcRL3h7PB6Px+PxeDwej8dzGPGCt8fj8Xg8Ho/H4/F4PIcRL3h7PB6Px+PxeDwej8dzGPGCt8fj8Xg8Ho/H4/F4PIcRL3h7PB6Px+PxeDwej8dzGPGCt8fj8Xg8Ho/H4/F4PIcRL3h7PB6Px+PxeDwej8dzGPGCt8fj8Xg8Ho/H4/F4PIcRL3h7PB6Px+PxeDwej8dzGPGCt8fj8Xg8Ho/H4/F4PIcRL3h7PB6Px+PxeDwej8dzGPGCt8fj8Xg8Ho/H4/F4PIcRL3h7PB6Px+PxeDwej8dzGPGCt8fj8Xg8Ho/H4/F4PIcRL3h7PB6Px+PxeDwej8dzGPGCt8fj8Xg8Ho/H4/F4PIcRL3h7PB6Px+PxeDwej8dzGPGCt8fj8Xg8Ho/H4/F4PIcRL3h7PB6Px+PxeDwej8dzGPGCt8fj8Xg8Ho/H4/F4PIcRL3h7PB6Px+PxeDwej8dzGPGCt8fj8Xg8Ho/H4/F4PIcRL3h7PB6Px/M8x2auX4fFYDEzP/Z4PB6Px/MUeMHb4/F4PB6Px+PxeDyew4gXvD0ej8fjeZ6jMtevQ6FRfvrg8Xg8Hs9B4UdOj8fj8Xg8GSxgDnB5PB6Px+N5JnjB2+PxeDwej8fj8Xg8nsOIF7w9Ho/H4/F4PB6Px+M5jHjB2+PxeDyeZynWWqy1GGOm/bT26fgn3x95FkBhjIQXx4YoMli7//tm/v5M3+vxeDwez3MdL3h7PB6Px/MsxlqLUuIWTSn1DAVgOUxMKUAprHO1ppTGWoXSAdZK2ABay/Qh+fvg3+fxeDwez/MLL3h7PB6Px/MsJRG0Dw2JtltQWmPR6CBAKbCZU76zArdS6hDHw+PxeDye5x5e8PZ4PB6P51mKtRatNVEUpYJvIgg/fbJm4olADZGxDI+Ns7Onl2KxnDlsTO5L3p0VuA/uvR6Px+PxPH/wgrfH4/F4PM9SEqE3DMP0M2PMMxCAnTDt/lJKwrnj9nv4s0//Jdu27UBr5WTv/TXfHo/H4/F4nhoveHs8Ho/neYfFYjHuZyJ2Jr/YWc+truqD9/9rNma7I/3bfVm9R9412zMHxu3JxoK1DA4N88tf3sy+fUPTTMard0+/9kdhgdhdAJVKxNj4FJVYnKthE4FehPs4Njz66Abuu+8hKlGESfNt+hue+r0ej8fj8Tz38YK3x+PxeJ4HGKyJscbKZQ2RrRBbQ2xFVIwtGGvBxmBjjI2JjCE2hsiIUGmsxVhLbCKMiTEmFjNtY7EGTIz8dPdJuBZjY2IDxkLs5FJr5W+DITIxhhiDTeNhrIQdxe4+94w1EFcMxhr5w0qA/f37+OZ3r2Fnz14MVuLm4mUtxDYiJiayMdZIZCQvrDhSQ/ZpGyd4WyCyFhvkwIZgQaXm6AZrYypRxG13PMCNv7iTUkXib2xcjWuaFpe/Li5YeR7M/kK5l9A9Ho/H8xzEC94ej8fjec5j0Rgn0MWxZaoUYwiJYsXevSP09u5laqokAqNSTnDUlMuWSmSxNmBkeJI9ewYpl2PQGqMUlcjS1zdAX/8gxXKMTUbV5F0Ghkan2N0zyMDgKFFs0G5/NDiB2MDg0Dg9PfsYGys6wZT0SK9ypUwpiomwjIxPsLu3n9HxSWKriVFYNNbAyHiJyTJMlQyTRUOpVNXmGwvFEvT2DdLXP0QlAmOV0/krjJVwYgP79o3Q17ePUimitq4OFYQYlcRJg9UYd5WimOHRCUrlmKmpCqWSIY5FK54I3xMTRXp79jAwMCQLDFbKQxYE9hO7PR6Px+N5TqKsja1s2pKB0gKDQ6MMDo2wfGk3SoGaIZ9bYHh4lMHBEZYs6UZOFdGAdYZqXp73eDwez+8O1gm5GNj0+Fauu/GXrD19LeseepTNGzcTRxGtbW1cdNEFHHnEUpS1TBZLfPvbP2Hp8iXkcwHX/+xGlNK84x1vpbN7Dtu2been11zHzu19WKWY09nGJZe8ipVLl6CByakSN99+N7fdfi8ToxPU1IQsWtTJ6y6+kPb2OVitGBge5vrrbuTRdY9RKRnqGxp50emncu45p6GAqakpvvLfX+eEE0+mVJri+htupDxVoZCv4RWvPp+TT3ohoYLrrruBn15/O09u72P5kvm0NTeybPECLrvsUsIgYNPmrfzwx9ewZ2AAhWb5kmVc8Krz6F44z43zitHRCb797R+ydesOyuUK8zrnUt/Syq133MVHPnAFxx21CpVoshXs2t3PN779PR56eD1aaZYvWUJzUz2veuXLWLV6KVOlEnfefg933XE3I6Oj6FCzYsVyLnz1q5g7tw3tBG4xl6/OQzwej8fj+V3CujG9v3+Ajrnt1NcV3Ng1/Z5isURv3wBt7W20NNROv8FLyB6Px+N5/mBBWQYGh7nl9nv55y98mT39e7nkolfz4jPPYPuOHv7ty19jZ08/VkNUiXh0/ZP87Oc38b3vX83ipUs555yzaGyu5/EndvD/vvwNdvXs5TWvvZQ3veUNlKMiX/nqN9i+q5eKMdz74Aa++a0fsHjxQq644m285CVnsXdgEGMtVsNkschXvvotbr7lLk5Zu5a3v/0PWLZsOd/65g94+JGNWAWTpSnuvX8dX//6t7j2mp9xysmncOppp7FveJT/+dYP2NnThwEKtXXU1NUTG2hra6VzXjutbU0YLA88soF/+devEJsKl73xtbzlzZezfUcPX//f7zGwb5Aoitm7b4Qv/tt/c9ttd7Jy2TIue/3r6Ghv5+677mV8csqZobvFC7evPF/I09jUSmwhLIR0drbT2dFBoaaGqXLMjb+8g6//z3eoqa/nTW96PaedejL33fcgX/jCv7NjRy+RdV7cXNHgzNANFuNM0D0ej8fjea4QfPrTn/r0zJXmqWKJqWKJttamdCV8JsViiampEi0tck/yfPZ/j8fj8Xh+F7BuHzTKsmN3P3fd8yBnn/Ni3vbWN7JsSTcrVyyjrb2Tm2+9ncbmGlavXE5Ujrnp5nvYtnMHv/f7l3PhBeexZFEXsbJ85/s/Y3h4jPf/8RWsWrWIzs45rFy1khtuvI2WliYWLV7IbXfcS8/uXn7/LW9k6ZJ5LF68kNPPOI36+lqMgnvufZifX38zb33r73HWi9fS0d7KihXLeXLLDnbt2s7xxx9LOYq49qe/oq21jXf/4VtZe8oLWbNmBflCHbffcTfLVyxh8cJuFi9eSKUCj6xbzzvf9mZe9fJzWL16BSPjE3z7Oz8myIVc+SfvZvHi+XR2tjKvq5tf3nQLCxZ0s7Crk9vuvJ+f33Azl73uUl576QV0z5/LUUevpmIDNmx+nLNOX8u8uXPQWvIQoLa2liXLF3PP/etYuLCbd/3hWzjxhcfQ0tLIzl17+PKX/4sjjzqKP3znW1iyaD6rV6+iu3sxP7vuRmpqG1i1eilhoDPzBvGanvhvk13nHo/H4/H831OJYiYmJqmvryOfC/fTeANEUcz4+CS1dbXU5HMzv/Yab4/H4/E817GoxNu209bmcgHzOtuoqy2gsChlWLlyKY1NDezY2UOpVHGO0QzLVixlzRHLJChlGR8fZ9PGzRx99LG0tDakb2lqaqKzYz49u3uJKxHzOzsZHx/jJz+5lt09vSJQKhl5K5WY+x58mHmd3axatQqlNCioq8uxatVydvf0MDwyAlpjVciypcvomjcXZWI0ML+zg6gSMTk2maiJ0YC2Bm1jtJsQ7N07yrZtOznxhBOorckjrtOgo7OZppYmdu3qY3KqxONPbKVQV89JJ7+QILBobdBakS8EoKw7G1zcrllitAatSfMOjOw2VxYNbN22g6lSiZNPOYGGuhrAYIxl+fLFLFi0lHXrNzA5Vaxqtb162+PxeDzPcbzg7fF4PJ7nPOnCtNVgFdZGTmAEGxuUhkIhT6EQMjlVJooMxgBYamoDwlA5HyaK4mSJfQODXPeL6/nAhz7GlVd+gD9+/0f46If+gu1btqKjiNBaTl/7Ql732kvZsOkJPvlnn+Nv//7f2LBxG1HFElUMe/YMsvnxx/nEJz7Dn/zJR3n/H3+Y97//Y1z38xsIgpDYWLA5jAGtQBkRcsUNmkFZizEi9GrEG7tWBox8p7FMjE4yPDjOD75/HVe+/zP8yR99mj9538f5zJ//Lb27dkNsqZRK7Nm7l6bWRhqaCqAsVlU120o5J2hKvJ5jFdaITxexipM4KUApcRszsGcPuTCkoaEWpcVMXWtFPh8wf958JiamiKP4ABptL4V7PB6P57mHF7w9Ho/H8xzHqZlNgLVivqysQikl1ufaedg2lqhsyOkcSoUEgXtaTR8swyBHLp9n7clrefe73sm73v0u3nPFu7jiinfy4Q++j4sufAW1NXnq6/JccMG5/MVnPs6rLnglAwN7+au//lseeuhRlNIU8gFLlnXztrf/Hu961zt4zxXv5oor3sH7/+TdvPs976C9fQ5KibbeYpxZW1AVS5UsIoBoy1HJ6eQJljAHNYWQc84+i3e/551cccW75XrPO/nYR/+Uc847nSAICMMAG8dusQHJMwtKKawBrQOsUSgleWgRYVzkc4UyQUaItuRzeaeJN5LnOsQqRWwtpalJJ6y7PePudR6Px+PxPJfxgrfH4/F4nvNYq7HJnmGrgBBrRNpLTMB7evqYnCgyr2MuNQXZm6VQ2FhuSGTD2toaOtrbmZyYZOGCLlatXMGqVUtYvWohK1ctpr2jFXSMVaJ5bm6q5YJXnMe73vV2WlvncPsd9wCK7vlzmZoap7GxwBFrlrJq5WJWrV7C6tVLWLiwk1xOYUxZhFSlia3GKkkHWmOMRSnt9kIrtA5EFkdhnJDb2lpPc3MNE+P7WL5yHqtWd7Fy1QJWr1rGyhVLaJ/TTC6fp3PuXEYGhxgZm3L6c411CxNaBZjkiDCj0Fr2ZYtyW5HTeTQhyopmGxTd3QuolCL6e/cRxe4McwOTkxW279jG/HntFAo5nLG6y1nBFYfH4/F4PM8pvODt8Xg8nuc01gnXyjkGC3RAVDHs2LGH/r2DjE0W2b6rjx/86BoCBWtPOo5CTgTbAE1e1aCscp62DQ0NNbzotJPZsP5R7r7rEcbGxpmcLDE+NsbAvkGKZUMUa+697xHWr9/E1PgUphSRszm0DSnUNhAGAWe86EzGR6a48YZb6OvbS3GyxMTEJHv37GNqsoRCEao8mhzWaGfyLSmK43K6j9s6k+/mlnpyhZDdPb1MTE4xOVViTlsrJxz/Qu6+6y4efHgdI+MTTBZLjI2MMjI4RFSOqKkpcOQRqyA2XH31zxgcGWW8OMXOXbt54P4HiMoV2YOeYrDEoKEQhsydM5fhwRGGR8eZnCpRrkSsWL6QZUuXcuMvbmLrtl2MT04xMjrK9ddfz8TEMCeffDw1BdlfnwrfSqwLkoUEL3x7PB6P57mE92ru8Xg8nuc4FqtEbNYE7NjRy1333sfk1Dj33PsA6x/bzDVX/5SBwQFe95oLWXvKcSgVUa5UuPmmO6gp5Dlt7QudhhaU0nR0zqE0VeLqn1zDYxs28cSTW/npdTdw1733c8Tq1dTk81z7s+v58U9+yuaNW3h88zau+elPscS8/rWvprO9ldaWJmrq6rnt1lu5/da72LWjj5tvuYMf//galixZyPx5nUxNlfnpz25gyaIujn/BGnJhiFKWwX0D3PSrW3nhcS9g1fIlKKBQW8OTW7Zyx213sm3bLjZs3MwJLzyWBQvmMzo+yvd+8AM2bnqSTZu28tOrb2TDhk0cccQK6prqaJvTRlSJue6GG3jgoUfZsPFxfnHDjRRqahkbH+eM006ks6Mt3cMt4j5oHVIslbj1tlt5/IktbNy8mUJNLYsWd9PR0cHGTRv56U+vY9u2nVx33S9Yt24dr3zlyzj7xadTW8i7RQMRup3sLabryR8ej8fj8fwOcCi8mitrYzeKytMWGBwaZXBohOVLu53gPV0xboHh4VEGB0dYsqQbrXHKc3G24hXpHo/H4/ldwWKJKYNVKJvnrrse4ktf/k9e+/qLaG1ppa93kHxBs3BhJ0euXkltLpAnKjEPP7iRmkKeI45YSZgPU8/o1sL4eInHHttET98+YhuTr8mxZHE3q5YtpRDkGBkfZ8Omx9k7MEilFFFTm2P58kWsXrncjZgwVY7ZsmUbO7b2UJqqEOQ0rXMaOO74Y6mrKVCpxNx59710zm1n1YqlBIF4GR8eHub+Bx9l5YqVLOyeh8JitGbbjp2se2QjcWRobW3mtFNPoJAPGRkb58GHH2VgaAJtFPU1OVYsX8Sixd0EeRmzx0aLPPDQevYNjaNQLOqeQ9eCLp7cto2j16ygraURJdu2nUm7BQJGxyZYt24jewcGyYUhRx+zhgXdnYCit28v6x97nImJKcJQM6+zleOOOZpCTQ6MRckEIsXJ9Jk/PB6Px+P5v8UCk1Ml+vsH6JjbTn1dYT/B2zrFdG/fAG3tbbQ01E6/wQveHo/H43muY7HuHG+FtZq77nqAL/7rv3PZ5a/l/JedizUGrZSYbjtHahYj9uk2M55pCS29rMYigqjFopVCaeeULCM/WmvFEZlSMqa6Ly04l+Hi2A3nOVxpZ3ad3OOojvHyqfwvNmkKcFvWxdO5c4ymlEI5EVm+k59KgXYRSc7NlvyxWHeP1u5GedIZhGsxd3cfWxAv51jxdO7eWY25C9M9o5XEK82AGTMXlQY6LcEej8fj8fyfYQ+R4O0lZI/H4/E8p1Eo0XY7SU62KxuUlUEwF2hCjTuDWiRERSCOy7Tc747ZTtyYue8VWinCQJELNIGWZWoRLuWnVhBoRZh8r9z+Zfdscn8QKIJQEwSyAJDIvEkYSZhyZZ5PBHn3jAZCrTPvk/vlXolrGCgCnSwCSGrkgiBzTxo/QLs04+Ke/NPIO+S56juT91XTrwjT9Lt8TH+vXq7AvNDt8Xg8nuccXvD2eDwez/MC686uMsakjsncNxk1q8fj8Xg8Hs+hxwveHo/H43nOo5Qzz7aWY445io9//KOsPeWkmbd5+dvj8Xg8Hs9hwQveHo/H43nOI6bNFq2hsaGWVSuX0trSOP0UaSt3ejwej8fj8RxqvODt8Xg8nuc41SOwkku5PdTT8ZuLPR6Px+PxHB684O3xeDye5wVqxtHQqQduK565PR6Px+PxeA4XXvD2eDwez3OcqlBd9QzuPkjNy6vabu9qzePxeDwez6HGC94ej8fjeZ4wfcibzbDcK749Ho/H4/EcDrzg7fF4PJ7nAdO12h6Px+PxeDy/Tbzg7fF4PJ7nAVnB2wvfHo/H4/F4frt4wdvj8Xg8vwUsYA64e/qp9lVXfZGD/TXhePYnm3+/jgPeN+uHHo/H4/F4ni5e8PZ4PB7PIWeakGwtWAMYLMZ9Xr3TYtw3+wt+iZidXPJ89m7PrLiMtDbJX8njqhBupEysTdcxrK3md1oO6S/VEpB/Ho/H4/F4DgYveHs8Ho/nMKHcMJP9yX6itcKiMWhrUNaiLCIFOjFQOaEv+U5Z5e7JBHMQTDM2n2GB/twzRo9RxGhi9DTBW2GViNHp4gikZZGRuGdQDcHj8Xg8Hs/TxwveHo/H4zkMGPmRymcifCsn0mbFN+uEa0UMxNVn3ecaQ4BBY1EmABOADZ5T4vGhJslbWUSQxY3sskeS4ygDKgYVuU+iTDlYEc4V2MzCSbWsvPDt8Xg8Hs/TxQveHo/H4znEiGCmqEwTzkT8m246LgJggEU7YdFiVUxMLJ9ZJ2Q7QbsqCHoOhEXyyAAxAZYQSwAWlAVtIbCJIK6wKsAqLU+6jE1KSszUwahq+SXacY/H4/F4PE8fL3h7PB6P5zDgxGgnKIMIfViLtjY1G9dWoa1G2SA1RxdN7ExttjOT1plr5i2e6TibeeOsDUC5fDcZk3KNsdotbLhrWuZW93QndgjgVj68/O3xeDwez9PGC94ej8fjOcQop6UOUwEukdES02dN7ARwJ5AbUDZAERIQEhDIvSp2ptAGVNUJm+fAVPNYzPODZN88tmpa7kzFlRVxG6clF5PyRABPdOJZMt97U3+Px+PxeJ42XvD2eDwez6HFqbmt0c5pthg9p1pSJ4Unzr2yPrKdUrz602qsUeKA21i0BZ3c4Jkdt5ghTuhkd3dswFiI3cKFsVIAxsYYK2VgrLuwzredOLETIT67R9yp0r3c7fF4PB7P08YL3h6Px+M59Niqi3CbCN0GiAOIQ7mswjjhMP3eCeaxtcRAhMIo7fYoBygjpuraaWs9B8ZaEaAT12rWaIJKiC7l0KUcFAN0FKJid9qbdbu4bSxlBoB2WwFEABep3pv5ezwej8dzsChrYxlF3dK1BQaHRhkcGmH50m6UAjVDPrfA8PAog4MjLFnSjdY4GT5xveLleY/H43ne4tTVFoVRBksFyjnG+wyVqUg8dQUao0TXLbuPYxRQ31igpkljc2IDbbSEg1XoVPMauz3gwSx7wT0AxsZicG4UyihUGXq3TNK3fYCJ4RI2tqgc1LcUWLR8Hu0LCpADqwxWG3QAcQxaB84TvajRRfSWOYMf6T0ej8fzfMACk1Ml+vsH6JjbTn1dYb/phwWKxRK9fQO0tbfR0lA7/QYveHs8Ho/nkGPB2girNAaFtpaJvoibv7uVfdvGUFFevlNVL9tKRxgDuTBPWAfzljVx9OmdtCwIsTmFCnGCX4SyEUrlUMrvM54VC8YasRwYg90PT/DQbbsY2W0ojsVEFQNaY4kJ8paGpjxdq+s4/iVdtHYXUAULgcGgUG4HeOqPXoFxSyV+pPd4PB7P8wEveHs8Ho/ndxZrYywQW0VgYWK35cb/2MXu9WPkqcNai1IWa2M0ChsobKwJKGBNTCUYI2gZ5bizuzju/MXkmxVGxygtwp9Cu7HJC94zscaiKorRnhK3fm8b2x8eJjfVgooKcixYYIiIAEVoNaHVlHNj2OZRzn3DapadOIdcg8VoDaq6zzsRvJMzvX3Oezwej+f5wKESvL2E7PF4PJ5Dj5V9w6HWKCV7uJUJCMijbIAOLQ0dmvalAa2LoHlhDt1SopIbhKBELq6D4Vbuu34Pm+8cRFWcqGcVEM7qVVvMoOWa7fPpfz993+gzn9+fp7oje2p5lfSJA0U6xWY2v8/ylbhFEwd1ya0R7Nta5NZv7mT7A+MEk40oExCHk5i6YWrmlWlbkqOpW2HrxonDSVQcEo82sO6eXcSTpOemQ/IjE4enjO/TwUU09aI3M8hqfk37/Dd6Z4Yk0Exypn3u8Xg8Hs9hwGu8PR6Px3NIsTjHXoB2Qvf4jphffrmH3g1TKJuj0Go4/XUdzF1dACzWKsqliPG+mIdv7Kd/YwUV54h1xNyjLa941xrqOhRWWdHCYsEZQ1sDaJURDRUhAMbdpVNhTqPdpzGaENk5XpW4kv3kSjlzeRJHYgEap/11vuAArDVoUQmLJ3D3fmW1+ywSE3nn5EyrQOIbKIy1hFaBMaAVKIMlcEJ0XL1Xi3Yakv3WyctlT3asYpQNZf97pJjcG3Hrt3ez5Z4JgkpePMIXSnQfF3D82QuobQ0JwoDYGEpjFR67ZZCN9+5ChTle+vYjWXFiAypMfM0r8ZOnKlhrUCoEo1EoDJHMEZQGdyq4PIGkSbm5gJLIqsy+f4VBxwp0gDEWAkVsDaFWYGMUGmNdeRPIloSkbrks0IjEbpVxL3HzGKPQOlMeyhBbg1ahKO2VRWpLQOye1RjnrE/OkJd3SHknmn4/t/F4PJ7nJ/YQaby94O3xeDyeQ4rN6HcDK5+M7TT88t976Nk4ATagtt3w8nctpOPYWtAxWI0FVKyp7IZv/e2jTPTlyVFD0DnEy969gq4j6rESoAjcNnZSmELFirgMU6MxpYkKWKipyVHXEkBt4sHNyNFZyonbsSUIQqKy6NCtySjTrZyAVpkwjI6UwVrqG0Nq63MyXDqhzgZATjaqW2udYOwuO+3I7CSqEFqMGyYDoyACU7RMDBvKpQpWWWpq89Q1Bei8xYYGAuP2Wyfja1XoNMoQm5Ac4kRt3bUD3PKj7YRTrZi4Qq6twvEvXcDxr2pGF5CFAKUQ92ugxmDbQ/uIyjmWnd4EBUXowkchnueT47+TNLjDv00JJgZjypMVgjw0tteg68Bi0FbLKXIVKI4YpibLssaQU9Q15ijUa1RgsdpilMJqEeflkrmEQYNVBAaoQDxpGR+vUCnF6EBTWx9SaA6cY7gIpRXaBlBJpHSXXckEKfk7QSV1I7knhlBmM6SCt5sm+bmNx+PxPC+xXvD2eDwez+8qFiNaXwAixnZpfvn/eujZNIq2mto58LJ3LqLz2DrnXc3ppK0imIIf/8NGeh9R6ChHfv4I57x9CYtf0IoNnPZXaYjcQxXY9ugAOzcMM7xLMTloUNbS0JJjzjKYd0QzC1e3EdSAFTkOayBQMqD1bhni8fv60CZP/dyQY160mFDB5vv3sO3hEfp3GawuccRJjaw6upsN65/ATAUYC41z6zj6jIWoGrcgkIzETnDfu22MLY/0UZ6KsWGFxWvms/jIOVgtQno0DtvXD9GzcYjB7SFT42WMiWhsqaF1gWXeyiZWntAOBSurGC7OaT4rOZsbqwkjRWUYvvk3DzO6XZGP66CuzBEvbuKkC+dR0+qOeDMaGyjiRPMcBahYNO4mVKClSNIT1iPNI7dtY7SvhFWGZce2s3DFXCaHYd2tO+jbGDMxVKK2scypFy6n8+h6DAYzrtm5cR/9Tw4yvBNG9sXEsSKsUTR3aNqX5zjyxIXUzlHY0FktWNDKea63YOKAwCrGB8psebCX4W0V9vUZpsYtOtA0z9W0LQ9YfXIXLV0hRhtUFNL7xF62P7aHuJTDKilwDam3fZm4uBTmYcHyNhavmYuusaCi1NTeqtjNaXQqu3s8Ho/n+cWhEryDT3/6U5/OCt4AU8USU8USba1NTvDef7gpFktMTZVoaZF7kuez/3s8Ho/n+YxoMMFQHoWt9w8ztq+MtTnCOsXKE5tomJfDajlnWp4wqJJm8+37GOu3oEIK7RXWrJ1Lw5w8aIPBiDAUK0r7LHdfs537ftbProenmOizlIegOGIZ2VOkd9skOx8fpjQOnYvrCZxgiRYXYVjF9nVj3Pqd3fRvipkcKXHkMZ1svGsPd/1wN32bSpQGFaXJInO6FUuWzOW26zfx5N1FejdG7OsbZ+ULuijUu3AB647doqLYcOse7r26j90bJujfPczKI+bTuqAOrRR2yvLgNcPce+1udj06xVB/heKYojyqGOkr0betyI7NYwzuGaeto4maJoXSTnhOh20RJJVV6Fixe/0ED980QFhuwhLRON9y+kWLqe8OZKVBSTxjINYGrYx4h9cKG4omXDkbbWNjWeAoK2751naeuHOC3ZvHmDO3kebaRm7//k423DrI0M6I4mhEuTLOmhMWUN8esOvBCrd8cxMbbx1i+/opRvqgOAilYc3UkGGwr8juJyfZt2eCuV311DXkUK5MZC+/1AbKih0PTXDLd3aw+fZ99D1RZmyvojQSMjUCQ/0ldj4xTs+uAZpa8jS316Mqii0P9nPftTvpWRfRu6lC3+Ml9mwq0rexQs/mCr1PTNGzaZLex8vs3jZCc1stXUtbUYWs1UKi6Za//czG4/F4nr9UopiJiUnq6+vI58L9BG+AKIoZH5+ktq6Wmnxu5tdeNe3xeDyew0EyIom2UGQYMV/WTrxKblPJXbFCTwUMbigytLNEoEIqYYnm7jrmzK93athANOkGivtibvnOVh6+fh9xfxO5uBWrFLmWiLClAgWLmaqh3NPAg9f0cPPXt1IajsCZaMv+YdBxHblKK7XlVhio49FfDHHnj/ZQ2lMj3tPDMiacpGVePYWOgJVHLYeojprKXKL+WrY+0I8qy9FoyUKDsjA5aNizOSY3NofaaC7dHd10LG4U4TdSbLpjgHuu3kq5t4awUkN9a0DrIkPbMkvjHIUyIeWRHDuf2Mf4yOQBhmzn392KyfqWDT0EpVp0nANtWHZcGy1LQiJtRNNvlXg218adiV4tAJtoda3FWIMScza0gbDUQL7YSk1pLgObAh740R623zmBHVeowBDlSxTmaBrbC+zdNcEvvv0AvY9WKA3lMXEOVRNT02qoaa2ggghVroHhJnbcV+Leq/dSHBVna5YYlEVZjSlqnrhrjJ9++Qn2PJJDjbajbQ2qYMm1GsKmmFhFBFGB4rAsxmiS/fmWGLeoYDXWKrGPtwG5uJF8sZ3aUjs1pXZqaKChvgadd8ewJXb0OJMCL3J7PL2vr+sAAP/0SURBVB6P5xDgNd4ej8fjOWzIaKApj1q23j/G+EAFZUPyNTHLj2qmtimHLcHkUIWBbUWeuHeAB37ez/iekFhBMKfMGRctom1RDpQ4U1M2QJUVD924m0dvGSScrAcb09CpOOKMZlad0cKCo2tp7cgzuGcSSgFhpcDw4Ci5es3cJY2yL1uJpnjvliI7HhwhjEJMpBjoj5kaKdPYGrDm1BYWvKCG7jX1LD6mnbrWAoVCDU8+PEw0odAW8jUVFq2ZQ1Bn3f5pi441Q1um2HDLPiojOYLQsOqUVhYd34yuUURDcOdPNjOxJ0SZgNomeNElHZzw8m5WnjyHuYsL1DQoxqaGOOEli1lx/BxUzmm80zFWfleIg7ZoRLH+9l7Gdmu0zRHnpjjuJfNoXZSHwKKUErNrt3dZxxplNMooiJ3jOKvQShzDKeWObCvDpttGKO61aBtQmlTs3T2BMSW6Vtew8rQGOo8ssGh1MwtWt9DQlKc0mGPHjl4a54YcdWorq05tZvmJrSw8qp7aZs3YUAVbVKg4x9jEOIvWNNPQGRIHkQjPsabv8XFu+d4Wyv215EyIDcu0rwg54swGVp7ayqKj6mluzzExMcAJZy9h+UlzIBejtMYqQ31bjvkr6llwRC1da2rpWlWge0UdlaJoy7VR2LDMkhc0cvx5XeSbtewTV0FmLiNHqiWO/Dwej8fz/ORQaLy94O3xeDyeQ444yIqdZ3FDaUyx5YExxvZFhCaHrcT07h5h4wP9bLyjj013DrD5jmF2PFxkcq94N6trt5x2wTyWndyEyjtHYoC2mpHtcOv3NxMN1oCtRTfFnHJhF8e+tJ2OlXXMXdxA14pm6mvybNs8jKrkiCuaiVKJruWN1LXlZHyzioFtJbY+tI8gzmEMTJVKtCywvPiyhaw5ay6Ljm5hwco51DUXIIRcTjOwwzLUO46OAozSzFvZQMNc56VbAWVFzwMTPHH/PmykqWmBI85qo2VJDqVhrE/x8K/6KQ+HWCxLj+7g5EvmUJijKbRoWrtr6VrdzKIXNLHoyDbCWif/KTKbvJPj1URLXRpWbLx7D6W9Rjyu1JY47qXd1M8FVEW0vyhUBLqs0CWFqoj2XVVka7OKXMiBwlqF0gZVtmy+c5SJPQaMolKOKAUTHHH6HE597QJWnDyHxUe00bG4RZy3hdDYlqe+I+Cklyxk5SntzF/dSMuCWuYsqqNrURPjQ1MM7ppExQXKlYiGzoDuI+pFvW4M0WjIwzf0sOvRScIojw2KNC6qcP5bV7DspDnMXVLL3MV1dK9oZuGRzSw8spWwXpTVSikaW+tYsKKdhavaWLCmlYVrWlm4oo2crmfrujGmhgwqiNEto7z0TStoWpiD0Dlid3Mat6QhdTkzz/F4PB7P849DIXjPZrfm8Xg8Hs9vRsYBmCGREUWM0VahKyGD20P6NuYY2Jhj6IkcpYE67EQ9WtWSy+VZtqSDxrY8UQniWA4As1pjDDz58F6m+nOENo8JKiw7fg5HntFI0BIR56YwhRjVZFmytoXlx3UQhWUCW8fgdkvvxglUWQR4Z22OsRajwOiY1nkBZ71+KV0nNaBbIaoBU2OxuRijYnI1sOb4PLnGCKs0I3sr9D45QhwFIqwSYCqWnRumsOUQE0S0LILOZU0Qyh5qYwAdggpQSjG8b4TJITGDjzXEOYturtC+tEDQEGM1YsvuTNnlqmayUppKCSpFOcJMqZgwVNQ2KFAWTSgO72Lo3TzGP7//53z+PTfzj+/5FZ9/z4184b2/4vNX/Ip/fP+N3PT9DUQlUFreY5XLHzkFDaXKrD5pDqdcsoCmxSG2toTJV7A1hjiwmNDStDDHiecvZu6qesImsHkwYvVNvlGzeM0cwoI4ZNWxZqhnHF3WhHGIJs++7RNsf6RIUKzDqpj8HMN5b1hF89I81MXYfIwtxAQthvYV9YRNRoR2lDjQCxBP57VWyi6EyX0xD/xiNwO7RtBhBdM0ydpXL6FlZR6TQ0zw0RhkG4K1LouTy+PxeDye3wAveHs8Ho/nMKDd2VwhWs5nSoVcq8BoaOooMGdhnqbuPC2Lc4RzykR1ExTDUYpxifUP7OOaf3+Ce3/Ww9RgLHu7rSKehIGdE6ioTgSt3CRLjmzC1rijqUictVny9TB/pUbXxSKqFgP27pgkLrnjsiwoGxKQE6kwF9G1pkD78jpMzlJRlliJUC4eri0E0LqwnvauBqy22Dhm55MjlMajVFgrjxh6tw9hTY44jOlYUUNdK7KL2ioaW6BlXkisS2BgePcEv/rWNtbf3MtkXwVVUahKgIpDkVjFDjwjcO8vCVpkcUOcrYGygfswABOCDVFAGIfkpuZQW+wiX5pHTWkBweQ8clPd5KfmkavUp8doWdyiifxHbGNqGi0rj5tD7ZzkfTKVsEk+uZ3uKBfdyBKPwPCTJR67pY+7f7aVnRv2YisKYnl6cmRSjgCLAmykGNlToTiqwNZglGX+khYau8RkHlVdeLDKYp1An82IaYoIC7Zseez2fnY9OkHe5LG5KZYc28Syk1qweYvRLq1JgpMfiqqfAo/H4/F4fgP8SOLxeDyeQ45VYmKeCIiJ4zFlRMAptISsfWUbL3t3Fy+7YgEvfc8iXvn+xbz6Txdx1lsWEcwZw8YxjNSx/pf9PH77HpgUuas4HjE+UkQRYG1EWCgzZ56cgWUBrXIibCmDzkFde0C+1mKJCHTA8J5x4nLsVPEQE2Oslb3BgaGmVZGvlwUClQyURgRKq2MIYpo6CixY2YTOK2w5pG/LBOO9FUlnBP3bi0yMGAw5gjpYctR8yIlpO1aTa4STzl1ArqmECSpEZc22hye49du9XPNPj3HXN3YyuUXDlBanYybJy0QanCEcWsgVIMhZtM4DOaKSoTzlygODkkIgtiVMUCIKprBhiViV0VhCAwUbEogXNhdwgLUaS5yeua3yES3tdXK2uMa5d1Noo9DG5ZlVUILRrXDHN/u4+h82cN2/Pslt3+znnh+Nsu6WMeJijkAHaKUwRo4PwzlGGxouUS7FaKvRoaGzK0++PqjOWlK1dmob7lKZHpvuPpIz3ge3wEM392BLEBlDfWeeY8/qpq4tB8mGOveQHKE6TXT3eDwej+c3xgveHo/H4znEOI2kEslWpcK3RamYWEdUdImGhTBnmaZtWY6WpXnaV9XSfUwdR7+kkde9/zjmLC4QKAVDNWy6fYSh3VNgII4tlSjRxlrC0FJTK7KiMgHKiOiEtVgFOq/QSs5xjjGUoljkSokc6MS0WGGMM1m2oIwltBBaCUsEfU2sYnRdzNLj2sm3lAiCkPJQwLaHKrJPughbHu7BxCFGVZjbXUvnsjyETkOrweRh3lH1XPD2I5h3FKjmEiYKscPNjD/RwMPXDPH1v7yLX/73NtGAx1rMBNBO6BRP8fKfaMMLtVDTYImtBpPDRpbhvSWRRBVYLEZZOpc0c9F7TuGS9x/DRVccy0suX01TZw4wGFPB2tgJouJ8TpS+VkywtSJ2B7opDNhIFgWsRsWyjUDFMLqjwq/+awf/+9d38dBP99GzPmK0t4wylqb2PK3z6lG5gNhYDBYVOO28FrP2UqmCNnKetwoiwjqLCiX+on3XEjcjcUSJxh13YprkjJW47K5wyw+foDxcK97aG0qc8vJFzD9KykQWVyxKyeKGkmoFSU1W7rxvj8fj8Xh+A7zg7fF4PJ5DTEZAxKljk9+UFe1roLFKi1ZZixCpkW3PJjQ0zM/RdUQNtlBCmYDJQZjcVwGQc7+188ZtwRiFMQqNRiu3b9smrrFEetImQJtQlNy5zOinACVHWFlkY3AiYgVJ1K0l0BKmtiEBeazStC1UdCzLEVFCRzl2b9qLGYNoEEZ2l7AGVFhk2RHtUBANPCoW02i3B7n7uAZe+rY1nHJpJ0uOayRorlBWJZSuwRTb2HDHGLd/ZwfjvRFYcXjmREMXy6rgHdZAa2etM/cGrUJ2Pd4vJtyI8Ggx6EboOkEz/yTDgpOg81iLqouwKofSOawK5DzvrGtVqzAExEocyEkUEpMAiRdOYB3fV+HW725nw82DMNYEgaJzRZ7jX97MGZfP44IrVnDO5UsJGiNsELqlmer55FopcipAWwvWYLFUZC0Ek0jELulp/Nxv2jprdEBZQ3nc8thtexl4oghRDhPCiuPbWHlKIzZ0C0POil8E78g5BqwGa5V12ww8Ho/H43nmeMHb4/F4PIcBhUInYqF8YgO0zYENxY7byj5rqyxKW5Tbdo2y6BAKdfJ7rALKsSKqSGBhTUC+RqO07PuOKprRMTeiWZuaVFtE6I4mDFEkR2RpDLW1OVTgBD0Aq9HO+zpKTLslBRotrs8BOfdap9p8RVAHa47vQudiQptjsHecsb0RA70VxgcVEJFvqrBgTUEio5BFBytSZKyteACfl+MF53Zz9h9084r3LGDFGXVUwnG0CQinGtj9UImt9w0TlySYODGntrETGt2RVwWYv6wVlYuIidE2ZNfmUUb3gKQ8Em2+UmKNEMp+dUKIA9HpGisO4sS03smzFrS1hNagk8K0EmZi6m21Eom3Apvv7GH3+lF0VEesK6w4uZlz37aYky9eyhFnzKN1cY6wMRazfScgY+OsFE1dQ4DKR6A1thIyNQzGOcRLhHQxLAdrXZm4YJy8jo0D9mya4PE7B7GTedAV2hbWcOy586EOKWvtwlE4jb2rm2kui24/2cfu8Xg8Hs8zxY8kHo/H4znkKOsMzBNhSomZsFFKzHa1QRmwaKw1IvRpiK1CmYB4wjLWH2MqIhwRxuhApL66OkVrZw1xWAECTLnA1sdGoSSCt8VgrQUVEBdhYGuZ4kRMTEwYlule3EpY0Kn2VFvQVo4/M8oJgOLHTaKuVHqUV+K8zCrxV7ZgTS3tCxswKiKeDHjy4T30PT5GcSxAaViwspWGrjw2VMSJsGpElg+STeQBUICa7oCuFzZw3tsWc/7lK8g3llEoyhM5+ndMUpk0zvu6mKzLqoVIyAaFCWHxmjbqOwxBIcKUQyZ6Ax791S6iQUtgcs5BneSNNZJAyYUKSsdVbbqWfJR3idie3JkVyEHOBrdK8mtiCHofK8FUAaymcW4tp17YSeuSGlQDVIISBGAs6CAQSdk5g0sC16GieV6OsM4SWQOVWnZvnmBiXwUVKayV2KBkdUUZBUaEY8kXkZcn+2Ju/v4WJvotCk3dXDj+JW20r8xL+qx4Lpc1IIvVItTLpUElZuig/XTJ4/F4PL8hfiTxeDwez+FHgVUREUVMWCamJNKnVSIA2qoQpSLFjkfH2LFhHB3nQZWpa4LalhClDEEOFq9px9ZFVJTFVmrZsX6I4Z4yVGQvtLISzvCuCk8+Moau5FFBhUKLZd7SAkEetPNSrhBtu7KgEUFTFgycpzDcAoESEUx+l8WEsClg4TFNxIUiNsqxe32JvU9GmJImV8izYHkLNfU5WXhAjkQDUTiP9hcZ7p0SU/AYYisOzHVBMXd1DU3zcpSDEnEQUzZFjDJoJXK6SvIUsRiIkCzMtyiOPW0ecW6MINDEY3k23jnOw7/YC6MKXQmSjcuyFSCWc71zsSIwFZQ1qYG5UREm0US7IjJKyTnlLhFSbC5NgImgXJTwFVBTW0tQqyEQeT8ggBKM9RcpFeU4NjHxr6I0/H/2/jvOjuM80IWfqu5zJgcMJmAwyDmTAIjATIqUZFlxbWVRcpK11koO1+sr2dfrtb37edfe6+t1WltZokSKVmZOIEAQGUQkSOSc8+R4TnfV98dbfU7PwYAEKZKirHr4a2JOd3Xlqq636q23RrVUM6qlGh0atCmj43TEwU3tqEGFjt3ebqMgBjsE/Z0G0MRuN3bUBztWXKLzuEGTIdZ5plzXxOSFjXKKm7EEiRkCqzBOjV+qonJlHYrhOJuaGPB4PB6P5zXiBW+Px+PxvAEkUo273AJtoDWB0ZRHFah+je5XBP0a3Q9cUnTsMay9/yQbfniSXLslsCGqLGLMlAx1LRWF1e/xcypomhJgwxxaZWg/kef5h87TcyxG9QeofkXPMdj88Cl6zkSouByTMbTOqKB5YpWsiBcMlGm0DQmNrHynUlBQNRaBOznr2a00AzoDrfOyVDRqjA05fzTP6UP9WGupqIfR46tQZcnquUiwxmhyF2HDDw6z8t5DHN/Uh+2BTA6CHJCH3jM5etvzBDYgoxW1tRWEocRXZP7iCrSRhX7J4gCmLa1n3Kx6hugnICTfrtnx+EWe+vphjj8/QHxRoQYUqkfRcQC2PHiR/nOKwIQESiYibCyStk5Wo52hNW0RgVVSL6vVyUSA1aLFHlqMMiiVoac9T/cJA/1idI6ukINretj48HHo1gQmSZCT5t1kQm1ThnHzqzGZHFpZgkHFi89eZMeTF7GdoAeAPug5Cet/cIrNj54g6oCMClA5OL7zEgc2nyYbVaJjRXVNOYsWNRPkIL6s4JKGcxp1UWEvaUyPdrYARVOjKGfbYh32eDwej+enQFkbJ189cJ+Y9o5u2ju6mDq5zdlOGS6fW6Czs5v29i4mTWpDa9wHWD7YXp73eDyeX2Rkv7QIL7Ji2HsyZuVXTnF2fx8qlyHUClPZSy7sResQYyJUGGBzITpfTSZfBiYiDvppnpPhrk/NomZcCFkR6HUccH7PIE/de4ieUwE6yqKDIXTFABX1ogbe1xljeqrIRlXk9SB10wzv/PUZjJ6Skf3IVlTi9zzbw9qvnCDMVxNVdTH/vbXc+P5JmArj1mITg2aSskQZGWTVdaDTsuaB0xxeM0AQhbLPuHyQScs1d98zk3BUDEFAnOxhHzTseOwUOx6/QL63nLAsorwhZtqCcVRUZ2k/38ORnR2YvipsHmqaB7ntkxOYsLRWjkZXEhO5NLHSBeNmIUDOcvlgng0/OcHJl3oIoxqUDSGTY0j1oCqGyNtBAlVGxtSg+kNUFIKOoWqARe9uYvF7x0F5DEqhewIe/l+HObdH1NzLmwZ4/+cXMGq2MxKXiKkGbLdi0yNH2flkN/TXokKLquqmaVw5ZRWaSxcG6bkckclnyUZl2DggF+ZpXDDEh35/AaZG0qciyHVYVn77CMe39pLJlRNbRVTeh6rqZXTjKPJDMT3tOcxQOap2kFs+OI55t46h4+Qgq+49SvtBg87VgIqIg0FM5RC5YBBFjoyRLQ1GaYYy/Uxb3MxdH5xNZaPTTijYepNT4ROFc4/H4/H84mGB/oEhzp+/RHNTI1WVZYX54rSbwcEhzp67RENjA/XVFcMd+K+Ix+PxeF5/iirZyaqoBYw2xDqHCmWFMx4sQ/ePQvXWEfTXo7prYLASG8OQ6kOPiph6YxW3fWwateNDyELsdH6tgsapFdz6K+OpnxRBtg+MIe6toP9sFb3Hy7E9NWACokwvo6ZZbv3QJBqnZCB065duETPGkg8M+SDC6Dw4q9aaogG2ZHpaWTE8pqwzkqagolIzYVodQWVeVOF1gA0ixs0eRaZazrdK1NhDDPl8jMpCWKVQOoLBDLnTFbz05EW2/Ogkh9d1YnoDjMmjqnPMua2Rtjl1qMSYeGEaICj8pRA1dJSFTEzjjJBbPzaeqcuriat7yQcD2DyURzWEPXWU9zUT9tZDXwjGEGUHiOsHmHdbAzOWtaCyonufDBJiZYmDPEbnsSpfnFixyDFxyBFkuhJm3NBCdWuIzQ7JcWPdGS7vH+L0zh76Lhh0FqYuqqZxYpY46MeoAWdZXsIyCmxoyY6yLHvfOMYuKGOwvJ84kyOIsgSdTXQeUPQdD1F9VSJAm5jeriGiIUvvhRwdZ3NEcUgcRMTKgAlQ/VWEfY0EfY3ogVHo/jpUfx3BUBV6KOuOopNoSK0Vkjz2eDwej+enIfiLv/jzvygOKYSBwSEGBodoGFXrVryv/OgMDg4xMDBEfb24Sd5P/9/j8Xg8v5iYGJTS8jWwMNSXZ9+Lx+noOU8c9hNleshn+kXgCweIVC82M4iqMtSOy3Ddba0sfHsDs29rpqYti804dW0lx4YZZdEB1DdWMHZKNbm4j4uXLxNFBoIMkYox4RBBTS9zbx3F8vdPpGVmBWQUVsUoZdAiqXL6xGUO7jmO0QPE5d20zqhg/MxmOU8s+Twqp1KtRK9buf3exorhtcogw7GXLpLrBAjJNMTc9P7xlI3SKK1EfHPnmmczGZrH1jN2ajUqULR3nicf50CFItBmIvJBL1VjLYvf0cr8u8cQ1sn5ZsXvrVwKhXbfae2m3y0GAkVZbYa26XU0jK1gMN9DV/clDDliYpla0DGR7ieoG2TsvGqWvXcC825rpnJ0iA1dGEpjjGLX1oNc7ryEyfZgq3uZtXQ8VaNDZ4DMWYtzx8dV1mYY1ZDl/LkzDPR3yzNlyAcDlLfALe+fznV3jaart59jZ46Rz/RS0WKYu3wiKiPxF4N2iorqkLGTaymv1VxoP8tgLi9HvqmIODNEPtNDTZvhlvdPZ+bS0ZTVhFw+18u+3UfIm36iTC/5bBc66MMEveQz/cRhH1HYRxQOkssMkM/0UN8aMvW6FrLlwXCpG6dCj1jF93g8Hs8vJvkopq+vn6qqSrKZ8IoVb4Aoiunt7aeisoLybKb0sVc193g8Hs/rj3VHcllrMMYQmJCo32AL+tYp4ca6CyfgZiAoU6hQi/Vpd46yIkBZEeadzW20VSgD8SDEnYb204oTx7pQoWJsWzWNExRhnUaXKbHarQKxZJYIijbADBnifiOnRwWgyxVBmQhg1p2fpVCogsV0t+/bBiJ4GkXvEXjsX3bTdTzAhIpJS2v5pc+Ndfu7RfBMjMkVLI0ZMINg+mN6zsKJQ930DwwyqqGWtinlVDQrgkrtVvrlfOu0ZvdwRO0clzcRAAptI1QcYAYscaeh+xxcODdEd1c/NXVVtIwro24MUKMIyzVKG5QSq+MosViuDMR9MTbvyi6AsCJAlUlozkIZ1oZSNnkDRmF6LN2nLCcOdYFStE2tpXaiIlOl0RriIUs8YECDykJQGWJsTKBES8AqZ/TOaEzOEvUbes/BqcMD9Hb30txaR8vEDOWNirBCozJiGd/mJL4kR28rdzIYzoJ8CVaDzirCMi3aGG4kU5hUSM6jH2GQ5fF4PJ5//9jXSdXcC94ej8fjed2x1mBNjNIipCobQOx0pXEmxN1XA0S4wwCBxQQRRkVoytyXKZGatByHhQITY1QEWqFjsCbEWlmVVFaOK8P9TqyUJyvCOBVxqzTGGjAWZaxod8nJVGjlhFgt7yRfSEMk52e7A6as1ahcyMHnulhz3zFMfwWmupe775nJtNsqwa3UW+WE9cL30UgWmKLBNFuMGsqpXLuzzgrG2XRaB22YAJ4WvN2lwJpY3oklP5Kz1RNXSosV79hFTcWWQBmMjVA6IyvjSkNk0W4fOcqilIJA1M3FP1GAV0aEcG21HPHl4miTtBTSIWkVAR+slomJAIuKwWotEysqcIbdwBgXkpUj3gqBK8kjdJ5IgSVLECsxEoc7tty6EYpKYuribRXGWnSSz9agdbKR3lVKq13mSFo8Ho/H84uFfZ0Eby8hezwej+eNwZ15DU4AC91XJxC1aQLrLiCIIRM7+cainVE2EbpClA3cxK6T5FBoMmgTiIeB8z+AOGOJQ4PJWFmU1taplduigGplshgVoXSECgwEFqutLITrCLTsWxar3hKqJUDh9gPHGp0L6Dg6xK71F7D5cmKdo3FiGS0zQwitGCxTcWq/e0pQtci54YHFaCtpD5H3QoMK3MSFNYUd88n7SS4UKX7OE8FdG5ePSrn8VsQhxBmIszEma4gDgymkNS5MTmiUOyPc7XAulJtTFFDFSQMQoTYJXKkIo2LiMCLKxEQZiwklbxOXBmeYLZDJFqUNGjneLfEqOTs7VjFxEGMCiw3lMtpAaMTYXuAKyco7FkukIQrABBaCiDi0RKHM/RDErnwNRsXoEDlXXmLlJnqSmSBJ3Ug57vF4PB7Pq8EL3h6Px+N53UnEFDmjOwA0VolVbGtF6LQWJ9zJ+dDWqRhjQpTJpERId9mi6GmVwhotl9LO9rTFKvlL2dBJh05ocsd/JSJUEj+38I4iLKxsWpScqZ16QYRvt798SNF+IM/57YOceK6Xp755nPMHInI5S1gfMe+WFqqasrLibBMhzhllMxaNwbqlXqU0xkYgJ3EXhHyrjFsld8KfpfB3MQ3F94r3RDXfibaSbSisFW0DqyyxEpV5nKCarN5rLNaIITKrMlgbyMq/MWgVS1qs2+dezEER8t0lC9GSNhHfFdZamTgw4lpU7y0QoTFoIwoKCoUxYLR25Q1YmTwwGJkkIZbylewkthGxtlitsTpEEaCNQjvDcIG1YCzGgsFiiVNnr4kWhI0NiaG6RNNBcKlKlsw9Ho/H4/kp8IK3x+PxeF53LIDSaC0rriKspU1Gy73kSlbHrUhDiXQnfikKghyIEGQAWex26sPaEmhDYA2BO29aNJsTf5xAmpblncCtbLaghq2sdqvEmcIasziV2Gljiftjnn7gGN//3wd49CvH6DhiZBN2xQAzbmhk4nWNqIwTPMWEexJzuaxBKxEerUVWtVVeLHs74TWJnbWhrFi78IeRpKfwG7ff2gn7iXCK26vuzugOgNCGBFa0CpQNwIYinAcao0XnINaKGIsprERLnMGinPAs6dESFSfMKkLJO6PRVpNVFm1Fe8Aq8dOqSN4xYiBOVL5DUBmZmFGiAYCSOIYmILQhOjF0lpSKCiSNShErEZK1mAZAW7eFwIaEVhEgEwAQShxddioduOPYwkTlQOqaqD74oZLH4/F4Xhf818Tj8Xg8rztaJbuR3WdG4VZAS5E7Tvy68lFyc9hDEa5EYHfCe+GR868g0SMWyFUirLm9ukr8IYlncq/glxM2CxiwMUQQdRl6Lg1BVE2GWgJryGcvMG5JhoXvGEPFKETywzrhLp0HyR/yQyySOwFdqeLcgtKSh4XnxXdSb6cjnEIsgsubzji7S2/BQFvKl+IvKYMk60RPQRE4C+6Sj871sExPo4AArSDQkj63wdv9kPgka+zF9AZo7Sy0O4vmylmSL0QK509yS8skSSKKS+2SNGrtUqODQtkX3QgyKeTsAhSry1V42Ycej8fj8bwiXvD2eDwez+uOyEpOAHRX8b9EjHHCV4n7tNBVdDtcAEv7U/zlBOyCwC1+lroqvdI/5B1LYC1BotquRIXdOm33vFXUjM9TO7WfiqmdtC1WvPu35vPOT86mpi1028etW31WIjgXoy55MSydIYqMiIbDHaYmENKiZXIl+ee0B9y9gog5LB+Tv91/6XIp/JnEqfS3CKhFIbU0w9I/i+kq3lcF4VduuzwpBOTedU6T49GSm0lcUhGTeCP3daquDCPlfzrcEZ9d8XIxTcUfHo/H4/G8drxVc4/H4/F40jiVacCpc0eyx5hAFLWNgkj2a6vEwrdNpEZ5x2oj51ETuDO/E78TfewRRUWPx+PxeDxvMay3au7xeDwez5uFFsHbyCopIXJUWMZigrho8VsZDBHIQVxFCb4gzDuBO63F7vF4PB6P5989XvD2eDwejyeNSla6E6E5kOPMLATKWeh2Gl6JkrN16uhoI1rVzp/CarjH4/F4PJ5faLzg7fF4PB5PKQXBW7m91dodYyVHeIn1dbdvmWRjcqJC7rCJtew0iap5yW2Px+PxeDz/rvGCt8fj8Xg8w5BzruVKL1grIBDjYdq5U7jjtygYOkvU0q+QrpNt3V7o9ng8Ho/nFw4veHs8Ho/HMwKyJTt9rJgza261M5JmnLq5W/dOrIarZIXcrYZ7Ydvj8Xg8nl94vODt8Xg8Hs8IiLg9klq4KgrcFrffO2U87Qr1co/H4/F4PL/oeMHb4/F4PJ5hiEq5nJoduHsWiAHjfgfuE5pcV+EKGTxRRb/igcfj8Xg8nn/HvMxowePxeDyeX0yUVSir3b9OSFaypzuxZ24Ta+YFg2nWqaAnJDvEi1f6l8fj8Xg8nl8cvODt8Xg8Hs+IXLkqLdu1LUqlrxiUuULIvvLyeDwej8fzi4oXvD0ej8fjuSacpfIr5PHEepoafpyYSt2/8iWPx+PxeDy/QHjB2+PxeDyeUkpl5iuE6PSV7Nl2l0oE8Cuv9C+Px+PxeDy/OHjB2+PxeDye14wXpT0ej8fj8bwyXvD2eDwej8fj8Xg8Ho/nDcQL3h6Px+PxeDwej8fj8byBeMHb4/F4PB6Px+PxeDyeNxAveHs8Ho/H4/F4PB6Px/MG4gVvj8fj8Xg8Ho/H4/F43kC84O3xeDwej8fj8Xg8Hs8biBe8PR6Px+PxeDwej8fjeQPxgrfH4/F4PB6Px+PxeDxvIF7w9ng8nrcoNnWNdN/zVudqJfjvkVdK56vJi2t15/F4PB7Pzw9e8PZ43hJYwIww2EzuJ9cvKhasKRmPGyw2NZwvzcORBu8/u/wcFptipCVp6ecl9yWWEt+S17DWYlP3Pa8nxuVtaT0zw+riFeVW+DMpm7hY12y6zEpLLCntN79uvhbS9VD+H4N1GVLyvNg24+GeXBXn3xV5UppnCW9yng1P3LBbpT9KnRbyIpVXr4VhwZcGUhqfVNhX1rs0Lm7JnyVOR7glXPXB60USrzc0EI/H43nD8YK3x+P5+eYNH/S9XrxSREd+fuWdNDJ4fxNFDk+Bkctr+G0nLFzh9IobP4ek0/Aq01J4NfmjNI9+Hmp0Ku4jMvz+y7l8bbxS+JQ8eyW3L8fPQ3l4PB7PWx8veHs8np8PlLtGuHXlo59mkPlGMUKcChEf4ZmjkC4LamQnnjcEjXJXUgqF4lJIYaiR6l6a4rsJ6hXf+XnmylQNT2vp87TwmK7c6aHJlXn4s8fFV12tURbTk8T8ijK/4sZrYaSwE0rz9FUyQvxGuCVc9YHH4/F40njB2+Px/HxROsArHfS97Hiz1PHPgrTqrKgyFyNsr1hdUji1ZgAMqnDhunCN9mqYbyKllS1dniOVwc+6vr0ZvMp2Ncz51fLtrSpwm8KkS5HhbbogjF+1L1IjtvXXRmkdLK2LotYuUbqW/EzcpOOWDBUTv38WXEvcPR6P562NF7w9nrcoyZjtqmM3z1V4pRz72QzghskaJXLK8BgnDywK6365F4ZFXZ79bFLzC4IrmOELm1IqV7RNJS/Y0oIefuPK935OSVKlCunR2CS5gLJWJo3AuSitrSUCd0m+jZjHP1OKMUnHKx2/kdtiMlGWpIhhafupSQfurpH9Ve4/SkK2hbJIepyiDYL0XvSRfX1zSNc2j8fj+fnFC94ez1sa5ZspXCUfrrIiVhifXeX5zwxZnU6nQ4aykjZbuJI4J8PgZLj8VkrLLzpJfRxeponQmbgpqqqn664CghHqc6mfb3WkThbr8LXU0au1ydJ71+LXz4rScrrKpXQqGckkQ1p4/enKWHqF1FYI57X8UxqfdF6WxiP1e5hsnQjkpfd+lgK4x+Px/Hzz0/X8Ho/ndcHa4mVM0dCQKSwYWffcYtxNY4xYSE5daRJ36d+Ju+RZ8s5I90v9K72Xfqf0/khhXY20v1cLI30ZI1a8jQFjwViLsbYoCBTyUu4nQ0U7zH8l75ekNx12Og7pv1/ObZpSN0mckvCT9epk9cskkVRgrLOkbU0hL401GJPKz2EWtYcvc72auBkj/lqb5KfUwWFhjZCe9L3Suph+drX3Sn+Xuk38TT8f6d00I4U1UhpK/bvab9kGYLA2dtbMJcNNnK5TyaXkj9Q9LFhb2k7TzySNpfmXXCO1rdJ4Xu3vkd67mrvSZyO9d8U9IxfWEscGA0Rx2u9EbjOYZOHUvVsoVxTGTTZZWyyrpA8sBivtNd0ehsUl3eZLyjv9d/q9V2KkMiF51xbttEt7kXes+7fwLkk9SRqrEoP4BmJjcdlXqA8vR2neFR84P1x/YoySOLk+Ml1J5X25Sj1JomBil6YkbamoGROn6rN4K/2wRWqA8+0qdSaN3Ev1b6lDK5I8TZfryO+PXD5Xu1f690iUvpu0z1LS9fBqdYVrDNuOUG+v5nfp75HC9Hg8b1284O3xvGUorkrk8yIMgQySZGAqH1el5O+RSH+EE3elH+Xk7ziWo33Sz5VSIw4Akuc2JSik3eAGCImfShXTkviZ9iu5RvIn+Tv9u/R5HBsRTpN7hcHZcGE2jk3hSg82rS3GsXQQWpre0nuvROn76bQX3RRVkKPY0Nc3QH9fHwODA8Sx5Im1IowoZCBdXAmXBFhrGBwcYnAoV8jHqw0GkzIrjVs6TpJHLp8KQV1Zh9J+FVyV1Ml0uaYZKfz0ewnpejRSHUm/m9yL4/iK58m7Vwun9F7aj4LIZJ3okfgJWGUZyuXp6+unr6+foaFcwY+CCONkLVCYWI7askBkDL39AwzmcleEX0qSr6X5nVCaxiTf0s9L3xvpXprkWak7YwxRFBXdudSJgGTp7x8kH0Wurl6JtE3xR7k5ithYV8eGh5u4kzCHt13ldP6Huxc/5HmxzibP0+koDacU6/I03YclSDykPQ7lInp7pfxzuSFMJOHEcSxxQNJoLW6SQv42xtI/6PLKHQWILQrtI5FOw7D+NG3+ATBWws3l8/T09NPb38dQLlcoE2tBKe3yP2k/xk1cQpSPGBwcJIpl0jI2MflcRH//oKtbpXmS7pWGt0eukvfpe4W25crVxIY4dv1VoX8vvlPah40URinpZ1frlxJK/Uncp9thEofSb1wppfF6uX4sfT99Lx1OOi4ej+fnl+Av/uLP/0I602JjHhgcYmBwiIZRtc4C65UNfXBwiIGBIerrxU3yfvr/Ho/n2pGPraKru5u16zbQ2dnF2LFj0DrZ26sKAwClFFpfOW9WOiBIUzpQSD7uSom/I7kr9S9xq7Ue9iy5fy1hp0mnYSQ3peEn9w4fPsqmTc9TW1tLVXWF9Dkuj+LYorXCGIvWmv37D7Jlyzbq6xuorKxw/ZUgaVGFvE2nZyTSeZb+N0160H61vLIWlILYWtas3cJf/83f8pMHH+XFnbtYuPB6KivKsVi0cmrmSssLqMKgub8/x3//q//Nnn0HmDd3DtmyTCE/0+FZK/lQisTDoJxK7KnTp1m3bj1lZWXU19e78IqD4kLvXlLOSVjp8EbKl9J7L+cuff9qbkp/p98b6e+RwkueJWWW5JNSqiBYJobsiur+is7uPr72tfv4l3/5CiueXoGyihkzpsv7hWyTskK5MlPi49Hjp/jT//LfKcuWM23qJIIgKMTn6nG8svwYof2k081V/COVf1d7niZd59PhaaVlV7BW7Nl7gL/5X39HPoqYNXNGyYjCgtIFAVFrEdqt1WglatDGiD9okcjz+ZiNG5/n2PETjBnTTBiGLp4i6En7UVjr8vhl0iLuimlI3L2c+4SkXlgrWz600lij6O0f4Ps/fIS///t/5qmnVtDd3cOcWTPIZDPi3gnBBkBZGUepAIviyOET/Plf/DVKKaZOm4xWQdJ1DeubEtJxT0j+Lm5CcXmnoLu7j699/X7+9Utf4aknV4C1zJwxA63TdcMW1l0sbqLNalau2sDf/+OXGdvWypgxo4ljy48ffJIvfeleFi26jpqaCudHUX1dykChsMMmP0bK29I8T5edRaG0pq+vnxUrVjE4OMTo0Q0EgUal6l5pfpT2ry9HoSyvEr9SEr9JpSnxo/QeKeF4pP6WVwi/1K+EOI7RWvKglNIJopHceDye1498FNPX109VVSXZTDhinx1FMb29/VRUVlCezZQ+9iveHs9bheSjeeLESb773e/y4IMPEkVGBjPWDZBSH+/0lTDSBz/9MU7cXm2gkvbraow08En+fqX3S5+Xxv/lkJUaRRzHrF+/ga997Wvs2btPBvUKTp05y7btuxgcGsIiA7UoMjz99AoeeOAB9u/fXxgYpikNP52/pfevhfRgLfGnmD8xIANxgJ6eQR56+FGam8fw6U9/mo997CPU1dbIc60BTRQbXnhxPwcPHSeOYwwKpQOsUXT3DTAwkJcBn1tdE4GvWB5KiWCTUJoOa2WlaceOnXzjG9/k+ee3DHObdi6/iwPP5F6akfKOkhWb5EpT+jt9r9TP9O+iGwpaAqXhW7fSly6X5F9jTKHdJHEsvq9ABfKvwwIv7d7H5i1beNtdd/IfP/sZli5fQhAEmEThdyQhypVpPjKu3IauSMNIeXA1kri/HKX+JfWh9PmV+VWM11UH/daAUxPPxxFd3b3kchFWDQ93eBpFwEomI6Io5qXd+zl46AhR5FbrtaKvb4AHHniA733/+1xu7ygI2kkDVm7yKt3dBUEwcjydcJLO43SZX420m0I+IYoqR4+d4tnVz7Fk2XI++58+wx133E5ZWRnYovDZ09fP1h0vcu78ZaxN/JGBW2/vIEO5vGjmKFfNikG/LMPLSoTmZJeDsbB7zwE2btrMHXfeyec+9zssX76UMKMK1gFL21JBgEZW8bu7+8jnI3ATBYODET09g0QGlC4K3MPedf5prQv1ZaT2Xlo+ye/kHWvh9Okz3HvvvTzxxBMMDPRDqq4n9TftT6nwmTDSPV7mfpF03aXw3RmOHjYZlqQ1qYMjxTN9n1SepcvCjKBNlkzMpd2l89vj8fx84Vutx/MWIfmYTpo0ic9+9rP82q99ijAsNlHl1H5JDR5L3x0+oBr+jJJBx5UDgOH3kkFCqZ8jhZ2OV3KvdChZ9C8ZqMjzJIy0mmw6/OJvg7WGMAy466638Ud/9AWuv36BDIaBF1/cy49+/BDdPb2iKmksYaj5wAc+wGc/+1kWLJg/TBhKBnLyd+lgdDg2JeSMlCelJPEe7jZJvyGZRuns6qKjo5MFCxZwyy3LmDt3NkEYFKwKS14pHn98FWvXPk8+lny1ieq5CmU9VqmS/C6GL//KvUQwTbtVSlaali9fzh/+4X/m1ltvLaxOptOp3Ep7FEUj1p3k7/RgcPj7xXdGEhiTe0nZJ3+TxLFk8Cu/k/oEuBVmiWfxXmlaE5J4lPqbPEu2LeDqV6IqbRUcP36cmro6br7lJm5YspjW1rEwTDvMukv+juMI64RVHYRYqzFu4P5ydamYT0WBLiHJk/T7I+Vdci+dznTdTxiprNKUupfVVkmnQYEOcNWzkHLXqRDHVkRupQCDde0/l8+zctVzPLdmI/l8XtJoobq6kt/+zGf47d/+DE2NjShn90DSOzxtxaCGq+Sn8yIhyc+XE1iS95IJtMLlVJ4VcObcBWJjuOmmG7nhhoVMmjwBpZVLl4TZ0d7F93/wIAcPH5PtCU7d26CJjeRX4jaKoivimiadptKySVSyk9cPHzlOdW0dt9wicRvb1kacile6LSU2MHAq6koHBYHbKmeLXWmUDmXiSta1sVb23It/xRaWzq+EpExK27zcS5Wje2f8hPH8/u//Ph/84K9SVVU97J3StI+UZ+nwSuMzkvs0hTZupa8skvQFco3QPKDE/5HSnNxPSLfhdNRKo2lLvsUj5UM6nR6P563L1b8+Ho/nzUPJCEYpqKqqYuGihUyePLk4QDKWfBRjrezF7ezsprOzm1w+kpHPCB9r3L7dwcEhjIV8ZOjo7KG3t7+wZ9hY6O8fpL29063AJQOL4YP6fBTT0dlFe0cXQ0N5F6/ixz+KYjo6u2nv6GYoF6G0Lgg/4oXsu87l8nR0dNHT08/gUJ5cPiaXj7AWtA7I52Oi2KKUJpfL097eRXd3nzxPVhgUjB07liVLF1NXXy/pNJaOri56+gboH4qITbJXVzFuXCtLliyhpqa6MHAHWb0ZGBjicnsn3T3dbi+9E4mVDETz+YgojlFauzR20dXdI3si04MfeREKg/tkr2VEZ2cX7e0dsoqUdgj09vSRy0UoFche1rSHzrBRLhfR0dnFwGCOXD4mn4+IjRMEUGgdglIM5obo6Oikp6cPY4zb75nUHwl1aChHe3unpGGYSjyMGt3AkmVLaGppkhhYMZaVjwzGSjw6u7rJ55MJEuVWfaQuGGvp7Orh8uVOBgZyTuaS/I5iQz4vZZIeNObyEZGr1wkiDCh6evq4dLmdvr7+wgC9KJzDwMAg7S691srZyUmZWyz9/f1cbu+gr3+AONkLW1KnO7u6uXy5nVwuX3zuSiiXj+jo6Kazo4coL+9YxDhWe3tnwTBWPorRgaiERolthkISLVEUi0Dq8isXxSidKawWlwoFhUG4y7uurh7aOzpFk8PlU+I2ig09vX1cunSZgYFBSXsqM42Rdm+cIcLevgHa27vI5Y3zX5HPx3R2dtPbO0A8zDiaGE1LtG6i2HC5vYOOzi5XZmIcTLouqWtKydRDIZ6uzHp6elwfk5M6qTWxhXxsuHSpk77+IQZzhlw+whhDmAmYO28Oc+fNIevUt8U/qWd9fQO0d3TQ2ztQbLepicO861NQioHBIakHff1XaKNcgbs1OJjjcnuHa+sU67kTVLu7u+S+VuRyRvZwWyPKEc4gX//AAB2dPQwMDJHLRYX+G6XROgAdYK2ir6+frq5e+gcGU71D0hcNr+t9ff3D2opVEhaIFo2xMpmnVEBsFPlIJvC0VrJfOy99WEdHN/koL/00YJL6GgO2KGCDxqCIY5e3FqnHkgyGcnna2zvp7O4mkowqxM0YqfvprYoWeUf29hedx8a4Pe+QLStjyfKlTJgs2zCs+45Frh+KIkNXVw+dXd1EcbGvlclT18ZykXwju+R7lM/H5HL5YZo/CYV8BgYHB7nc3kFvb69MfhYmXaREhoZydHR00t3dUyhPm2g5uT4lHznLi0i9McZKPxebwkq5MZZcLpb2mTd0d/fR29svdQzFwGCOy5e7pK3Frq0Waoa0g96+fi5fbi+8l9TRdHquTK3H4/lZ4/d4ezw/YwofSddszl9s5+HHnqG7p5eJE9pQFl7ae4hn126iuraO59as4/Enn2bz5u0cOnyMKVOnUlFWJh9fmzQ/0T88cvQkjz+9krrGFtZv2Mqjjz/J5fZ2pkybglWaJ554hieeXMX69VvYvecAFkVTSyNhEBSMfx08coIHH3mCZ55dw6YtOzh2/DQ1NbXUj6oFqzl6/DQPPfwkK1euZfPm7Rw8fJSqujrq62oJ3f48Y+HgoeP86CcP8+y6DTy/bQcvvnSAbdtfYueuFymvKKO6bhSPPLaCzu5Burp7eeihx1i9ej3bd+whF1smThiH0orYWF548QBPPfUsra1t5E3EihXPserZjVy6JML/S7v3kM1kGNPazObN21i3YQstzU3UVJWjUAxFho1bdvLgQ0+zZv0mtmzfSWdnP6MbGymrkLwcGjI8s2odJ8+dJx/BIw8/zapVq9my4wU6e/qZOnmSEzRk4Csr2WC0JkJx+OhJHnz4cZ59dh2bn9/B8RNnqKqpo25UHcZadu89wKNPrOLw4RMMDuQ4cuQojc1NjKqvkeKzmmPHTvLoY0+zZedeurp7OH3qFAf3HWLCuHGEYYZn125gdFMjdXV1PPLoEzz77Hq273iJGM248W2gYhSWyFh27zvIgw89xerVG9m2Yxdnz19m/PgJZLMZLJaDh0/w8KPPUF9bw+iGelCw/vmd7HxhL2FYxmNPPMPq1espr6yidUyLDOq0pP5SVw9PPv0sjz3xDJs2b2PvnoP0DwwwYeIEIqNYt2ErGzdvZXxbK5UVFVgsvf2DPP7Uas6db2fi+PGESmGsor27ixWr1vDEkytZu+F5Xtx9AGMUY1tbCMKAwcEc6zdt57HHn+G5NRvZvmM3ly630zaujUxZhnxkeWblGh59YgVr12/ipb0HyMXQ0tJEECpAc/L0BX74k8d49tnneP55qbOZsnIaG0djLRw6cooHH32SZ55Zw9atL3DoyBFqauvIlpWxctV61qzfwqXObto7uzh39hzTpk5h1+4DPL1iDWPHjqGmqhJQDA7mWL1+Mztf3MvMadMJtKKjvZdnVq9lzpzZzJo1mVAH8g11gqNSkqenzlzg0SdW8PQza1i/eRv79h2irLyCMS2NoBQ9vQM8+NAKVq5cw/qNm9mz9wiRUTQ2NxKGovLa2dnLjx96HBWWcfDgER5+6DHWrn+eA4dPMG7iBLp6u3nssad46qln2blzD0NDhgkTxhIEGqsUGzfvZMeufeQiy5NPPsMzK1ezddsuTp67yNhxY6kol5XQMxcusXHzNqZPm8L82TPQTjho7+zhmWfW8sSTz7Bp01b27j9CpqyS5pYmTp8+w08efJKtO1+kq3eQ06fPcvjAQUY3jqa8spwHH13B0RNnGD9uDNlQbBz09OV57PHVPLniWdatf57dew+QyydlG4AS2wc/+tGj6Ew5h46e4McPPcqaDZvZtWsP1TW1NDY1oVRRtEx6YRGyFOs3bOfRx1ewet1Gtu3cxfkLl2lqbqG8opw4jlizZiOrntvEmQsddHX1cO7MKSaMG0N1daX4ZOD5rS/w6JMrOXj4JN09PRw6eIhLlzoYP7aVrq4B1m7awsJFizhz9gwPP/IEG9Zv4eChY1TX1zG6oR6lYpl0iyzPPreBRx59gvXrN/PiS/sYyhtaxrQQhC6XlQhdfX0DrHhmPWvXP09HRw+dnd2cPXuGadMmE2ZCjhw7yw8fepxnV6/n+c3bOHr0FFU1tdTW1RKi0WgOHjrGrj0HWLr0eiaOa8XElpd27+fQ4WO84+7bqauVej0UG17YtZcnHn+alSvXsXXHixw9cZrWtnFUVpSDgo2bt7Nh3WbGjBlDRVUFFjh34TLf/f5D5PKxtGcVEBnLqjXr2b1vP5MmTqS/d4jv//hRBgYGGTu2BWsMz2/dxdadL1FXW8+jj65gxYo1bN66nfOX22ltG0NFeVbKU2v2HzjGD3/yCKufW8/WnbvY+dJetu94iV27dlNRUUFLc5MI6Mln0kL/wCAbN23joSee4rk1G9ix4yXaO7qYMGECYSYgjg2bn9/Jo48/w7NrN7BlxwucOXuBltZWKivK0W6i7uFHn+HI0VOMaxtDJpQJo67eQb7344eIjWZMUyNKK/YfOsITK1ZS3zCGdeu38NhjK+ju6WXy1Mns3X+I7//oEdas3czz217g9Lmz1NXVUFsrE8cDOcOGTdv5yUNPsnbjRna+8BK5XMSYsa3oICCXy7Ft2y6OHjvJ2LFjCuksHZeLiH7lfY/Hc3X8Hm+P598bCrp7enj2ufXs3rsPkFWMYyfO8fCjz/Dlr32HjVu2M27iNCIb8PiK53j86VVub6nb72fdMT/AmfPnWbVmAw8+8hRPr1xDw+gWmlvbMErxwwcf5UcPPkZ1zSjedvc7QWW49/7vs+ul/URGVkr27z/K3/39/+H57TuZPmsO1y9cwt59h9h34BCxsRw5doqvffO7rN+0nVmz5zN/wfVs2/kS//ylr7Frz35iI6tlp05f4F++/C1OnDnH7XfcyaKlN7Lthb0cPHaamlFNZMorGYoMazdu5YEfPsxXvnkfkYHWtgkcOHqK+x54kBOnzmJdfhw5fJxVq9bS3t5LFEVcbu+kq7uPKNJ0dvW6FcI8AHv37Wf1c+u53NGJdVbE167bzJe//h0ud/ax7MZbGd00hge+9xDfuu97sqcUiGLY9PwL/Ognj/Glr36Hjs5+2iZM4cTpC3zn/h9z6Ogpt+qcqElKnscWDh05yVe/+V02b93JrLkLmDdvIevWbeVfvvR1dh84Qmyhp3eAzu4eLAF9fQN0dXUxmBsApVCIwaX+gUFOn7tEfy7PwFCey+2ddHZ0YyJZ4YpNjp27XuCb37qPvIEx4yZw+Nhp7r3vh5w6dxHlVj137d7HV77xbU6cPM9tt7+NmbPmsXL1Rn70kycYGIyILJw+e4lnVq7l3LnzKLfq+tLegzyxci0PfO8n7Nl3iElTplFXX++MvrlVcWN47MkVPPjok0yeNpO33fVOYgPbtu5wx0xZdry4nzXrnqevd6CwEtk/NMT6zTvZtfugrBgC7R2dfOPb3+O73/8BFdW13HTrnQzmYd3G5xnK5cnHlocefYqvff27XLjcxdIbb2HU6GbWrN1IT+8AuXzMo4+t5Ps/eoxseQ13vv2dZMqr+O6//ZhtO18kji3tHV3c928/YfsL+1i8/CZuveNOzpy9wL79h4kiS2d3L9+893u8+OI+br7tdm5YspxDR09y+PgpYmNob+9mcCgiiqGzu4ferm6iyHDo8EmefuY5ujp7CoPZfBSx88W9bNy8AxvLxJjCykpl8sFWUneSBUVr4eKlTv7+H7/EUyueo7GljWU33sKZC5fYtHUHsYHeviG++8CPePixFdTUjebW2+7k1NnL/MtXvs1jT66Wdgf09PfzxNPP8u37fsiDDz/B6KYxZMureXrlOr72zQf4xr3f5cixE4wfP4XDR8/yzW9/jyPHTxNZi1WwZ99x7vvuT/jHf/4a5y93sGjpclS2ggcfWcGPHnxMVmmL0qskx6Wrb6CfB37wMD95+CnGT5zMHXe9nY6uAb75ze9x7Pg5BgdzXLrcTv+g1G3RJuklykdE+ZiNm7fy/JbtzmK8ZWBoiAe+9xA/fPAJwrJqbrntDi619/KVr3+Hhx5+GuPqVV//ECtWreMb9/6A+773Y2pGNdHY3Ma2nXt44HsPc6m9M5kqA5AtLC7f12/cwVe//l3OXmhn6bKbqKkdzcOPPc0//utX6ekbJEbR0dlDd/cAURzQ2zdIV3dPQcNGVuQV3X2DnL/YST4y9PXn6Ojqpbe3r6CKnosjHnnsCR5+9Akam8dQ39DMqjWb+PFDT9PR2Q0Worzhyaef475/+zFhtoI773oHNXUN3P/Aj3l+ywvkItfruwKIIkNnVw+DgzH5vKWrs4ueni6UUhw/cZ5//cq32LLjJabPmsvc+QtZt2EL//DPX2HfwWOF+mp1RIxYndcWdLLaG+CmUsTdjpf28qWvfZOXdu9j2fKbaBk7jqefXcf/+dd7OXnmItZCd28/Tz2zmhOnL8jKsIVdL+3lsSdW8dy65+nuHQAU3T39PLduM8dPnSLQAf29g6xYuZbdB44QGdG62Lv/CI8+uYp/+fK3OHDoOOMmTqGjd5B/+/EjbNzyAvlY8uLk8fN8+av3curcJe58+91ct+gGtr2wm8PHzlE7qoWKymqXXzJRaqxhMJfjoUee4V+/eh9d3f3cdMttNIxuYu3aTXR192IsbN+xmy995VscP32e6xctpb6hmSeeXsU//p+v0NM3gLWiGbR+83Y2bX2BoVwerSTP+nMRK59dz6EjJwraLGfOX+DZNRv58cOPs2r1BkY3jaWpqYUTp0/xzfu+y8XL3dx2510sW34r23fs4uTJ0+As6a9ctZ5v3vt9wmwVd939TpqaxvDA937E2o1biYzhzPlLfPv+73PvvQ9w8VInxhl19Hg8bw38irfH8zOmMP52n8fL7d2s27CVsW0tLFm8AK3g4OGTbNy0hUWL5/G5z/4mNyyez3ULr+Pg4aOcO3uGRdfNo6pcVhXEALb4dvzUGdZv2gom4o9+97e5+44bmThuLNu3vsT3/+1BPv1bv8YHPvB2xo9vZs68GZw4eYoD+/ezbNkNdHT18tWvfwdjYv74C7/PjUsXMnPGBO68/SamT5tM/8AQ9z/wIAcPH+JP/+SPuOnGBcyePZmFixayYdMWjh09wZJF16PDDE+vXMuePXv5vc//NgsWzGbShLFks1Xs37eHj3/8g0ye2EouF/Hs6rX09vbym7/5cT7w7rtZvGgeoxsbWb95E02NdUyfMQVrYd/+w+zbt49bb72ZSRNbmTtnDseOn8Aa+IPf/zTvedcdjGtrJlCKbdt3cersBZbfuISmxlEcOnSMr33rO0ycPJE//ePfY+a0NhYtnEdT42iefOJJqiprmT1rKvlczKbnt3LqzEk+9rEP8aEPvYuF182hrW0cz2/dTkV5hvnzZjtjwtoJy4runj7uv/8nHD92nD/70z/ixiULmD1rMgsXLmTdhk2cPHmGpTcsYtKkcYxpbWXjpq28+5ffwX/8zCdoaW5AuRlRpaCpqZHpM2awftPzLF22iD/4/G9y6y1LqKkuJ5+PeGbVcxhr+PRvfJL3vfsuFi+cS31dPVue30nT6FHMnDaFnq5evvzlb9DaOpbf/93fZsaMccycNYlRDQ08+eRTTJ82mcbGBo6dPMm27TtYsmQhE8aNAa3YsnMXW7dt5/r5s/m9z/0mC6+bRUvjKIgNWmk0MJSLufdb9zNv3hw++sH3MHXyOG5cvpDly5cQhKLium3Hi1w8d4nbbllGfV0NVkHfwCDrNm6hrraKZTfMRwWahx9dxepnn+O3f/NTfPhX38OUyeO45aYbuGHxfKoqy9m99zBf+8Z93HHbzXz2dz7FnBkTWbxwNnfcfhP1ddXs3LmHf7v/R3z4Qx/kIx96N5MmjmH+7BlcOHuB/bv2snTxQk6ePM1jT6zgl9/3Tn7p7puZPLGVO2+7mdnTp1GWCTh08DiPPbWaD3/4P3D7rTcwY/oE7rj9FqZOnUBlWRnXzZ/J6TNn6B/o43f/02/wS3fdTibQ7N13iL379nPnHTfR2DgKFORyebZu30Vvbx9vv/NmwlBzub2Dlc+tYd7cacydOYVAa5nEUGCVYjAX8a1vP8CJ4yf5g9/7HX7pnbcxbco4br1lKQuvnwcGVjy9jkceW8E9v/ZhPvihX2bK5LHctHwRHZe7eWblsyxZspC6uhp6evp44slnaWxq5POf+zS33nwDCxcv5OTpM2zbvp277ryV3/jkR1i0aJ5oh2x5nvr6aubMngVKsWPHPo4cOcQn7vkPfPyjH2DmjEncuHwJHR29bN74PDNnTqe5qZELFy6xadNWZk6fyLy5swB4du02nl75LJ/9T7/FO+66mYkTxrBo0Xye37SZvu5ubr/lRubOmcvGTZu47vp5/N7nfp3bblpCQ309uVzE6uc2kMlmuGnZQjLZkDVrn+ehRx/nV371fXzq4x9g6pSxLFu2iJ6+Xp55ZhXz589jdEM9AwMxjz72BJVVFfzu5z/DHXcs44bF8ykvq2Dd+o1MmzqZ8W2tyG5r6SsNmsPHTvPVr93HhAlt/MHv/Tbz5kzlhsXX0dzUwjPPrKaivJLZs6Ywa/YM8rHmyNFj/M5nPsX73nMXNZWVaKfrrZVm8pTxlFfVsnPXLu75xIf51Mc/wIK5s6goz3Lh8mVWrVlD65hGvvCHv8tNyxeybOkCOrt7eWHXLubPnUVTQyO7dx/kO9/5Ae9/3/u45xP/gfHjxzBv7gw62jt54YWdLF50PeVlmcL3I5PNMm/BLE6fvUB//yC/+/nf4O67bqO/b4DvfOd7nD59jj/54u9y8/KFzJk1hesXzmPzlp0cPnqMG5ctJQw1Bw4dYdeel7hx6SImtDURxZYXdh/g0NFjvP3OW6ivq6a7p4//9+/+kdGj6vnCf/481183g+uum828uXP44Y8eBGuZNX0qZWXlbN6ynYqqGubOnU4uH/PEkyuprh3FwGAfc+bMoKG+jiPHTvL0M8/yzrffzdRJ4+nt7eXpZ9cxddIEFs6bCcCLuw+wY9cu3nn3HfzHz9zDddfNYO78OWzbtovB/jzLFl9HqEJWPP0se/bt57P/6dMsWDCTiRPbKCuvZO+efXz847/CxPEtyKYIEb5RihdeOMw3vvFd3vGOu/mdT3+CmVMmsGTxfG65eSmj6mo5c/Yy//x/vsb48eP4g9//NNctmM6SRfMY2zKGZ1Y9B9Yye+Z0DIaVq9cSZgNuXr6IysosKOjty7FixSpmTpvK3JnTCLTi+LHTbNywnWyo+P3f/S3edvsNjG9rYdu2Haxbs4Hf+93/xOKFM5g+sZVfuusOxo8dhwIOHjnBt7/9fd759jv59U/9ByaNa+W66+dy9uJlXnhpPwvmzaY8m+XC+QvU1lRx041LKMtmCqdjyEjfpsbpfqzu8bwa/Iq3x/PvBPkEGmQIKIKcIAMEbRXV1VVct2AOVZWVWAsV5eU0NDTQ09PH4OCgrJQGuJNhiytqyiqWL1tGW1srKENuKM++fYeprK5i7vzZWC27BMvKy5k0eQpnzl6ivz/m2KlTHDt5miU3LGVcSwuhhdBCeTZDqAO6OvrZt/8YS5YuY2xbI4GOsSamsaGOxYsXc/ToUc5f7MBYQ29vL+XlZdRUV6EtBEpTX19DfihHrneAwCoCt4d74sQJTJs8icAJdo1NDYShpqOrh8TwsVIBxu2RVRZCpdDGoJXbOWtlIdFaCHS2sMc5tpbDR0/T09PH2+68k7IAtIEMilmzp9DWNo5t214kjmRfpDUxrWNamTNrKqG2aCwN9fVUVVTJ/juT7LBMykr2/x4+eJCbli+nrbVZxndAU1MtCxcuZN++I7S3dxEg8ZaOWzYLamvQbqe3AgIlS3GyKJrs5xRk4SZg8sSpTJs6Ca0VWkHrmCZUoOnq7iM2cObsJS5e7uT6RQupqq5wK5SWKVMmgVKcPXsBYywmxk0ehGgdYK3k86hRo1i27AanLmqwNkYFiqSmhYGiZcwY9uzdx7qNWxiKYsR2lHLpckaGlAZn3Vmyyg0GndrnYBSxdecOJk6czLzZswiwBNYQAlVlZURRxPaduwmzFSxdvoiqinI55kxFZMtDcrmIAweOUFZRxvXXz5HgLGTLskyZPJmLly7Q1zdIdXUNVdX1bNi4lRdfOkg+L8eF6UByvrqummxZhg0bN7Fv/1Gx5hwoMZ5VMBymsMYNY5XsLy9MQCd7Rtwyk0zKpL/OCmU02mhJu9uLn5TuhUuX2bf/MLNnzmba1ClSTwyUBSEZHTAwMMD+Q4epqRvFjTcvIdCgjaW6soKF11+HiRQvvbTXdR2GMAiZPm0aTY0NaKC8LGBsayP1tbVcv2A+2bIQrSyjR4+ipq6ei5dF48MaOaGqpqqSCW2thEpLXIDFC6+jf2CAU2cvEWHENoQNk6VR8pHh+a07mThpCpMnT5CBv4XKqnKmT5/KiRMn6OnrK+SndttRCvmrAatQNgA0AwN59uw9QFlZGbfcvJxQWwIL1RVlLF50HSoI2bHzJWnnCnQQMmvmdMa1jiZ0cR43dgz5fJ6uLtknrQjAagyG2MCBI8e42HGRu95+Ow311QSANoa5s6czftx4tu94gf7+ITnxLM6jiEDMj4nQbZMVYTEvHmj5ba1FKwhc1VdKrF8vvn4hDXU1JIfJtY0bS//QED19eXJRzL6Dx1BhhusWzZdmoyDMZJg4eTKX27vo6RmQo8hUgMISBKCUxdo8lghjxKbE+QsXOHr0JEtuWM6UCeMIjEFby5jmZuYvuI6Dh45x/tIlYgXGapR8RCT/NaCdGr6S28ePn+HSxW6WL1vO6IYGlIXAwtTJ45k2dSp79+6np6eH+tpKxoxp4cDhoxhraW/v5OzZCyxfuhgFnDl3mZwxnD5zDmKYMH48AKI3YJ12gOvHsZSVV7B82dLkxDkqyrI0jW6i/VIHJpL90n29fZSVZaivrwUg0Jr62hqiXI6hwf6iOgauqVrYvm0XlTVVLLphHuXZLIEWLYiKyiyxitl3YD+d3V3cfNtN1I2qBSe4zp8zm7ax49m9+xBdXb0Sdys2ICTmBmVB20Au5PQNi5X6rRVLly1lbFtLYdJt9OhGsplynnlmFUePnRLNMyX9D4Fi77796FCz4Pq5sj/f7eufPfc62ju66GjvpKG+hk//1q/xB3/wOWpqKmXlXYYRyUdD/k3ueTyeNxUveHs8P3NSX0ArAx6slu9j2oUxBCgC5UzeKEUYhORzYkgo8SX5zhpjUFqhVUBNdS1Ki3pdPs7T3nmZs+fP8Zf//X/whS/+V77wx3/On/w//41HHnmU7s4uhoYi2ju6GRzKM2H8JFnLLdiMEgG0v2+I3t4hRjeOJgzAGpkgCIOAljFNInD39xIEmpbWJvoH+jl98hwYSz6X5+yZs2TCgPraShRypJVCYU0yIy8DBK3Fwm4kuqSSVqtBhVgUWlmwMXEcgRPntDN4I14EWKcBEFu4eKmdICyjYdQo2espHlJdWUFzczPdnb3OIJWs6tpYBoKKGKUsgdZoFRDFYggMN5hKiq67u4f+vl6aG0cTaGdpG8hmMrS0jMEYTX/fIApQifVdpSQMFxeFsxrsrChr5zYZOEmwikBnUK6ukIjlWmGtIRdFGCwX2i9z4dJlvvf9B/njP/lv/PEX/4IvfuEv+Jv/+f/S2d7O4NAQxlrCwAlOVvbTKncMWVm2nIryClcmCpTBkJcZC2XRGc2HPvx+Ghsbue/+7/OX/+1vWLFiHb29g1gjQmegnXiRMl7mRpuuNikGhoa41H6Z5sYWqiurioNDNwiPIsu58+1UVtfS1DQ6qYxOxUMTxTEXL1/izPmz/NXf/C1f+OP/yhe/+Gf8yR//OT/+yU/o7G6nP9dP67hmPvbxD9Le3sU//dOX+Ov/+Q9s31ncXjG2rYmPfvQDnDx5in/4hy/xd//7//DiniPkCrM+rv4VBGox+BUbV39TLVpZVcjTpC2LFzqppe6OK1fgcnsn/QNDjGltobI8i4lEgEpcDwwM0d7eRV1dPZUVWUDOwFbK0tzUQFVVLZcvy7YK2XIiPUJiiyBQUFle5iY8lJvws5SVlROGWUAMWrmq7eq79Ds2FmGirrqaMKPp7u0phKGSumMVg0N5zl+8zO69e/mrv/pf/Mkf/yVf/OKf88Uv/imr1zzH4NAAuXyuqPaLCHakzuU21rq4KHL5mPaObmpra6mprpJ4uwmplpZmampq6ezswUQiJBorEyHKgiYCExMEgfQRTvVWWSk7gLwxXO7swtiY5qZGsAZFjFZQXVVFc3MzPb29DA64dqsMysZoYvQwIUbaq7TlGI0iRKGxWBPJxJWSGhAoReDatcaitCU2MTkTkYtj2js7uHDpIv/rb/+BL3zxL/i/v/hnfPFP/oLvff9HtHd1ksvJVhosGBODjaSPwMrfLnl9/QP09PTR0tyKcn2ZxZDJhjQ3NxFbRVdPt/Mq+fYk9drNWFo3bwacu3CJICinvn4UgZZz65WCUCsmTZpMT28/g4M5aqqrmDJlCsdPnKand4gzZ89iI8P8uTNpqKvj4KGjDOZynDp9jtGjRosmDRbrPjRaiSYIyk3xuWO9tLJyuTZhIlGNDwJFa1sLvX19nDp5CmUscT7P2VNnKMuUUV1V6dpA0oYNQ/k8Z8+fp66ullGjalBaWmmSR7E1XOrsIMbQ2NLkmqv005UVZYxtHU9XVz+DQ0PE7rg1lVjed18NyU/p47BgNMQ2xtqY2rqapOKgtGLmrJl87GMfYdPGzfzNX/8df//PX+b4qfNEVlTpT589w6kzp/mnf/4qX/jjv+QLX/xzvvjFP+P+++6jr7eLwcEBtFJkM5psJsDExYnaIiPd83g8bxZe8PZ43kIkQ+HiR7toVbXgRlNY3YxjQxBkhp0p6saSKK0xcUzsrKmK7yHWyMx8Q0Mj93ziE/zaPR/jN+75KL/28Q/zh5//DH/2xd9ndF05oXJHsyiFVTIgssRYt9IDMWhZ9QQNOoN16zdxPo+yRlaCFNx8yzKampv58le/xQ9/9DT3f/dhnnlmBe94x+2MaqgBYrGaS0AQBG5/XB5sTgZBiaVn61aBlQs/WR3WiOEsLcITymJMHjQobUAl8YRAZ9zg3J2p7dITOSvLSotwqRABKwhCN+iMxU/rgnUeSnhuMAcoFRaOjLIyfMUqsXady8tqsNIyWFeFc5KTFVMnwFsrZxQrsORloC9PwMZukB65gbHEPwACa9E2lhU3N1ANdEBVZSVve9sdfOqej/Gpez7Cr93zMX7rNz/Jn/6XP2L5jYsJAyVHXlnJO+vSFqDByiq3tooQjbLaWZiP0SpPSJ4ZUyfwl//1C/zX//IFGhvq+e59D/DXf/339PQNAGBsHkOM1SJgWS35mwiuFoXGTZSoEOMmVpKBrKywI4bIrFjElqolgmCA5FWgszSOaubjH/kEn7znHj7x8Y/w65/6OJ/7nU/zxS/+Ea1jmygLNcsWz+Kf/vbP+cxvfoJAK/72b/+Bb337x/T1DZEJDHe/bTH//Pf/g3s+/kE6Ll/mf/7V/+THP3gUE8dOAI7RuJVNFAEhgQpluO5WBqW0lJNaXLrdJE3yFHB7vIsVSrtJjziOsQp0qEFFGPJENkZrRaACEYIptkkL5E08rPzkCCjXNyiwRgQyyU1ZcbdG2kHij7ExCjkj21pLHOdd/Fzb0JCP88RRTCYQA1JKyb518UPSkNGKKZMn8ZGP/Cof/8SH+cQnP8In7/kY//d//gM+81u/zui6WgKsaHjYiNDVBJIFQQ1oZznayH1rjAjFyoASITqKInK5XCEvE9FSEinCbaCVLOErTZSY8FbWtXPJ70CFGCOTOK7rBWc5PjZW2nVyDJmR48awkkeClLOysgIu/YcprDwX+iEbYzGYOF/o6cWjiEBZAiwhgIloqK/lIx/6FT51z0f59U9+lE994oN8/nO/wX/54z+grbWpUIUkXlLXpOwknoXWpZW04RDQFmNksjaOIrAWHYZYpD+y1qICsMqKyTXlJlTQGAtBoDE2KvSzEGOROjOYG5AtKEqRzWaZPm0KURRx6OgJjhw9TVNzI60to5g8eTL79h3kYkcPR44cZ/68+ZRnM4XJAjkNw5W5smIFHiV1kAhMMnFZFCJVADfdehPNLW18+cv38sMfPsF37v0ha1at4x1vfxsNDXVYIld3YtByRraSjwRKi12N5Fsjm4cCApuBKEQZ0fiQ+irHBOSGhtCBfHMCDVjX/pIWriT+8u2U0hEzdoZskGj0FCcRqivLuPvuW/mXf/7/+JX3vYdL59v54z/5S556ei2DUYzOZhjT0sr73vfLfOrjH+Y3PvFxfvOej/G5z3ySL/znzzF9evEkFIto8QiurFzV93g8Pzu84O3x/MwpjMixKAzGfazdKESJoC3f00RgsWBlRVaOUXFadBawshKXDMC01jI+Qp6XlZUxpqWVKJ+npbmFefNmM3/BbOYvmMW8ebOZPn0qZdmAplG1VFeVc/T4cVndBSK0CEVo6morqa+v4sSJ4+SjWOKtDbkoz+lT5wiDLPW1dQRK0dXVTWVVJTcsu57+oW6yFZpf//WP8/Z3vI0wk5EBiVLgVgIkugpURsbLyopacUGiwAkwqYVRrZPTr7EolA4kznFeVPgtBErR0tyEifKcO3dOjsrRIUZrunt6OXv2HKMb68lmxVozaDdRkVq5tRKBVC67CRIRnurqqqmqqubo8WPExhC5PaT5KM+ZM2cIMlBdUyEDNDduNDZ2itsywCwM2DCFFUdQogaq5BiiZLBMgKz6u6GpCEhI3Cw0NbWQzZSRzQTMmj2VuQtcec+fzeyZM2hoqJMVoyScZHDmRo9Sj5L6lxxbU3qJKu20KRP5/Od+m1/94Ac4fOQI+/cdRGlNWXmZmyywIsJZyMcR+Shy5aypriijqbGB8xfP0tPfUxBgk+mRbCZg7JhR9PW2c/HiJTGmRSBnYqPIZEKamuvJ5QcY3VTHvPkzuO66ecyZN5t5181m5qzpBBnZb6WxVGQDbly+mD/8w8+z/Mab2LptB2fOnhUBi4DyspDbb1/GH/7h77Jo4fWs27CBzq4elzkRSsXownFOkM2IJfHYGGIX7+QIJxDtgaJAKLEQXEZbGXw3NjRQXVXO+YuX6R0YkjqqNEZrl5flNDWOpv3yJXp6BkR0VSGRFWOKXd2dtLWNdUFo578QBDIxJiuHMjEkQo2rPEpWxBOUsq5dKYyW7R0GOH7qJEpBU2ODrHpisUqOEcRCRVmGlqYGbH6ItrGtzJs/m/nz57BgwTzmzZnB5MkTyGazBFoRahFFcG1ZORnZYojJg7JUVVQwtqWZ7s4uOju7imnGcubsOfr7+2kd00gQaKmnWlR3RajVkv9WVhWTSTWQ7TgWyASKlsZRZMMMR4+ewFiIURit6Ozu4dz589TV15AtL8fiJjVd29UyS+hsa0j5WiAIQoIgIAhCjJGj26RtSxtThb7EoUTaV2jCIKR1TAtRNETj6FEsmD+L6+bPZcG8ucyfN5uZM6ZSUZEpdIdJuywcKSUnUKGUor6+ltpa6Y8io4jREGQYHMpz9vRZyjIBdTXVKCtbC7C4owjdWZCRJUDUz7WG5tYmrM1x/vwFclFMTIB1x+QdO3aMurpaKirKAcv4ca2Mqq3hxZd2c+bsWaZNnkxZNmTChDZ6+vo4euwsXV3dTJ483k0WSB+oVSjJclpasUkfS6YK9dgSymqykvrS0XGZquoKFt+wiMHBQSorK/i1X/8od999M9mMaEhZNNYEQEigA8a2tdLV2cnly+3ERjkVbivhaEVrSyOZUHPi2HGMcZorStPTN8i582eoq6uisqocpaA8W4YxokMSERAZRT6OiUyMUabQ5BUBsXRs7n/JEY2Sx7W1FbzrXW/j//qjz9M6bhybNu+ku6uXsWPaGBrMM7qhnnkLZjF3/kzmzZ/NdfNmM2fmNCorKjBuIkm6mvS3BJf+ZBLD4/H8LEi+/B6P52dI8lFMPsSyQJOMQrWoyDkpTVZ+i2vjWuHUkJFBl3UjT+dY2WRlQgbWmUzAjFlTUBpWPLOSwcGYyFmVjmInulrLhHHjmDxpHOvXb2DvwSPkQdQSO/u5eL6DuppK5s+bzu4XX2D/gaPERlS5T508x9bN25gzYxbNDXVYA3t2H+Ti5XZ+6ZffyYc/9h/44Ifez5KlCymvyLq0y4DGGFmBsVZWmHDrA8o682VKYdyCuxsbFQZitfX1DOYjBgYHiY0lH8lQLQiSAa1FW5g+tY3GxgaeWbmK7t4cEYqh2LJly0ucPXuGJUuvk2xHysAiEqCSQ3oLEyDiwMqAUOFUsA0No+uYO282O3bu4MCh4xgrg/6jR8+ybdtWrr9uDqMaapyKrpwrrNyAVwbl4l8cG7Ca8jJR9e7rG2Qova3ASrpELdYhY3soTEBYxrSMYtLkiaxZv57zFy7LKqa1GFM8c9Za5DBfV/8sxf3yyQZ5ERpdfpCo+gfk84odO3bT35+TlZ9sSFNzI0EokxeB1jTU19Pd08Pps2cxxjI4kGPDxuc5feZ0YcUwVJqbl9/AkWMHWL95G7lYJiMiYzhy9CQmtixeNI8438+q1Wvo6OomjiE2cOz4GQZzETNmTyEsVzy9ciUDQzGRS2sUGzkf3MKF8+0cPHRMzox2e8BbW1sw1hAbw8VLXezbf5x8bDHGUlNbw6jG0cTWtQ0lNTaJt3WD5Zqaaqw1HD58jCgyxHHMjp172LtnD3Fs0Spwwpoc1ZfUCylHJStvsaVxdD3z585i5ws72b5jN0ORJbaanv4hTpw5R2VlOfPnzSA/1Mezq9YSR+LXpY4u1m/YQHl5wPx5c9EgFruTeFqpIFK9kokiERLAHUUoC3ZJsyLGMjA4RHtnH1EkEyfnL3TyzKqVjG1rZsrEMdLTKLAqJh/L8XWh1ty0bBEnTx5n65YXGBrKY60liiz52BBbycdMVlNZWUVv7wD5SFbtjbUYjeydFzmSbDbD3NnTifN5Vq1aS/9ghEGOS1u/7nkCBddfN080U5RbFU8schdUp3GTJMkEiNxTKFRsmTltEi2No1n73AbOX+gibxSDuZht23dx/PhRli1bREVFmbxTmJ9SckZ7SssBZ8iquqoa5c6jl4KW9X03K4BEwfXXSfkTSny0ZsaMKVRWZnnq6acZ6I+JYpmMjWM5z1rCkrItRkDC1lIgYC3NTU3MnjmdF196gT37j5KPFZFRHD1yihd2bmf2zEm0jB4t6YkN2ko9teKLlK+bZbDWMmFiG+MntLFp02bOn7+MsZCLYPv2lzh+7Bjz582htrYOUIyqq2fi+FZe2rOb8+fOMWniOLRSjGsbQ1kmZMuW7QRhQOuYBkDOhTcm6a8pTGppXdRikLTLNyFwFcS1SHbv3c2FSxd473t/iY9+7P189CPvZ+mS66iozLiuTTSRpAxkumfpkkUM9PWx+tl1dPf3kTeWyCiOnzxHf3+OmbOm0dxSz8aNGzh37gLGBgxFsGnrNs6cOcXihQuora5CK01TYxPnz5yno6OH2EDfYI5HHnuc/oH+1KSwTJ8rAki23jhNgyNHT3DipLO5gaWhoZba2lpwE8ezp0+nqrKcFStX0e/6twgYimPyOfl2Dg4M8shDT/HDHzzCUC6SiiKDhkJdkSonE/wej+fNxVs193jeMshg7HJnJ+s2bGZMayPLFosQeOjIcXbu2smypYsZP24syg1Qt2zdweVLF7nlpmXU1cr5z9IeRZo6eeo0m57fyuKF1zN1yjgZomhobGmgrKKcJx5/krXrNnL69EXWbdzGt7/zA7IVFUyZPJ6KijImTpjM89t28vTTz3HwyHG273iR++/7Pp2XOrhhyXWMHT+G8+cu8uMfP8KhQ2fZumUXP/j+jxk3vpVP3fNBmhtHY7UYW1q1aj1r125gy5bdrF+/hQP7D3Py1Dny+ZhRDbXEsWLtc5uoqKhk6dKFVJRnwUJHZz9r12xi4vixXD9/DlrDgf1H2bNvL7feejMtzaOwRqFVOc+seo5DBw9z6sRpenv6mTBhHLt2vcipk6e49caltDQ2UFNdQ13DKLbt3MGjjz7FqVPtPPLoSjas28i7fuku3vnO28lkA6K8ZfPz2xjKD3HTTUuoripHWUtXTz/rN2yieXQDy5YsItBO+FVgMWSzZbS0NHPmzFkefOghjhw+yebNL/DDH/yISVPG89FP/CpN9TUoq7h8qYvn1q5h9sxpzJ0zHWVkwkQp0EoMnGWzWU6dvcD6dRs4e+osB/YdYlR9HRUV1Tzz7HPU1VSzbMlCysrKiC1cutzBmvXrmTxtAvPnz6asLEPL2Db27N/HD3/wE86f7WDv3uN8/7s/4OCBfcyaPYNsNsvJY2fZvm0nS5dcz8TxbYAYHjpz9iw33riExsZRsrKuFEYlSrKK4yfO8E//9BVWPbuW02cusvOFPTz+xNOMaxvL+977LsrLM9SPamT16o1s2riVw0dP8NSTzzDYnyMTllFbW8nyJdcTKEVrawudvf08+shTvPjiYQ4dPsX93/0RL76whxnTp4gRuTBg5Yq1PLdmE+fO9fDww6t57PEVjB0/lvkL5lJVVc3TK57ludUbOHX6Alu37uTb3/kBKJg4YRzbt7/Iv3zlmzy/bRfnL3awbu3zrF69mptuXs5Ny5ew+rmNfONbD7Bjxx7One/k6aefZduOHdx51x0sWXI9yiqe37KL8xfauenGJYUzz2vr6tm75wArn32WQ4eOsXrVWk4cPUFDYxOxMdxx+01kMpo4Vqxbu5nurh5mz5pGfW2N+8YqtFaEgWby1Mns2XOAp59exd59x9mz7yD33/8D9ry0j1tvXM748WPIRUM8+cQzbNn8IkePnOU79z1Ad08Xv/Ebn2T2tIkopejp7eepFauYMX0K18+bJar6wO69ezl0+Bi33rqchlG1gKK3d4CNG7bQ3NjADYuvwwI7du5lz94D7N93kBdf2M9LLx3kvvsfwNiYT37yQ8yeOQUsDOYjXnhxDx2XOpkycQqj6mtobm4kiiyPPryCnTv2cuLURVavWc/9D/wb48e3MaZlNGhNe3cfq5/bwKlT5zhy6Dhl2Sy1o2pZ+dwastkybl66mMqycsaPH0cuinnyqZVs3rSTY0dPc//9P+Dc+Qt86pMf5frrxAL2wMAgTz71FJMnTuL6+XPIhCEo2Zu8du1aFi6c74wRAolwqQ211VWMbRnDmuc2sGr1Wk6ePssjjz3NunUbuOW2Zfzqr7ybTCATFHv27mfv/oPcfNNSxraMFlVup0hcmPTUAQcOHGHDunVcvtzJ0aPHaG1tpq8/z3NrNjB35ixmz5xCoOTM9IOHT7DrhT0sX3IDE8Y3UzeqjqraOp5dvY6VK9Zy5vRltm7dxb333kccG6ZOnUwQiKAt3w75d+uWHVy8eJGblt9A4+h6yjIh48aP48iR4zz0yGMcOXaKzZt28OMf/IQJE1r5zV+/h/q6GjQwOJBj9eqNZLMZZs2YTEVFBefPX+bFF16koixkypRJlFeUM7ZtPC/ueJEHf/IEZy90suKp1TzxxJPcctNN/OqvvJva6nIsivKygO6uLp546ilG19fyzrtvp7qqhrLycvYfPMTqNc8xZ8Z07rh1OeUVIQo5ZnHFyjVMmtTK9QtmE1vY9dI+jh05xtvvvo36mgrAkMvl2bDxefL5Qe6480Yy2ZAoVqxevZHVz25i+5aXWLt2I/v3H+TkqVPExtIwqp5AB+hE20gp6kdVEYZZVq58jufWbuH02cs88sjTPPnkStrGjWXK1Im0to5h7bpNrFixlpNnz/PYk8+wevUmli+7gQ998P1kw0A0N1QZm5/fyurnnuPEidM8/PBj1FTXksvnmDRpPLNmTkMFmmMnTrNl6w5uuGEhEye1odB09w/y9DNr+fo37uPQ4ROcOH6SRx9fweHDB3nPL93FvFlTGd1QS3VNLWs3buLRJ1dy5nwnO3bu5t577yeK8kydOpmz5y7w9a9/h5de2s0tt9xEVY2ccZ5oQwwnqT8ej+daeD2smnvB2+N5S1Bsg1ZBWUUZs2dMZ9zYFpnix9Awup45s2dSWy2DJBBrp21tY5g1fTJlZWXSVpXMcCd/19fXMme2HN0ixndkf+rUqVMZP24c5WGANRHl5WUsXnwdCxfOo6YqiwbqR9UyfcZ0amqqCEIorwhZsvh63vH2t1FbU0VNbS1zZs2ivr4ebEx5WYZFi+bz3ve+kwltY93eT7h4uYN9+w8ye/YMmkaPor6+ChPn2fXii6xa/SyTJ01ibOsYgsAyZeoEJk5sIxO6tRsLFZVZ5syZKha73Z7SxqYGZs+aTnVFGTirzA0NoyjLBATKMK5tLGPHthBoGDOmhVkzplFVUYHSirHjWpk6fSplmRBjIhob63n73bdx19tuobq6ggAje5k1TJg4lqlTJlIWSidrUZSVZ5g5Ywptba1uL2yyYgVKaWpqa5k3dw7VlWWgoLwsy9Ibruc973sXba3NsocT2b9cWV3OnDnTaWlqdAK3qwpur6gFxk+cQEVFllBpKioyTJo0ntpRNegQZkyfzMRx4wiDQFYrFVRUljNn1nRamxsJgVEN9cycOY36umriXA4bx3JU163LaWlpFENGSlE/qobZs6dSV18taudaMba1mZkzp1JdWeHqVLGXV0BdXTWzZs6goiwkyg+hiJk9awbve+8v09Ikda66uoLW1lZqaqopL8swc+Z03v2utzN+QittbS2Mb2shUJAtK2Pq9CmMbW0mDBQQM2nSeN7z7rczZfJ4UDGTp0xm4oSJVFdWYF3Z3X33LdyweB5loWLyxElMHD+eiqzGmgEyGcX1C+ax5IbrGVVbzdgxrUyaNBEdwEBvD+XZkOVLF/GOt99JbXUlkydNpK1tLIEyDA30UlNdw003LeXuu2+nIggLK8ITxrcyY9pkKsvLwUJFeRnjJoylsqqSqqoKxre18r73votp0ycxZkwjUyaNQzvL1DU1VZSVaca2jWF0g1hgdst2gPg1Z84c6kfVkMkEhIFizqzpvP99v0zT6HoymZDZc2bT0NAgKu7ETJs+ife+551cf90cQq3dOqDU1VlzptPa3ERgpU+wytLU1MiM6VOoLCt3vQmUl2WYPn0iY8eOwVjY8cJe+vr6+PCH3095WYi1EdOnTeL97/9lrps/V4yCWUV5RTmV1ZWUhyFtrc00jq4jLAuYMnUqE8a3oVSMiQeoqS5n2Q2LWXjdHMqyIYEOGTOmhdq6GkJlKM8qpk2ZTF19LUEmYNqUSUydOIGyjLSYaTOn0Tp2DNlMiCZm+vTJvOeX38ENi+cTBs4YF5ZsJsPs2TMZ29rsbCjIimhNdSXz5s6msaFejKsVtlDIOKe5uZkZM6eTKQ8wxDQ2juLOO27l3e+4yxmkEy0CpVSh/6mpqpTmmggxrmGUV5Qxrm0sleVZsDH1o2qZNHE8ZWUZKqormDt7Os2NDc5avuyfb2ioY+6s6dTVigG5iRMnMHnKRMqCEBvnyWYU118/jyU3LKSuttrZukgs41NYih/XNobp06dQVVGOxVBdXcWCBfOorCwHZSnPZrhp2SLe95530dra4mxqQG1tLSrQ1FRnmTRxLJWVldJmKyqoLMswcVIb5WVZGkc3MHf2TEbVVzOYH2RUQw3Lli7iVz7wbmqqxJK2tTFKaWpra6mormDJksXMmDqZTDZEaUVVVQVjWppZvmQREye0obRsycAqysqzzJo1jbGtTSgVEAYhY8c0MmfWDMqyWZSr3ZlMyMRJ45k+dQKBDjh/sZP9B44we9YsmkaPoq6+hnyU56WX9rBq1RomT57CmDFNov2kpdTDUDFp8ngmTBxPZWUZUTRES9No3nH37dywaAGhgpbmRubMnk1VZTlxPMTo0XXcesty3vPut1NVlUHZGKWgob6W5pYm6uprKSvPsPD6Bfzyu+6ivq6GyRPHicFNxD5LQ30Nc2ZOp6GuBqwiE4ZMnTqJ1tZm4twA+dwAtTWVvPPuO7l5+RKyGYUOoG3cBKZNmURZJouKIpSNue76Odyw5HrqamsIg5DKiiqmTJnMggWzKMuIFoVUdFfQrsYn9d7j8Vwbr4fgrayN3TAi+WRBe0c37R1dTJ3c5vrxZJgvWKCzs5v29i4mTWorzBzLp8d6DXaP51WS7NVzO7zJq4BAbPGglXGqlzKwVAWr3xC7Vh8kHiDGj2wsgx7r1MoUzhCNE7yt0mKNxoKJxfCXURCGAUpF0pqNDFiN0qLSa2OsisgEAUHBFJIL10JkZCN4GGoiYkKnJt7V28eXv/Edyiur+Y1PfYSM2C4itnDg0An+9z/8M++463Y++sEPoDXOgq07ioVQFu+dei+JeqbraWTXOYAmii0o7Y6hsTIQV6LgZ8igrfiJ0s4smxVr6FGMCjKyHz45jozIWaINiCVLxYqyMlhk77i4cxs9nXp/UgoJRhmiyKCsIpNJDgoTtUGFUz3WFIyniVqse1m59GrIqxhiLarAyhJkRE05dgqhoTvGKXnZuP2t2jh1YmWJiOVImxgZblmxSG5sJKvrLkWWyO0ClKOWZB1PVkqHfWOGqVwbjAFjRLU70GKISrkys1pUmuPYYI0hDAJCpYi1qLIHCkwsR3YZJXU3ykvZqUDJ0WIqICbCoglsiDGy91MrSyjVBGs0OjFyZvNiDE9BqGXSQCFaJZExEDgjgCogDIPCiqVyRriMjYjjGKUyEMi+Tx3HBGJ5Srbju2qJ++wZLHkjFs7LAk2gLEYpYhQhsk0AQgwQx3kCLQbjrCnuy7TKopRYSrfIlgOlFFpLi9PJ/tBAVFQxkqeFBS2tCNwRbVZs8WOtGOzSrjOItaj1Kmd8rKCKqlwbsqJC/c1v/4gNmzbwh//X7zBr+jRsHINVBIFGBy6MOMZYg9GiKh8qjdLSn1ilpL4ZMdynlEbroGDsTPZqy754TITGEqpA9pMr2XoSajHoZ4FIWznGzYgBQa01YSCaIVqLMUipm1qSJJngBG/3KN1zKbAmLxNPNsSKvTxiLdsOjDWUBTIJWRhgFY7WUqAs2iR9bVHwx/U6yvVLYmVdE+oYqywRIaEz4CUxMgUtEm3keDjrjq8zSqzJmzgCFRMGIUolk4AGrJKTDdyid5IuZaRPEcOSATEaZS15YzAxVISB+KFcnK1U4sgZ1MuEVuo+miiyBNaiQmn30q7l+9Ef5aQ9ay2r90mDsFbKTbnvlJJjx5SR3ImVZKq2oEyMClzZERAhBicxkRhZdPU5QUabsajeW41WEd09g3z5K9+mtn4U99zzQbJBINtq4phDh07y93//r7zznW/jV3/1XYROxTrJQ4lxQGwMNjaEgSJQrlGjpRA0rk7ksEoTqBC0GEpTyJYdVICxmlwsRgHDQGxnCJKGQjVCvuXFhFmsNmADTCxW8FEQ6oybJIrcXm0ZyNvYYPIGAoUKFVa7fDFgY5lQ0gFijNNNrKYC83g8rxIL9A8Mcf78JZqbGqmqLLtC8LZuYfrsuUs0NDZQX10x3IGXkD2etwpu4GPFiJiyIlAESoRsjXHH4ojgqUh/Qw22YJzFYlOGaJSyYqlYGWKtsYEz46JDYnd0TxhCJqMpywROANQoNDqQAbSyMdkAyrWmQmcI3EDeWtzea4NWMWVBQFlG9qNntBgAs06D5uLFTpQNwRiygaYszICxnDt3EaUyTJw0SQYmtnjEjgh27sgqZLAMYvhHhHI58zwxLhcqRUYpsoEmE8hKuTXO0BCyUpUYVkryNiCmIpMloxShilFuv7RCykErQ0DsjhYSAVoE8NRAHC0WzJN95MlxN0oGlOWhJhMGWGPQuDCsxC8IQCs5CgjckUrOqrVYFHaG8awhCCzZMBBNAHcEkRy25M75doN9Me0leSXSmFjtDbSc+RuEIWEYEIYyoNVucC1+xgRKodByrJvNywA08d/tC5QBYFIiyu2bVARhhjDIirVgpy2llRaR3uTJhopsGBbOJ9fGSnhWjABaZ14uiC3ZQJMNQzIuL7AKRVYmgp3F/EwmJAyLA1utQmdYWBEGGcJMBWFYLoK0shg3EROEcjxW8r5RlljFGDUEOkKpPEGgCMMMOtBi1FlZgsCCdtb8lZV2pyNUkAdyaGXIaE1FNhTL1la0SwI3+RUo5fLCSj7oEBOLZfskj6UrkDoUKEs21GR0QGADtBVRLQitFK3bi6+sHOcUOqvYIHu4FTGBigi1tBUJxKBshCJyAoP0MYWBuWsv2pVfHBsRbJUiE4SUhZpAG5Q1zoiXlF2oFJkgcBbvRYAzuGdhhkyYQcth04l0kBQbKtAEoUaHCuvqgbKKjMqgrZR3QUDUEZlAUxaGhEo7S+2uPxKLEK69ujarpS/RKhbx04pFapmESYwFSrsxNkJpQ0YZMtpSGQYExImZbVfPRKiVI63kiME0ylIwvKfIkwkUgQ5lAkGJsK1xApdye+0V7vSDCKvz2CDC2hxWSVsOAk0mmyGTKQNn/EtCTdq5ZKukOY9yJx2ACHdaKWc921CmAyqyGqXFGnk6XWAItaIsk0WrLEqBsTnCMCIMRbDWaLTVcpqggopslmwQyNScqzuF/lFJPgeI0czYpVsmWGzRord2ibCSD8kUYJDY1Ui+f0i+ywykWIgPtEXbkKGBmM6OPkwco0xEJjRkMtIrnjt3gSAI3Mp6MikCWIWJSSyJkAk02Yy0S6VVwa3VlshYdAiBDiS92pUjGghEOLYyGZsJA8oyAZlAQ5wjMLGcOIFx32tpm8qd9Y6RvtRai2jAa8JMRiYEVexOeAsLQjdW9r1nyuT0gACZbNOIkcswlIk66444FM+Tf5OxRrH6eDyeNw+vau7xvAVQuBUvNzBRSoaPhTGdcgOW5GxTN7ixSoTnIBk0JytjBeFcBjY4gz+AE3BE3W1Yy1diWbzQhl18FLiznd19xP+CW4VbAXEeukGUrHiK8DI4mOO51c9x/tx5Tp08w969B9iwcRMbNm7mtttu5o7bb3JWoSmMBkT4VAWNG0miGyyDTFAk4dgkyknsxUBR8i9W1PQke2XgqpAzwpV1lpBV7FYniha8JWUuPrg8UM59AckLF4VUGop5JfklArtWbpAmGSd57MpPKZl8EF9TIbi0ycpWUilcvjhxA4kaSonlZJf6JBlOcHHW44uxc3WjWGfkXxEPkgQlZVCMlPMUVUhrEMg0QMHKcxI+yAA8qRdKBoCJwaQkXLFCnVK1d20gsdyvtayeKWd5O9mzmJSVcqr7Eo7Lh1Rck1/Fd5xFaiWTJonl9kK8neErKT/c4N/5p5PwJD7iNql/7n4SsjgqvousGFOoD6knSraPJCu46fg4b9yoW1qmUogQlBxJh3iilJu0KQhoIsgmCZemWoyTpFfcSd8gubVz5wucPnWcm29cSnPjaFEhLiaj0N6SOqCTOoOUT6FOuXakXP+jVKJGIn2Ri5X0Y4U8T+67snB5HSAr90meJBlX+C3epuLm7qXSKf1r0tM44cSVi7UGrV1fq5wwmATk4lVIfyH2SSpd8osdt9QHnaQluV1c69Yu3kn3WQhPF32Uf8VPab+ukrvCKOaFC9fdl1MKXEVK2lYhn5xRR1dmSX4Ni6tyxzeiiv1BktJCZhdLUCU66+6dgmtX35J8L9RVnLDq8jTpD9L5o5BvlcRXubS7tuP6a6wiDAP6+wZZs2YN586f59TJU+zdf5D16zezefMWbr3lRu647UYyGSnXZGKpeFSZ/JPktqjxg3KnSAQyWyhtC1lNTwpO6qvLwyTuViZ4k/42yedi1hVyrZhV2vXbSZ/owqPQlwkq+QwkHUWSUy5flTPWJvkj9b2ItNV0mj0ez7XhVc09nn9vyLJNIu4Wx2+4ZlrylUwP765OUXRM/n9t7/EqXCZqgg4LuPUAa6Cvf4D9B4+wY+duOVIr0EyfPplZs6YzZepkysuyMhByK0KQrLKmwn2lKFwLw5KT/pEe1qQpya1kzPKaKPHH/Tk87JE9L5bg8PjI/dRA2TEsmu7HsCCvmdf2VoFC0kauvyOTKvsS5yPHZuS7rwbxIcnjNOkBb9Iq5X6RdPmRelZarq82niXuS7y7wjfXdwy/e7WXSuNWxFpR2VYKThw/y4ULF5gxcyrV1VWyAudeHWnAAcUg3fwRXBFCQpLrxbjKXyWuh/mXlNFIGfBaKfXo6nlzJaXvlt5PGO73SCktTpGU3r+yfV+dq5V36naBl32Y4irurnK7QMnzQsxKu4IrHiSkflj3P4WrCHZYHRbtKkV/3wB79h/hhV27OXP6NDqEmTNmMHPmNKZNnkRZWRlBcR7iFXilBJZwVedXfXAF1+4ynW+Oa3rJ4/G8VuzrpGruBW+Px/M6UDIKsIATDGWgroixGIPs/zQQOgvB4AZCSlTtgmR23g8sPJ43FdnT7lZ1kUmz9MDCurYq+7WL7jyeN4Phgqkt3BHtaRl9WpxWtdsOBaIFpq2sCCcr7Om6m/7U+Brt8XhGwr5OgreXkD0ez+tAMnnnLqUSXThRf3OLl2EgE3lh4PZiOhXRwv6zkbz0eDxvOGnV1IINB1VcTSwdYXih2/OzpfQDYVLfGhGuA6UJdWKXIzEgl1TlgpheInp7PB7PG4cXvD0ezxuEDGjk+B2DdsZwtHYGoZwTMU4kxouKO9hTlI6vPB7PG0Zhtdu6OTQtgnixPYtQI/c8nrcCxcndgnE2Z6AUdywjNqm7pQK3F7w9Hs+bhxe8PR7PT83LDV+UUnLMj3XWya0MikQglzdKVf88Hs/PDmmP0jYTY2Np9fLCsV0ez5uKWAUfjnJDWSUW4q0B4mHGQ5MjJp1CxwiTRv7b4/F43hy84O3xeN4wkoG6WAh2lxsOJdacS917PJ43n6StJgJ2mvS9tEq6x/PmUrpKLd8Sqbti3T/5thROC1C44w2T+k2JoO1Vqjwez5uH/3p6PJ43CD3sSo6oKhxVJUOmYf95PJ6fLYlQnRz7pXVyXJmbREv97fG8ecjZ20UTaiOh3fFggXxzUvVUjtSS58nfyUp5Inr7Gu3xeN5ovODt8Xg8Ho/H4/n5pbAQ7ox1ejwez1sQL3h7PJ6fmldcMbjqA8fLvuzxeDyeX2xkdfqqw1b//fB4PD8HXKUH83g8nteZtHReenk8Ho/H87IMVxG/Av9N8Xg8b3G84O3xvBYKam1pQy8jPB52N2H4k6u7eznSIbx8aCMhrkvfeW1+XY0rfRPLsmCwmFcOpfByYql2pIdvFKX+l/7+98DwEkr/Gv7sKgx7fA3uf+EYnr9vLdyZxq8metfqZsQ6cS0v/3tD0l38b/j9t3yeXLX4RrxZQsnzl3P6argiWIslLrnk+5JYQE9+F6/EC5uykp5cV030VW8P55ocvXW4pui+ogOPx/Mq8IK3x3NNpD4+Nv3bgi1+zIdf7r/EmZV7hY98MvC9YmD2SiQhyEBB/ksGFekYpJ0XI2FN8lYyUHH3bfHesPeviZJwS6JQvKWQQ8X0yI5GJN1NpcMpva7mYniupO8nT0vvD7tbcobx8LfeOErjOxKlbl6Ne/l/MjgtpqmYthhc/bCINWtrpY7JPIi8L3lipe64CZLSuFxLfK7m5tVS6ufVrpG4FjdXY/i7dsQBfSEvC25ebSillMb4ystS0gdZ6bMSJ1Ku0hfJczAlcvkwt0k/kw5m+A/3p03Vr+H/DSf9bumza2e4L6m8Hub1TxfGq0HCL/axw+NWzJN0xIfl+QgMT2P6zrVQ+vZwn0ZyWXRSzFFxHaX6DUrSkqQv9Y1z96813JEv8Tf97UzfH/b9K/yTqKanrwR5ZlOXvCj9XsobF/ViA0n9iTspc1g/ODzdw/4cdo3Etbi5OsW3Sv25ws/CjeIT6QuKaZM/DNj4NcbH4/GU4gVvj+e1YpP/jfw5KgwCUneGCd2F28XhzLVT/FgWUcV7JY8sBmsieWQlFkl8rLXYuOgS7Gs8p3ekOKUZ3t28okbgMHV0966V/EriXhRqroFC1NLvFhI+gpu0v+nf1r13jeG+VRkhncNrYvKs9LnLcwvWyLPi/5UI5T/nWfPTk8674Xl4pZufhtIwSv0bfk9adaJBcmUbL/jiXknkh7QDUxBwCrfkV1rYGPYk7UNp/BJGcvtaSftVGvZI998oJJw3K7RrozQPXi5mttC/iquR8jL9O02S9tL7xWdX+nENKCNXCcN9Sk7IuFId/ZU00Yt+uL/ct1LSUfLdRn4mfsnZ4BZr3ERXCW9Ot/gq89Qm/yu+V4ynLZx/nhbIPR7PT4cXvD2ea0BWapUbSrjBlJLVW1s4j9q6lYAIZQ3aKpQ1KCuz50KySqCd9VV57cohwssjM/QBFo2yCoyGWMlliv5iwSoZZFtkcCC3JT3GumGIQt6LA7AhSgWlQb48kiEunRaUu4oJd38nwu5rFVyTXEoGViPlnBMqCnmgJDpYF27kVjQsGO3GchZlI1RyZI1NBm8ujlbLBSnB/40kiWvplQhMVw4+hdI8Ln03HW/ljt0JCkWmLWjj6oIJwAbD6ilYjM1jVc6taGmwEFsrZeGsCRez6NXE59WS+J34M1JY6WdJnqZ/J+Gnf6f9fK2k8tYdbTR8yJ/4XVp3X4503NJ1IPG39KLEraz/gcIqiJUhIsYoS6xiDHmUHcKSQ6sYE4MpaDkU8yM5CnBkZGLGAEYlfVSAKbSsq/Fyz14NpXUgXYbJs5+mXK8dZTXYAG0CtFEiLxrpW6TdJP1Lqp4mjq6on5TcS5f/tVH8hpXWk6vlvcW6z0msIMadgW0Ak3H9QxJF8aMYuwBDIHWNpAtJh0+qnNJ1NLlK+wrr/Aqw1n2bLGDdmrYN0CZEmQCMC0cleVt6pcMZnsdST+UbOBwn8GuLUZbIxERYUDGWPMZEoOR7qlSYytMkDnkUeSA/QhxK41J6vRYS/0rzsiQ8Vy7GJmkXbRdjIqyNpEtHY1Vpfng8ntfKy31BPR5PQuEbGIOKQFmssgXhO3GjrAjCw4Y0ClDJcKM4AE9OPHm5oc/IpH0vDqSKZ2GnP/rJX4lbg9YG7SYGsKogjIMCnRZkh3/8S4cDw4cESbjFSYjiMGvkq/jeq0DhVr+H50Han2KuJFdCMhngBnBu4qL4rvwrb6VUEFXapySH3+hTx4slVswvl2epApD5jdK8lfdGKq20uyvTpdwZ68UVo2H5Y+U5uIkalcRHEaokr4ZH8JrjY23Bu2un9IUkHdaJeemrNI9K41IS36SqvAqGl8WwJ4U8TPyVq3j/WihM+A1LeeJH+iq8AFZLn+QmwRQWUuWulEJbLX2BUSgTot0kldYWrayozrpVxkIdsboYE9emJHiFVdrN/bljnUrSeWWKX10+XI3h5e58dYLZ6xTEq2R4eypGIf1LBMQkm1J3r6ibxfpZrKOvPmGJ7+5KJtWucCVCmVFgZNay8G467oWQnROLTEgX4qQopK/ouLSFXK02p9Mq/UPqjsuPJEbuv2ETpq7O2lT/coUKR9I3iDCqEbdQdKfBTT6BlVaDVkresclvXVgOtoXEOn9SbS+dFne7eLk4l/ZbJRG+BpLwRur70sUgkwnWfQtitz8+BEIlE6o2dnUEqSfpUvN4PK8NL3h7PNdAekAglHwMrQwApEm5mX5lsUoEN8GtdBAUPCoOSJIZ6mtj+Ac05XXSoodJDlqEVeUGzEMKnVcwpNH5ABXLANy62e7hqwzX+OEflkGluVXqR+nz18LV3pdwZDAh+9IKTxROmBSB26JEQFCAUi6fUqPfkncTt6LhIGX8xpH4nUQmCTMp5NKuuzSPE/fpq7Q8Uu7T428XpOTX8OIyRqHIQJyBvBblAbeIY02iCWLQyjphL+FVxueaSOdNuixGKMACpfnG8HAlAa/gxyuRTo9NrTCleS3+p9ObXC/nR0neJCq6VsRBbUFHCoZA5zQ6F0I+AKuxymBVhMWgkv5rpCirpJ9A2pYqTigmyVcWmejDvEKcR6rXr5Z0WSbtpRRX2V9tdXuVGOV60UJyrRN0SutCsoJrixMVw+KWimxSP4dLsm8ApZlj0QVBcDgSEwvEhahrpz1Dau+1pDppC6qY7oKf6foq2gKpzLsS179YtKzGlz7H5Wehv0n6oJHy16CIC1e6vRpAqQBrNcQacqByEOQ1Kg5k5R8Fygn9yqkNFSYsAhShXDYcoR9P19GkrNPXayH9bpLudLjOlXXaX4geuTYKlUPGCLkQHScLCdblTWnd9Xg8rxZlbex6B+ngLNDe0U17RxdTJ7e5cejwj5cFOju7aW/vYtKkNlkkQ4ObVRv5Y+fx/LySrDXJV1jhVO5ABDX3d3GIYLE6NbxSrkVYaUvyrtMvB/eht0BaRe0VcN9VqyKMAomVzMqLmpxFKyNxTcI0Ft2reejrO+k4rdBxhqqWPG/72FxGjQuxOi/BG3mPYLh6Wcl8OaR+lQ4P0nkx7Gl6IFWYkHi12GII6YBVciNRd1UoZDXPKgs2Tg3EEiwQp+KrUysWDoUTWuKigO4K77Wm4Jq4YkPd1UJzeVx4nAxCR3Kf9NGmUJ6FAbHVaLSbtEiEJNBJnhrJGxvDhQP9bHzwGIOdeWYtHM+Ct48iHJ2q90oTuBCuLT4kGV3y/DVwRb45b1PBjOBCKEygOV5NdBLL+0r+d2UYI6wavQr/r/RPKHphinUBCnVdfhmUMmADjHUD6Djg1It9bHzsJN0dMVZHTJ43mjs+PA5dlpfJOO22s5Bs13ATU5ZCWMkKp9yO3R5w0CZEJ9teVARa4vN6FfOVpHKo8KcLSJHKn+KWiDcmHoJxm1o0MYGVVfjY5Z1O+vpC+LLvXiF9rr2iojh+ivpZ+IYVSH27En8KTlL7lC2FvSNKx6AslhBsUAxeWRG8XT+iYilnq2OZAFUinEpfItt2kvoi72qpQ1cI2sMiIavvKJQNsORlYpsAEA0u7d63ysqkkA2G51eBJOElvwv/SFu2iAYHBnQeDmw5z5YnjhH3VWKDiJm3N7D8nZNQGYidajbo4vxt6bfkqqTjky6n5N1r8YNCPhVJynj4+1K/jPTnLl+10fSdzLPqvgP0XTJEQZ6JC+pY9p5plI2SCROFctvQrjU+Hs+/HyzQPzDE+fOXaG5qpKqy7IphrAUGB4c4e+4SDY0N1FdXDHfgJWSP51oRKyv5bkXncUPXUeg5qug+At1HoecodB21dB2zDJwD1asJchodabQRtS35BsqgVz7KotYmn8rX+iGzaGtlgt2AsrKSa3ELKAVhQIRQDHSfg/6T5fQfL6f/fEicl3GoUUb26qpQhHU3ThV/SsMtRSYnEgvJhf8sWKuLl5s7f7n0Fqwsl9wrDipSAsawVVWKAw2391giYFBOjTbXo+g8FtF9FLqOQtdx6DoW0HVM03U0pOuopuco9By19By1dB+z9JzOYwdE8MAWrO28blzNkF06rwplmr4Kq9LFvCyWVdH9sOhaZLDltkQUs1FWQCks1FgRG5x/ytWjABi4HPHsj/ZzbldE79EMGx49xOEdPaioWCTaRSSJC1Ymq5K4FFMsqoyvXL+uJCkOqWlOZdKOlG/F/CtSvG9s2taBKtTdV016jJ0UjpX0if8iELyS31et/+mr+CDVNtLIb8mPVLNQbqeGltW5eNDSfwoGT2TpP51l8FIZNlZoHRbcFBNW2mZVQWBK6pHkPmirMf2WzpMR3ccsnccCei+AcaYVkuhK/1Qa99fGleXt2oBK6oi9oh294Vjc/m4nbFpcA0uMhElLkDani63Vtet0/ZScTdLy8vlW6IddXZH6g/M/Ma4njfWK+ugyzeSh66Sh66ii56im71RA1BdiC3uoEwE3iYsmHgzoOa3oOiZ968BlDbFsX5Def3g9sik1rXS7K1b1JCwlU6kua8SKgJSi2KWQKeaixzjh3qXXpbNY9s5f1z5tYsOjYMtDuyovfiqlUEaR71H0n80ycLKCvhNlDFwWIRtj0VqhnXtR4XcTlS5aw8qtsFVN4pOUr8RJYwr5Iu+ny7O0b0iTpKVQzy1FPwppd25dWShkwlWhIG/pOaXoOZGl70yWgcugItmOUthmdPXgPR7PNeBXvD2ea8JCBEe39rHp8YOE+XICAhnuy5KzLH4HMYQR5XVQ3VDOtPljGT+nCkKw2mAD2UeGDaUhuQ8wyYfvWrFu7KTyEAfEfRoVWyKlUBUQZEBpUQ20iECBtehuzf3/8wV6DpeTyZdTMbGfX/q9GYyaEhDpPNYGaGS1Emsx1qKlgRfU0dMkMS4MmawFJwRJr1Ki7plK4kipTQYWiXqrMaYQfnroII+Tfqukv7FgMcTJLm1rwWYgBwe2X2TbkycJoioU2h30ExMomRhQVlZllIqwKGIdU9NquOW9s6gdq2VMhsJqWbEpne18LSTpHXFA5QIoPFMyVBrmxP2bft/g/ES5DJFBb/pNZZ1asBubmgEwQ4C22KwlrDKgAhkOJtoCJuTi4T4e/8oBBo5XEhpFLptn3jtrueWjY1HlUibKxFgtUp5SSox0kU6PTD6l90YWVJqvEZvUl0TRVMlgN1lxGsF1ISyQlSzxo1iDrDVo9/KrjQ/JCQFWoZzBxaTGghW/XV2W2jMyaWHJptqfMaL2PVK8imr97l8LOO0NEfaTWZGMuEe6jhObe1l37yn6OxR5bZi6eAx3fXYUYQ1OWCkKfInQk1SpgkeF8CioGxMFnN0zwNqH9qIHKjBaM2ZOhmXvnkRZtZSPVUmeqCvb8GugWPtLKYpcxTaS7NP96cO9GtaAyYPtBx1Jl68qLKpMDHFJb6pE08lKLHGq/cbagi0Lk6qfFEUqgKsawbxaHVJOSBatngSpr4Wscf8Otsc89tW9xD0ZQhRkYq6/q5kpSxswZbKkq22EUlZsQRjNpSN9rH3wCFF7OVYbJt9Qy/V3jyFTJZWmIHjLLGZxwquw8m1l4ie1qirCfbEPQynXfxhsLiDu12hn51GVi6KWDaTMlTKFb0XaXsUVXW2Sx8l9TWEbhUVU3lUO9qy6yIZ/O4PtricKBpn1rhruvGcshAarY1A442/S21oj3ZLkUezy2sWhELgI/6UowJg49f1LPRuhD0Dk/0Jd15LlhfJWrr8zxhbMpMh2ALc8b6DnyBCP/t1Res+HROEQU5eVc8cnplLWSGESwgkFHs8vHNaveHs8bxYWa+SM4nyX5uLBfjoPWS7tj7h8IEfHsRztR2IuHYy5uC/iwh7Nic0Be58c5Ol/PcpTXz5E5/EcNlIokxj1KngtFslf1ZfMysy5FlW6y8eG+OHf7+Zf/5/NfOt/rGfv+jOoHG6VtyjQF9X4jFhdx6KNhUgsgGu39xOnfK1UYjTGvZUcWDrSaouVQULRSE2ysiJLXMXUJSJxNOz1UpKBY2HQYXETHKImKs+TY89K4gKFgVZx5t+AgoGOmPZDOTr3Wzr3QfsB6DykuHQw5tKhmIuHLBcPxVw8lOfC4Tznjwxx/sQA8VAgW+GUxegY486xfb0YSei21oCJ5Rg4IjcQdPmaSrPLCkmnW5BIhGVlc2Byqf2ZMiyLjdvPb2T1K98X8ZMvb+erf7aFr/3XbWx57ARqIEC5IrcEzhibpbaxklFjAmy2jygcgpoczdNqUVlnBVuB1QEoMbYmisdGdmLaPJgcAcYNdN1TK+++GuSoG/FHyYjX1bVSf5yw4dKO+6VsjLaRCA84i/bJChQy6fRakEGxm0DCoInkUjHYCGvjkgO5hpMMqpVShfpvrbRFBU77YPjlqsDwFTuAgoEljSIUYdAqIiyxLEPKKnScEVFBDbkBtkxiqMKJAAmSO8PqYBK4RMBZ5IK4F84f7uPC4TwXD+XoPJcjzg/vC5RK1f2CH6T6mVdDOiLJFWNt7Poh3NoexZXQQoBvABEc2XKOe/9/G/nSn27lgf9vFxeO9aNMULB4bm3ghEDjVLV1QRhNTsRQ5Fz9dFuSVNFk1tWwVvrGYh1S0lcWTiuQd2UFdoR+xYLJQfvRIdoPDHJx/yDn9sXsXHWZrrN5VGzQ5GVLj1vdxSji/pj24/1cPJjjwqE8fRdjiAridqFc5P/F+CftVznjn1ZFGBuljg5z/blRrt3HEAec3t3PA3+9m3/9ky1866/XcXrPpZK6kzaimWAwNu80emSPs1IxqBijDZGGSCUbJlxf6vyzSr4j8sAWJukkzNhtF3C/jXECt8EkmmfOt+G1zshWjII2XIw1eSCZlBLS34iRvhcUfHcTe9ZK3cegVIxlCIjQ2sWxUCqurRQm7xJfJC6qUHjFUvR4PK8dL3h7PK+ABax2HyOr0XEFNpdF2XJUBkx5L6ayD2qGUFV5yOYxsUXnqshfruTwph5W/9sRes/mnYUuJ2gnA5ZCKNeGxS0+WmRANQRDF8rQ7fWY9gpUzk3YF1YT3AfUvS9DLEOsLEYpCETaEGUyGSQFLhAZEIk/BYFgxE+wIkAMMykbgDMmI4ZlEpeyTJ/sGX45ijP6LuwkbsaFbGWFRpyN5J/E2+JW+5O42wAdVRBGFYS2DKwh0gNEYTdRpps400mU6SYKe4nCXvJhH3EmR6xjbBgQF1Q+h0kjrwtXrGIY2fMoaoCipqps+gzmkjS7sZNSIvhYo+SYHULnlzhTKAKtACOrxQbsIOQulmE7aojbazC9GaeKrpC5l1hWKANLtk5x54fmseDdtcx8Rxm3f3QCM5bWkdfJCUNSMFYkdleHkvhoAiVH/hTjg6w+lqb/FZAkOI2TQr1zfhQG38V8UleoS8oQWMa2YmnYibZF1ctXTVFzQUKSQbsI9SIwJG3qKmPnYauyxfrv2mNSJondhqR+l7hPLovF2jxKRWCdWi62YPfAKlBhgNGKmLwsg7vskVik2lbirUTFaeqknoMIOG5BLLCKjKkkzFcS5MvJmHJ0yr5CEmtXTUpr82sk7YsIqjINEUr9MBplwzd0pTtBxRB1Q3S5Atteh+muwg65SZFCv59YlqYwqSjlnbQfKz2om7wslrTUgZFIT1pamxQWkvfWheHaQqE9IBoy6v/P3n9HW3bdd57YZ+99zk0vx3qvql7lgBxIgGCSSAIkJVFsSS0qsXO3pG6PvTz28lqefzx2y+3xmrXG/sf+Y8aemZZa3YrTSpREqUmKJESAIAACKBRy5fCqXs43n7C3//jtfe99hQJFqgWv1erzxbqo+849Z5+d9y//UL3tUjuFySpEdogoHyZKRli5nHDtuw2RAeaePfMm1SBrTGcVoqxKyVVRWWDy/aTomaX32+mflPVpZZw0CqNFUxxiJ+hgweP3CpUrsrrCbtQw2xO47Rq2I3ufvMMzu37N9HtPyuq1eZDnxPUifavexPRCMj/nJdK7T8enfKpQpWRe2Uj6APx6F0sTpQdih/TO/d4KkH+U7EfKKYzy/vNOxrOnJX+vTWMA8pySVHZEKIzf23TP4kHuk7bKYHpLAuXDyynr/envKHh/NxYoUOCvgbvv3AUKFBiAl7aHNDxK0m7lEczfM8Sn/8lJPvvPj/KZX1rg07+4wFP/8CD3fXQCNdRFmxydjLL8Vs6b314TwfadUANEwvcFJUtXCVFjmzmunVG2ESYXPzg530U639f1CSEhSjEnqb97wbDAWiN04IACxFp/Ju87gweJhj4CkaesQeX+Y/0W47iDWXzvrUeIDPkEPnOQj5KUbZ6IvEs9AnwvifJBqz7NifRNZtosPDTEZ/7JIX7kl47xI//8CJ/95wt89peP8JlfPs6P/PIxPveLp/jUF04zNC3aWyHUtDehf+93/yBQnpC8k6jSiPkmuf/Xhci0QqwG3UmoRUgZhXVoZdDOR9ztPR8IvvACPy8U0IK0maKzHJPnGM+8E2amFg2QUxoMjBzWfOxnTvGpf3yG+z45iS070IGZDAMmjAPWiQCgVx9hgIT57o/hD9SbjjCR0c6gco3KtPgiOtXTHAWB0yATrfDPWF8f64NBOYUL+ZbvoDm/HwTCWqNFQJQr3/cR2AiVGzQDAam+D4Ru7H2C4M4qz8TKhA7zYd+zyM/K+6dqq9DeUCbUVKZLTk7Q5PkyeprGwUjGA4uwh3B/rypyxYngT8Y9IiKSPeSOflWAGtDq/ccgMKOBmQsfCHmxBvYQG/aQv5l33w02h7Ru0QlEubdA2beROtHsYgeYYalzEJr152hYM2HsfWe/B2Q/8fNnEH5uy5EzyJCGsfXMpocI/CJyC0ZFqHaV155Zob0ibie9KOEBTuZlrGLI+24b/aG/Q2DpcpR13jor7A3ho8B5tyJfgNbyxSKWAlkjgSQlyi3Gybrz4jSU7gsr9n/CGpLzSeVeYugjeOtgjePvFtFZGCKfLk+D00GYhh8XP0Z5v29lb9f+HB0sdfAj+5YeHONcQxYEMfuZb7iLkNZD+bSlyvPU/T3In5cDAk8ZkBDY1f8TukYjdI6TPaJAgQJ/c3hv6rdAgQI9KCRiqrKOyGvJcixDB0qceHSGE49Pc+JDk5x+Ypqzn5jhh//xHB/7hSn0aMen8Iq49OoSyR7evLd/momZbZBm33HKhUsDRGO4FopIWpBnhjwzKBX74Cr+VAecM5LGxHOd2ooGxSB5egMxqHPI65b2ekJzo0OnkQanMaS4npq9XxmvFVBWNIY2UbR2UxqbXRobXZKmhUSoUNHWIgRmYMhDQ3wb+wG/fLmAyx3tepfGdofmXpesG367Qyu5r/sc2hN1EAKjCTHhFOQmJTFtqgczzn5kljMfP8DZjx7g7MfCZ46zH5vj3o/NcezBWUqj4t+tnWdgxDKx/87ee99jzMK4hZ8H7nH5QNQxz7C4RNGp59KP2x3ShkNlShjMQYHDQHvF1NELV3LIu472bkZzM6G53aXbsGKx7nks8fsTbXjWdXS7OdpEnqiTzndICjHnDEKSOnIFVjuIc6xOcFp8rCOniK0QkSjJd6/oj61NHJ29jMZGt1cfm/brs68fB/v1zr4M13JQqaJTz2jsdGjsdEkaFpfTl7CAZ7o8M+5NjrFgO9DetjTWExqbKd2GFctT531DQ93vhJN7egKtXj1lHF0GScPS3EmobyY0NzOShoI8ko/T/UaFuT/QTuUUzvYJaCzkiaW9m1Df7NDaTci7Ttrp6X7EON4L2/x3EH2vLWE7sbR1LaG9lUELTC4B9YR1cigXgyv1unsfp9zrh3BtkHXoQ1L4ZVhlsdqJpQS5mA33bhr4Gl5259gOYqBv3nXv4D3W8xHhM8DE5G1HeyelsdWhtZOQt4FsQFIw+Lnbe/bVyV8Y2Lfeda/3727VNc5GKB3J7X5pCVOsfawP2a8VTkyerUNZMfVu7+Q0NlKZn3sSZ0TeYcU64Y4q4fcP5URzrZUXXObQaWTUt9s0tzvkqd+L7xCiet1u/2+VkqkUFWt0lBM5RWs94/xfXse1dc8CyHltbYgn4GyGUpCT4rQNhXnz+rB3eamqteQdaO2m1Lc6NLa6pA1wucb6tayCWMkhjLAPONftOrJc3FSC3zLhrMp8HBW8NNlaP05KmNpUyx67LWdVZ9dCokRA5rwrQM9dqXeYCg2QW4zNMYS2QdaF5k5KfbNLeyfHppo8lTNT+OTQt74+4Tz0+5PLFVkbmtuyzpvbCUlTNOA2tzh/lsm5HwZ8AM75/nTYFLqNnPp2h/pmh/auxSa65+agHDjnxB/dmV5Ryjki6zBWgsJqv48OVLP/6rvN+97B1hP1FyhQ4A4UwdUKFPh+4BykcOkvunzl19+klIxjY8upT5X45D88ihnyJ5FzksLEQboDf/r/usLqW+DI0NN1vvBfPs7Uabj+1gb1lUS0MyU4dv8swzPgVJ+ZdDgUiqwFN97YoLUtXFM0mnH89EFuXtyiu2vZeNNx8cUWpBpV63Lsg1UOnq1KMDftmD0+zIGTw1LuHvzGf/sajasRka0yciLlx/+3ZygPw5Xza6xfarN6a5fc5QxNVTh0cowzj80xNK1FweEDxciJKhSkyg1Zw7J0scHK9RZL13dp77UxkWJ2bpz5kzUOnBhj7HCMK0l3ilJbATku0Wxeb7J8cxsHjE1WOXx6Gq0cK1c73Lq0ze3LG7QbHSrViPmjUxx/aJK5kyO4Sg5azFffrVGT+jklwWt0Dq9+bYNv/9slTFYlL9W556lhnvyFMzCUiUYbPCXhpf0oSQGEaMl2FzssXVyHLAbjmD46xOyJUamC8syqVdRXO9x+Z4cscTgs47M1Dt8/joo9/ekUzbUOt9/eJu1aSsOKw2cmGRqpsHe7y9KlPW5eaLK9uY1zOXOHD3Ds/hEO3TtKPK59VJxAyQ9ouzNDsguL72yzdSNh5XaLeqOO0hkzM5McPDHMwn2TjMxpcme59vo6nXVIlhQvfn0Vl1ZxynL43jInH6thY4c1KZPzQ8yfHkWVQWWaW29us7vallkap5x88DC1yUhYUeUkj61zaGtwTc3q1TYrl/ZYXqzT2GlgnWVydpIDC1UO3zvB5EIJVQarfAAy4UzAaZoblqtvLmFzMCXL2YcPE1c0u0spN1/f5PaNBpubDZRWzB8a5fCZEU48NIkZEU29A2+GLoR31jAsX95j7VKL27ea7NX3UApmpieYOVTl0OkxZk9WoCRBmnp8iRtcmWJ6DyJEUpnCtmH1Zou1q3W2lhM21vZIkpTIxByYn+Lw6QoH7xmlNq2hZGW+OITwzWHp6hYbN1rgYGiyxMlHZrFduH2lwe23tlhd3KGx16VSq3D42ARH75/iwD0VVOT725/jvsUioElg5UKb2+/UWb7epLnToDwUM3dslOMPjZGsK5757dvsbWusSTj92BRP/q+nMcN+zjsLYpwOKuj+6PnM9vkJv3JC7u/MsPLdlC/9969jWpOgLAtPRHzynxynOtm7neZ6xtU3liET9n/sYJnDZyfRkfNzXDRura2Em29tk7SEyh+eLLNw3zjxkPzuHDQ3Ehbf2ibrWOKaZuHsFLVaxNLlFrcv7XLr+i7NeptaZYjDC+McfqDG/OkRdNUbkzjo7uZcfPUWJGUUMDypOXrfDLoiFjNS7RynMrCG+pJl8a0t4XdMwtzRScpVxe0r22RbMdde7LB8qYnKS1QmNac/XmPkoMIpi4pTTtx/kNpM1OtIZS10DLcvtVi5VGf5ep16vYlWiqnpCeZPlDl8/xhj82VcbPcFRcsTx9KFbfaWO1gNs8eHmT0yQrJtWXx7j2tvb7K+sklpOOdjP/owB+8d8qmy875m2lnRYjtoLzt++//yOtnuME45jp6YYvn2Bt1OwsjBjKf+8VnmHq6QaycMqNWsvdXgT/+/l8mXRiDOOfNUjY988TClYU8ZDsjDVA7pjmXpcoPV621u39im2WiijOLw4XkOLJQ4eHqEkYMlXEm2Ou2gsdHl1sUd0m3L4rmExdcTsegYSrnnI+NMHIkk0JlOWbh/ivH5qkiVrbdwSGHjesrNt7dZvllnZ2sXhWFicpxDJyocumeMySMVKIlZeWD6TQqvP73C87+1CrsjZHGLJ75wiAefnGDl8h63rzS5eXWTtJszMjHE4ZOjHLlvhMkjVVRFzgEpyQe+tOJvrywke44rr22xtdhl+dYO7WZCtVJmbmGcuZNlDp4aozZtsJH0ntJBcGIG9hGF6sDGjZRbl7ZZW2yyvr6Nyy3j41MsHB/mwIka08eHMEOy5JQYPnl3G9i72uVP/p/XaK7F5FGXU4+X+MQ/OEU8I92nnMh7tm+1WLq2CxnkZNQmNcfuP0Bc0T3XCYtGhbgUfswLFPhPGe5vKLia+ZVf+Ze/Eg7sgHanS7vTZXJi1DPe7142nU6XdrvL+LjcE54f/H+BAn97IIfbxnXL5fPrGFsGZZk6bjj2yDg6DmJfMUV3CiINN19tsbOUillvlHLP4wcZmoa3v9Xg+X+/xOJLLW68Xmd0ssbs8Yqk8AnaOiWBirZuJDz9765z+ZsJV89vk2QJ83OTPPuby1z8Vp2N6xYXTsUctha73Drf5ebLHa6+tk1trMThe0bEpLMLr317ne62QdsSw5OG2cPDnH9mme/+6W3W3k5pb5Rpr5eoLyquv7VLo9lm/sQ4Uc1rNhSi3fAmgu01xbf/8Arn/nyDG6+2aCxqsg1DaxU2rne4+UaDpWvbVEaqTMyXQeGjXouwznUUl5/e5lu/d4NrrzRI9yzHFqZ586UVnv+DJa690KB9s0R3Paazplm+VGdtscP4dJmRAyWhGvyWs3/n8Sof5f0WLaxeaXP9tQY6L+OijJkTEScemMJFVqz3be4f7TPe0l7QueLG8w3+8rcus/iiZfH1JtUhzcGzo2gvlHCeCFp6s8W3f+M2l59rcf38DjaJOP7oKLokZTunWH27ybO/sciV5+osXdnh8Ilxdm7Dt37/Ku98q876lYxsIyZdi1i/lnPj8iZRSTNzrIaK/TzxbKCzQKbZuNzi+T++wWtf2WTxtYy9W4r2uqKzrtm5kXLzzTorK9tUxzXVaolv/NZVLn61zdo7KWQxTpVQQGMt5earba6fb3P5tQ1UHrFw7zhxVaM68OIfrXDuS9vceLXB1bdWOXn/EUZnNdb4pPVO4XJNd8dy/qsrvPzlTS4932BvMaW7ruhulNi+lrL4ep21W3XQjokDQ+hY/I7B4axFOc3WJceX/6c3uf5Sk8ULmzx872FWr+7ynT+6xdtP19m+ntFdLdNei9i43mDx7Q2q1RKzR0YkurGS4GJYTdJwnP/aGi/+0S1uvNxhbwlam4rWhqQDvP1mg+WrOzRae4wfGKZU8+vKn5FSNbHjzH2WZpVq1t5p8sKfXeW1r21x+dt7bF/PaKwqOluazlrE1pWExbd22dmqM3d4iHjUQC/IkYYMXv6L27zw79e4ea5JYyPj1H3TvPbtDZ77oyVuvdigfdvQ2YhpLccsXZQ1dfD4CLXxWPrMepcFxDBFdxVvfWuJ535vlSsvNanfgmQzYncZFi81WL++S3tTsb3qyFOFUxlThyocf3wIXQo6PiNt9GMiwgeJ29DX4knf+IUjxLZVNG7nXHhpDZVWUEoxdkhz/NEJTE2arHLYvJDy5//6bW6+kHHj1RaOjGMPTKJL3qXHv2LrRodv/dtbXHy2yY1ze3T2HEceHCMe6q+D9QstvvlvF7n2XIuVKy2mx8a4en6T7/zJLW681KS57OiulWgtl1i62Gbp6hblsvLzTl5l9xxf+fULXHo6ZfGVDlur2xw5O0VlTJhjBd5EI4fU8M43d/jOb6yy+FKHq2+vcurkLHurTf7yd6+z+KKjuQGaSDIrdDTLFztcf7XFtVf3uPHOGqfPzDN0QIQaOEWyq3jj6VWe/9IqV1+os3szp7up6awrtm9k3Hhrl7XlTUYnKgxPVvfpOJIGvPKlZV770jY33mhQqVWYna3x3T9d5pU/W2PzHUWyUaK51+TMg7OMzpdRkfUCR5E89IhIpcga8MY3N3GdEk7nnPngFOiE3c2UvKMhdsyfHCKu+LPKaZqrCRfPbZE3I5S2TB2vsPDgKKYUZolYRqlc0VqHb/8vlzn/lS2unWvSWtZ0NqGzpVm7lLL4ZoO1GzsMjVQZmy3hjFgCLL/d5JnfvM2155rsLeNzdWtsYli9mnD91Q6Lr7a59toas8fHmD5S84OrsC3FxedX+c4frnDpO012r2d01qG9adhazLj1ZovlG9vUhmLGZitIWnWxDFE5rN2os/hGE7pVnIIDBye59voy57+yws3zDdorEclGxN4tuPVOg+UbO1RHKkzNl/uCWSlRFkGiWL1c57k/vsH5rzVYfr1Ne1WRbkS0lhWrl7osvl1nY2mbyakatcmSnGde8OqsCCmVg6yhePvbK7zw+8tc/HaDzasp3Q1NdzNm9wbcfrvF7UubJN2cuaNDqEjidwwyDsl2zjvPbZM2FM6kTByJOfrQpKxZJX3Q2ch4+rdu8tpXtrjxUpOlK3uMT8YcPDmOjsCSi3m9n0fyX4ECfzuQZjnNZouhoRqlOHoX4w2QZTmNRotqrUql5A+XARSq6QIFvh8oTza43vnpg6gM+kB5YtUT6jZT5KkidjEm0UQuwggfyJmHxinVLHFexbRHWHxnm6Teo219aWJauHJ1i8ZmhrYlyqbE/Q8cF9+xTHxbIx0RmVj8Ka0hyiN0GqGJxb928NhzoJ3YYmqb01p2PP0bN3nz6xvQqGKooW0Nk1XRWUycjHD1lV3eevYWdET3pawT39lcUb9l+ebvXObtZxokGzE6reGiElQNqlJGUUW1a2xeVPzlb1zljW+s4FrCmCnvrw1gncHYCuVklO5imWd+a5MX/2CH5m1FbKsoE5HrEmlaQ3Um2biieOGrt2muZ31TN5xEh1U+AnjPkjQY3gIhorvVqFx8b7FCeKrcQF4CW8LlYpqv8GabXhgifoQVlK2h86r4YfZ7twft2xPlVYytYGzsJ42831gHuUHnFcpZhUpjgot/rvjGv7nN2jvgOhEmKpM7g7JVVDJEujnCS19ZYf2aaHhANGcOsQHceLPFf/ifL3DluQb5bgmdgVE5lQrEkZa2dQ1bS1t060nfdN1GRK5CrMpiPplbCcnjxDzaUN7XTgVoG0m78io6q6GtmHUqvE93rrF78N3fXeaVP1qhfhN0VsIRoatlVBmMUcR5ifV3Er79u4u89KVVXEusJXPAaTHB1WhMVqKcDVHam+T8l1t849dXWXo9gTQmchGRiynnNaL2KHZ7hJe/dpvlS03vrBiLeWumuPhsnRf/ZI3u6jA6jYljy+hEztBITqliwEZsLnW4+OoWe5ttP4FCy2U2yT5ggBLKGXZXM778W+9w4dk6jcWMmBoOjSlHmLIBDQaNbWiufrfFs3+8gU0V1hnywWBjfs6UuiPYlWGe/bUdXvy9FTq3DJGrkbqYzFVQ+Qg6GWN7EZ77kxt0tvCcrAh0lNPQgje+scZ3/nCd+qIj6pQxucaohKGKpqIqbNxwXD6/Q9pMMJlXmv8ACL3R2/7Ak9j+4+SK9N/dVgkSSMqWifKqXyvxXe8MfWPyGsZWMbbU2zt699iIKB8jSsfINoZ49ndvc+6P10lWDJEqoYwmigzGQpwbGkuWb33pGtfObUEurSiPG07fcxijS0TZKM0Vza1Lm+K6oRwWKybieYVu3XDzwjZkNZQrMTkzxoETQ6RWk9kKmaqQmxirxFxZ9o8YY8sYV8VlJZ+pQfoo2XOc+/IaL/zROo1bGm0jylVNdRiqwwplwHYqLL/pePq3r7JzTSxO0AMZFlyEsTVMd5hkucTLf7LN699ao1s3ZM6QYqiMjlMbj0Hj82EHnwXlScLexolTkFvxn3C1OsceHiau5eQZXH5lg/W3m+JHHGIXeHesfcFMejaVYlruUti7nfG133iTS9/eI9mMiLIaykXEcZlIGSI0ql1i9S3LN/7dVS4+swUtv5s7cLnCuCqRLRPlhsg5YhwRBk2FPK+Quyq5KvnlK2bcb359nWd/e4XNqxm264gMDI1EDI8YSlqjOxV2Lkd847eusvZGA51IXITBSa4cGKuIs4i3vnmLd57epbkZo00FU4lxKkLnJSrdGjsXLM/87hXWL6SoTJNbg1NG8nZnsPJ2g6d/8ybXvtNF7cRENiJWKeWyJY4MxsVkexFXz3X40v/0FmtvdeV4sz5VmV9DWR1e/coS3/n9RbavW6J0iFiViaMypahMpDVREtFa0rz0x0s88zs3sNsZ2oZxEVP8sGSVEmGuxLYBR4LNU2zTcf6rmyy+3kF1hjGx5t4PT/HIJ49jKkasQnSEQ9KS3m0tFyjwnzsKxrtAgR8ABjBKgrA4z3Qrhw9CIgSWshLMtLltqW+1IXOUjYYooVSVg23ssOHQ6TGUScHCxq0WG4tNXO5zK2vxwUqbsHG1i+1orO4yNl9m9niZ0qTjyEc0pz4VMzxnyWwiPlvllOl74eRTmhNPWc48VWLquLcp89Bkvb+TZs7uWp1SzXHqw1Xu/bEaZ3/EMHEqxUUdaUujxK3X2zQ2sl5AJucUScPyylduceOVOqZTw2KpHcq57zMlnvi5WR79yRHmH9XYShuyiO56mZe+ssbiOw1cKub4oq2SNisUJi+xs5Jx9a1tstRx8P4S9zxV4uxnSxz+gMaM5jgVYfIya1ea7N5IpY4M0vgi3ejlf5UBEoLCe+0Z5YknV0aCOSv55AqVKXQu3yXrWZ9xCMrP78FL3IFBtsRXwxOiUo4izzWdXc2Vcyu0dztMHlSc+eES934m5tRHy1RmOxAlqKxEZzvi0iurqCRwPUYEIEsJX/+9K9QXY3Q6QkLC6NGUM5+I+NAXZvjQF2Y488kS8cEd7vvwYY4/OI8ZUpz44DCnnowYOaXomibWp9QZW1Cc+pTh9KcdZz9V4sB9uq8FVYjWTyQW4DVC+APFOI1twZtf3+btZ9aIOsPgcipzCWc/VeOxn57m0Z+Y4vDjBjWWEukadrvGq1+7yY2XG56QF5eL4LaotUHbCNcp89p3VmjtZowdiTn9qTL3/ViN0z8cYyb2cJFF2yGam4Zrb67jupIH2aHI9uDVZ67i2jUyq6gccHz4p+f4wv/+YX7m//AIH/rZGQ59SBEd2OXRjy8wtzCGtM6biHqLBqelvBBgb3jCcPrsPDZqU5nOOPy44ZGfGuNjf2+OJ74ww6mPVnEjdQl416ly7dV1Vq9096X68y/ykYir7K6kXH51HWVzFs5q7v1slQd+dIhjj5VwpTZKOaK8zPq1jKVrzZ6Tl1Ki/Vp+u8PLX10h26iKgKncZupUzkOfG+NDX5jmgR+tcuiBClQ6oMUf9z8WfSZ8cHGE756he58gb3EoMkn1lytauxnW5Bx6qMrDPz7GD33xEPd8qszk8QRrmkR5lWxzmOf//BbdLSSKtXGc/sAk1VFwpKStiJWLCUk9WADk0sZcsb3UZnctxTmDjXKO3DeJGVOMHy5x9uM1TjyhqdZyUAqrNQw7Dj6mOPmU5dSn4eyTw5RnfDC4VHH5+U1e/foy1GuAZeKE5eHPjfNj/6t7efKfnuSBHxkjnkkgrbB7LeLc1zZxIYp3iEmAxWEwWYmVCykXXljHOcfYguLMD8WcedJw5mNDVGYNVjmxTvCBKmUODQobZZ4brVAqp502OHr/BBNHwFlLsqM59xeb5I1+ton+nh4ESjIjei4oKLq7GS9++QaL5xN0WiXXGWNHFA/+yDAf/dk5PvD5SQ4+CLbcRLkqnbWY7375OmsXmuA0wwc0Jz9W5tiHIyozjkxLhmxbSTj4oOXkJ3POfAbuearC+Lysf6zi1mt7fPcrS+S7Yvo5uuB48HPjfO5fnOEz//Q0H/g7E4weyDEZ5BtlXvwPN7F1xLda9ffx4PcNiiyxxMNw+NESj/7kBB/6mWnu+XSN4fku1rWJbYXOcoUX/sMN2rs+aKWTOB2dDcezf7jI5hUw3SFcnDJ9Nuf+z43x4Z+b48EfH2H2ntzP1WG6y0M88weX2LvV8YHXvBl3prjywiavfnWNfLOGVgo91ubw44onfnqGx396mrOfqqCmmuROE3VHufydLV7/5hJ5yxvwKLEOcyI7wTlLpDVZOFudhlbMxWd3eeMvl6BTwZkuxx4d5UN/5wTxpMZFfqR7hfi4OL2eK1CgAIWpeYECPwAsbF3NuXLOm5obxfTRmKMPjKKioHSQ3NlpHV77yxVunNvGZDGpajN5yvDwk3NQQUyF24rFN7dxuaFrO0zMVjhwchi8chSgvpLyxje2aW0odJxx7KEhTjw+QWXGsHD/BCcemGL1WpONm22MKuOqTR7+sSk+/IXDHH18nNMfmGXy4JAcrArowuvPLtHZqaDyEjbqMrKgefwn5vjg3znE0cdGOfboKKMTJRYv7JJ3vGmggoUHhhmaEbMZhebm621e/ON1dGMIhWXooObDP32ID/zYFAfuKXPw3iqHTozT2u2yvdpFZVXabUviEo49MEpUkjq5TLFyocXti3V0WhXisdbl0U9P88TfnePURyY49sg4h0+MsLPcYnc1QeeKLO8yfWicuXsq4IPgimBAeQ0g+1mBXLF6pcXN1+qYrALkmLIlSy1LN7dYuVFn+VqTlestVq7vsnp9h04zZfxATST5FraudLny5hakVbRxzJ0pcfC+ERn/sI06xe6tlBuv1sk6Cqdypg4Nc+LxIXQcRlaxvZRy9XwD1y6hXIQzKQuPVPihnzvEfZ88wPFHxzly7zg2z7l9dQ+ySPJB11rc++gcqiT0oO3A+advc/WlJiYdo6syqvM5n/6F4zzw1AHm7qsxd0+NhfvGmT5a5sQjs1QmFKqkOHxqkhMPTdFqKa5eXENTRmk48+ExfujvLXDiiUlOPDLJ3PEhTMmba2Rw9ZVdNm+mIuCIc+57Yp7hOe+XmypWr9T5zp/dIN2sYpzC1lr88BeP8cjnZjl4X5VDZ4Y5fO84Nq+wdGUH7cqoVNPsNjhyzySlIQVaogu31hVvPLeMTqtoSqhyyvFHqzzxM4e47zMzHHt4nCP3j5HnjltX6ihbxlpLdSJi4ewE8bBo8Oq34Pw3F8k7EdZknPnwDB/66SmiGShNw8yJCgv3jTJ3ssbxhw8Q1bxJp2cYAnMLwlwop9AKtFbUhmFoLOa+H57j4c8c5MgHRpg+FTN/qsbC6XGaOykrVztEroRTCbVpy8KJMZk3wi9x460d1i7m6KSMiYCRNg89JWv51EcmOfrQGEfOjrJ8sUljuyWaRQ2TR2NmTg6jDaK9ShQvfWmLlXc6mKyEjTPm7ivxQz93lNM/PMnsmSpHHhBfeJs5tm5l5KnB6ZzJQ1Vvaj54lgcb67CW/Bz2VkC9K+FPpD3NWzkXXl4fMDVXHH90nCiYrVpoLOe8891VVFIGpZg85l13Sv1+x0FzI+PqS3t0G/Lg2GyJ44+NEg8LowjQWOly9eVNsq6wn9Go5cGnpvjwzy5w7PFRZs9UOHLfOOOTNdZu7pHsllAuptnqcuDoOJMLBiKH1hE7i212Vxu4TJjmQ2eHqE55c3OtUYni1vkNLr+yg+uWiEYsj3xmmsljFUanKpx4cIK5wyPcfrVOe8+RK0V51vHxL87z0I/McOKxUU48PE11XJiw9go88++v0FmTwFcTh+Gpf3SUUx+donIoY+xwzKEzo+AMyxeaREmVTrvFkQcmqE6KVUXeVdw4v8fudYVxMd1Wl9R1OPZglR/6wlHu/9QMpx8b58i9o0RDkqVDKc/AKbwwTVhvHOQNx2vf3MK1Dc6kjMzn3Pv4LJmFxTd2iO0we7sNJhdKTB6qgoLWWsLlV3bImxWUsUwdL7PwwCimjOQMt4prL3U497Vl1N4wTsPwYcVHfvowD31mggNnShy6Z5RDJ8fY203YWslQqaLbSclRLDw0Qm2qwvF7pzh4YpTb15tsrWWgNNF4l4/81AE++ONznHx8lFOPTjI6WUIrRbIHz/7+EltXLcpCeTrjk188wT1PTjByWDNyyHDwzDCj1Yhrb22g0grNdof5U5OMzBuhg51i9UaDxTfaqG4FVEY0mfDRv3uYRz8/y9EPjHDgTIVj940yOVLi+jsbZF2DdlU6rsXM8TLjB6SfdApvPr3F289uYdIaSiumTio+8fePcuaHZpg5W+PQvcMcOF5j7eourU1F7Go09upURwyzx0dQJQm8lmzD137zEt3bJWJbhVqbB56a4GM/c5hDD9Y4cLbKwv1jRCXF7asNSGJIDe1mwtyJYWpTJZ9ZwJHsWC58Z5usAeiM8YUyxx+cIDKa26/t8dyfXqO1HmG0Yuqk4eM/d4SRQwprfGo2HdxR+lzDe0VgL1DgP0UUpuYFCvz/BQ7rLJbgkylEp7LiV9VYbrO72GFvscvezQ5Xnmvw5f/hMuf/bAu6FbIohVHLQz98DD3saUkDsyeHGF8oY02K7UTcvtClU+/n2yZX7NzssLeSElElqsHBe2pEI4qcHKfFn1YbR6Q1xiLpTZSVgL6RwxrR0PULlbyrODEhq0xrPv7zJ7nnh6dRI0qCLseO6RNDzJ+cIDcpOEW3bWk3MpGOo6CreOflDfJmmQiNLjU4++EKJz8whCv7oFSRYuiA4cFPH2D8kMG5nDiJuf3WFnu3MqzPuITXIItWJINyl8c/PctjPzHL0CGDq4AtwdCBiMP3jqBLGUpbjI3Y2WiKyL7HFvU1EwIhAJRnbgg6b6cwtsLqhS7P/d4y3/2dbV747TVe+J1Vnv/tFZ7/zds8/zs3uPlCSywxvRA/hI3phzT/ARDU5Gow6rzDkpOZDgfOjPKJf3SEyfsq5CMpaZwSjTqOPzpLPOTQxmKwdOsZSZteFPPd5ZSb55tEnQouyylVMj75kyc4+PAwashhY0dChh6BIw/OMDRtfOA9izMWjENryR2Lkxo5nYt/YwTECme8JYZUuacZCX/34CQa8613dqivp2gXgUk5+YEJTn1kFD3kSI0jL0NlwvDYj44zetySqw4mL7N5o83iO5s+YLPk07VWchLnypHqlPn7a3zyHxxh9r4argx5bFEjlhMPjVEejnF5hrKOpO7IEosjwZGTpRna5pSsI8ohbSSkbQlSpDSoEtSmShx98CDxsJe0IL/LNwl3KISlzCTIyOkwdXyYD/6doxx7bJJoQta3UnLClkbhzAfnoGrJlCFPy2wvd8hTcPTdImQO5+goI4n2+MDnDvDYT8xTPRSTVhx5xVEeg3seHSeKcyIVY9vQ2snIE/8+p2hsOK6+voxJyjiVUZpMeehT80yfKWNL3puiAsNzMYfOjKOrGmsM1qc7+muht7+ENRgmhf/u7rDX/RuGlKxwGHILue5y9N5RHvn0PNVZjSs5rHaoKsw/MsSxD8yQ6wbGWuJkiMW3NrFdhUVTGdUsPFDGDLXRSrO32mHtescvebF26jYcy5dTyRtt2kwfKTO5UMMaWTMuUrjIYY23gsKC8yH8NaAVVuWyBi1ce2OH3WUlkeXjNo99aoGZU0PkJQtRhIsVaghOf2CM2iQolZA2Em5fXodM6u1QPtaHxilHbhLGFgyf+vsnmb63ghqx2HKG9X0hITb8HPfm5uKUE2yYIdLGZzQok3RzbAT3fHiKqSNDZHkXuobz37hNYzkPS0VSfQ2QlmFqKDSkiosvbZPvloiVQZdz7vvYFMc+WMXVwJYUrgxDh2IeenKe0XmHMQo6Q1x5bZe9NX8+GiCyOJX5vPQWRQbGEbIWWuNnRgq3L9RZuVrHuCo6cjz00TmOPDxEVFZgHOJ/AHOPDDF8pEKmFEnLcOPiJi7zneH/H/J7W5Vz/JFJznxqgngmIoslSD0VmP/AMIfvn8CaDOMcra0ua9db2K64dDS3LJfPrRN1h4hxuLjOR3/0ONOnquQlSGNLXskZP1bhiR87Qmksw9JFpRWunW/RWEtxSpM7uPFmi70lhyYi0xkzp2o8+pk5SpMaW3K4Eqhhx9mPzHD60UkwXVxWYWvJcf3NOi710d59GzUibEd5//EUtq+3eOYPb7G3pLEqZ+xoykd/ao7J4zHOeEbbOZzLJTJ/LydpgQIF7sR/xElboMB/fnAO8atVDnLFpXO7/Nr//TX+zf/5FX79X57j3/zXr/Dl//FNll5toZoVMpeTjdS575NTHH10RA5mLSarowfKHLy3BiWHzsusXdtjb6kbFA+4rmPpcoukJemFxg+UOXBiHBWB0X0z1dRZMnKckrRO8hGWUxhabyJLoBzEzBtAVSy16QhVVmgtfJZyDlOC8piYBypistxJChqkbskerF7dxWaO3DmqExHHHpjBVH3AlsBkRjC1UGXuRA1tMkq5we5o1q6l4Lz5oWc6AtmG0VQnNNGQpCpXxoHOUXFGdbTsNa9C4babklIntDk0Uerpe2HQUtCFnKwKaxUqL+PaVfJGDRrDqOYoqj5M1BrBNYa8NjoU2KO8hEgN4YQRt4Dwt5cD9K734YSR9G1WDoyzKBKUSSmPKEqjChuLUEJpQ64dtXFNqaYkMbDV5F1JXRPetXW7RX0F8UuPMmaPjHDw3iqUvPBFO1RsyLWP3qxcIK+kLji0dZLv1achUmFcfO566+dSH33tb49QQ7Qd7bpl9VqO61TQSmOqcPqDU1B2oHJMcJqMHNEknHp4FhXlODRpO2LjRou82yd1jULS0SmHMylqNCWe0uhYaubj5xENaWo1jdYWgyJpJiTdBI1Ba8XogYjydESuHFEeceu1bV74vVVuvdwg23Do1C8WoTf92lH+goxer+25/OKcw8QRquQwFfHDNQmYOjSvO26+tMeF59bZuLYtMRccaGVI605SWvm5KIUhUcRzeWV1KsIMawkqpaTvKENtApxJcblCuRJJO8RLkJy9K9f3sC1JieR0zsyRmIUzw1Dy6Z58M9GgY4XSYS77NfsDQPrE+mjYznfcHQR3b333/+888xKWx5057GU6ebNV/3t45r1gURITwUQ4k4v2uqTF+MVatLPiJlCGI/fPYEupBN7LDfWNLllHUlSpsmLu9BjDszFKa/KW4ur5TVxbNIxYaO90WbnWQqcVVJQyd1ozPBmhlQQrC2NqVQ5kKGUxPuWWdEiEVmLpkrdh+eoWNonIUdTGahw8WsJ1wDQ0ZlejdxWqDmVtGJ+YFKFlZtlba+NS/GQNK8aRk+AqbR578jiV+QhbcuTGYrUWn3Ml7ke9EXdKhLE9s3OBy8W9KLeglJhixWOGhz89R2kixznF+vWMCy9tiNmycuQ+xobzQb8EEnsg3VOsXt9F5yWcTRma1CycmUSXJYK4UyJMtrFl9miZA8fA0SZ2JbI6rF6p00s0oJD178UOYUIFsRj4pZvA8uUNbEf6PyobTpwcR3XB1RWurqGuoQHGGQ7MHYBcEbsKe+tN8i69mavw61BZiQY/lKJi2X8Usm9qY9E1xcGzkgXCkqPzEo11TdaRI25jqc7eRhdjNc4ljM/DoXsinHFobL+NMYydqDJ+uEZmEsgM9TVLczvBObAZ3Lq0iUnKgCU1XU4+NE95SkuyBOcXmXKUxxSH7tHEtUzcgZKI5Ws75EnY2XyqMqtR2uCcI7KQbsIzf3CN3RspUVpmZDLmic8dYuGhMYi9cZmSXtdK++8+COsPtp0UKPCfBQrGu0CBvxLK54z20WdVjnNWpLxpRJTWqKRjlDrjlJNJou4QGkdudinNJnzkp47zyI/MUBruLzeDQ5fh8H3TVEYlyFdad9x8a88HTwHXdty6tIHLNZiE2YUhRmZiyaEcSAuFEFNaGDqFr6IThsihJL5U0HqHG7AoBbmyWImw4p9zEnxMQ1RWKB24NYH2KYXaO5A1vF5DKeJqidEpibKrUGifK1RpiKowMlNGRUKI6azM9rKkTRKiz193zvsbBnWh9LvGp6sByuUyaEOOxioJ4tIjsqDXyP6VwASEvlc4pXHa4UxOXuqiRzqY8TZmrIsabRNNpKixDDOSoWuSNsp5dU7oPu3CW743ZRHM7ESbHwQgUiflFS3GOQl25wkY7WIJyIeWoDgliCJPHFPCOYkYa5EgPa26Je9GosmPUmYPVYgrwrC5ni+210IoJBCSt3oIFKNC8m+bXn/2BsdPDGE++xT5YNu90MNfSjo5zW0RJlnniGua2pQB41AqQzsxIVcySZk5WMUYTa4VaaZo7SAEKmKdoLzi3ThJUaZ81gAFRErmGSh0BFHkfC5phdnXTk08AQ984igMZzjjsI0Kb/5Fk2/86hJf//XLvPyVRdqrGcorJqWNGry/uYy3MJZimqlQOhL1mzWQKtorlpf+7CZf/7W3+fq/vsTXf/UWf/Grt3jmD5fRXYPBSeT8zOcb91HDQ3drp9BEKCSfNr4GkQtrDYkwHCGppJBcu8r1c8FvrzdxmYwpyjI6XSIeRvyAtcU6Wfu9sXNBX+oL+D7h/Hj4vwCHdZJOzOGFBWHOqAHBFLIe+uXIv4o7GfBeJeUvP1fvZNIDFAq08SUHZkz2Qa18fbBY5aiOIumitEUpRbedknTEoskqGJuvcPjsLJnOMUSsX92ltdrbOtlZyqlvWrAx5WHD3OkxTIVe/7kwoMoCOYqsd02a4eeWU3Q7luZeKuY/StPpKr75p9f46q+/xVd/9S2+9q/f5mv/+h2++qtv8PT/cpnt1Q6oCtbF5G1J7xSyC2rkfLI6h3LG+LxsVk4rFJGfW0ZmtJNeC3NcPnf0OTlKQh32flMGDj5UZfZsFRs5snbMtXM71Fe66FjLuaH8+egnmpJOob4LaUt+s8ZSGU4Zm4ywPhSXzGOZHVEVRmdjTCw5r7XV7KzWJe5Gr9qyr/XCZ3rGXSs5sUHyqbd3OmJw4CzWwne+cZ0//7fv8Of/5h3+w6+9xZ//2pv8+b95g6/+ztssXV4nthqdKfKOI+86qVd/lsseowMdIErziBztLQdUDNUJjYqVBInMDd26wvo4eI2dJlk3A6Vw2jE0bWAYtPKChFwCVIKiNBwzOhvjtEUTkbYy9rYztHVkbWjvpqjMSI7tOGHyQLV3fkbKx99wstUMTZepDAdhlKa+2ca1/Ypx0m/KlXFEWBRp0/D6X26yeiEhzktEaEZHqxw5OylMN368QqQ3WW3+XH73fCpQoICsjAIFCnw/CAqXXhASh6kl1KZbVGbrVGb2iKd3qRysM3V/wkd//hA/+3+8lwefnKE2XQJjRXfo5NBDw/zpGjNHqqBSbKq4+voqtimWf3u3HVtLbaHPKi2OPzgj/uHvOssUxmmwEc4FZjSwnJ5lCDS1A+0kh3DQTPQbJsyhV3wKPN+F81GPrUjQs7Zo5LUTQiSuaEpVyXUbeBZv/Cf5QstgowQbZVgU3a6V3Ku+XsaCcpHPt+z1117j6JzBuchLD1wvj67oj/t90AvU5iuuVIoi91rm3o0+eqvFxm3OfGSYX/g/neEX/tVpfv6/Oc0v/Den+Pn/2wl+/l+d4Yu/8hCP/8wsLs5xZFKyRcxBbSQmnZ4gCxoPfBfhGYQ7lX891sYFlwKDk4TRcoNn6DUyV/wl/xkkaPywWUe3leKyjmc8HEMjCh0FglchBrjOM67yoLC09C0TkHyyyqtDB/nqwHLuJ6IGbpBK9+qZp5a0I2U5laMqEbqmsUrhlKTDweaioQSqVY3WYoWhncZ1NTb3/edHUwHKaYyN0HkkgikQFk/JvHNaeJdciU9tXygj9XQR3P+RaT76U7NUD9dJS02sVXQ34eZ3u7z0e1v87n/3Gq9/ZZesIVH7rUMIaR8oSLsgMPAuHEg+3u5Gzst/vMTv/z/e4OU/2OGd51KWr2Z0W1AuaYbHFDkpOTlWa5zWSMymgbUJfq7mOJUIgx/WH2Li7KcgVknOc8kNnPt1KWVkWSIMn7I4MqJSBBGe9bMolZOTSuRpP2gKWSs/CIIwIvi74/bvTXZg7ov5sq+gkv8Jcy6/ClPtH3bhJpnnzspaeS+Gu4feXiWM/8BlrArWHcKQV6sQlfxdSpFmGWmSeeGGRZUdZx87ANUuDk13O+b6614omsL1tzfJ2tKmsfkq88dHvTBImMewC8leKPUJykeZvPK7A5Iso5MCeUSUafKG4ur5lMvfTbn8fIvr3+1y9fkOV1/scvmlBo2dDtbm5FhSkbAAwlTicnLnhYWhv8W4BOOEgezbqoS1YXuf/m/hllQihfaYbzn3hmYi7vnoNJVph8o1G9c7LL7SQRmIjFho9cY/yF8cdJspLnVeIOyIa8qnIwsCCv8Op8k16HKZnBinDc5B0kp7c1aKHhD6MSAc9EIziwQI63Yl2ru2VdK24frrCZe/0+XqixnXX8i59kLKlRdTLr+UsLuaoowjVzn4PNQiNZV6uZ4lgxsIIieMv0PhlMEpiKoGHWnyPENhSTot8lyycGRtsRbInCJXmtLoMC4WIXquDLnSsqeJLImo4nd/q8HlZF0xD3ddSJsWXIRSRizVhqRnlMpk7HrnKESlmFyL4NYpS57mkPWa5/suw1lLpGrcuNjlted3sM0RNBVUbtheaXPx9V1sEvZlmfdhBGWFFUx3gQLvhYLxLlDg+0AgMsPhCxplFKcfneAf/VdP8I//64/wT/7lh/nF/+uH+Wf/6iP83H/1OA//+AFGFyroIVCRE39OcjmprDAKuqo4/fABKHXQaOqrlrUrGeSweLEBSRl0xtBMxqGzZTmMe7WSb4G5Qmfim+sZNu0PP9H8iGQer4gJnLXCSkoRF05Q0bqE4vcdoT2iBkmL5kIKbSEqrWcgnBQMSpgUYfgUKEPmMjC5aER8HfCMRI8d7HEborEN0XDB51TuaW+95s5TXtIbgYgMvSQEvafDwEc01ziszrHVLsMHS9QOxgzNRwwfjBk6FFM7VGLoUJnyhHDUkndVGieaKyWmlIHhdqHfNNr/JrdpnAtuAdKGMC6iYzRYYk+sDLCZ/UHudbtVOVZZXwZoLZYCRosPtAiEHJn32VM+yI1GNGLaiaYLHE57swqhmrxfnvX97cejx0iE2t9JSAllGOh78FXXoLVF+zRHhghlRacqY67BSJ9oBVkqdg0Kh/bp1qRPnWce/Yx2WtK0eYa1P+a+XhrQYsHhtNcwQm/uKyAa0Tz02Xn+zv/mUe777DBT93RheFfGsj5CZ3GE537vCt/949t0djLpL6dDVbylg8AhgpVkx/KXf3CT5760RH2xRJrHjMxVOf5EjQ/93Xl+8r94kJ/95w9QHo7RxuDyFEeO8kKqQVitsDrH6QyfCXdgLpu+REwhaz2Ekw9wMtiyTzjEDlZM3A0K7UQIs//gDyN7R1l/BZxTkoXBLzfpY28d4GQCKdXXesoN4R3yr4N9wZcG+e/+NamtmLDeOQcFCtlrRGAlAcv6P8q+InuLjKPtgO3KvbnNieIIHcvq0Miinj5mmD0pUbfJKyy+s0laB9uE21d30M5goy4LZ6cpj4kgFRCBCSIZ0lZM/qVkLwjy6yncbrTBKG+doUDHjoPHRjhwosrBe0aYPlXhwNkqs6cqzN1TYu4+xcx9OXMPGqZPVHGl0P8KrSK0RNnz/eH3AYtPA2nFssivDr+MwJvB91xMevBrMOy7+Iobx9EHx1l4qIqKHHRLvP78GrpVYqQyilIxSsdeCNmfVyYO/SQxG5zTkharJ0SS2yNleyxtPigY0H33KWBAUCD7i+R+lx3DIQIX5/dhaTDEkeLAQpXDZ6vMn6wye7LK3Kka82eGmTtZ5cA9ZSbutUw/4Jg4EaFrslcLInCxtzJRIs3bt2z83u4U3ZaDVBNrCYpZrRiM8XNZS5napxazTlwYHCLI076d3skH462sZE1bcTXzwR2VkjnlnMNaqakiCFkQayocWP9OYyTXtt9ORJ4tViEOOcaMllgdrlsh75ZxsSErd3BxTt6OOPeNZTaudSGXtaYQS7Lcr0CB7/ACBQrsw/7zt0CBAn8FxFdNg5i4VXOYcjCb42YymM5xoxZbddhYDjU5fjxjFggDjWgljOXw/SVGZoXoylsSTZwmrFyXiOeOLkfunUYPDzyuBpkzS05Grro4k+A8gdQ3thN1tZgdyy/gCUInpqrhukK0jqLhC6XLc5IxRgOGuAKqLCZmWmmSlgT8cj52EIgJq3EOlUHWspB5s1ydUh7y2nHlGUbtGYmgDXK+mr0cswHOX/PakX2ci8N5X3dw4IzX9Q4S4XlPQq/QYjKskGB1Sq45UXMKUaK0aBOCxj0CR9bTJjkXtKICT85Cj+kOPwqDqsHXR0xiPb0lc8Gb/MsTur89ewYY5RlmF2JVCfFUqRifO1XSsbb2LHkeNDChnH55Qn4r6SvENFiRi9WFTj1vd5ejIVDF/YnniTyZN06J1iOOFaVyjiVBOUXWyslbOZF16Nwh7JEOSlnStiNPnRBvpMRVi4mFoNShj5RohqT2YW4gDLvDE5qgnJQukocgWJBJInUFKo7xE5qPf/EET/2z43zi7x/mwL1V0qiFsgbXGObCd3ZZfLOBywaa68fGj7wICixcObfB5ed3Me0xiODwAyWe/EcH+fQvHufRz08y85BGT0NGhrKWGAdKrDBE4OThACIfnGrgeuhz/4+sy1z8k52SmA0ySQDRalmLOGjkEZ22aLW0db01LyKYwXWh+536faL/hDAaYt3h55lTGOPnmhNz7n3wbjEDU0ma6AV4++5WffaqL0x5L1jZn524XgRov69pK61uboNLSmgngr64qihXI7nZCwyowJlHZjBVWXPbKx02l1rs3IbGhsxXXU048cBorzMcstcqHMrKWSHbkULjx6nH7cpjUaQpRSKsypWlNJLz8b87z2d/6QRP/uIJPv0vTvPUL5/kqV8+xad/8TSf+WfH+cwvH+fJf3yKMx8+AOUwGIo8dz43uKyVd2FgsvXnnu4LBULPhwnovIWNZ8p6RwWKaBge/eGDxEMJDsXeepvF19pUTQVnkcRr/pxSUj3KFY2WhYpyhm5LkXofat2z5nEom0EmGnJ52qGUpTRcGtzKwuYJiCYa3/RwligcUQylisOaLugcXUr50I/J+vzsLx7js798nE//8gk+84vH+ZFfOsmnf+kYT/3ycZ76xZM8/OlDEoU/vM9b5WgXydwZFPAEOLGAty2wXY22kuO8WlXCeBswtQinRBwUo+luS+pODeJy5Pc0nMVmkDcU2moZs0gTVWTIohLENeWt6cAlhvaerC8bUp76PVM7SFoJSSeR321KVFFQGqi6Q6xTnEXC0Thy3WTubIWHPz2BHklx1rB7K+etZ1dIG3nfGMKPs18Kgt6XAgUKBNxl1yhQoMCdcAwEAnMWQybBrhDtUq41udZetSgHjvKaVaUsVqUifcdgrWc0yXDaUZrWnHx4DrRCZSU2brRYu+zYWklQLqI6FHPqgRmI5XRTgLV90txoxHfPlSCYLYeD0OEpQn8CKnASQk2IwwHNh5iJ4bU14Tev7RCBOVY7nHZUJ2B4pkSucqxVNOuWlcVdUej7eoGELe/uwdbtNjbV3r865dCRsQFzSK+5dRKdtvc4oIKfbq+1Ui/lA9AI8dO/P/RQj+F0nmgbuEkCNeU4l2OcpMeKibx2U7RV8vEdg+tZKpSqeL93YX7bbUue+XnRrwAu8xpBrxXHBaVNGDfPEKouWiWi5XWBErZi4ulSz0iAtpEn4DIxEfatInIMzZTQQ6IxN1mJpes7dHbFpDHksO5XUPwTQaGcQVkvUNARKId2ufcJlB5zQsOhbDCPDVS09dF9vbYF314s1VrM1IEyLgJLmVY9Z+1G6hVmMqd6xsAJ3Ly6RW6taMDKjtG5ElGZfUEAXbBQCBd68OpWmdhoG6PyCspWe8dbr1sBp0TckBt51+TxCvd8co7P/NJxPvCjU6ihLsqW6Wwq1m7UybvCtDsfQ0EsDjKZJ5nCteDqqxvoZkSURwyNGX7oJ45y6MEaasiiSg5iSIEo9v7YROSIOWo/oIMXeFnTz6vsmVWHz0nv29pbs70x9Zo+JU0enxpF66C9dWytNug0fB9ZCaCVh7zNTvv9wnO98sL9/777D/nTQZpkYv4LUo9c7lMKGg2LzYNwQFGtRcS9dHqCUjlo/+S5dtuSJF7IQH/KuVyuOVFfDtTG3wB+jxYhknOKzJvrWvDm8Ei/WsXNa7vovCpLzeRMzFYo1QaCxCF9efi+YSbnqxClNPYS1q/vcvtiSt4yKJUzc7TK6IKYTYuoy68FH7zMGQluKKIgP6bKefPtFOeZ/vEDFWzURWHpNBOSds7ogYixwzEjhyTd1eihEmOHyozNx4weihk9VKI8Gsn5AzhlMZFYIeEkiFrut/4QA8Qv3p5RuVX4eodI1Nm+3QIq4GMI5CEbgxe1Ke2YOlbhgY8chLiDy8pcfGWX7p5Bh7WqtGhanQgkhsZgdKqCcynaRjR3YH2pDVY0pXKiytvbu47N2xk2L4lQ1CgOH50F3d9GxWc9SMTCv1JH0CL8LcH4XBmlM6xzdJOc7WaLkbmYkQXDyEHD2EHD6GHD2CH5e+RwxMihEtWx2McqkH0g7J9WOTKtJD6K9vsh/uxyYBPL4uUtcpdjjSMvO2pzEcYLScZnR6mNlCF3mDxid6lDsgnOWgki2dvXNO3NlO1bCeQVMuUojZQZnYlBO3QVxg8MkekOKNBZzK1Lm7hEhCkW5ccY8hy2lzK6LU2kJN7EgYNjmLIXNDkv3FV+n3EOFXWYOtblU78wySOfneXYw0PkpoNLSlx4cYfVN7oDy8VJLAonsx32Lc8CBQp4FIx3gQI/AMRkSwIFKR0C9ojZmYQBEyJS0T9wJECNJwjDRYfXSDtMGRbuH6I8HuEcbN6yXHypSXvLoXXK9MIwYwtlbz6be5NLI9pYDeWKlKStgaxM1jWiNXLeB9tJzfuv9gx1oNS12xeATfwx/e2annZKGFNAO8wEHDgzSl7OcConb2mund8hrQvx4ZwT7XFHs/R2g5UrTbTTWJ0wNhszeyKSsgOj7aXzvng8r99jNUAYix5N5TxTHeihXhmhc4OGXxhXIWTAOS2EqUKM4noB6Xp6WxGYBDNNJMq3MD9QqilM7MfaGvbWU5JdSaWDA50rums511/fot1sgxFTREXQvgolIlrmEPVXTOaVlRoEMYPz2n8zwDwLExNUghqHZXy+xvi8EW24LVNfy7j0nR1oie88LkSrBZsoug2ZK8qJ2btCEVUkArZ2YKwh6zic8O6+57RMJM/4KicBhTR9Rkj6O6c0opg6VUZXnRD5qebii2ukOyrk+JGuyGF3MeXyuVXR0hlLbaLEzMlRdEXaPOib74e4Z2EQ/nY6EKq+XOkcVM802xP+OdRXU7rbFpPJPHA6xZUtwwcMJx6bZGjSq5JsRN72zJ4Sht36tSed78tNoL2XYFwkPuhxzsRcJEIy7cR6ogudzYy0LdHDcxz43Mk9Yl0hc9FlaBdiCUg7wp4SLCKUF1jlyviYzmHtyjtnD49QHtZiPeAitm5brr/VxHb7gQiVVeQtqK/lZKlGORE8BZNUibVg+u92MhedZ75cArvXO3zrdy7wF7/5Ft0Nhcq89t1qbBsWL+/gkgitNBjHyHRVGA8/OgCVGphYyVg7TXs7pb2d+PbL/M13Lddf2aWxmxIRS7/LUpX0iQOCCIcGZ9FOtI029bEpwsaRKbZuplx8dRmXS2okW24wd3ICHYJFheppGJ4sc/CeCsRdaJdYft1y+806Ko8gzjn98BymJum7YGCtoVCRIqoIc+YwpLmWCNJW6mmR30zNMn9mDIY64urRjXn5W8s0NlKw4LTFRjlEvlN8NUU7Kf/J1uWwLseS9QV5fv24IDRSckb15gEybxyyN+4z0fcQCwI/H8N6dPI/HcPZj48wcaQKSrO9nLCx3IDcEik5K2XOWtAZ8YRj/uwoaamLIqK7q7lxfpt0W8w/rBJBtk1KLL5VZ/NmDpkGkzN+oMz0YclZjgNtNKWqZ8pxkDnSbpAhaTHfxqBKcOj0BOUxByZF5YbXv73ExnVhGp0J2R9SMJmkWfMyUqfxwhg5fGTPFoGVBWxHi1TNCqOrnEZlsHM148YbW5BCSkZpwjBxrCYB+DTMzNWYPlTFxgnOKtqbEZdebkLXC3WVt5joaG6e32VrKUHZGBelzB+vMjJTkbGI4ej9U0TDCbic2Ja4+dYmu4spOhOBnUOjrKK5lnH51TZZU5G7jNKQ4ug9k5hKsLDxrlNeuJXrhJFZyyf+7gnGTpSpzGju/aEDVOesxEmpV3n+T6/TXJH1Kme5CLgUSAC6YHVUoECBHt69yxYoUOAuEImwdpIyQ3xzLQ7PrMjJ5QNIeTLQM7J4plUri1Y+ejXCvGnlNQcLVeZPlCDOaGxZLp3bwtYNKk45cLokkc9V3/0aofFAw+TsECqyGKXI246bF1o01zNIgG6IiyNmj4BEP9dOGDc5Y32BA2ekAtSgf6/zGmnfFZHlng/NUJvRWJNAqrn2aoPXnl4n2xNtIAlsXU559avrdDYVkKIqHU4+Ok15OpI+wnPYTjzR8n6gbelPl2PJsUHj4BATWRdMtQPnHRAaI+ZygUvzrxAC3zpvhK96QoYetA8C5p9SKnD/Uql4RBPXJCo6zrB2rcnlF3awbQcd2L4Bz/77q1x6aR2dR97UXJhsUcg4rz2xXpsvAhThDXxFlCZzEZZIiD8bNK74MfNm5QhBOzJlOPrgEKaaiDilW+H807d48xtrpNugukCiSDbhla/c5Pk/v0JrKxNC3QrhPjEboUoSZcdlhuWrDTZvtFGJnz8+Gq9zSMolp3uxAZwTv3BCJOnIcvjBSSYOV7A6AadZv5Lwyp+u0FkHnShMF3aupbzwp0skm+KTkakOB47XmD8xInNMWF1wSEowLwqRAAPSVbnT5F7TLiMKkKBUis29T6pnvFob8OzvX+Tp373E+jst6IDKJRq5S6C13qXTSiR1XWSpDscoo3rz1OC8xjoWpl6JdYuOXVhiJJ2clcUWJBqVRqiWZvHlPZ79wyXoaAmIpq3MvwzRwAZRi4acTOxUEbNwL0+QdeJb5zwDAF4YJYMijdSOsRnF/KkxrOmgnCbfKfHqN5ZZvdDCJT4Kdh3e/MYar3zjJmnTcxggAbrwSycsLWfFh8G/P7Oweq3JV//dm1z4epvbz8Pzv7/E9tUOdCDZhree3eDq+Q0iW8Vi0UMJc8fGcZEweXjtr64pKmMxuQYwbC91uPj8ugizEti7nfHdP7nN+W+tY7uRMH9WGKvQGRbJZ69QOCsCDY1h7foer31jiWTd74Nd2LvZ5fk/XWT7Vi6pwuKU2gHH0fuGAYVS3l/Vb0txDebvHaI6FqHTCkvv5CxfrqOA6mSZ6WNllFFo5a0ZlJgKA8Qlw9hMhFMpiojOXsriG3XypoVES9RJK2O4cO8IEwslrBHh2eqVFi/88SL1pQSVaFSmUalCdWHrZpNXv3WdpJF5wZmMTLAscN7SSst06Andev7bfvloGPDIlb8kjoDf4xU4cozysRX6O5SHMMmjh6uc+uAUuppiHaQdi1YR5BYVgv6FBzWcemKc2qzCkkI35vLLO7z59BY0HDoVK5iVt7q8/vQSyWaGURZbanD2g+OUx71gxUBU1oxOlyUYoUtJ25arbzZJG+JbrcRgCAfMHB3mwOkh8qiBtob6dcPzX7rF1tWWjx8nGUpIDPWlhNe+uUi63ZX1p+ScBGFKTRBYWsPSO9u88a01kh0NXQMdWLvQ4Lkv3SDbKhFRxkUZcyeGmD86IgFNtaU0BPc/MUNea2KNQ+VDnHv6Ble/u41tguoqaGtunNvjlW8uYZOYnJzSaMLxh4apjvi9UMHMyYi500M43UU5w/btjBf/7CZ7t7qYRKG7imxdce7Pb7NxqU7kYmypy9SJMrMnh8CIiwM6xCzR5CjSyDK9UGHq+DCULS52HDhb4dRj01BKMVnEzmLCm99eIWshu5STQQ5CoQIFCrwb5ld+5V/+Sm839mh3urQ7XSYnRv1C3L/dAnQ6XdrtLuPjck94fvD/BQr87YAnaq1j50rOpXPrGDeE0ymTJyKOPjSBLoW7RHPa16Ai5I0K/sbCMPa4Xa9BiyJNt9Vi6eIerlOl286JiIgmEu57coaJhYpnCr1/OQq8ttZ1YfGdOsleRkxMfbvF4pubbF1WvPbsIlknZfbIiJh0JnD+2TWSzQidG0rjCScfn6A6GYNyaCv+mjaBm283Wb3SEN/scs6RR0eZPFr19YZqJSKyipXrdVy7gusYVq40ufzSJovnm7zxjXXeenqTvdsWl8VkpS7zD5Z5/HML1KYNSnu/tEyz+k6XG1ea2DxGRSlHHhhm+kQVE/U91ZWDvVsZ185tYdtlIGf0kOb0RycG4hb5YC+ur8IX4YJDWc3GtQ63zu+hs4hcZ0ydjDn24BSu1I+sLHTiAJHpFA4nQhJrWLvRZGu5gXGKvOtYvt7g7e8s8dpfrPDOtzZZvdImsiW0jnBWY7Vl4uAwxx8fwpREr6icZm8x48arbZKOIydn6uAIxx+roeIctGimlFOoruLVZ1fp7kagLNFIyn0fmSMeA6stOlJMT9W4fXWL1laKyQ22pVi6UufCS+vcfLXD5ee2efUrN7l+rsnarTozUzUmD1UhFi1FZOD6GxskOwaVGrK25ubbe6xf6XLhO4vs3OgwuzCGroj7wLVX9thetMKIxyn3f2SeoTk/J5WiWo2pVka48vZNYRoyxfpinUuvbnDt1T3eeXaL17++wcbVNmQl0JrywQ4/8g9OSGod44SDcYrOsuLt52+juzFKw/hhOPnYBCqWAGTCfGiSPcel5zs06xLzYHSqxPFHR6lOGGzXcf7rt3nr6S32rhuun9tm6e0W3a0K9duKt761yfm/uE26LQKy4WnLfZ+cYuyoD2ioZE7gx84FvlcpVm/UWbneRruIrGu5dWWHlXe6LL3R4rWv3+b1v1yhvmQxTrRUme4wNqc49egM8YicryqH62/usnY5w9oY4pTjj0wwc6QCBomG7NvZuNXh0itb0K5hcMyeKLHw4DC6LCbnTkMl0ixeWsO2JBhUczfn8msbXHp5g3ee2ebcV1a4ea5DvhdB5te8SRk/WOb44yPospP83kiKMKVBuQjnBVDpbsabL6yQbA2huyW2bja48uoOrz2zyht/ucG1l/fId2K0i0mjNoceiPjApw+gq16L2LNvUezc6rJxs4VJSkR5xMbiHm+/sM5r31jlrWc2uf12gusaSiWNyySGw8iBMic+OEI0JMwuTtNYyrj6cp2sZSVXeitn6fouV17e4OJz27zzrS3eeHqDjcsW3a2RuRw9kvDRzx9l/v6q7CHImKJy0YZrqFQrrF1tsbeUkaU5tgvEGQfvqXH2Y1O9MZRn/UblBautrRZLV+u4VkyUazZubbF+ocXSm13OPXOF6clJhidiojKMDde4dWGLvK3Q3Zid5Q6Xzm2yfimluxyx/Gqbl/7sFq98fZVrb2xzYHaSyfkSGLFgsG24/lqDzUUr8RbKHR54YobaVIzykmGlvMWJ/8iJFa7Iv+Fb2nS89s01sk5MrjLGFzSnHplGVYKE1oKyaK0ZG6qwfGOVxiYoXSbLHLocMXk04siDI+iyAmdQTlEdilBdy/qtOiSapAO3r+xy7dwWiy83eeub67z59CZ7t0DlZfJyk4VHhnn0c4eoTGic8Tm0nSbbcSxfbqFaCpNX2F5JWXxnl40LOee+eYVSNWJyroZWMDlT5frldZKmwWQlGmspV1/bZfntNslSxPqbbV77yhovfXmZG+d3KNVi5k+OeBMshfJn3c039iApAZp2I2P5cp2LL67xznc2efMvN3j7W9vUFy02M9gog8kmn/y5M0wc8dZlzqGMYmQiZmc1YWu5jc4gqVtuXWhy+cVNFl/r8MpXlnnnuW26WzE4Q1ra496Pj/HwUweIhpW3gLEYoxgbqXDrWp1204Ets7XS5tK5La6fa3D1+V1e++oyS28mmLRKrlNKBzo88RMLHDhTwxqLURLXJdnIufD8Nt1WhFWO6cMljj0yjhmSMdcGxsYq3L64R3vHom2F7e0m04eqjM6V/fnpUFpUCzAQXLFAgb8FSLOcZrPF0FCNUhz1SPlBZFlOo9GiWqtSKcV3/lxovAsU+H6gcGLhq0AZSffRS37ivBoK8YvysmhP6HgSp2dKHbQSPXssIbxLcPS+aUanDbgMrSDXGZOHh5g7Ou6juQZm3nm/UJEpTyxUOfJIDUZapFkO7TJ7N0q88+wO188lXHxpXbSWnjB0zki+Wy0XlE8lFYJSaSWEXIRo07QRX0HfJHm1VZiK5r4fnuXRz05jphriH9gepn59iMUXu2y+FdNeL5NbR1apM3dfzEd/coHxhRK5V6yAmKY5l4ljNP6AR+oQtKzC8AhjZ5X4G1rd97cOak2NmAIq5/vciY+99qmZbC7PO21wUYRV3uTXWylIWUH7I41V3irBKUt1xHDPB6YoT3bRKkPlMVmjSuvmKK3FYdqbitqE4iM/epijD4zgtA/m5gkbnESCFhWx8z70osHp5dlWCmzQ4ErQKi2DggJKWg24Bot5ZmnK8Okvnmbufshqdaw25M1hWjdrLL9sufVyTv1mFdcawnVg8doaaTcXf3cDpQnDvR87hBtuQynFtiMaN6tcenaXm9/tcOt8k85e0huT3DkylWGNAp1jLRKkL/eRrGM48XiJD//kAuW5Fqlq4roVGjfLLJ9zrJzXdFaGsEkVG7eYONnlM188I4xuWdJgKZtLcD6FmKoaLYG6TGAVvFlmb44gQcfI0VqROyeMIopmq8Neu46KLCqNSTaGuP1KzjO/e53/8GvvcP7ra3Q2S6KlGa5z5uOjHLx3DKWDplf7bOLhLWKFQOx45OPHGTtosaZFnNdo36pw/fkWb31jk8U3u2SJ4+DpCjPHYlLdkbUX0sm5IFYC5XKvZZQ9ohfvwIE2sRdEyL3iMhHJHLFilopTkjZLKw49OMLjP7ZANF0nVx10N8JtVqlfKLP5Vkz9dhWb5swtlJmYk8BTmbakPUWa836/FuUjMQdo5Zg8XOFTP3UvY0ctWZRANkS6Nkz3+gjdmzVojKJ0hbTcZOyY5cOfP44ZFdec/taXEVUVpz8wwdABS1Zqk2eGrD5Ce3GM9s1xWisxKuryxGcPcPaJUfJSIpo5bwrgMBKzWUkqPZSYw1vlqIyUMarE3jJsXTRsv12iszSETis4UkqTbR7/0cOc/vCkeBc428sc4FQI1pVTHYPTD89i47bf2w2mbDl4pkRtXGODtYUYZ4hpLwpdgoUHx5k9UcaVWhJlvFXj9mtdLj2zxe1XcxbfTqUvjGP+/mE+/tNHGTuSksddXHeI1tIwV55r8+zvXuXFP7rF0quWzlqVpJ5z8c3ruLDXedcEZ0VgZZ1D6356LpEcyfwN820QykefFx/6gfWklMQeMQqX+73MWR+bQFwenLYMHzQ88qnD6HIHZ1OUicisP/+c7GPClCmiYc2DTx7kwadGcWO7WJ2huqPsXqly6+WU9TcM6fowypXJynUWHpF9ZOSg8cEtfbx/45g7O8L8GUUSNyUIZrPG1tuaC09vsfpawo3XNyUkRgkmjg3x5BdPM3YiJY/3cKmivVzmxosdvv1713juD29y5bttWmslsjpcfvMqtoM/F6RflHaoKMOqFtVhOH5mhKSbU79VZudCxM6FEt3VEfJujI1zzHTGx3/yBAfvFZ/s0M+5yjEjio/99CHOfGwEPVoHINuqsHulxM0Xu+xcrtDdGsaiUKN7nHyizMd+6hjRuMIZsVRyOIhg7uwwH//CQcaPJ+RRG5Iqyeoo668Zbr+cs3ezgu2WyXSH6lyXJz5/iBOPjaFKYDCSKjGXHOjWp2R0OqTRBOsjHlptGZ2P+cBTM8QTHTIHzXXDub9Yp72ao52caeANu9zdZluBAv95o2C8CxT4PuAQX7BEt+lEOyTlOkm5KRJtT3CpXjKNfrorMSn2Rnximeq1dGK+KseSDzwzE3HoxAEhTpUl1y0WzoxTnRALQOUYCFziiSoF8Yji4aemOfLoCPlwiyROSE2XRHfIo5TNvV2yrrTDAnncphPv0C3vkkZNIRWd1Esyb4sNca66ENfJzDZZVMdq4d4l6JOCCErj8Ojn5vnYz8wzfUaRVDbJoj0odUl1nW5pFzPb4cEnJ/nU3zvJ3KkhiIQhyon6BG7cxZa2yEqbQhQZCdikgtm3t4HPVEJaqpNWdunEu6RRpzdCipSQ0ESIJOuJz35oaqtTkrhBt7xH1+ziTCbWhF5wMoh9NIPzzEgJDj8wzoc+fRxdS7CmTR61SEyLJG4ytAAf//kF7v2RCcpHuiTlbfK4jlWNXpC6ELXW6oS0tE1S2iKJtsiium+n9zMHGQsDma6TRzu4aA+r9oQAxPWiNzsDw0cNn/h7J3n4Rw+jZzok5T3SqEketbFRQhq3KU/nPP7p4zz25DFKVZ83XWlcrDj14Snu+eQM2VidpFQnj5vynO6y3d6h0/JB3TTYUpuktEsSb5OVdlCR+EtqrcEH5HMlx0NPzvLUL5zm+Acn6MZ7ZHGLXCfkOiGN6rhag/s+MceTf/8ICw/VsCaMgTB+Sjlc1KVjdkjjBkm5QWo6fqTETFtr5aP85+TxFjbeJtHb5FELjATFG5mq8LHPn+WHv3iMhUeGYKRBZlrCyDuDMpBEDUpzOY99/hAP/ehhzIjMql51lKxk62RB5z7N0thhw0c/f5zphZhc18Ek5LpLHnWozGge/MwBPvGPjnDokTJpbZssapJHkiSpN+MUEHXIzA5ZvENmdsh1y08C2xfaAblxpKU27WiHrLQr7fC+zsqJ+a+uwekfmuKjP3eE4YMZtrSD0js4VwfTJBpp8ehnZvnEFw8xdTalW9kgLdXJS12/3jyzJLMMpbyri/KStzjn8MOjfOoXjnDkkXHyWpPU7KLiBrneIzW7dCvbHHq4wqd+7iSTJ0u4KJOsAr4/nVJgHLNnh3n0Mwcpzyd0Kk3SUocsbpHEOwwdyvjIT83x8OenqBxLSIb3SKJdXNSQtaElb3LgekWMoclNxpF7h/j45+apzVnS0h5J1CCNm6SlLYYOdvjkzxzigafGKY0gTJGPhC1ZHCQOgsGgFRw7M8zQmHePUVAd18yfncSVZOh68HPEOVnA4/MVPvy5BcaOQ7u0Sztq0o3aJKZNplI2tzbIrcwjXXWc+Ng4n/j7Rzn5xCRutEkSNcl0SqYUqc7J4iZDsylPfOYIj35iQYKOK0ktaFWOizokZoe8tIuN98ixKCOnkPg8+2r2PkHIGNDfA5V25KZJGu2Qmm10nPhbhLGyykcv0QobwdGHJpk/XpY1WNojjbbITUsyajhxy3LGkhtHPAmPff4oH/nCYaZOGtJ4m9Q0yOKEJGqRlOqUpts88tQEn/j5U8ycKKMiEUT5iCagLZVpy2M/fpDZB6q0Kluk5T1S0yQ3bXLdZXtrG3LEd77smL9/lE//w5M8+IlZoskmeWmbPMpJFaRRTrfcRE+1efgTB3jis2ckJoEX3onLT0ZqdkgrG4wfyfj4zx3gsR+bpjydk+oWmWmQxrsklT1mz8R88mePcc9Hx3CRhLCT/UOhlASLHJ6LeOKn5/nQTx2mdtCRVrbISnWyqE1iGmRxg9HDjid+fJ5P/vwpokmLM9YHyvPjphyuDMc/OMGT/+AYpx4bheEmtlQnVQ0yv/fnI3WOPFbhE79wjHs/PoON9p93KLDKksUN0tIOabyLjVoiGFZSd9CoGA4/NMKB+2LSyhZ5VOf65du8/d0lcfnoBRp895laoEABUM7lXv4sm7IDtrb32Nre5eTxQ6JtuIM/d8DOzh5bW7scO3bI+zRpOZQY2BAKFPhbAIdofp2FdC+jsd1BWeGE4+GIoamST5Gi/FISBgXERlVWViB6FHh/3x6FGw6nLrzwG1uc+/N1lDZEo3v89P/uESbvE42IF7r3mDMhyCOR9GfQ2cnYXepy82qT9aVdxsZHmF8YYuyIYvJQDW3A5Yqd9TZ5xwdvqThGp6uokpiIGR+oyuWGzk5Kdy+VqLQGhqbKxMMh5Y7XXlkrQZhSaO+kNNcybl9usrG6RXWkxMHjM0wejhiaKKErCt1TGkpfOQUkjm49pVnvoqxwpUMTZUqjEUrlvpvEdDxtZDS3OrhU44yjVDWMHCiLZs6JpgqkLRYh1IySwE1YTVJPaW11xbdWWyqjEbWxspi9K9GcidZRhBEKCaTnqXqc1ehUk7dga6XNyrUuN2+sMDI6zJETE0weihiZKaEMtPYS2nuSiqhUMwxPRRApLJocsM2c9naXPJGyy5WIoRkxHQVvQmsdLofdtTa244UvZcfo9BCuasmR9orZrpXAVi1obHbYvZWxdGOX3Z09pqbHOHhslJG5EkMTZUzVS4FESe01Z468kdNY7bL0Tsrq7U10pDh0YpyphTLjcxVMTVLaNNe7kkpGAdoyMjOEqmkMmc8Ha6RMqyBxdOo5e2td1m4mrNzaohSXWTgyyujBiNG5KvGwEpNqrw7VODInZuSuBXtrTQnM5qA0qhmaLvkI7xqHIcNCCu110TA7HFHJMDxV9gG9xJyaDLo7OZ3dhPXFhNs3dmg2u8wfnOLA4QojByIpu4KsF3+qhTkvBGg/irSzlsga6CiaWylb11OuXliBWDF/ZIa5UyWGJmKikqJTz2ntdXEOSlVNbaKKLnsrC+to+/kisRgsQ1Ml4lok9VBK/PedIq/n1Lc6kGmUc5TGDbVJCVbolCHzKbMiBS5x1Fe71FdSFi9s0u0kzB+ZZvpolbH5CqYMzZ2uF6ooyrWI4emS5GbGkTvReIbgWiEavcgDRDXa2bY01xO2bnZZvrFOmufMHJxk/tQQw7MSGZrIie+6J+CFtZX80ljIu469tYTliwm3b6xRiiMWTk4xfaQk66ms6LQTWtupZCGoGIanSqiSePcrp1g91+Iv/ocV2luQlRs88uQMj39+nla3y9pihxuXtqmUyxw6PszUoRIj02Woev2cF3DkToQ4huCv6lNDLSt++799g+ZqCath4UOKH/sXp3DDwmho70JkvbVO2NKxoBKoryfsLOXcuL7N3vYO01MjHDw2xujRMkPTsRi5ONnmdKrp7jlam102b2cs367TrLeZnR1l4XiVynRMbTTGDEtqKulTh8tyGpsZ3abfFSLL6GSNqGrEOkOJIPN7QVIpihDDJo7d1RYuU+KXXDUMT1Ug8tHQe0eeEzlzrmludum2MrHUMY7ycERtvCSm7kqiuOPKcvbk8o7WTkprK+PmpTqb63WGh4aZPz7K1CHN0GRJUl5FymtSw7mRkyPaWpVBayNj+3aX5WtNNta3GR+vcujIGKNHYsbmargoxyqDyhU6d2QNR3Ojw85qxspSh83NXSamRjhwfJipuYih4RJmWFJtBQGZyRXdRkJruwtWUarI2W9TaK6mLF/tsnhtidHRGkdPTzB8sMzQWIwqIebx+HMM5yPvazlzLLg2NLYSdpcTVm402dqoMz45yuFjw4wcjBgeL2GqPkq+E1NuOaWct/zxQc0yRXfb0tjpsnUr48bVNbSOmDowweGzMbWJmMqYkcCPPgCAuB8ocqzsF8sdgo92pRJRmyyjYpEYK29hhIPWTkJnzwcAVI7SaERtKsZqi/IrQiFxE/wkLVDgP2k4oNXusrq6wezMNEO1stBpd9zT6XRZXtlgcnqS8WHvnjmAgvEuUOCvgJCgnpbKU9Hqef9hQDRAVghJpxTWmwz3fJPpmzALMec1gkp83pzwLrSXc778319g82KJVGUceQh+8r+8B0a8nbivhVUSpEm73AdmKokZvL8L5wk+65ei8uGBceROArr1qErlD2CkLkgos0DfoJ3pRaaVwHFy4Kvc+iBx4JwnqJ0BK2br0l6fqUjLwSzMsRKTZCe+qIT+wZE7oTy1p+nxCVGszVHKkCuDtp4NEq7UvyiYM4qZKSgxFyUEw5IX5U40duLuKL+H9vRCFPk2DnadmNwK2WetwigjmkVA5fJurxQBTS8pDkqYbBSSlxaE6VDaR7bOKCmFc5EQTkq0qCFgkrxB+k2CRnmzfN8/mUrFTcAz3g5/O0pSU/lq9MZCssj5agT7bAdocu+bZ7Co3EhwPP+zi7y5hlC6ZDrDOHmH5Dn3ngwatMu8EMBgrY8g7yk15wnEO+emMw6rlFTJzzOQ7w4J5qzDElKy3iSHtQUn9iO51libUfbRBxV+jitP8FrJF2/DuvRTZ3CuSn3AqhylQwX7Z5mzFu37ySICCIWCLCdSwqX3Td4HtgiVeYI18m7rwQRe5qN8lzXkMD1mRszRw+hanw/b4HJx/5B1KdYpTgljHDTjQdznlOQaV7lvM9Ikp8RU3uItMKxngvFjrWRS58hGoP2rXPjdiuDGOouyoCV3nASMC90W0jKHKeDfK+nYxBxbfpSJpqy3c8Uv7dB/fu7KTyFfu98CfKOc1ay80uIv/j8rtLcVSanOySfG+OQ/OEp10gdLk+1FoJA0j07mpfXafOUZboO0XzkJEnnzhQ5f/h/fxiTDJOU9PvtPz3DmE0NYI/5HwXdaekj2OYe4FKlcAik6219TSskadCoFYyQzpdY932XJcOC8eUnohDA2FqfF8sIocftBO6xKUES4XHvXGT/XUbKHGtlDvif2zWEnw2wcuYSdAC/AcrJVEmac1DGsOf/VnyMy8EjUNJWDqwwMrF9DdmA7RxjM4DrQW0gKEfRqcSiRcZPAlcZplJWI4kg1+3NPy3lrkfYbG4IR+huCN4kafFVIH+jL88Idv2VJHylw2ucZt5EsRX9US1KAMBc0OIfz7mLOedcn5AzMsVgngQMj58vo9UOops+AIZ0ednu/nsLGiQ9A6RH60zfVKYfyFkC9gxkfGNOJ65ZD3HvwVhvaTwY5q8M4+qIVkq7NV8Q5EbaI9Y1kFgAtWQ3CeBco8J8w3N8Q4z2wSgsUKHA3+DNZ6EnjuU3tbYH9gaSUnMhyn0H3qM7ApIcT3fvF4SNu56AzsHW4+PwGO7e7WBym6rj38fmQRtUz2PKR7xFKlfp+exohVIyFKIc4x5XETFm4Hy1MrfYUk1Eo4yOZDrRRJNVRrw3K+Ui/SmGUEKQGizaeSEULEag0Vhs5zyPvDhsPEN9KKAClPOMhpzIQiAiLEeUaSvWMCQFvvqyUMIU6EGS+0UpeEIh4IXdBo0Ub0mepJd+5Cv2kwGiUNmgv8adHKN65MYpWVWFQOkSmzkGL6STGtzO0VbgaCLmSpREoZVDKiEZNKSIf/lh5ekre5OeXsiglptZgfIR8abvyUy9GE/n4+hqInCIS41gpb2AcnMQC6n/8i5Un5LS8RX6UwnvPuQisFtcClETklvner7vMDYQxVGL+HrTDeCbPaSdK61CfCDA+NZQSilP7LPOD3cngEtJWfPZRMh5Ko7WQm7E2KO8HL5WTcUP5ua5yLxTxuXcH1gpxWCt+DoJPARh87R1aSx2V8unf/Ju08SmO/NzPY/k47SSTga9rrz/w1gZaOk8ryZQgWQ78ux2y/rwYA6XEpB6HMZIj2gbaWWl8RAY0ufd6FpcLE4I8Gj+eMdgoPKt8ECQlXLXxH3oUfaDzBbKF+PpbIJc2GYU1YGPPU5X8/NEyDKEc/6TMNIWf37n/bmQShTlb8nXRfWazV5yywrT6smTmyguszkRwaGUfU4Fz0kCUY00qa1YJcyH7nDA84uXg35P79GgJ7C4lvPLtG2RJRKa6jB6KWXig1m9Uz+M8/NXf28BbK2nXG4Pevqg0Sos0TBupSeRiGXe/zznjsLH0rS1Zz5DKftVz+fdbhvEp4YwRJllrP5GUxCXp1/d7QJaNHxMlr8JiTO7n8sDadKGtft/lPt8bAAD/9ElEQVRUYcL4P/z7+muohKLUD1zXk/R4PjDsCyUrLiLeQsKpAb7e54bzu1xfSKn8GId9S+KR4TT+DDAY5c8UJakLnbFyTwlcbHFR7l14/NyW3aPfXuXnnl//KCkb/LsH15gJgmrTr1tvnvTXK2Kv4dvm13OcQ0k+1lifgz0IvQOkf/3qlfSXWgbFGifPRQ4bO6EDotzvgUo2qSD19r2oemeAnFNStp8/WpjzMAb9OeLXoR9HpUA7hXFKzl4V9bTpBQoU6COsvgIFCnxPCOPYOx0dIsXGYpUV0zulyMMBNfjYnX/YHGUN2Q40FhPaVxJe/oMtzv3ZBrZewZkOh+6pcvC+ITnEgx+0HLG+KDmphTEeeInDq5eE0XDeD1UCkkndbO++UCWpsPO6PFHMCLkkt4gUW3wf5aryGshcKUTmbQKN5zUy4UCWugmB4Oveq5PUJ9zhlKeyvKIj1ChkQZf3h7b362+RvrdKNLdeCd2D84/s+8N/nPeW7xEVA+UKmWTlB+EOe4WIsCAIAELD/bPKE1IqXEDaN1gPEHNsJdFjc6+17M2dXh3l2cAChjERHly0zjpoK32fyYuEWel/fB296q8X6C3MoWCqGCrnCa6gdepNP09xugGhgvMB4qRPBvooCJnCc0rmqsIPcPhIwT0zf/zs6/mSgvg0Kgc970F/vx8NhRXtjB+nMIyhz0KYqdDuXh+FOwe/+hRfcosvMywc57vHx2nQoS0eXhTVa3+mbK+frIZMeQWbk1zLFlmXQfzVa2boE3zANP+99yYX2iLchSUQ+ZJTuqcRA59L188BLUVLF0gP+R1hYAzCW8KccN59Jh1QDwZIPcM/Ml9yr/qWfg37j4zTHcEPQeYPmZ8rFqf8dw1OZziVoVzuP76e7B8/uexwKgGdSpudXAsqXOUc2okfvDwW5naoV4Z2Ym7bWslp3UzYfKnLM7+5wsrbCZGOUMMpD35snvKYjLIIWPv9EVir8JfvlP5XGbiBuR+yMAzsaWGiBSZW0V/H4SYH+GB68qh/T6+cgfmDuJMMKFJ/QPiyMQPXXG/uhNf5Vw782p+vUmvlWdlwrS9kRMk499NDqt5ZK+WGzjEDZGsQMIV+DwIAN7Dv+SiUfs/uzTUG5mh4X+98kjIcgw1jYJ3I2SrjIGnF5BX9ce3nl5dzLlfKt0F2pNAWZSXOhnbijSFv0r2PDmvQt0n2Wen18K3PsQ/2v8Mpr91G9UaAsG/39ubQr/Kx4TwkCET3t132ksE+M1hlyDXkfvrR28fk3wIFCuxHwXgXKPB9QM5ib+ZolUQSdt7cFTFZdp5ICuSkQvyge4SAL0mpEnQ1F55b41//q2f41X/1Cq/82RLJbgUVRYzO53zws+MMzRms9mxFYGC8/F71SAXRcgVNnxBxorsU2kW0LYEZdV6HFkgiecb0iQsF2ufr7ms0/OEdiBCnvQ1cONCliZ6mB4TYDgS/Qky5teudzJ7QDRGOhciQrvJEJQ7lAnEjlddyWQ503/9CyHi+qKdhCWWHugcIeRqaFIbGBQFAvwv69/l+CwhvUL4/pJ8D4R7oHOXtd6WvxaywR1WBZ86EUZTLXq/pTfvkYkg/13+zZ1hCDZ0JNo2eiccTXL7/kdRLTgVSyvfNIHPQa7P0TWBCpBxpUJ8NlTtl/vWZdUCYon2cqQikgkABtJ9T4T30GAzfMpzyuns/3sqbOgamujdfeoSwFCTzK2izte+/QITTm6/KRf5fX29ncET+02+h1KzfI/KD2sd4hH4MLLH0lZ/rzvastXuMvlR0oL+lDHpjf5eP7/9w3yDzI33Td9sQ+Yhfl3371J7Yobf/+GKNA+Mc2uUoJLK2tDW0N4xNaKfrC09Q3sVB9gCZC6G6A2vWv9AheYLFPaDf7h4TpYL7hTAoIjwQpiyY+4qALghdBpgH77Yj75H1JC337/BtUeDV9dEA2WP9Ggl3i/avtZXz5d94i//5X32b3/l/v8GN821oVyBqc+LRMc48MYEqh8G8g7lwDIy37zvPGCk8Q9YTTHrmLqDX/X4Nh/IH54sSlkv5tvbfva+kPhS9ORRG5PtCeM7Rn1P72uVrt08QfUcZ++a/L9OpnsA4XHNKRtbifIoCJWeYP8fEmSSstVCQNzoLwsfevBrsU4fyQU7laAhCgqA9FkuJ/koPPU1vLoTZLnuG93EeECi+60nPdMueKeeT1EpBcOUJAoLeswrTm9VyvdfDwbw9rOHA+PaEML5bw5zpnan930LtQpn9KTogilHCcmsne63st3iGvl+CQEqR/dzvQeAFEs63rWAtChR4LxSro0CBvxb6x6lBmFQd/nW94+2Ojz/xrCLPLKu3Gph0BJ2Mgo1JTBMmG3zkJ45y8N7RXvYiOda8xtmfcbJw5bDsfwJD5QlMJyR9n80a9AAbqE8gmnvHs+0xOf3DPRAiwiSHihhsz7S1B7F793/4tgetkz/GFXjipNekgfaE5+Q3YS39c72ulJYFYiy8UT79/pf3BaZgYBz8OxTWs63ypkD67LstEDy+Dhov3BgkRgcQ3jLYp6K9lfsUIlQQwU24p39vj8DpFS2EZ+irfYxzf0r1Pv7qvnt68NYGPRoa0d4EywiZDNLePvNJfxYNaMd7RTrpF+X6jOh+DDCfgyOupD7SH/1fBUL0asD4coUoFw1vr9/C3O1JTpwnKGU9GAKTOdCdAf4Rq0QbTVAcaXwb9tdI/h5kakN5MhdFXyS+88oF54RgBn3nXJOP1GtwvxiA30e0c96nXkoK7xtcI/s/YZ0qf1+Ye56Advi5J3Ua3CF6d4UbCdpVg3PCHvSq0CO4/Z6xr5QgmOvdvP97j0BHxrrHjKl9LIiwq14gE/z3nbQRBU5ZLHnPkgPjyMhwOutlnLCI9k5iY2jREofxDjULbiu5prubUF+z6GQMZSWadh7XWXhgmA/96EGGJiOsywe2uDB+Yt3Q360y/wl7Kb3xsN6ySKZtqIWsy2Dh0BsVR39iIuvTDbic7BeQDvS1k/8pJK5FWAM/GPwe2iu2P+/k7BhkUPuQXvAr2AsdwppUVuay8WVY7yDR3xukJNfrm9AbA+9WDJwMfiB6m4LUqyeA8nXvl2wG7P0FPWYafHmD87f/2j76pYWvfQuccFmYb2khfjbrnsAKJanY+ueLjLjz9QmZCqQ8NdA/khlAgZ8X9o7z3/nx6Au6Q19Jn/pL+1vYK1PO/mAjNPi78/tK+N7ff40Tl6dgWySCyDteUKBAAbiDqihQoMB7QA5Ub4qp8YFS/MEfzLw8ARq+BXJsXxnK+/tFjpbZwo7u4Sa2MQc3OflDVT7/X5zixIcnvG93kCrbAaL7DpoVDUFr503SXU8SLwe99kFbghZO6tL3Bg3EQu8TzOI8MxbMFIWwtJJwzFfAs0b7TAg9qTug6RmEJ6y9JF3uFlPIwDv1+prIa32F/HAoMSUPShYl7egRAP6p8Px+yHV5VzDRlHuEqPRUwuBjvjLOE8pBoyZ9KM+HlDo5yjOvqZjkuiBAUL5/dF9A4hQ43zbft+Hj8B2wb0QCUdY3MOyNs2cyxYS7P76KQHxK1Huc3ke3QihE41xPD+P7W/pCyvAfibzTfw56zHquFLl/LlRdOZl3MudCG/zjA6RieMZPNxknb3Lar6rMATHZ9FrR3mjLPA9z0A2QoOEjRKAnYr0lhpi0isVK0PIMdrkIF5T/QzQ5QpgPvLen7QvzWHtWX/aDXl28Vl408iGI2qB4KJgC729Xf0z6kHUg9c+9RYFogwMskPn78ObnXoIXSlDWD6usMXFMHZx3eIYljH+QSKj+yEnhA88JhIlCUlv5H5RTRH4+4Jkb55+TtZdJKkYnDKJ2Xlvo8Ga4QbPfFwUJwe/fj1RPDTviwwmVhRZDB9uUxtu4KBcfdL+uw+6AE5cClOkzPT6YXKoyqO4SjdXR45tUj9X50M8c5pP/5Bhjx0rkJvUaVBkL9lklDPaHX3/4eYTzgqNgZeH3nN5H2iV7fdjvwyz2jQzOy3LB/zuwJwzMn7Av+ZnfL+f7gux3/TkqjGDe2wmlzr5VvZo4JPezI/cB0Pql5YQ5J8+GPVvOJy1B5fCMpN/IpP6RD0AZztmgRR6EaOX716TmLuyzfr0GoeGde1IfzrdBat9rX7CuAD+ufQstRd5zj5BxDPuCCJS07Qsq+2Mepq7r7YQ9oZaHaLkzf4dff2E7sl4ACr5fBi058Gd//12hY8J+InUPguPQTm/bFNwXglAyvLe3Fcre1D+zAvq7XHjP/jEqUKAAQBHVvECB7wPhAAlHtQqH18A9norsHUACN8CMD6wLq8Rt0qfNhhBsqh/Bd7/5nCdWpKD+kvXf73bA9erm8C+R9wdCPRTTr1X/ap9cU71D3/iK5l5zPlgFBt/XIxT9FRVMT/0e4x8K94f6CJlIn7DsFdjvv37/y1sVYmYrfwz01YCgInSakE79sVGBpXPItYHqDjbKeuJHI4RKr96+7gGBHFHgU0L12yHFpUIQOSPvHDChFQSP0cHRAch9nR0SqouBPXkgdV2o+9323157AlFrpAG+bqEd73oyMEcMVMf/4NT+/hTtTmi73NN/sdwRrsr75LzoM7l403iLw3hCXBB8hF1flyMI88j3pxDIQegRNEyDazD83xOTvfpp2GdQDyCCBblHvcs+o09MSycJgeo1eVgRzPg12zc7Ff1Xv2WhXdKiu/WcQvYCkPZJrIPQkp5e0ZcoZK/tMXZSZugjyD2D0F/B/d+QWa3k+r5KEJawFwfYoLXr/05vnKR+Ori8hMHxwovAxIc+lkjX9JnUoAF0/TGR8ct9vf26cjL4NuwvmUJn/jbVU/JJnAx/SXp6YD9SeEGCQ7lILmeg0oGl5RWk1qdEk3GX6Of9AIJ+JoW57IuXi2F902uPG9izNQNrLKA3KL5vgvlT7/cQYl6LgBT/fQBhlsj8v3OG/VW4s8ww7wAR5/ab17tKYK/9iAmjq8HHCAHQfc27YiDcfSjE9Up1Ptq887WQNSBWX6E1vW7yf/S/yr5uESZSztJBBOsxKWfwuTB/ZeDDU7J+w7oRoU8oJ/f7mWiz99XJfx84/nolyi3753W/T11vAuYS1VJqY0P/+AL9A/3ywxj5/hmoh6M/78Q1xd8v2xb4XUqeDMKNINi2XoMuZVkvx1W9Huk/IzWQnVe+FSjwtwPubyiqecF4FyjwA2DgHPsBDpTw1MAT4fy882f/6V262wvdD/Tyd2GwSN6zqP5dgYC/E3e/+oPj3W+6e8l31jvg7nffHXeWcddn7+hz5y8MsPJwl7LClf5dd5b+7nnw7jLe/dT37qF3l9m7/O6C9t8/cM97lCL4Hj/eWf99t9zRj4PY99Mdf/T/7Pf493zPAOS+/RWW/99Zwh1wDAQSuvOHgLv93kfvrf6LlyXItYFyRHjQx93ecGdt919/96/98gbv6F+98/e/qi09vKty77qwD3fWr+fLK3+EL/1rg+U5/1vvPe9xX7juLzkl33uPDb7Gf+7y9ADuqFco486H1Hu14fvAHWXdWfR746/5vjteyV+rhD6krH5d3rus/lsH96p9dRlkvO/EX7uf7o6/Xu/d7a13Kcn5/+1j+O/8vffDe+C9bhrsx/5vdxXQ3KVqPdxx/12XI/1n3V1a3Pt54ML+vW0/vld1ChT4Txnub4jxLjjkAgV+AKiBz/ePuzyhghi/r5kZEB33n7jbC3+wl78Lg0W+d1H9O+68/3s/94Pj3W+6O+58//e+++74vp694wbRsb777jvL6t/3XqW/+/q7y7gbBt9w5z3vvtK7fFcM3D9wz3uUIvgeP/Zrdpdb3vOHO36644/+f3e//y7F9SC/7x+JwV/e83Pn6dnD9/NWQe+uUOS+J/t/3VnS3d4weO3d1+/8bxCDd7z7+btd+Z54VyHvurAPd9Zv/+13e27gBpHyD1wfxF3eGx6jr6T/q/bTO0sV3KXcwXL2lfXepXxP3FGB712fQXx/d90Ng+/465XQh5Rxt/l2J/pvHHzvvrp8rwrdUeE7/vyB8dd79m5vvfPv/Y25a8/crZh34b1u6l8PJas7bw+P3O3xgDvu3/foneXcUcy7fn6vcu7Ae10vUKCAoGC8CxQoUKBAgQIFChQoUKBAgfcRBeNdoECBAgUKFChQoECBAgUKvI8oGO8CBQoUKFCgQIECBQoUKFDgfUTBeBcoUKBAgQIFChQoUKBAgQLvIwrGu0CBAgUKFChQoECBAgUKFHgfUTDeBQoUKFCgQIECBQoUKFCgwPuIgvEuUKBAgQIFChQoUKBAgQIF3kcUjHeBAgUKFChQoECBAgUKFCjwPqJgvAsUKFCgQIECBQoUKFCgQIH3EQXjXaBAgQIFChQoUKBAgQIFCryPKBjvAgUKFChQoECBAgUKFChQ4H1EwXgXKFCgQIECBQoUKFCgQIEC7yMKxrtAgQIFChQoUKBAgQIFChR4H1Ew3gUKFChQoECBAgUKFChQoMD7iILxLlCgQIECBQoUKFCgQIECBd5HFIx3gQIFChQoUKBAgQIFChQo8D6iYLwLFChQoECBAgUKFChQoECB9xEF412gQIECBQoUKFCgQIECBQq8jygY7wIFChQoUKBAgQIFChQoUOB9RMF4FyhQoECBAgUKFChQoECBAu8jCsa7QIECBQoUKFCgQIECBQoUeB9RMN4FChQoUKBAgQIFChQoUKDA+4iC8S5QoECBAgUKFChQoECBAgXeRxSMd4ECBQoUKFCgQIECBQoUKPA+omC8CxQoUKBAgQIFChQoUKBAgfcRBeNdoECBAgUKFChQoECBAgUKvI8oGO8CBQoUKFCgQIECBQoUKFDgfUTBeBcoUKBAgQIFChQoUKBAgQLvIwrGu0CBAgUKFChQoECBAgUKFHgfUTDeBQoUKFCgQIECBQoUKFCgwPuIgvH+/7F33nGSFeX+fuqc7p6cZ2fDbM7LJvLCwoIgggoqqHj1ooJ6Tfd39epVr1lQERRRzIoBVFAUJUjOaXcJG9icc5i4k0PnU/X7o+p098wGAVmuyPvwOWz3CZXOmT71rfettwRBEARBEARBEAThKCLCWxAEQRAEQRAEQRCOIiK8BUEQBEEQBEEQBOEoIsJbEARBEARBEARBEI4iIrwFQRAEQRAEQRAE4SgiwlsQBEEQBEEQBEEQjiIivAVBEARBEARBEAThKCLCWxAEQRAEQRAEQRCOIiK8BUEQBEEQBEEQBOEoIsJbEARBEARBEARBEI4iIrwFQRAEQRAEQRAE4SgiwlsQBEEQBEEQBEEQjiIivAVBEARBEARBEAThKCLCWxAEQRAEQRAEQRCOIiK8BUEQBEEQBEEQBOEoIsJbEARBEARBEARBEI4iIrwFQRAEQRAEQRAE4SgiwlsQBEEQBEEQBEEQjiIivAVBEARBEARBEAThKCLCWxAEQRAEQRAEQRCOIiK8BUEQBEEQBEEQBOEoIsJbEARBEARBEARBEI4iIrwFQRAEQRAEQRAE4SgiwlsQBEEQBEEQBEEQjiIivAVBEARBEARBEAThKCLCWxAEQRAEQRAEQRCOIiK8BUEQBEEQBEEQBOEoIsJbEARBEARBEARBEI4iIrwFQRAEQRAEQRAE4SgiwlsQBEEQBEEQBEEQjiIivAVBEARBEARBEAThKCLCWxAEQRAEQRAEQRCOIiK8BUEQBEEQBEEQBOEoIsJbEARBEARBEARBEI4iIrwFQRAEQRAEQRAE4SgiwlsQBEEQBEEQBEEQjiIivAVBEARBEARBEAThKCLCWxAEQRAEQRAEQRCOIiK8BUEQBEEQBEEQBOEoIsJbEARBEARBEARBEI4iIrwFQRAEQRAEQRAE4SgiwlsQBEEQBEEQBEEQjiIivAVBEARBEARBEAThKCLCWxAEQRAEQRAEQRCOIiK8BUEQBEEQBEEQBOEoIsJbEARBEARBEARBEI4iIrwFQRAEQRAEQRAE4SgiwlsQBEEQBEEQBEEQjiIivAVBEARBEARBEAThKCLCWxAEQRAEQRAEQRCOIiK8BUEQBEEQBEEQBOEoIsJbEARBEARBeI2g3WaGHxAEQTiqiPAWBEEQBEEQ/qkxaAx6+O4CIT1MTGuDKdwCjQ6yGBMMPd+4y46qDjdA4LZh5TwobzOsTi9hM8Pqdcj0j2qFBUE4BCK8BUEQBEEQhFchf088GozRuW9KKdf1VW4DlMlvRw3j9G/+38OV3aAweLac5kVuUFC/Q3H4fAVBOPqI8BYEQRAEQRD+yXFidIh1NxSRoZBWOXFpFGhj3G4DngIVClrfiVVcOqEl+mgRCuFDCOKCMYBCXpo8dt36wuY4KP2DdgiC8AohwlsQBEEQBEF4FRBabEPhDRiV39wxQ2Ctyp5nZbU29Pb3k0yl3XmvNKpg4MAKX2vZJudCn3elzw8AhLV9QZsK0zIF6RSeEZbjkGpcEIRXABHegiAIgiAIwj81hVI1hxkqIO1Rd46yV8XjKR548BG+e80P+Otf7ySZSham8AoyXPAOq0uOgq75cJ18pG34tTBcmg87JgjCK83wv1BBEARBEARB+Cei0L0cpzT9QsU5BI0i0Iqt23Zx9be/x5VXXsttt9/FrX++jf6BASdWtZvX7bm0jm6XeLhOzg8khMc9tw0/78VuCjVknneh9bvQPV8QhFeao/srIwiCIAiCIAj/IMaEm4fWygXuDh2rnZO1gUD7tB/o4Wc/+y2XXvpR7rj9Pvr7B5kxcxYf+dhHqK6uHiY+C2XrP47WGq01xpjcv+EWZDWEQceNQmsw2lbMmODgazR2MxREabef7Xd7HEPuGq0DjAkKyqHym1bkgrqL/haEVxwR3oIgCIIgCMI/MdaCa5xrued5OQuuwS4RZjBkA8PmLbv41jeu4/pf/Jbe7kFqa2t593vexXe/eyVvfOM5RCKRgnRfHrFdiI2cnv8cCmIMeLljti7K8zAoUD7GWfCV8nL1DIB4MkNnVy9NrQdobj1A24EuunoGiCezBMY61gfGpamtoAffpq8ibpDCdfeNrbKN9C7KWxBeaZQxQRjyEdyfYVd3H13dvUyZ1IhSOJeVPAbo6emjq6uXiRMb8Tzcj2LoNiN6XhAEQRAEQXh5CAOUB9q4fqcV3gFZFD7gs3LlBr797evYsnknQRAwe/Yx/MeHL+HUhSdRXl7kerue69seHYwZKmiNMU6MW4s8oSAPHc2t8ZrengF2797Dzh072LeviY6uDnr6B0gm0mQyGTKZNMaA73n4kQjRaBTfU0SLopSXllFaXERtTQ0TJ4xnxswZTJk2Ad/z0BpbXwXKms7RWuP7EbtTEIS/iwHiiRRtbR00jKinrLTooD8fAySTKVpaO6itr6W6vGToCSK8BUEQBEEQhH928nrWfshH7/YYHExw3/0P84Mf/ITungGqKmq44II38vGPfYiamlIndA0Kjad8UGqY8NauH/yPC9FQeIdu477vo3WAUrbE2ayhr3+A9gPdbNy0jWeWLmPF86vo7xtEZ205MtkMGkMmsJZphUIbjVLW2h/mEVrXFeAZ8D2FwhArLqKktJhjj5vHGWcs4rhjZ9IwooGysiJ8z7g0PZQ6/Dx5QRDyiPAWBEEQBEEQXhNY92grNrW2LtYKj66ePn7725u59dbbGUzEmTp1Opdc8m9ccP7rKYpGAIVSecuzYrih9+UVnoXCO/xXKUUQwLIVz7N23UZWr1nP86vW0NPTa9cT92y5KsrLqa+vo7qmiuqqSkpKSohFY0SjUWKxKJ5n57anUmmSySTJZJL+/n7i8UHiiQTJZIrurm4G43GMrTQGGDVyBIsWnca8ObM4/rj5TJ40noivhrjFC4JweER4C4IgCIIgCP9ihJHLh/U9TWD7mQq08dDGo7c3wdVXX8vDDz1KKp3k5AUn8dn//TTTp00g6uPO91EumJlSoaXY/mt5efusOVfzUPgaw569Tdxyy+088uhimltaMAa0UtTW1jBjxnTmzpvN5EnjqKutorKykoqKUirLyiiKxYhGovi+TyQSwfet8E6nM6TT1v08kUiQTCZJpFIk0ikGB+O0thxgzfqNPPvsclqa2wgCjUJRVlLCpEkTOet1i/i3i99CQ0NtwbiDPqi/LwiCRYS3IAiCIAiCcNSwrtwhnl19K7TkYruO2liRGfZBPWXnECvlub6lcst2OYu1Cfdr+48L/GUUgI3Ibfud7jzXSzXKlifQWbSJsGPnPr773Z/y7NPPUVTsc8H5b+BT//0xampqcnOqrcBWYeKuo1wounnJFu/hFm20cROprXVe49HW0cnf7nyIP95yK+0H2qgoK6Gurpbjjz+Wiy58K9OnTyIaiRCJRolGQrdvW2HbcrZdC7W8zTNfDqfvARNWE6MNmUyWdDrNnj3NPPLIkzz73HL27ttPd3cvnufR0DCKj3zkMs4993SqqirxyIJSeGG7Y+uRFxc28Ns/D4ceoDkcoet/vg6urQ143mGegcPsFl57iPAWBEEQBEEQjhrDhTfG6UIFOgjQCtZv3EJzcwsLT11ARUUZXsFa20p5TuYaILD7jHL9xOHC251jjLNO54W3Sw5trLh8fvVGvn/dT1m5Yi3VlRX8x3+8j3dd/BYqK0rxPS8XxXt4x/jlJC+8cf3ffFHT2SyrVm/ghhtu5rEnl1JWWs68+TO54M3nsOj00xnZUDfM7b3w+nyFh89EPzIF98pFRUe55ciAgXiSVavWcc99D7JkyTN0dvYQi0Y455wzueSSi5k7byYx33fX5+ePg7XaK/XqF962LjbSfOi2b+/BYdr5MLuF1x7mZRLe/hVXXH5FofAGSCRTJJIpamsqnfA++MlLJlMkEimqq+054fWF/xcEQRAEQRBenRzcmwv3BCil6O7p42c//zU33/RnqmuqmDPnGIwO3LJZdiu0mOZ7lO64sxCjdEFP1C615XnOAqxwFnOFRrFm3Sauvupa1qxaTywW4bOf+28ufsdbKC8vQRGuWx0KxYNr8HJhhVy+fuESXQZ49JElfOeaH7BmzTpGjqznYx//AB/6wPs47ZSTKC8vxVM2CBrGCu5C8W0375B97yOTvzrXrpAT8tFolPHjG1lwyklMmjSOtrZWWlpb2LF9B6tWreXYY49lZEO9SyOMxJ5P1y7h9s9E/ol5ISjXLOE19vkImyvnYjB0E4QCMtmAwcE4ZWWlxKKRg4Q3QDYbMDAQp6S0hOJYdPjhFzhMJAiCIAiCILw2sMbBAvURrvtsI4mHhzzPQwfQ0dXN88+vtpZSL5Kf55xbQusQPVTCPHTBZtec9jyPIAgtlHbLBJrlK9Zw5Te/y8YNW6isquB//ucTXHThmygtjqGMvR4F6nCuwy8jobA3xlhrvafIasMjjy7hC1+6nH17m5k5YwY3/PpnXPLutzNh7Ki8pjMGAu28RMO25WVWfPm0tQ7wlEEpTXl5EW8450x++tPv8cEPXEJ5eQU7d+7j8q9exdYtuwkC7bwPNMaODaCw1uFXM9oYAgOBceurDXnuCu+BIBw9RHgLgiAIgiAIB3MILZK3JCvKysoY0zgaz/fZt6+JwcGElY4FpqBDWYXyHF54es6z3Z7lsXHjDr73vZ+wYeMmSstKueyy93LxOy6gpCjqrJnWNV2BtZAfMd+XAWOjq9t55HaxspWr1vHt71xHOh1w7HHz+fa3v8HUKeOIRX3b4Q4t3IDyFTgrdziSYSdsWjl+iKY/Ioe7RinwfeW8FAweGt8z1FRX8F//+RH+538+SX1dHdu27eAHP/gZbW0dgIc2tm4mP3X9VY4HxuNARxd9/f02NgFH1ytCEIYjwlsQBEEQBEH4uwwXKZFohIaRI4gVFTMwmKClpc0dOZQMfGFdTuWChTlPbgyKtgPdXPPdH7Ju3UaUUrz3ve/mkkveQXlZqROzCrRnYxK9UkLKGrnRxnoAHOjo5tY//43W1k7GT5jIJz75UaZNGZcfSgjHArR2Dum2fex8dC8nuAvtr8Nb8KUQegyEeYYu7p4yFBXFuOAtb+C973s3kYjPs8+t4Omnl6MDA8qzwwmF9+NVSlj0vfta+MIXv8pvfvNbenv73TMZbq/QcyO8pnlhv4KCIAiCIAiCAFgLr5UzjY2NVFZU0tc7wL6m5tCGW+BufgSseTovfoy1Ahs0KBsVrK29g6uvupZVq9YQLS7ifZe+j4svfhvFRbGcG7s1wOfDn9vI6UebMDKXhzGKZctW8ejji1F+lI985IMce9xsPB8w2k5RJ6yqnWyslAfKxygrtNOZLLfdfg9vevOFXH319+nt6RuW30vBtq1SPgrfBbLz8VQkF9SutLiYSy+9mPnHziGZTHHrrXfS1z/org9QygXBexXp0jCCudY6N/CQzWp+c8NNPPfMSlauXE1fXz9uDGL41W46hR5+QBD+YV6JXyZBEARBEAThVY2dzzwEA42NY6isKKevf4D9+/dbu6oxeN5QS6/dQutiSP5ILrq5zov2/oE4v/3dH3niycX4vsdFF13AokUL+elPf8mdd95NPB7PBybzNEo56zf5JcSOFkoZJ/Y9MpmAp59ZTjKVYvToBs4972wivofR2gVdU3Y5NOemr5R1KQ+jexlgy9bt/OpXN7JrdxNLn36OtvYDw7P8Owy3kdu0lbLR0W3AtnArWGLN0xQVR7jsA5fgeR7r129i7962nNLWJvuq0t2Fz2huDr427N7TxKpVGzB4TJo0hbq6WrQOYxAUctAOQXjZEOEtCIIgCIIg5Mnp4dDqN7y7GM6lhlEjGygvLyOZTtPa2kEmk82J70MyJG1d4Orr8OxJWa148KHHuP2Ou0il0sybN5tL33cJTzz2OH/7293cfff9dHR0ujSd6HRZvhJC0ShXRwNBELBzxy4whrlzZlJUpFz9rDA/EmEzbdu2nc6ubqLRGDNnzaGutnb4qUckPzv8EByiQTxlN7vMm2bGjClMmjwJpTyWLHnaeTQoPFUw2f5ViFIeSnmsXLmG5pY2yiuqmH/sPMrKyg5qkxAbP/9VXGnhn5Yj/xoIgiAIgiAIr0FCC2oovnOK2blOW4tveXkxEyaMxWhFU1M7fX39B6/3fAgNE6aeo0AcKuWxefM2rrvux/T29DN2XCNf/eoX0NkUa1atw2jF6DFjqa6ps2kYnMU8VFIHpX6UsAMQxsDg4AAKw5gxo1DKoHUWPOt4r41T6ocgvD6TsWuYV5SVs2jRKdTUVg8/9e9wCHV9JIzN2OZvKCsrY9bsWWR1wOo1a0EpTE4mvBJt+fKilFsD3kBnZw8rV6xiYLCf0aMaOPnkkwDwvHDO+yv4yAivaUR4C4IgCIIgCAVYFRLO4w5ROONyznnZCspjjpmFh6KpuZm+/v4XoWG8XE6Fymff/hauvfYndHX1M3LUaP7nM59iyqSxbN60hX379lNeUckpp5xMRWUpuABs+QBZBlQQFvQoYi2pOHfuEfW1KGPo7+sHY5xTt51fHApi+39bz1wMc1fkhhH1lJaUks5kSA4mQp+CF8FQ4V3YorYlQtf4/BaWShkP3/cpKSnB86D9QHtBem499VcJ+QCA4XJv0NzUxLLlz6I8w7z5sxnbOCq37np+YCkk9MB49dRZePUgwlsQBEEQBEE4BKH4GiZClLJi2WiUghnTp2KUoaW5mf7+fifL/55wGd4FtRIxHk/wl7/cyerV6ygqKuaii87njNNPIpPOsGHDFvr7+6mprmLhaQudoFTD0grF1NEV3gbnaq40kYjH5EkTAMOWzVutxgU3dGHFdTgXfbgcxh1vaBhBaWkJqVSKwcH+lzk4+/B8XRspY4PRKbs0mg4CAJLJBHa56+H36J+NI99rNxOAdes20d7WhjKac889xw3KhFMBCu/Fy8vRS1l4tfLP/hclCIIgCIIgvOKEgjZv/TMYjAot4e64DpgxYxrK03T29NBxYABjlIuinbsKQ+DEeqhGArTOoHXg1tBSaK1Y8vRKbvrT7SSympMWHM8HL72EipISOru7eWbZcxg0J55wHA21VXgGJ6ACF4nalUtHc8Ha8oRi61DbMHfjg7ZDXGujwGGMIRaJcOai06muqGTblq0sWfwcSkWAqLPAFsqvvEU2/Ox5hsbGMVRUlJPNBMSTySFXvCBy7TocW7+DD7sAb25vEGTp7e3HGI+6ujpQGkMGQxbt2jecD344hjfbiyffvmFk8SNFGLf52Pse5mc9DOxmlMF4hseeXAoqSkN9HSedOA8A5dnnY+iAyCEq8YIrYoaVvXBP7inLnWrLHD6zIYc8+4htILy6GP6rJAiCIAiCILymsaIw/99BNu8C0ehRVVXBqNEjMUazfv1GAEzhnOacuMljjEF5+Xm4Rila2w5w7XU/Ip6IM3rMSL7w+U9TVVEGBrbt2M+WrTvxfJ8zFp2G56n8HN1wKTEVZnboEr+8uGW2nMV45szpnHTS8WSzKTZu2OjqFbqih3UvLFe+fEZrKirLKSu3Ab8y2eDwweleNuzybcYtqRUfTLBz506UgvHjxrn1u/NR4m1xjnaZXgpDy2QjtofWbsPAQJzlK57HAG9605uIRqIHP44HPS7hgNPLw6Fb7Wg/n8I/Iy/fUyUIgiAIgiD8y5KfPzsUTxmmTZsGKLZv3w6Ec5uPhAfas1GzUSSSGW743S3s399MWUkR/3HZuxk/dnRu2a6lS58jm9U0jKhn/vxjCqzOys1Ddl1apcFzbtRDUAWCavim8uLrkNvB1yrlLPqunvX1NVz6gUv45H//Jxe85bwCWeXbIGWHbjoAa/U3UFlZBUAymSaTyQ4/7cgME4/54hcuI5Yvv9bWgmqMnWff3NLOnj27MSbDMbNnAQpFJNe29j4VtPMhGN5sL56C9j2o3Adj8zlETu7WKzzWrttAOp2huLiIU04+Ed+zqeWHkw7zDLxo8mmF5R2Wej7Z3IfwyN8jTEV4tSN3URAEQRAEQfi7HE5MK2DuvNmAYcOGjRhtwBpUj4CTIgaygeaxx5/kvvseQWvD685YyJvPPZuo72OAdBDw1JKl+H6EhactpLq6wi2F5VLKZWTcNtRV94WQd/3Nuy6H25GxeXseHH/cHC677D2MG9dIoMMrDVrrw7YdgOf7AFRVVmIMJJMpAjff+mWloFJKKYwygEJruPeeB8lmMlRUlHHWmQtROgyfZ5cTs8U/zA0tbKwX3nAvHoMzZVs3f8uwMhXsNwaeXvosWiumTJrEhAmjcgHXCJ+bF+LB/RLqcpiWOgymwIU/lOiF+4R/FUR4C4IgCIIgCC+Y0PIdikmlFLOmT8UDWltb6e4ezFkirbTDWS7zGG1sOkrR2n6AP95yGx2dPYxtHMP73vse6mpr3PmKTVu20d5+AM/3OPmk44nFYvm8XS523eWhovnFqcAXck4hYdC0fE2V0vgRAI3neRht3dAP4yiQQ7n/VVdXgzGkUkmy2Rdp8S7EhAI053N9UPWMCexOpdi8aTf33fcQYDj33HOora3ORVvHGDzloq8PTeFFtO3f54gpDTlYOK0AGBLKb2gq/QMJ1qzdgFYwfuI4amqqUcY4139jEwnXKS/I3H4trN9hS3Zo3CXKFESvH5ZOWIWhzXrkvcKrHxHegiAIgiAIwt/lUILbfoeGhjrq6moxBrZu3354qeJUhOdM1hp44KEnWLV2PWB4y5vfxPy5x+T1ogcrn3+eTCZNY+Noxo1rdNeqvKVbGRf4K8zAWpBfjGgqlDzDt4M5OACWUp4V4uSFro3f9cKt7yUlJShPkU6nyWZfDov3EfL1bLiurp4+/njLrQwODDJq1CjOPff1FBUXY0xYF1NQX1yaYZ2OkP5R4VAW4PAOuTKFXuMe7N6zm/aOTjxPMXrMSMrLSwGdE8IGO7/+kCj3XIXbSyJso8LtCLzA04RXLyK8BUEQBEEQhBeNteZa4VNdWcH4ceMwRrFp0xYng3LraA3DugtrHbC/uZ1f3fA7stmAiRMbueQ9F5JKJOjt6SWRTJINNGvXbCCbTTN58jjGNI52SRi0sXkYY6WUNtigbiYMsGXnmhujMcYGLBu6hfsDTKgtw6njzj1c6yzGBLl/w3TCeigFRod1VCh8K8K9fNWVstbwQ5EfxDCUlpYCilQqTRC8NIt3OGBRsAdjAgKdRZsshgBtAgw+/X0JfvvbP3PffQ/iRXzecN7ZnHDSsXieLU+uli7QWmG7BTpr83JBzEyYd64h7bla69x2cPvnzzEU3AsTtr1tM20KPRkMxoA2Bm0Ugbb33X631+LcyZuaWogPxqmsLGfcuEYiUR+UQrvnBRUqoYKbXzCoYnLB59Shy+zuXWG75OpAYX0pmFOv7ZYLjG/QRhNoRWAg0IZEKk02MLZOOrBTNw79+AivMkR4C4IgCIIgCC+IUGwXBlpTCiqrqpgwYRwA69ZvsIbSQs3tBHEonvAUqUzAr2/8HT29/ZSWlvLxj32ISCTCT378Kz78kU9w170P0tLSTkvzAaKez6QJ46mrrbHLhykDyiObNcQTabTxUPhOKBm0DgtgxVNheUNBFIrDnFt1Lnq3/QzYIGphOlg1bYW+FXv5RO011vLt3MuVdWs+5NiDw/PygxOxohgAqdRLn+Ntre6FWMlql88K29+js6uPn//i9/z2tzeTTCU5deHJfOAD/05pSQRDGoN1RddGW0dupZx12ApMT9n59wC6YMq1MTa/UDzjnplC7H67zxiD53mQmxOfOwulrGDNC1xbdm2UlccumfA+WNEf3l9obm6hp6eP0vISxo4fR9YN1Cjl2XS0i0zv7pW7ibldVizbNc4LRXY+j4LBAe1Ef9jiLi+t85HjtQ7Pd3m5Kof7+voSPLX4OX78o19y9933uTbNt5Pw6keEtyAIgiAIgvAPUVFWyuhRo/B9n/1NzfQPxI9opDMGVq1dx+KlzxDogAULTuCUBSdgNPT2DbJ12w4G44M0NbXQ1dlDcXEpkydNdO7bWNGt4Y9/vI3vXHMdW7futLudUPE8r0C4WLEMVvwopazYwwpkrQ14TlzlBGYhCrDRvwPtWT9mfMBHG2sdDvM4vD46gvp2RKNRMIYgyOYE3UshtA4DTol7tv7KQ+Oxr6mFn/zk1/zhD38hkwmYMmUq//3fH2PkyHonCsPAalakYvJu/VYAegTa5DwNlLKCHmXFJk7gDxXctgzGOOE7zIIc5hkE1iIMBqPtuuG5ZFw+yVSa5557nh/9+Gf86c930N3dhzHYwQB3A5KpNO3tnWSyAeXl5TQ2NmLwaWnrJJ5M28EYz3PlJS+Gw2+unHmG3j/7fNnz7eCBfZaMMRgn7FEKo+yAjfIiOdGfT8vWUSnF+g0buerqa/na5Vdyw29v4le/+rVL/7APlPAqRIS3IAiCIAiC8JJRgO97jB/fSEV5Of19A+zdszd/wjDtYFD09A1y772P0Ly/jbraat721jdRU1vN6nWbmTtvPjf/4QYuvPB8Wlpa6OjopqykhAnjx6OUdS/e39TOVVd/jx/95BfcduffWLZiOZlsNiccrZYLBWFOuaG80Fptv4c+4YYwgLcV36GIDAz0DSRp7+imte0A997/KLf+5S7Wrd9CKp0BIOssp3mdaXLuyq51DhJuIdYyb88sLipGeR6ZTPYlW7yHWkbDAQcrkFOZLM+v2sAXvng5d955N0EQMHfubL7y1c8wefJ4BuMJBgZSpNOGrHaiOtdexgYxU9ZdWymPZCrNT376az72n59h06btZHNtbhtDa21FeVgkY7cgcE3sPCescLWSxPf9nGA3TuCCItD2fiSSKf74p9v5389/jRt/+0eu/e6PuPZ7P6Kzq8eJaHt+fDBOa+sBwKOiopyW1gP85//7LO9934f56Mc/xYqV6wgCO03AFWtIGcMbGmhQnkIbN5hRMJjgeda7Aec5Qe64wii49ba7uPSyj/Lk4ufIZDU4b4jwWQg/JuJJbr31Nu655z66ewaYNGUqn/jvT9vnVVlLvioM4y+8avGvuOLyK+wDkL+hiWSKRDJFbU2l++05+GYnkykSiRTV1fac3ENU8H9BEARBEAThNYDSJBNZFj/1HH39vcw/djbTpk4OY13l+4ZO0D63fBU//smvySYNrzvzFP7jPy5l3foNfOp/vsBTTz7JGa9byOTJk1mydDlLljzHiPpqLn3/JSgfHntsCd+88rs88cTTRGMx3vq2N/OOt7+Fmqpy16O11lXPs8Iznc4wGE+g8PD8AotjoUXWGKfBrRVUA6lMhlWr1/HDH/2Cb3/n+/zq1zfx8MOP8cRTS7jjznuoqChn7tzZRHxnxzLWmj5kPrfJu6rnu8ehIA+/GQyKPXuaufe+B6iqquAN55xJbU31i+hRW+EXilkraO185mxWs2v3Xm677V6u+s617Ny5F+X5nHrqAj70ofeRzqR45JEnue++h3j0kSdZv24riXiSqqoKSkqLrbs8uEEKaw02RrF23SZ++avfsn79JgYG4hQXx8BTVFVWWcd853UQiuxQ3WYyqVwwusIyh94IWmvbYjmvBQ/lKzo6u/n1b/7IT396Pf2DSUrLK4kPptm2bRsLT1/A2LFjAGudb2s7wG133Et7RzcjR43kgQcfZe3aDfT09tPU3MLSpU+zaNFp1NVV58SzjaHmhSMwGCCdTpFKZSgutpH0PWVFeG5wwAnuvCHb3u9kKsMVV1zFmrXrGRhMUlQcxQSG6uqq3CCDrTtEYjHiiTR9fSnKyqr4jw++n7PPPo1I1EfZx8quo/7CHwbhKJDJBgwOxikrKyUWjQz5+QjJZgMGBuKUlJZQHIsOPyzCWxAEQRAEQfjHMAYifhGPPbaEpuYmZsycyvHHzcfPLbcVqiwraK753o/ZtnUPsWiUK77+JWrrKvnZL37F+nXbGDN6JG996xuprKzg4UefZM3ajYwbO5qFC0/lhht/z29+83ua9rcyauRoPv5fH+G9772YESOq7LJXRgEeWR2wcdM27rnnfu782308/NDjLF36LDt27iIajVFTU00kEkY/B7zQ1GnnovcPDPCXv9zJj396PStWrrLWbeUxefJUyssr6e3tpbe3j5NPPtH2hV0yVmRSIK4LnEtz3eOCvHK2Viu877v/IRpG1nPeG856UcI7TCXMxBjQAezetY/bbr+LG278Aw/c/xCJVIaqqhouuuhCpk6fwoMPP8Qfbr6FxU8tZtPGbWzbtpu1a9azdOlzDPQPcNJJxxKNuSW3cBZbpdiydRc//8UNrFu3GW3sknAPPfwY69dvoKqmkjFjGvF8K66tUNfs3dvE3Xffw51/u4tkMsXUqVNQSpGIJ9iyZTuRSIzS0mI3aBDkXb2VIpHK8Oc/38Vvb7yZbACLzjiDy973Hh57bDGBznDqKScxc8a0nNh/+unl3HHnvaSyAQODg7S1t4NRXHjhRXR1dtLe3k5//wCnnHoyRUUxp4SG3q+16zfys1/8km3bdjJ56mRKSorJZAK2bNmONoaysrLcQItSNlha6NZ/3wOPcuff7iWTNfT3D/DIw4+xatUaQDF50iSiUT+3zr1GUV5exbZte3niycXs2bOPN7zhTMrLi22JcpZ14f8SEd6CIAiCIAjC/zkGKC4uYsnTT7N12w7GjhvDggUnUByNuX5hAMoG4lq1ZiM//dmvyWbSnP/mc7n44gtYtWYdf7zlrwz0J3jjeefw1gvOI5FKcN/9D7NjRxPxZJpnl61k8ZKlBNksp556Ml/84qc466xTqSgtwsM4oeYxGE9yzbU/5ic//TVPLn6Gteu2sHP3fjZv2cqqVet4/PHF7N3XzPHHz6e4OJYLOWaxrt5/+MNf+fkvfsOBzm7Ky8s48aRj+cLnPs2H3v9uJjSOYd2GDVRVVXHWWYuoqXbrXjvhne+R53vQxjjvc2Vd0LUJ8JSyOxVgPLbv2Mt99z9EdXU1551zFnU1Ne5qWzxFKO4Kdrvo7oExJNMZ4skUXV1xHn1kCb+4/nfceOMfWbJ0Gc3NLcSKYpyy4ES+8PlPk0rG+f3v/sCWzVvx/QiTJ01m0aLTGD9+HJ0d3STiCcY0jubM1y0kGovYAQ2jGIynefTxJXzjymtYs24TmUCjUcQTSTLZLE1NrSx95jmWPruM/a0HGIinWb12M7f8+Q5+8vPf8NjjS1izbh19fb2ctGABZaUl3H//43z9iqt5+ullvPFNbyAa9ezcZ9/DKJ9MoHlq8Uqu+8HP6e2PM2PaFL74+U+y6NTj2bVjB9lMgovfeREjR41AG9ixZy9f+OLldPb0ofFIpVJ4GE499USuuPxzpFIp1q5dS0tzGxWVlcyaNdMGn3ODBPF4kueWr+W71/6YpxY/y45dOzh5wYmMHjWaxYuf5lvf+h5PPrGUY4+dT3VNVW6gRbnI+iueX8sPf/RLmls6UJ7P4GCcTBDQ1t7BshVrWLxkGbv2NhMfTLJh0w7+eMsd/PKXN/HcshVks2nGNDZwwfnnUl5Wat37jXuSRF79n/JyCG9lTDBkJXoDdHX30dXdy5RJjU54D50KboCenj66unqZOLHRBbrw3ENnho7uCYIgCIIgCP/SGBfd+jc3/pFrv/cTTjhpPld/6yuMH9OIMsZGyVYwmEjzpa98i4cfepK6ukquvfZbHDN7Fj/52a+58bd/ZMzo0Vz7na9zwvFzaG5t5TOfvZznV21CKRs5esyYUbzrHRfwvve+m4ryEhSZ3LxshU9XVy/Xfu8n3H3PA3iRKBMnTGTMmEZGjhpBT08fa9asId7fT3FxhJtv+g1jG0fY4GjOxTyRyPDciuf53Gcvp7cvTsPIeq666iucctKxxCI+HqC14vk16yirLGdc4xjQAaUlxeDcqwt75KGoN0ahNS4Qm3bWYw9jshg3z/zee57ks//7FSZOGscPr7uSGdOmWKGdE/SQzWoGBuMMDAwSj8cZGOinf2CAru5e1m7YyOZNW9m8YSupVNq6bqMY0ziaOXNmcf6bz+PM1y1g5co1XH75VTS3tHHCCcfxwQ9exskLjqXjQCd/u/NeHnjgEWbMmMZnP/tfjBw1AtDoQLNh7Vb+9Jc7eOiRx4gnMmSDwM5b9gwlxcWcuuAE+vsG2Lh+PfFUMhewzs4Nj2C0j6cUhixnn30a37766wwOxPnAZR9nz55mSktLuOHXP2T+vJl4nkIbj8FEgoceW8LVV32P3t4BPOVx+Vc/y3v+7a0oo8lksqTSWUpLS9AGtm7fxde+9k1Wr9uI8mMY42O0prTE5+pvfYU3vfFs9je18rnPf4W1azYxcuRIPv3f/8lZZy0CDHv37OGWP97Offc9TDxtg9wdf/wcvnnll6msKOMrX76SpUuWUV5Wyuf+9xO84+3nW62kIJvRrFixhquv+TGbtuywbucqwPfgtEWnkk6lWLduA4MDCSIemCCN8qJktQ+eD2g8T/Oxj17Gxz78fkqcJT7UaIcSesIrgwHiiRRtbR00jKinrLTooPthnGG6pbWD2vpaqstLhp4gFm9BEARBEAThZcFAJtD87c770EZz9lmLaBgxwvYlnSBduXItf/7zHfT1DfL615/JhRe+mYHBAf74h9tpbmnnhBPmceml7yHiK7Zu3cltt9/LwEAc3/M44YRj+eT/+whvv+jNlBYXYY2AykWz9tCB5v77H+Omm29B4XHJJf/GRz96Ge9610VMmjSBvbv30tzUxIzpU/n4f36IWTOnEY3YdbcDDZu27uZ3N/+JX93wBzq6BvCUz8QJ4/nspz5K1Pew8a2syK8bUc/2Hbv40y1/4onHHufEE0+gpKTYtsMQ4e165M5imUimaTvQQXfPAL29g3T39NPbO0BP7wBr121lydPPEIl4VNdUsWfvXp5fvYZly1fyxJIlPP7kUh55bDEPPvQ49z/wKPfe/zB33fMgd939IA8++Bjr12yipbmFIMhQWlbMglOO56ILz+ff3n0h//auC5k5axrZbJa7776Xxx9fQn3DSK686nLmzZ/Fw488wc9/+hseuP9hWttaqa4p54wzT6OsvJwdO/dw21/v4tc3/J6nn36WTDagpKTMBhwzdkb8qaecwNe+8r+cd86ZTBg3hgnjJlBZUUFJUZQxo0cxb+48Zs2cRU9vL6lUkkWLFrJo0enceOMfeOyJpzDKJ9ABY8eO5rjjj0Nrw4b1O7j5j3/lt7+9iZ6eHsBQW1vBN77xRaIxH4NG+RCLxTCex759LVx99Y9Ys3YTQW6+uMHzfGZOn8x73nURdbU1VFRWUFNVzaOPPGEHCjZuZcuW7Ty1+Bn+9Kc7eObZZWQDjcbg+4qTTz6RN735HB544GFuvfV2dKDJBgH1I+o45dSTMcpj755mbvnTbdz42z+xZetuDL577jWzj5nO1VddzrnnnMm0qRNpbBxJdVU5RUURRo4aybx581CeR29vD3W1Vfz7e97O1MmT7FJzBYi7+f8tYvEWBEEQBEEQ/u/RBqOgdyDFwoXnYkzAD394Da8/e6GLqQ0D8TQ/+elv+P3vb6Guto4rrvhfXve6U9i2dRfvv+y/6Okd5H//97+49NJ3sXvnTj77ua+ydft+showhtq6aqZMmkhj42jqa6uprq5kbOMYJk+eRH19DYlkkmuu+TkPP/wI4yeM5Te/+Qll5SU88thifv3rG2ne30Ymk+G00xbwrSu/Qn1dDdlMht7eQf56+9+4/fa7aTvQQToweH4Ukw0oLorw7ndcwPvf/24aGhqAgB079/Lb39/C0qVL6evtoqK0mD/96WbGjRubmwMdorBRurRRHOjo4Ic//BnLVqxEmwjKRDBaozzrP94fz9DR2U00BkXFETwMgQ4w2pAJsmSzdt6zcT13z/PxfI+IH6HIjzBq5EhmzJjKvPlzOOWU46iuqaK6qpKI76GUDdTV1zfA1d/+Hnfe+RAV1XW8/e1vof1AK8888yw93f34XoRMJkNpSZS5c4/BoGlubuFAeyeZbJpINMr8+cfx5vPfytev+CbaGGqqS/j21ZfzujMW4imD0ZBMpIkn4iSSSXzfJ1ZczOZN2/na5d+ms7Obf3/fu5g8ZRLXXfcjDnR0ujXYNSMb6jj22PkkBhNs37aLzq4u0tkU0WiETDrNzBlTuf32m9wccNvO2UzA2nVbuOpb17F5805bxuPm8tyyZbn7cPFF5/Ol//0EFRVlaKPJas0NN/6J639xA6l0QDabBWXwIxFKSkuZPm06Tc1NtDS38o53Xsh5572Br371q3R19hAGnK+sLGX+sXMpKipiy6ZNdBzoIpOBmroRpDNZuro7qKgo4itf/ixvu+BcfN/DmIBUMk18MEEimbIDUl4RV3/7Rzz80COcfPJ8vn31VxkzssF6R7jgdOSE9yHUnnDUebks3iK8BUEQBEEQhH8MbTAeBAbe9rZL2bZtOx/72If4r09chg367bFh/TY++d9foKWljTPPOI0f/uAqYkUejz68lE9+6osERnHbbb/lmFmTWLliOV+7/Lvs2XfACmEV2OjfWuN7dq1tVWBc9qNRKitryWY1vb19eB6MGzeGVCpF24FWjIHi4hKSyRT1dbW895J/o6ysgnVr1vL000/T3dWPMYbyylLmzZ/DjJkzeezRJ9izZy+YgAkTxnHJey9h546d3H//g3R3dVFXV83sY2Zy8dsv5LzzXu/WnD6E8MagtaKptZXvff+HLHtuJYH2wURQxgpvO086SyKVxo8aystLiQC+HyEajVBUXExRLEo0GqWsrIzy8lIaRtYzffoMpk+dxtTJE6motMG4tAaVCxan8QjFukcqlebGG//Iz6//Hcm0xvMVWgd4vmHmjBlccP75PPnkEp5f/rxzJdcUFfmMaKhn/PixnHveOZz3xjewcsUG/vPjn8JTijPOWMDPf3YtngqsV4D2MMZzLvzkoraven4dn//S12lp6aCqpoa+/h5S6QTHHX8ssVgRy55bgTGBdcPXHtFIhJGjGjjt9FNIpTPcecedNIyo5+67b6WiohSDYdv23Txw/4P8+U9/paurj8bG8Vz2gfcTjcW44oorwIPqikq+9qXP8JY3nwcEuSXSBuMZHnz4cR588FEGBweJRCPU1dfyjne8ndq6er7w+a+yefNWKisryWRSJBJJpk+bwciRI1m69GkCnUWbAGMMvqeoq63ijNe9nvnz5vOL639Nc0szZ56+gG9+/YuMHFmLh7FWekBrN9VAGTq7+vnil7/FU08u5a1vOZerr/oqkQh2/XSUjY+ARqmICO//I0R4C4IgCIIgCP8UGG3llVGKL3/5Gm6/4y4WnXEqP/vZd/B9MNrn57/4PT/5yS8xRvOr63/IGaefiFLwox/9ip//4kZq60Zw971/pKqqGJ0NePiRJXznuz+nqaWdufNmMG/uHLQxDPT1kYjH6e3t5cCBA3R2djE4OAjKJ+qCuWXTKTzPt0sxRTzOfN0ZzJ8/lxtvvJGurl6MdstuoVFoopEYJ51wPOed9zrecO5ZlJeV8vyaDdzy5zt5+JHHSWXSlJaUkEik8JXihOPm8+53X8SpC06gvrbG9pfdZgraJT/H25DVht1797Jj+y6MsdGv7dl2rvTddz/Kw489zpRpk3jvu99JfU01kUiE4uIiysrKKC4uprSkmIryCioqy/B9H1zMLSvoQrHtYdB4ykZtd8uM56aO7tvXxJ//8jfuf+gxuru6aWwcw8LTT+YtF7yRqVMn09x8gAfue4gd2/dQP6KOCRNHM3HiOKZMnUJ9XTVaw61/+Rvf+Pp3UHhcc82VvOWC16FU4LR+xIpLY/A8KzaNUuzd18xXvvotli1bBcpHeTB9xlS++c0vEwTwy+t/w/Yd2ykpLmFkwyimTpnCokWnMGfebB568FGuuPwqtFa8850XMWXqBHr6eli8+Fk2b9xEkE0za/YMPvLhD3HGGafw2KPP8IUvfJGsznLWmWfw9Su+zMj6GlDhmtsKoxQGj4GBOPFEguKSYkpLSvA8a7H/3P9+jSefWJxbj3zChIl8/vOfYfyERn7+89+wbu06otEII0ePZvz4RhacfBynLTqdJYuXcsUVV5NMxPnIhy/j4x/9IEqBF1qw3V2yW8C+pgN85StXsnLlWt71rrfxta9+xiopEw7i2PXpRXj/3yHCWxAEQRAEQfinIBTeSin+dOv9XH7FN6mtreGxx+8kEouQTmouOP9dtLQc4JhjpvG73/2U8pJilIJHH3mKq7/9fc4+5xz+5zMfIxpTeBiamjv45Ke+xroNW/jA+y7mE//1YRSGTCZLEGTJpDOkUinS6TR9/YO0th6gsqqczu5u7r/7ATKZgEmTJrHojNOYO3cG5RVlLF36HLf99U42bNhMMpGkcexoFi1ayKmnLmTypEZqaqqJRn20NnR2D/Lz63/PTX/8M3iKbDZDxI9QWlLMl77wGS668Fx8FF6BkVs5vRSijBPeNgRcuDe3aQOeB9rAt771fW6+5S+c8bqFfPPyLzBqRP3BMsvY65VykdIJxb4NXmcJl//KX23FXr4Eg/EEbQc6yGYylJSUUF1bRVmpFQrKKDKZLPF4gqKiIoqKbZAve3WAwuMHP/oFv/jF76itqeOWW37N+HGj8LzAVl7b+a/2eTCAxrjAcE8++Rw/+/kv6e7qZeHpC/n3S97JtKlT8BR0dXUzEB/E93yKiospLy2luKQIDOzYvY9vXPFtVqxYi+9HiMViZLNpUukMZaVFnHbayXzms5+gccwoPF/R3zvAI488zu49e7j4nW9nwvhGPLSrQxjBPGyifLsAYKyFfs3azVzznWtoam5h3tx5fOyjH2X6zEn4EY+e7j76+vrwPM8OiJSWUFJUhOd73HHn3Vzx9W9RXlbONd/5FotOOwWGKK1w/W+FUVm2bt3Fl758JVu37eajH34//+//faigWMoOaCiTWyNceOUxIrwFQRAEQRCEfwaskNDWpXjNRj78H59iMB7ntjtuYsb0ydxyyx1cfdV1eJ7P1674Au9427l4Hiht+4xutSpQ4DkrdEtbJ5/5/DdZvmIN7377m/nm178YyhZryXbmZTPEumpR2qphY+way7lesosu7vl2aa6cgFUGowxKQZDVrF69nu99/6esXrMRA9TW1TJ9+lR27NpLW2sroxpq+e0N1zNh/BiUsenl+uGFHfKwQFZnOS2l3Qfbd7YoPv2Zr3LPfY9w/lveyNe+9ClqayoOlllhI1FwKS9AjynjLrCbyYk441yZGdZ/Dwsc5ueuVQFGKx5/4mmuv/53nH76aVx62XuorCiy4t8oML7zJnDtau+QS88jCMD3lRs4MODZ9deVUxGFdTEmsBZzE2HN2s388pc3sGbNWiKRYioqypkxfQpvfcv5nHLq8TaYlVuuLRx8cI+Ic9U2hxCv+fqrXObWjUDnRlDsQIfWdiDBqMC1iGePoWzkfnf986tW8dOfXk/DqAa+8uUvUl5aetD9Ucb9zaiAppZ2rvv+z9i/v5WPffyDvO7MhbbshLdBu3oNL7vwSmFeJuEtUc0FQRAEQRCEfxC37pWBVCrDsuVraG/v5JhjpjF6zBiuv/437NvXzIwZ07jkkosYUVflxIW1PoadWE8BxhpyEskkTy1+ht27m5g8cSxveMPZBZ1dk3cbdoJZKcAEgHFR1K3gs4LLLumlFKhh0aKdfgIUWnnsbW7lq5dfydq16/B9j7POOI2Pf/SDfOhD72X0yFFs2riVjgOtlJUWccqCk/B8K+1y/eUjdIPDfnU4ezdEa8Vf/3IX+/a3cez8+Zx5xikUxWLurILNJpDPQ7nRg0ORu8yJ5oIDhWWwm+e2cJ8NiFd4ptFO0KIYN3Ysp566gFNPOYHy8hInDC1GuStyxRpavuHaQhUESlO4e5k7w86J9hSMHDmCE048lpmzpnH2WYs4//zzeM+7L2La1PF4nocX5purk7H/Ny4dReHNdvmFTaScsA2P5wcGCnWOXe47bJt8OcPSK6Bh5EhOOulEznn92ZSXl9sU81lawluioKy8nFkzZnLawlOYP3+2DYYXnhd+UEoMm//HvBxRzeUOCoIgCIIgCP8w1iLoUVNdzdSpkwDD+k1bWLVmPdt37MbzPE4++QQmjBs37ErjhJu2ottZTaORGOVlZYChu7sHdwaBtuIOlFVkykohY7BWSOU7XWNFqptlbMto7HdrR81ichbZfFEeePBR1m3cjFaKi9/1Tr52+Rc466zTKC0tYuTIeiJ+BKMNPT3dKM/OocaAMXpoWoclrIn9rJQhk0mTTMRRylBaUkw0Es2LM2Ot8vmvrkaqYBuSb8GFhBbgUB56zhrsTP0GMM413YQZubRyFl83wOGs0gpFJOIzbuwYyspKrBC14x/Ww8AYFyTNXlPozmCMLY9xWjIUtfksbe0KfBcIAlt+BYxqGMG5bziLs88+nWPnz6Io5mNMFk/Zieyh1RmTNxnbfApUUq55wg/WEm/LmT+tUFIDGG3LqfBQxkMZ31rqXf3CoQLf82gcM4ay0jJbP2XzUrn77u69std5SjF+QiMzZ00hFrPreQ8piD152Hfh1YgIb0EQBEEQBOEfJhQ3FRUlzJ41naJYEWvXbuTxx5bS2tbOyJEjeP1Zp1NcFHHCyrPCxFgxoo0LzuUET1GsiBH19YCmvf0A2UwWCqyOIUY7p20NnhratbW2SQ/Puenao86+qyJO4NjAZFpbIbZn127rqq4jTJ46k/aeXpatXsMNv72F//rvz7Jn7x5GjmzgHe+4EGOclZ5QbB6GoRpuyGcDDA4OkMqm0DqgvKKIaCwsm91cFgUXhwm4+iqs8i3choi38JrCa53odG009NjB5yrfLm+mTSgcjZtuqm3bGQ+PKAprfQ6FvS2Otabn6hMmC6BsoLswH7ADCQYrdn0vitIeytj752FcQLow2reHctMKPM8NEng2krt9nIzLO/9s2JoNH5QIS5cfyFBKAwHG2Mjv+SW9QqFeWJFQ7Ns8/YgquA0FbQEo5abnuvQMxrVreM/chcoGLHRPgPAqR4T3q5rhP6oUjKD+Axwq2X+Iv5dgOPp3uHPMYY4fbv9LYdgo5D9AWFv7OxvO4wr3vTxlHpIHDCn/0P1Dv70wXr62EARBEF5bGGPwPI9x4xqprqpkz869PP74U/hehMmTx3PMnBlOFNouqDahwAI/FM1OYxQVFVFfX4fCkE6m6OrsdvLQ5MS6CoWvAc+zYk85V3UF+PjOOqlyYl0Zex3G4BmDjwEVEPE0EeCsRYuI4uOpCN/7/o/4/Be/ySc//UW+98Mf0z/Qy6hRtXz4Ix9kzpzZzo2dw78z85rOfXchxk3YBbcCbiCeIJ3JEo36FBfFnCE/DKpl+w42AnuhC3joHj5U1OaE4ZBtGApQ1s1/aPncfryhbu0eaBPg+6ELuS2TtWCDr/ycVftI3Q7PKnWLO88Ye2eGaFh30PPCuoW42huwDtk2Orwxtm0NgVtKjZwgB6t28/Z6CvpirhB5o7ydx452QtimCRqtD3OPAZQpOO7U9ZB2KLgXuXtvCctTOJhky3GEhhRelRziL1F4SRT87Q7ZbewIqvXcMdYNyWj7ObB/0FpnbfAIY/+wh5xjDFjPK4wxBOF+bcAEGKPRxqANBdfa6+x5drpT4fl2BDB/jrvYfbf/hsOExhi0MQQ6PN9pSWPLba8Lr7Wb1i6P3P4wX+3KHx6z6dg6ZO2PHGH5XbmHt1muDK7dsOt6ut//3GYMZLO2fPm6hWkVtI8x6CAAozEmU3BcF5TboLXrHBh3P8I2yNXHoAMrso1xY6VhOlqjXV0C59xm62ePZ939J6wb7v4U3E/7DBmMztrvRhO4NrTtHQDhMbvf3jPt7r2r65A2tAFkwrqi3bNgDMYEaB24ZzPfZodGRLogCIJgJbFFMaaxkarqSpKJJF0HOvCAN5xzNiUlRRAKY89Y7ed5KGXn1xqw7zi33nJlZRlF0QjpbJb2jo58d2v4dOfCL0MEXM6o6NbYtjtU6OasXLmd+NMYFp12Mh/84Pupqiwik+xn97bNpAb6mTR2DB//jw9y3bVXcdGFb87XWIFSPsqLDM34INwgw7C9GugbGCSVThGN+ZSXlbojuYLntyNyiMq/LNh0PeWDsutPK6Xcv769d0qhPLdEm1dwI4bcEwWE9zq/b4gbuGvVnNgOr/XcOIG7j8qzz4stR7gNHWjIzxsP71RhPrkHoGBf+NV6YnheWN4InucXDBoMK5v7otxx5eaaH5mC+6nAw3feGmGihyib8KpHhPdRxs53KhSaVrDhRIwxoJSHMaH7CgUq3onYgp/p8A9ZAWjrOhOOcpoCDxf73f20K5tR6Dajc55cTuKFoiw3chmWzQk3Y8uQE55OXFq3nmHuQuEPjsGWHwOo3CigUgptXH3Cf9z6iHYwINxny210QKAD3Ewh59bjGhI3qmqwdVPGzXWy5fd9P1f+sDThiKUhIDDOZU3ZuU12fzj/y0Y9tU1n51+F14Md+Ah0xu23ZfC8sFy2WKH4VsbGvSzYaz8qm6en1LBR3vBc7H1zz1AQZF2b28ax5XHzqsKHjLyRXSl7T20DuWPuXoY5eL7K1QkA5ToexlbevsTyz+bhxbcgCILw2qagP2AMkyaNZ+LEMSg0noLamire/OY3ujONe+/Y90vhf4TB0JR9O9XU1FJZUUEqlaa1rT2MP23fg+51OlRIu/5N6L6s7PFwC0WafceFn52Iw1qfS0pL+NSnPspNN/2Sz/zPx/nqlz7LX275Hffe9Vc+/amPc8Jx8ygpiuVF4PC0D0fuUOE59pq29gMMJBKUl5XZwMVQEMV6+HY4Xsg5h+HvXKZwQtuVd/iWb+MwreHfC1IquF+FbWj/81B2kbbCS4Zsuacll79Lg8JBAXt1Ydo5wvLh59t4SHF9uyllBxZc0DWbZliIg+uaG3hQNjfbLgeXv3DL1VupXPsOPyn8JLz6EeF9lPF9N3JX8AODcyYJNaQ97qO1whjrMpMb8Qv/aB0K+67SRoMXyc35sPttcIjQMyUUxQYwudFHwHOCOnSfUVjXHBXYuSyF4kqBIYPn2XkzoN1cGTuiGAqxnMZ3P3Sh+A1/Nn03ulko1I1z9bIjny6SpLF5euESlGh8z0eZCMbYCKVKWbuxMQqjw3oZtxxEFkMWpTTaZKxF3Anv/Hmhq1ZeaIOP5xUBCs+lHY7IWqt6gFK23Y0KwMvieeG9cu1krKsaCvuTrTw7IuvZdOxd9dBuRN9oG4DDutnl72PejcxFKnWud75vg8XYH2aNj0aRtc+C9kBH7RIeYQ7G5hc+NMqArxRGu/tcUCpjFNp1cjSgVBSU7yS5d2T3qoLRZUEQBOG1irHvGmUwCnwfLn7X2ykrKwIC3nDu2RQX+XjKnhN2SQ5H2K+ora2mvLwUrQOSyQRKQaCt/D78YPDfSfwQhH0FFQ4gKJgyZRKXXfZe3vXudzBjxlTbH7EnvSQOV1qwa1gn4ilisRj19XUvOQ9BEP55kd7yUca+FKzQtVihkz/utoLvOKsjTrCHbrz2XDcq53l5eabtyK61aTuLpbMiZ7UdV7YOzopgiHXVlS1n8XQjgp7n4kVYYQpRtLHWbTvPpUCbO2t9LkUT2lML8YYEhrDldBZzZQcLjFHowI72GTeKrbD1DBMMa2gA41lRawcswvbJz47RBNYdijC6aTjaGboKeTaoirEp28Uq7Dk2DduSxgVfMcrK9VCMW0t3KN9D0e0255puDATatre1fiuMca507h7YMofPg70ftgBDhW4Y0TP3rLgBGYNnBwAI29LWwhisWz+eHcxRnnOLz+KmwEFYrnzOrt3tCqr2Wcs/ixYz1EIuCIIgCORfDcaEvRM45eTj+cIXP8vb3/4W3vWOtxKJ2L5E/hXi3i0FIjMcnFfYV+qM6dM56+wzGT+hkYkTJ+AZg6cUOnBLUBVc664amuALRtkeSrgcmdJ4yuDh5oDjPNuGvDVfLPmyFb59jTF0dnaTTKYpKSmhqqpq+IWCIPwLIML75eIwv/OFri4oRTarCQINzpqttSGTyZJOZ8kG2llfbWIFP8mAnXObDQK0Dt2+7fFMYOcMh1byrIGs9gi0Fd7pbECQhUwWshlDJqsJsmC0B8bHmAhB4KODCDg7qnvtkMnAwGCaVEqTNQqjXFRQT6EDyGY12cC+fMLyarB5aMAotIF0VpMNKJC2zt5uIBMuE+Hc0DPZgKyBjA7IZpWzE4eiXpEKbLnSWe3EsE0xMIogiJDVxtl8fQLjk8ka+gcGSaWyaO2hjUcQQDbjXn6esatIGFsfrQ2eclOescLYhBZ3nJVd+WijyASKTNaeB7ZDoTVkg4CssXPXNBo8ey+yGbdMCgp8RaDtYIMV4+FgisXgyuSeF2PAKB9jFAEeWRPJ2b0DYy0MGuvdkEWRSGt6B5OktEE7C77BPodBAKmMJpWBZAbSgSKTDQOH2AGFjDZksq5r4KYV5Anv9tCPgiAIwmuTcJ6vfVdoUJpo1Oeit1/Ald/6KjNnTc+74OYGwwsTcJvDU7anUF5ewuc+90n+/KffMWf2TIyx72g7ncy9fA7TB3sx2HexwvM8J+oBF2DLvgltvJOXTK58rrCK3JS/dCrgQHs/mbShvLyC0aNHDb1WEIR/Cfwrrrj8iuG/WIlkikQyRW1NpTOsHfxrlkymSCRSdh6KInd94f8FS/hDbQxs3rKVp55aTGPjGIqKiti4aSu33nobTz21hOXLl7N27Tqi0Sh1dXU2kqOzoioMA4MpVq7eRHFJMWVlxXgomlrbWbdxCxUVFRQXFWHQ7G1uY8fOvRijWPn8enbu3s+u3U3s3t3Cnt372bN7Dx3tHVRWVVJcVEIikWLtum2kM5qa6nICIKM1O3fsYe3azWzcuJOm5nYG+geprKomFo2AgnQ2y7PL1pFIJKmprgTfulD39PazavVGKirKKSmK0dndx4rVa0lmAkbUVTpZp0hkDFu27WHLll2MahhBxPfp7Oni+TUbqa6tYe/efezb10ZdXS2RiBWwPb0DrF63md6eOPv3t1BZXUFxLIpGkcwYnl+1gUBrKqsryWQCtm7dzYaNW1m/YRMtLe1kUlmqa6o40N7J2g1bqKgqJ1JchFaK7s5+1q/bSElJCSVlJfQNDrJx0zZ27NjNgc4eiktKKSkqcvOHPDKBYeeuFjZu2El5eQmlpcVgIJUOWL5yPZnAUFlZZuuayrB63WZSyRS1NVUkkynWb9zC9l276ejooqqykmgsmv9LdAM2iWSWtRu2kYwnqampwniKwXiates3sX3XXjq7eqiqrsKPRa04VtDbP8CGjVtYs34rW7fvovXAAYznU1lZkQsU0trazfOrt7B91z727t3P3j372b9nHxFPUVlVQTYI2L59L5s3baO6porioiLXYbKeFHkKPsufvSAIwmsXO4YOFEwpAzflLJzLHb4q3JFhS39ZbJ9Ja22DrqHccl2hESM/RG3nxeZTBdtnPaSwf0HYQW7P82xUcTcAYKuVq6A9s2Ae8YvHCu7w6r6BOA89/BRbt25n2tSJvOMdF7h8X2r6giC83GSyAYODccrKSolFI7nfuUKy2YCBgTglpSUUx6LDD4vF++ij3Vwh6za+a/ceHn70cfr6BzAGdu7czdIlzzB3zjymTJtOc0srX//mt7jj9rtIp9P5H3ljyGYDNm/bRVN7J9pA1hh27t7P82s30NLaDhiyWrNzTzP7m1ooLi5i7LjRjJswBhXx2LlrD6Xl5YwdO4bRYxqIxaKgDMl0iq3bdtPW3u0ipBvWbtzO4089QzKbZdacmZSVVvD8qo0sWbqCjDFoBYlUhg2bt/PMstX09AyisfOE+wYGWL9pGz29Axigu3+ANRs2s3rtBrS2rxEN9A7GWbF2M8+v2UQ6q/E86OnuY8OWHQwMJvH9KKvXb6G59YD1DNCwdecetu3YTUlJjE2bt9LU0kFW29fXzt1NbN66E+XF0EaxfMUGnlqynFQqy5x5c4gUFbNsxRraDxwgEo2wb98+1mzclHMVX71uG/ua2vH9CPFkiiXPLmfLth0Ul1awc/d+nlryLIlUEtz0gGw2w7oNW1i7YRPbdu6x7vguGMfgYJwVK9eQSKYIUOze38r6DZvxoxEymQzPPLuC9Ru3M5jUbN68g8VLltHTP0gQuHF1dx9SmQzbd+2hqaUdPMVgIsPipcvYvHUXyWTAps27eWrpShKpDNoY+voHePKp53j++fWMHjOKmTOn09c3yBNPPsPO3fvJGutW39nTzZYdW6mpq2LM2JE0No5kbONoqqoqUEqRTKTYsGkrazdsYu+e5gKj9iF+ZQRBEAQhJ46tZ5xSVjCHE6pyLuRKFQQNO5hQ0HqeZxfJKjhNqVDIH/rafwwr1q3Rw6ZfKKzDchVuLw+KRCJOV1cX6IBRoxrwnCVcEIR/LUR4vxKocJTW2nrDF45x0ajLyys4/fTTectbzufyK77Gf3zoQ/zpT7eyYvlqO3/bTQiOFRVRUV1LR1cPmUCTTGY40NVHZXUdTa2dZLKadDago6ef2rp6aqvLmD51AjOmT2TsuDHEikqYMGE0M2dOYeLE8ZSWluReXtpTaKXAUzS1d7Pi+Y3MnjOfN7z+TGZMH8tpp8/jzLMXsa+pjTXrNxFog/J8/Fgpmazi+TXryWjr+h2gMF4Mg3XHxvMpraimuz9B24FON69Z0dbVRyoLxWWVaK3s6K+n0CqKVh6TJk+gtLyMrTt2k0oH9PQn2LF7H9OmT2Xc2FE0jmtk9frNZIKAwUSGbVt3MbpxNCNHN7B9x342btrGKaeexOvPXcS0aRM484yTufjdb2PU6BHU1Vcyd94stu/cR1NbJ02tPexramHO3NlU11TS0T1Ia1sXpyw8iXnHzWLhaScxOJigpbUzFxSvo2OQZDrFxCkT2NvcTDIbYICiogjz5s0knc6wadsuegeSbNi4k7FjxzJ+whh27dnPjj3NnHXOWbz+7FO44K1vpqOnjy3b9hbMuVYoFSHAQxMBzwY62759J/ubWzj//HM55+wFnP/GN9Da0sG2bbvQ2rBuwxa6O3t483nnceL8GRwzYyIXXnAOYxvH8fSy1XR09dqZ654BL2DSlEZmzJzMzJlTmDFzMtXVVSgFbR09ZLMwcdIUduzaSzqdC4U/9NkOdx1ityAIgvDaQjnBnYt+7YSzCj2rrSXiMMJ1qNi05+SPFgp3m2aYxssjUoeWRuW6yEPFdmG+L5VwGDufxuBAnI7ONnwfxo8fm5snLwjCvxYivF9BDLjI4+HPqXJLH4QBu2wA7JMXnMj48RNYtWoNQRDYF4DyiUQiVFdX093TS6A1PX39xJNJxk+YQHdPH/FkilQ6IB5PUltbje/b6JvGGsxd4Kz8S9DOstY5F2Xj2TWnW5rbMMpn6uSJRHyse7GnGTtuJNW1FexvaiWZyhAYUL7P+AkTaG1rp7nlgK2nXZQTQ36udCQWo6Kiip0796GNFeS79+ynpKwcLxoFzwb6suHc7DwrhWH2nBm0trVzoKufluZujDFMnDiWkpIYkyeNo79vgKbWbppa2ujp62b23OkYYO/eZioqypk8eRwRzzWCguIiH0yA73lMnjKJsrIK1q3fzpp1m6muLmPipDEYBRHfRxEhnXHtphTKtwMTtqywr6mF0rJSps6cTCKRpL2tI3dra2urmTh5POs372DLzn3E40nmzJ6OAvoGBykqLqO6qhKAomKfESPH0N7ZTTqTdS/jfCRx7eadBYEmnkxRWlZCRUURHlBRHmFEfS0H2ntIpQJ279pHY+MYGkZU4AERAnyjmTVjMolUlraObjRuyTSt3Lxv50FnbAB1DezZt5+K6mqmTZtJX/8AnV3d9hlxT64gCIIgHJ5QuBZuL4TCt0zYF3CifYg4tsfyHK230/A6/KNyuGCQwIR9QsgGaZLxASBg0sTx/3AugiD8c/JCfwmFv8uwSM/hb6sJj1kRZeNjhuOchiDQaJ0d8kYpKSlh3Lhx7Nu3n6yzoqIUkYhHTXUZgwODpLOa7t4BohGfMSNHkk5lGIjHGUykMQYqy0vdfNysW1rKrlltSxjapYNc2YzK4nkQZDT9fYNEozGqKsvwlbFLf6CJRqCmporBwRSZdBbfU2gCxjTWMmpUA2vWrCceT6GD/CtDuWXFjA6YOGEczS3tDMSTxBNperq6qKuphiALykUHD69zD+fY0fWUlJayY08rmzZtZ9zYsdS79S0bRzcwZlQ96zdsZdfuJkbU11JXXUmQzjLYF6eirJTSkqhdJs21vIeNUoqB4liMeXPmsXNnE7v3NHHs/FkUxSIAVFeV0tDQwLPPrmLb1j3s299KWXkF9fU11u0/k6WpuY2auhrGNo6guKSU/U2tbnkxTTTiccwxM8D4rFyxgXHjx1FbW4UCYtEiMpks8XjKjeAb4vE4ff39BIG9TznrgFtPHAW+p4hEFPHBOKlENnftYDzJwECc/oE0yWSayooKopEIymRRZPGVpqw0RqyoiP6BQTCgTAR0MYMDEB+Agf6ARFyTzUIypWlt72BEQy1jxtYRiUZpbm6z5ThMF0gQBEF4jXPE14I5uJ80hOHHDpvQMArPG57Gi+SI5X8ZOKho+QxHjx7JBW99IwsXnsQJJxz3ChRGEIT/C0R4v6wUjGKGH4b/bjpzs3UlVkQiETefCDxllx3zPEU0GmVgYNCZIsEYhe8paiqL0Nk0Hd0pOroT1NRUM7KulKJojAOd/XR29xD1PSpKS10QM2PXt3bLbyhn+g4DvnlgI49rmwfGEGQNET+Cj8HTBl8rlDYYHRCNxkglM2QyWTcgEOD7hhNPmEdvdz/btu+x0dI9g+9pMHbFb6UDxo+tJ52F/c3t7Ny1n/KSYhpH1OIpjVEG7aKTRwBPazwF1eWlTJ85lbUbN5DOJJk1dTJFvg8YimI+x8+bxa7de9i7v4nZc6YTjXgEmQzpZMrWITe/LMAzoIzCJ4LRGs9oykqL8L0IsVjUBkIzWZQBD5+GEbX4EcWzy5axetVaGhtHURyLgVG0tnbQ2zvIyJGjSaZS1I4Yyf797fT3xu1a6spQFI1QHCvBBIaa6hIivkIRMGFcI5XlFTz40KMsX7GOBx98gs6OAzbITLiMmovainNpMzrAV4oJ48ZSXV3Jvfc9wIoVa7nnvsfp7e9Dex6Bp0gHWVTEs5Z5bOR5BSj3PZFIoIxBGUOQyfLwQw9zx513cc8997F4yVKygWZfcxvxlKaiqpp0Jk1NbR37mlqJJxN2+CiMym6fzIJNEARBeK2SX/BzOIXviOHvi+HfOVh0Fr5mhpx6KHF60EkvmHz5j5xGeN6h63pkhpfWZmWorqrkE//1EX75yx9TU12JZ90SBUH4F0OE9/8J+R91re3yFDqwC1L5gM4E9Pf309Awwq05HaKoKisjFovQ0dVFV08vdbU1lMRiVFdV0tPTR3tHF+WlpZSWFKOMdZdWxscj4pax8lD4Nic31xpAqQgm8Ij4EUpKigmyGYLArbWNQSkPz/MZHExSWlJCcawIpU3Ool1ZWcbMGdPZsW0fmXQ46myX0zLuQYtFFaNGj6SppZNdu/czYXwjJcUeNgdbP20IV5G2y2IDY0aPoryygtracmprKvFsyihjGD2yjpENDdTW1FBTWYmPoigWo6y0lEw6i84qlLGhWMAKb4yHpzyyxrBx4zZqaisojvls3LQdYyKgYcfOfezcvZuzzjyVC9/2ZmbOnMbaNVvZu6+NQENTUzvxeJwVK1bx8KOL2bt7H93d/XT39NllyDTs2rWXZDzBhLFj2b59N/F4EoWiuqKUMxedyORJjWSyKSZPHMukCY2UFBXje9ZFP3zfKmOt9Mq+m6mvq+H0hSczduwYkukMM2ZOZczYMcSKYxSXRogWF5HMpAm0RhNBeTE77BBogiBLZUUZAJ6vicayvPnNr+Od73wjb3v7eZxx1ml4kQh7m1oY6B9k5YrVPPzwUpqbW+jo6KS3px8O6o78/U6KIAiC8FrgcO+C4fv+3vd/lJea3ot5n72Qc144yq1eA4Yh3T5BEP6lkD/vlwn7k+nknbJ7cj/MxnMuyIAJwAS5wBlKGbSx6zzbKxRdPX1s27GNKVMm4nkRnM0YgPLSMspKy2ltPUAilaSmuoJoLEpdfRUd3X10dfdTXV1GNBZx86VdlE40kLHrgQMBiiweWTwCZQWeMgYiipqaUtKJfto6u8gqRaAgwGNgMKCrs5/q6kqKiqPgedZyrhSe8pg2aSyGgN3NLXjKBzw7l1hZm7NC0djYQHNzEx2dnUwcP8bWyrOu6Lb+MbQJbCRUF8SkKBajNFZELGJD9xtnxQZ7TllpKTEfIr5to2jMp6qmjJ6+brp6ewnwCPBtPTzIeppAeexraae1rYUT5s/gmJkT2LFzFwe6e9E+bN+524r5mkoqKsuYf+xcqmpq2Lp9F/2JBPtbW5g+bQKnLpjDKcfP4fRT5lFSGqG5tYO01nT3xdm8eSeTJ47j2PlTiA8MsHv3frtWt4K6+gpOPmk+py44kWnTpzDQ301laQwv6hMAAYasUhi3UrdxMfY8BSNG1HDKguNZcOoJTJo6jt6ebqoryiiJRqirqqK7s5tkKuUmEigC5dHd00+QsR4SylMYFximtChGaXGUkpIofsyndyBBa0sb82ZP5fSTZ3PqiTM5ZcE8ojGf1gNdBEbbR9GQ88bAPbeCIAjCaxl1KJtuwf7C7UjHXyzDr38pafAir38h5xyOgmtV6JFm+0i+qG5B+JdG/sJfNsIfUjefOzTX5kSJjWJuFYvGA3Rg0MbKo+6ebjo6utm6bTe/uP5XxGIRFp1xKtGotQiDdREvLo5RU1VFS3MTyjNUVpYT8RR1tRX09/XT2dllrcK+Bs9aThWuOCrAYEhmMjy/dhPbdzYRT2bp7OojnUpQWV2ExjBp4lga6mt5+rnV7G/tJpnS9PYPsmLlahKJQebPmU4sqsBoMPk43LXV5cw+ZgZ79uwhm8k6d3ZnvzUBPobRIyqprCihoaGOmqpyO7/cBPg2vhzKeLnBCds2LgZ8YOeqh4FEw/WkDQoTpPHQGB3Y0WIFs2dPJ9BZVjy/no7OPhJpTU//IM+tWEV7Zw99g0lWrd7EmFENTJk4hrlzZ1JcVMLylWsZSKQoLatkcCDF4IB1zU6nswSZDMUlJbR3dNDX38/MWVOYMm4Mk8aOYcrERiZNHMve/fsYGEyydds+0uks8+ZNYcSIGqZOnsiatZvo7BoklcnS3tHFYDxFOhWwc1cTPT09TJ00Bk95rFm7mW3b9hJPBHR29hIf7KOiuhKtIJlK09neRSqZIZlMs3njLjKpJJPHj6bUV8w75hg627rYvGkf8USKeCagpaOPZ59bybjGkYwcUYtBobXGVx4EOjf9AAwtLS0kBvo5dvY0Jo0dxcRxY5g6aQJjxoxix84dBBl7T4byQjsqgiAIwr8qLob58N3DBO3w98Xw/cOPH/mQZfgJhzzp75Iv/5HTCM87dF2PgLL/y12by2poivY0Z30QBOFfChHeLyvqoCY1Boy2FksFGGPX9TYAygrJtrZmfnDddVx11Xe58sqr0Drg4x/7KGPHNoIiZx3XWuN7UF9bTTI+QGV5MWUlRSijqa6soDjmQZBmRF2N+722Ad1cSfK/8Qa6O/tYumQ5Tz25gueWrqamspyxY+pRZCkvjXHyCcfiaZ8nHl3CU088y8MPPcm+vXs46YRZjGyotG5RxhAxGt9Y13BPGSZPHM3IuirQaWtFV+AZbS3uBspLSzj5xHmcctKxoLUV0Caw86oNKAJ8Fc5DD4tuo6obgtxrTqlwIAN8zwZ/85VvX1sGamsqOPmkE+ju7OLhh55kyZPLeOj+J9m1fT+JgSS7d+2jt7uH+XOOwVeKokiU+XPn0N7SRmtzG7OmTiadSLLkqaU8+/Qynl78DOgsUyePp73lAGXFMWqryt18cEXU8xlVX0dycICmvS1s27aJKdPGUlpWTKzIY9qMiYBh46bN9PUnWLJkOY898ixPPL6SZc+tZ/bs+YweNQoM9PYkeebptTz1+Aqee3olFaXFTBjbgDIw2J9gyZPP8eRjz/DkY8+w9vm1nHjssYysr0UpxdgxI5gzZzZr123ksceWsfiplTz4wFNUV9Vw/LFzKSsptk+pUqADPBWG+4NMOktbSztVFaVUVZblnuZoJMKokSMY7Oujr38gfKBy5O3egiAIgiC8FHKiWxCEf1mUMUEYzglcJ7qru4+u7l6mTGq0g27DxSTQ09NHV1cvEyc2uvko4cxbc5D4fC0Qig/binnBawx2LW63ZFhHRydtHe1MmzyJoliMzs4uduzcRSabRSmPkpISJkwYT3VVNb4HWgf4vp33G/obDyRStHZ1U1FRTn1VJb4JCLSirbObTDbLqIZ6YlFXKGPzjccTdPf0UVtXQ1FxjHg8SXt7OwOJJMXRImrraqitKrMB3pRHYBR9vXE6OzrJpJJEohGqaqqpqa0i5nl4GFKZgLbOTqqrKqkoLUZpTeBHaO/qJzk4QENdDSUlRQwkUvT29DKirpaiWAQdmuGNJp5I0d3Tx6iR9Xi+TzyRoquzh5EjaiguimDwyGpDe3sX0ahHfV2tFes5O7tHe0c3CkN9bbUVlM6dO5vV9PT20d3VSzqTJhaNUltdTU1NJb19/SSTKUaMqMePKkCTTWva2zsor6igorSU7t4Buns6SadTRKMxaurqqa4so6e3F50JqB9Ri688jAlQnk8imaK7q4fikhIG44NU1VZRVlKE0RqlfDo7ulEoamqq6erqpad3kEzGUF5ZxMiGeopi9u8mkcjQ3t7JwGCCSEQxoqGGqsoKPDy0NnR3ddPZ2Q3Ko6KilBENDUSj2MXYjEc6oznQ1cOmzTvYtGkzJ5x4ErNnTaayrBiwQfwGB+L09fbRMKKeaFShPEUmA909PRgMI+pq7bPgZpgPJhL0dPVQX1dLaUkRdmq/Dbceuq1Lh0EQBEEQBEH4V8MA8USKtrYOGkbUU1ZadJBTigGSyRQtrR3U1tdSXV4y9AQR3i8fRxLexuBchvJtrDDoILCRrJVdWzucB66UtfZ6SmFM6LqubWAwrTCeT+CW34oAngnAeGh7s5ylWRMEBt+3y2OF5QONNlk8zyMwNmgX+Hi4AGQGO+c8FFPKuZSH5XeRwVEuAJjLz957CIyH8UJ3KetijsqnbVEEOsD3w3nxNpp66DoOxlq5sYMAKIUxVmrb2e7Wem6LY2W4UqB0YS3dZ+W5NnTWd1djXImVmxZgvQqUe3Z9e9OUHfiwTaHc4Il1zc7/TRh3fxTgu3ttpxAopfIz/5VtO5tPWBObRjhn3ZbGWv+NcgfwnHU/dLM3KOyUATuoYiPiQ0Bg7OCNzcGnP57k6WdW0rT/AHPnHENtdSnV1aXU19XiGQ+jwfMMqIwth3FB91TYxhqUT2Cwk8uNLbFSoEz4jNtBDnJPtyAIgiAIgiD862BeJuH92lPIRwknHx2hqPJQygonK76MdS/HKnLf9/GcSM3pGACUXQ3KiUV7vc1BhYLY5ZDPM8hZgq3gBd93gyGFU4nAumQb8LFB0awYtSkZbcW4cutd27nUVhjiXN5dyaygNdpF47RJ+N7wcmFdmY0tk8KAskum5euQF8x5Ke6ir4f6GZ1ziUa7K7UVtlapYgcxXM6+spHLMRpPKbuUmjumsH8d4TR8hSoYeHDR1JX9bNOwF3l2vAGMS8u4cqoIpmDtcoxtY4yPNh5G+a697GHlKZQHyjPgaZTKrz3quT9JP5e/yrmz2/qGxVG5ZwvswIRHxJ6v7OBNeWkJCxecwHHzZ9HT1cWuXTtpb23N1c9dmhscCvcp7PW2snagwTe2TOFx13BhcwuCIAiCIAiCcATE4v0KYK2V1s4ZiiZ3YNiZTtUYckLM/ht+VihjLd2hArL6yEaatulbEWkIxZwVaKGwCtfvHoqbdK50rmz2LHt9/qy8RLbiy1qmhyowVz5XxFC42bRCYezirbtBBJuoc6cP83RPJUphCvJRhQJW2QYw2PXCnTx16eQKcIh2tuRlrDtFhXm7hjU2D220izpqj9tl2fL31X7JN0Ouja0pu4B8cLiDShQWediuofUN9+daOHeFPeZqHmZfcC+yWes54fueHYjI5WS9I+w1ylnisYH4cvfWDSS5S1zt3fXDnglBEARBEARB+BfCiMX71UPeSp23uob7h25OSqnwWN7ibe+u/bfwXJeQ+zdvkbYWUXueFVfGSbGCPMLPueNu6a9cHs7NO5c/zjVbY5ylNC+mw/JZC27uYTThMSfcwno427Zxp9jTXHlzBXR5Glcfd13YXgU1dUfcAlphGUIPgCF1zf9XiHIW8VzWYVFxgchsSa24VbZQYdvaBMLjQe4+hOty5rcwCYXS1pKtDPazK18huRqq/P2z9zBfmzCRcNBFOWt8WBcfg68MsagiGo3YdeGHNoi7N/kpD2G9c89leGo4GJIrnf12qLILgiAIgiAIgpBHhPcrzBC983dxlsacxdEKrbwICwnVUihuKRC4hQSgrHCGLKgsqMD9a+cpD0+Zg76H5XF55LZDZAdup73Gxs+mYH5z/lget39IQ4XnDdufyy/cH7pHF275OfJ2C9Xu8I2Ccwo/G9deeXdwy/Br3TVhvrl2Ljh/SBqF5XP7jljGQ9UhLFfBEl8F+/OCP4tyEeHDliy44BANagrOHH5/BEEQBEEQBEF4sUiP+p+GApGYcxA+FMbO5w7nIhdIOEtOjQ4TU4WE+woFV6EQPCjRYeQP5k7J7QoFteNQ2RdyxHwOx7B2ypnMbbAx+68/LPMwo6BgO1LGhQULxafv8nJ54vIdUvfCLT+QYT0J8qfaIhu3Dc9z+H051DEKRHthwm6/CtymcmUpvNKeOHwwIX/MJpWz0xceOgR/75kVBEEQBEEQhNc2IrxfNnKq58gMEUgvAoPz7XZiyQUrg0I1VeBCfdg8CkSq8cGEgtKJShh6YW5+tssvdygsS+hybg8aE86wtt+VcaMDQ9IqwBTsD+tkrBXXEBTMZw5PL/yvkEKH7sItHAg4jPXWUCCePbeF+/IiWxnvME7qw7Eu5LYqVmxrlQ97Zx3gbdK5muWy8jC5AYPCjWFi3pXDeEMN7vlCuNYPI5w74Z0zoA8LxDeEwu9HrqkgCIIgCIIgCC8MEd4vG4cQlS8jeWEV5vGP5FUoSA+1hZi8K/OQAGWHEmSu/k6rEorugzjIhurIn1tgJz5MNQuODznBfi9MKV/Xgs1E3EBD4TmH+xx+H5qfUQaTc913p4RtFc7Nx3oleAY8t4xYTj6bMJK6Fc/5chZa0N1+NyBgTC6uuxskCf98D6W+w/vr0sgRJjy87YZTeI0gCIIgCIfn771TXw6G9kNeOC/lGkEQjgYivF82hqieHFrr/FrcGLTRQyy2B2/DLbzDfzKdO7UafuuG5p832Ba6C1trqsGgtc2nYOlrix5m01U4gXgo8Wb35Y+4pa9yaebLFJZFGw9twAQmZ/INg3lZrHi1FlmcfTjvFp6bRo0BNIGxa1rbyOYa7VowMNpGFzcQBGGk8YBAZzAmcCbncM45aF0wtmBM3iRtDIG2Qhtj51LbnPPDA/lEFEYbjAmt9W4pbEDpwFmas67eLgWNS1fbbN1njC2zDjRu1Ta0gcCADsIo5AwT2CGhy33h/sJ7Gt6X4deFHG7/4ThSWoIgCILwKsC49z+2z2bcCizaQOD6K8aYXJ/Ovq/DfXYwPvycS9JogiCb6wPmcS/2sP9QeOiwhP0h27/JOQu6/ot23nZhL8UYjQ7cCWEsmFx+YT3DjG2d/i6F5c1tGm207SsZ2+89pIfj30VjdADaoAPXpq5OYZ/VVe3g5hSEVwnD1Zvwkjm0+FBuuSttNEGgC84xw+YZF15fOAfZHVehYMrZTHOXHFpGhT+0Lp3QbdodU255M6WsCNfG/oophRWPGLQx4Fys8wHUDnbozv9Y2z3utALsL6e1+LrrPbffReS2n8lFVbdnFlh0Cz8Zz4pSbcuRDbK545jQedqtM47Bc1UPTBihXLmXpL0H2gSueZyAd+o+3IdyIn4IeRduWyaF0QqIAAqtA9t+KPvO8xRaG/tidKJca+PqapcMC++2cW9QQxa88O0SuoW7iPHGtXnBHO6wXPYe5Od05+6KCs8Prxkuzg99/bCEDsFhDwiCIAjCqxo7iG8ItR+ERpVQdOOEdCh87fs9COwXu+RuiH2PD93Ct394vGAb8nXYezaXt+u7YMVqEARO/IanuV6WS64w3zBXS0EFc+UsLFfYpxyOTc/2dw0oRZANCgYBQgorM3yf7Xvi+p7hSjvaWYeUsv02jC21cXUVhFcbIrxfCdzvSrg0kzHhcmChmHI/LFgXZPtV28jjQ36gQgqE8GGwUmiovRtA63DetB0NNcaQzWbJZrNuRDG/1jTuxy6X0eH0VaEoO9QGLhicBjK2bgrnpu3ctXP1VBiiGCKA55YyG5qZFbxRlBchMB6eHwHXrkYbMuksgbZ5WCFt3Nxqj8ClaQiDnYXLj1mhHdrMcxZ6hVuaTGHwMdjBFCtb7f+d8RzjuZnTxkcpPxfD3bj88WK2bp7zPPA8NBAo33oC2NZHYzB+gCbAKI0JI5l7BlTgRtnz7XXom3IkDnGDBEEQBOE1jzpE11ihvHB5Vvv69ZQbeM91X1x/wHXpjDEE2YB0Omv7JuYQ71tFwSol4TvduP7foQSuTSMUnKHHohW7zjqMwvf93NC5/dcNtOde+4X5HY5DHbeGiOE4vwDSmTTpdBoAL+K7o4X1CrdC8vuUV2jksffADlq4+mqNDvuPw5MRhFcJw39dhJcZpaylUykflCKdCUjEkwQBLrCZ+yE2uNHMMCK3/aFUQ36r7I9bfkc4ahn+EBZ8NsrNYw7nMlsUHkq7tPHIZLL87W/3cdttd5JMJnPpGqPtms+H5CWItXA9cDzSWegZyBK4cuQ2V638qCz2RYbvrs29dzBY168gMCxZupLtO/ahNXT3DvL4E0tobWvPtZUb67UvPuURoAhc0LOwrY1z4w4DnGUDK6IDY3IvMO0ik+OiyodlDYcTsgq0c/HP1cez+zIoMi7fwrsY3rHAVU/jYZTvBhdiaKIEyicwHkGgUPh2MMQfPiAhCIIgCMLLjQIy6Qz9fQPWc9H1ZZTyCAwkUimS6TTbd+7k9zfdTHNrG9lswD33PcDNN/8BlJtip43rm3nD+no2vYNzzXX+HDmVj9agA0NvX4L+/iT9fQmyQeD6RwpnbHfJh/2swjRcZyqXS2jUODzWO+9Q53ik0gF3/u0+7rjzHlKpNBjlDDccIs/C3k+I/azwctZtA3R0dvG7m25i7bp11kBiNFoHKG+okUgQXi34V1xx+RWFf4AAiWSKRDJFbU2lG3w6+OlOJlMkEimqq+054fWF/xdw7s6glI8xikcfe4Lrf/lL5s2dQ2VlpZ07nGN464X3xe3PHRjevoX3r/Caws3mo5QdUXTfyAZZ7r//EQ4caGfhwgVEIlbYKffj7S4KMxqaXjiCm6vDweUKRWtgrBt5OqtZtno9Dz+ymEi0iFEj64da2HMf7Hzx/E4759umafGUIhFPsmb1eqJRn1ENDfQOJFizZj1jxoympqbCXqd8Aq3oH0jw7HPPs2Txs6xcvY7d+5qpr2+gtKTYDpAYA3j09CW594HH2d/czJhRDRRFohhlR4ttbcL/K7LZgKbmVh557AmeW/E8q1ZvIJ1RNNTV4HnWsr6/tZ1HHn+S55atYvuOfZSXllFRWUaQzdLadoBHHlnMsmWrWL16PYkUjGioxfd8MlnD7Xc+zLPL1rN+/TbWrVvHzp27GDlqBCXFJQUvNUEQBEEQ/iHC7g04mWnf9FobNm7cxLeuvIpx48cxevTonBv11q3b+MY3rmT06NF0d/Vy//0PMnv2LOrq63ns0SfYvn0H55xzTt6Qq2z/yQ7QuwwLXchV3kvR5Dod9t/8K9/DGMWzzyzjc5/7Avfcez/33n8ff771Lyxd+iyjRjbSMKIOz7N5qTCNMFXX18nlnytL4b9hOVz53O5wil1BDxGjIJvR3P/AY3S0d3LqqScRiVhPRJf5sK3QEzPcZwcTUHbqnW0mQ1NTC3fe+Teqq6qYNWtmrrjGXSr9IOGVJJMNGByMU1ZWSiwaGSqPHNlswMBAnJLSEopj0eGH/87wlvAPY4zC86zLjQIymSzxwaSd31t4oiqMTJ13txninTTkghB3knG/fuHnQxCuGZ1zTwqtvr6Pcm5T4Y9Y6BZV+PM4FC9XxoMfo8JCWzzPWrz7E0naDnRQVlnO3v2tJJLWbVq5+UHatUNhlY0LJpLD1VWhKC8r5YK3nsfxJ8wnUhRBG0VgFIGyUcA95zVgjGbHjl3EBwdZsOAkFiw4iVQmYPEzK0mkAzAQ8TxSmQyr1m2htaOPgcGkm/teOPQ09CXZ3z/AunWbGD16FKeffirHzJnF6rWb2LazGeNF6I+nWPrMCkqKSzlj0WlUVVfzzPJ19PQNEo8n2Lh+AyPqa3jdmaczd+4cNmzcxqatezEYMhlD/+AAoxtHcMycqcyZO5OZM2dQWlKOPuSosyAIgiAILydKQX19PbFYjHVr11thiJ1/vGvnPjzPo7FxLAsXLuSHP7iOOXNmA2CUh0ah/IL+lHL9vSEZHLLb5Ha4d33Yx3Ou5p4H6SBDJBrhmu9+m5//4mdcdfW3GDl6DD/92S/Zs6/JGhNC923bmXKEFvDhGQ7/nr/GXu48F8M6qACTGyiw/cd83N9wDvahKheeNLQMyrPfDRBog0ExdeoUvnvNNbzlLW8BZa3hEM6lP0R5BeGfHLF4Hy3cj1X4I6HcnOJt23axeetWzjjzdCqrKunu6ecvf72Lm2/+M+s2bKSuto6a2mqCrOHZ51Zw/S9v4NHHnyKbCRg3bhxtbe3cdtud1NbWU1lZiVKKNWvW8uyzyxg3bjyRWIQgMGzeso1f/foGHnzocbSBxnGN+H4ErRWdXX389nc38dfb7qCjo5uOjj6UUpy64GRisSgakxPiQQDLli3n+ut/xRNPPEksVkxj41g8zw4iPPrIU/T3D7B33z5+fv31PPP0MkaMGMmIEXU5gWpHLu087+a2Hvbu2c+smbPYt7eZUaMbKC8vwWjF7j0t7G7qIJ40PLdsDZs37yIRBNTU1WIUxBMpVq/fjPGLWb9xBxs3baesspK1m7eRzmaprqqgP55i2849jJ84nrrqcjz34gpF+uRJ4xk1so76EbUoP8qunbuZOGEcZaVFaGPYtbeZjVt3M6JhDCZIM2XSaIpjRaBAuRdMaPEG8CM+DfV1TJk8kdq6WkY0jGBfUydBEDBu3Gj27m9n9579nLLgRMaPHU15eRnbduymoqKM0Q31NNTXM23qJGpqqhjRUMf+1g4y2QyTxo8hlcqweft2Zs+dwezZ02gc1UB9fR2+H7G1kj8zQRAEQTgKhCrVDrbHYlH27N3P9h07OPPMM/EiHplMhrvvvp/yijJOP+N0WlsPcN/9DzBy9CiKS0pYsWIVfX39vP71Z6N82L59B3/9y18ZPXo05RUVrF69jptv/gN33nEXrS0djB03jpLiErRW7Ni5h9///mbuuOMuWlraGNs4lpJS650XlmvP7r2sWPE8F174NmpqK6mrq2X0qFE89vgTTJo0kTFjRvPM0yu46Q+3cO+9DzEwkGD8uEYiMY/u7l7uvvteKitruPee+7nv/vuZNGkyjzz8GN09vYweMwqUorXlALfd/jcmTBhHrLgEYwy7du7nDzf/idv+egetrR2MGTOWaCzG8uWrUXgUF5Vw4w2/Y/FTS6mpraWhoQGARx55jE2bNjNx4kQ836Ozs4u77r6XispqKisr2bljL088sYTSslJuvvlmNm7czNjGcdxzz/3EYjFq6+qsQ7xn3fwp6GMLwiuBWLz/iRgymDhsMBPn2u30p3MTgoHBQX7169/x9DPLOe2MM4nFinn22WdJp7MsXvIsP/npL5k5azazZ8/hmWdXcKCji+7ePh555DE6DnSDsXOc9+1r5plnV5DKZEinNQ888BjfueZ7NDSMZubM2fzhD3/m3nseQmtNS1sHX/jiV1i7bgPHHX88u3fv55FHHrcBQpRdPCMcaInHk9zwm9/xox/+jMlTpjJh4kR++rOfc9NNfyKRyKC1ZunSZVzz3e/zl9tuY8aMWezZ08QPfvATEomUbRM3D9pO8THs399BWWkZk8ePQqkoza0HyLh5Twc6+3ly6UqeW76a4pIKvGgJTz29nOc3bCYdKOLpLNt27uOhx5aye18zseJStBdh684m2jq6XVsXNrsV3WCDg1dXllFeVmyjnBvIBFmUMkQ8H2MMPb39rF2/kSlTJxGJRNw8cA/jXLPsvG4bPTScsRT1I9TWVBH1lAsepzCY3FzvlpYOSkvKqa6sxFdQUV5KRUU5rW0dRKNRaquqiCqF78rtK+zyYkqhNWQzWZKJFF2dXXR195JMZVwglXw9BUEQBEE4SiiIFcU44cTj2bV7N03NzQAMDKTYuWsnxx47n5KSYlrb2nn8iSV09/QB4Hm2r2eMYfu2XVx77fepq2+gfkQDz69cx89+9ksqKmo46aQF3H33g/z+d39hcDDB/v3N/OC6n9A/EGfRokW0tLSyfsNGuzKKzi+xZbCefZmsBrc6WTKZJeJFKSku5uGHH+fPf/4LjWPHMXnKNH5/0y3cdff96MBO03vs8cV8//s/YuXKVYwe1QhG8cwzy9myZSs6sH3Bnp4BHn30KeLxJAArlj/Pl774NdrbOjjllNPYvXsfa9aud/PLFcuXr+Avf7mdiRMm09bWyfe/9yO6u3sxBlY9v5bly1eRyQQYrejr62fJ4mfpONAFwIGOLm6//S5+9KOf0N5+gFGjRpFIJli8+Gl272pyxgbPRZfPG0AE4dWECO9XimHTeAASiSStrU0sOOU4znvT6/joxz/Ae977b+D5tDQfoKamjje+8Rze9e6L+NJX/pdRY0aijSEbWJcf+9ujyARBbm5MV0839z34EBe89QLed9l7eNd7LuLdl/wbTyx+gq7ePu65917S6RRf/PIXuPhdb+fT//OfnP2G1+Vd3cOyGti6ZSdPPbWE9196Ge+/9L1c+oFLuewDH+D+Bx9m2/btGANBNmDkqFF89rOf5d///d28/7L309beQWtrm3MFypPMGvY07WPU6AbKyooYPWYUTS3tpJIpu4SZMng+vOGc01m0cDbnvd5aiffs3EtyMIkPBOksRVGPC99yNmecfix1VaUonXVzlob/FtshBBNo8MLlJzRGG+KJFLt272XUiBGUl5eQ0ZpVa7cQLSpm5vSxRDyF1jaSec6tHhfVtFDce8ouN4bGMx6tTe3093UxYdxofF8xMBinqKiYWMTHA6KRCMXFsVzkT+vxZec0NTcfoKurk4njx+IrMFqjtGLHtr088/Tz/O1vD/Lsc2uIJ1IHu6oJgiAIgnBUMEYxdepUKisr2bBhE1rD3r37SKdSzJgxDc93btLaDvobrGFE4dPa2sGNv/s906ZN4/zz30gkopgz7xi+94Nr+Y+PfoCL3vk2/u0972L9xg109/TQ3dNLIpHg3PPO5U3nn8fnPvdpFp2x0PVDLMoWinQmYN26jSxfsYonnljMH//wZ+pqa5k0cTznnPM6rvneVbzv/e/mve+7mDPOXMTzz68mnc4SBIq+vjg1tfVceeXXee/73kNpaTFBULhsmlvq1HU3kskUt976V2bOnMZnPvtJLnz7+Xzpy5/jda87nUjEJ8hmGTGijs9/4dO8/9J387GPf5ievgH27m+yxgrPQwd2mmDYWdOGXAwkow0dB7o4/fRFfO3yr3HuG8/DaGuEsGWw9Rcrt/BqRoT3USM084a2UWcVV3autfKgvLyM2bPncPfd9/KLn/2avXuaUUYR8TxmzZpCb08X3/7291jy1LOkUmlrNVfhPGzlAmfgBKH9gezs7Ka1tZU9e/Zw2213cMft97Bxw2ZaWto4cKCT7dt2cNxxJzBm9Chw85pLYrECNandMhaa1tZWotEYx8yanjs8d+48POWxf38zxhiUUowbO47y8jK01tTX1QMeg4ODLrCZTTILdPQM0DswSDqt2bOnHc+P0NHZQ99AMif2i2MRyooj+NiXSuOYsfT1DJJKJkErPAXjxo4mGlUoApTRKBNGBg0bOd/muFFnMHa/8kgHmi2bd9Lb2cecOTPxfY/du5tobupg/tx5lJeVogx4RGwgEYUT4XbkGvLvP7u0hQf49PT2sXLlakaPrGfc2IZci4briYffbXnC9GxJe/sGWbN6M3U1NUwcNwqPgPKKKOeeczrnnn0a551zJsceN5/tO/bR1Nw6pH6CIAiCIBwNbHAyz4Pq6ipmz57N6tWrSSRTrF6zltFjxtDQMPKga4wB3/dJpTPcdPOf2LNnH29961soLi4CFH7EI5lMc+ff7uEb3/wWf739Dvr7B0in04wa1UBDQwM//tHPue22u+nq7s/10QpXm1EKBuO9/OrX1/P9667jj7f8ibGNDXz0Ix9gRH09RUXFdHb288c//JUrvn4VTzzxFJ2d3Wij3fJohpMXnEisOOb6pwrP83KWeoBAB7l+Z093H01NbSxceCqVVRWuPHapNSvWfcY2jqeivAwDVNfUEI3G6O3tDUtse8SuA5VfhzsvpMvKypg/fy6+b70ID9bYhdHSBeHVhwjvo4nVx4cUScZAcVER//6ei/nGFV+nraWdz3/ui/zqlzeQzWaYM/cYrrvuGmZMm8ovr7+Bz37mS+zd1+KstkFOyueWV3C5KE+RSmfp6enjwIFOmptb0MZw7rnnUhSLoQNNcZF1t/ac1VRh518bg03PBcXIZNMopYhEfXfM/sh6nmeXHjMm94NpcIMCniIIMgTOjVvrjLPOGrZs20YqGWfLtq08++xydu7YQnxggH37D6A9O/JpAoOnbCAQ31N4XgTl+W5JNiv07W+urbHRmgCNMp5bIC38ade2Hq69tdEYzyOjYevOZtZt2Mhxx86loaGOeDzB9u3bSSSTPPXUUv7617vZtm0brc1NPPrwY/T2D4IXSucweJ210NvcFAPxJE8/uwodZFlw4rEURyMoA+XlpaTSKeuVAGTTWeL9CYpiERtqRSn6kxmWLlvHYCLBKQuOpSjm4ylDUVQxYdxoaitLKS2OMGHCWMrKK2hr7xzyohIEQRAE4Whg+0NaGyIRn1MXnsqu3bvZtXsva9as4fTTF1JWVpLrF4SvZuX6J8uXr2DTpi34vs+a1evdMlmKjRu28+lPfY5dO3dz0dvfwcXvvJiioiKMUYwYUcvnv/BZPvDBy7j//of4xCc/zaOPPpErizE2UK4BKioquPLKr/OTn/6A7197FR/+yPuZOnU8fkTx4P0PccVXv8lgPMH7338p5557LpFYkatXgDEBsVjUGYQK6xrkBG/Ej6C1dpZwjTEQi9nBg7B9lIuB4yqe658awPMVmWwaa8DQLoAaNnq7UnhKYYxds1xrg+fZdcg9Zft8YTbG2LXHldK58wXh1YgI7/8TnAu0geKiGLOPmcI3v/ElLrv033niiSfo7urF9zzqa2v40Affz7e+dTnJVILnnnvORgf3FOmsdVXWGrq7u8EJ0pLSYmprqjnl1JP5+Mc/zH9/4sN8+pMf5QOXvpeG+jpqqirZt2c3Jpu1Xs4YdDaF8tzIorEiWSmoq6sllU7SdqDTzq0x0N7eTiqdZsSIupybdc7tWdkfxrwl3kbe1MbQ35egeX8zpy2Yz6X/fhGX/Ptbec973sy06RPYtWcXaQNEfLxoERlt3a+1UbS0NlNaWkRRSbF7rynQvl3P2ngoTxGJgCGbG0CwP/v5lwDKRsvMGtizv4Xnlq/imGOOYcb0Cfi+R1FxlOOPn8c5Z5/KaQtP4OQFxzN2bAPV1WXMmzuTktIiMlqTzhq0cRFCCYAsGsPAYIpnl2+gbyDJwtNPpbq6wpUFRo9qIJ6I09vXD256QTyeYMSIWsAwkEzz3MrNHOju4bRFJ1FfV+XeM1Hig1m0C0GvMGSzWdKZJCXFpTa6qGtlQRAEQRCOHp6bEjZ58mRiRUUsXvwUfb09zJ07J9dnwglE7Xy1jTGMHjWayy//Mu977yXcd//97N69j0wmza1/+TPzj53L//t/H2Xe3JlUVpaB0nieHdCvqCjlrLMW8v3vf4fjjjuW++67364D7gbsbQbgR6JUVlZTV1NLRXkVRdEiPN8jmUxwx99u5+zXL+KDH7yEqdPGU1Ja7K6zHSNjDEGQBXKz6TCeIpu1+4yBzq4uK5iVoqy8hIrKEnbv3pm7LhwIsPaSNChrdLGJOodA1xWLRCKk02kCbY1Fg4ODDAwM5AKl+T522p5nl3e11bRp5fuVoat5QT9PEF5FiPA+qoS/ZGC0wdMGpQM8t7Z3c0sbN9x4Exs2bSMTaJKpLCVl5WQDzV133c999z9MMp3l/7f3n1+SXHdi5/29NyJ9ee+rvQMaQMMDBEDQjGY4wxkOx+iMuNJIZx/tOauVzp59dHal58Weo3mh3b9iNdozGsPROHJoQAvCEL4b7U1Vd1eX7fIuK31m3Pu8uBFZ2dXVAEigABL8fcBgp4mMuBEZGXV/15bLNawJaG9poa2llaZ0hldffpmFhWV+9KOf8NJLr+CFI273dHfx6CMP8vd/9w9cvjxOoRRw+eoNxsZvEE8mOfXIw1y6cpkfvvgyK6tZXnzpp7z+xlsNafZQxk0vdvjwAUZGBvnLv/hzpiZnuHVrmv/23/6Co0cPc/z4sfBGWMPaAGUtntJ42LAk1W3L4oGC5dUVysUiI4N9KG2xGhLxGP09nWQ3s2RzBYw1ZHNbXLw6wdJ6iSvjk0xN3mJ0ZIB0OlWv6Q57t2OUBqWxQQ2FdnXgxl3UtWIVrJsuLdCKGorJqdu88vIbpNMtNDW3MTe3xK2pWbL5Al3dnYyO9rF/tJ8Dw4M0p2I0pxL09failOb6jUle+OGrTN1eCWcUd83Li8UqZ969wvUb0/T2jVAoKm5NLjEzt0KxUqG3tw3f97l6bYKNrRJXxydAWfr6esgVK7xz9jJjYzcY6B+kVAmYmJ5nam6Vlc0ib5y+wE/fOs/Cco6VjQrnzl8BaxgYcCOECiGEEGIvuOm/ok5iNgxOW1oyHNi/n2984xt0drXT09OJUm7+FKzF0wZf+2il0Mpy6OAw+/f189STj3Lg4AH+6q//hq2tMp6OsbGxSaFQZnJyln/4xj9QLBYw1nL63fP8xV/+dxYWVsEaKqUybW1tYXbS5SsVoLRF2RqedvlMrQwWV9mBci0VN7ObFAtlzp29wIs//jGmVnXHEh6lpz03eKyxxGMxujvbOHPmXaanbvPumfN88xvfpFYrA4bWlmae/cxneOGF7/PqK2+wupLl5Zde48033iGoBfhucJrtM6gs1gT1vQ0ODnDzxjiXLl1m8tYMf/X1v2F5dZnABqDCrnsYjDFo7WGtdgG9rbpKHusqHEzYRU/CbvHLSKYT+4jccQZVeIdGhU2kXW20MbCwsMDiwjxPPPEYTS1NXLx0hb/8y7/iG9/4R27dmuSffe2fcfzEETY3c3zjm9/k61//a15++WVOPXiS3/3dL9PS3EpLSzPf/va3+eEPf0ytGvC555+nWq1w6tSDNGXSHDp0kOXlFb7+13/DP37rW7z99tuMjI5y8OA+hoeGAMXf/Pe/5YXvfZ9cLs8DJ0/S1trMgw88QDzm+nsrpUim0pw4cZzz58/z11//7/zkJz+hq7ubf/fv/g3dXe2YwHDx0iU629t54IH78LRPLpfj7Nl3efbZZ+ju6goHxbBMT92mUqly//3HiPkeYNHhiOKL80s0ZZqoVmusrW1SqwVcunSVmekZjh07yCMP3U8y7lOpVFlYWKC7u43uri4X4geWuek5urva6O3rAgxLC0tsbmxw8OAICg+rLJVqlavXxlleWSOoBszPzzM7O83tuVlivkdvTzeeUijrmqsvLS6irGF0dBjf91lcXufsxTGSyQTDQ33ocN+ra2tcujxGuVojm80yMzPD7MwcK2vLdHe309rSQntbCzduTHL1yjW28ls8+viDDPR1s7GR5dKVa1QrFXLZTWZmZ5iammZlbZXe3k66uru5cmWMa2M3uH59gmqlwpOPnWJwsDvsKrDbL1MIIYQQH06Uq1Ou41o4a4lSmlrNcPHiBX77y7/J8eNHIRxUbWN9nZs3b/LYY4/R2trM9evjBEGFZ5/5DPF4jOHhYb73vR8wum+UBx96gO999wX+8Zv/yIULF3ju2WfQCh559CHSqSZe/MlP+Ouv/3e+9e3vEPM9/viP/zldXZ1uPB/cXNqLiwtM3prgc5/7LOlUEoVCKYNSGt/3yGRa+OY/fotvf/sFVlfWeOShh/B9xWeefoJKpcK58xc49dAphob6QUEs5tPR3saZM2f5x3/8Drdvz/O5z32WQjHPk08+SVMmw8GD+6hWA/7u7/6OF154gYmJSR44+QD9/b1cH79BPB7j4YdP4fk+xVKJM++e5uFTpxgaGqSnp5fLV67wwgvf4/Tp0zz33LOkMylO3H+Cnu4uVlZWuT4+xuc+/3nS6QxKKQqFPFevXOHoscPs2zfqKrJwY+fohnm9hfg4fBTTiSlrg7AThfu0BdbWs6ytb3Jw/2AYeN9ZMW6BjY0sa2ub7Ns3iOuyoV0TGKxUpO9gw+kkcLdtTDQeV9gcp1qpUa5USSYTxGKeK620rllTsVgkFosRi3nQ0NymXK5RrdZIJOL4vhsIw5UM4r4HBcVilVqtQjKZxA+DXfc9GyqVgCAwpFJx931Z1yxcKVVvVhS2csZaS7FYxvM84vFY2C/Hva719vrRsRKVO4SCwKL8cAoI9/ciHHgtADRB4Epmz5y9yvlLV/na//BVsBYfiMUV+s4y3rAQw4Bydd93XL1WEQQBQWCJxTzX1D18zyrtmoqHq6owncri/lhZ6ltS9Xp191KuWOHl195h3/AAx4/uwyNAuUZRGDSBij7lph3TbqIPsAqDh7FQKZeJxX08L/yiwpFPCUt13ffnvjtj3TFbq6iUa1gDyVTMDSiHm9LM07F6eoUQQgjx0TNhc2pjwPPcjCfub3Y4kozV9fxQY15MawgClz9SSmGte2ytG9isWg2oVqskEnE8z+WDHBddlsoVrLXh+65puG7IXLn8QpijsoT5b4NSvstHAuVqQLlSozmT2C6sj/ajIDDuOFymyLqChaqlVKqSiPvEYh4WNyCw+5zbX7Vao1KpkUomUdHELyGLubPCzrq8jNIQ1AzlcgXP90gkfJcfDiunXJ4nTEpDGOFqwMNcXpSXDncogbf4uFigUCyzuLhCT3cXmXTirsDbhhXT8wsrdHR10NaUunMFiZD3nhuMYvvGSzQIRTTytjXEfE1TUzJspuMKLzQGT1syqTiJmK736LXGYI0hFvPJpJPEPO1uSuFNK7qBWmtJJmO0NKWJ+9oNVIFBEYC1JOIe6VTcpckGYeGJqQ+KBm7+hqhbTVNTimQyXH/H8bk/JK5fk/tjFN0go+Dc9b3WyqIt9UXhmt1HQaoGYtqibUA6oUnEXdN1ZQO0CvtNWQPGhgFoDUUNjQnXMShlXL/tuFe/7WuCKDzGw0BgXP925fq4R591Pxk3eEj4l8L1ra5WuHzxArZWYXiwx3UZCAN4jcFTBmWraGrhvtyiMK4JPgYfQyYZI+ap+vseAdpaPOWOXRkXxitbw7MBnnLbTiU8UknfTZsWfoc7f+xCCCGE+BDCoO9evHD07ii/ZIwJG6O7fyEcEMyCqr8fFuxj3ACxWJdXAWIxRToVD4Npg1YuD+AeQzIZJ5VKbvdvtlHNu1tcPsDljXRYeB8FsW51QyLu09KUrAfsrpm2gYbCgWiJjsP3NU2ZRFhhE3IZunpeNMqDus9F4XiYPusGAcaa+jmNBvP1tCaTTpJIxMLXw/1al1cmHBsoeuyeu4INwsqS9/2ihPgFJoH3HqsH3I03iujmaMIbmVLYIHDBF6CiPjL1wSXczcYFlm5b7rErofT09vbdjTMMLOvFp2FPpahUUbmSUaVAGYtWOkyam6LMGFMfXdKVsLopJVwBgnF9beo3/XD7DcdpTDTiZOON0QXN0UiVLg2upt4LCw3SCY9MyiemXUAb1XRrtOsj7xpSAa6ZNeEFHP3Bs8ZiAlNfz4YBcvQpZS3aWmLateGIPquUK8xwfxy3CxvcvxbPUxw5fIjnn3uSTCod7lujjHIDvBlLDI0Xbt+LDjc8pzbsbmBtWLwcNuV3ZyAcAyBwJcQqrOkOd+2OI/zjpLU7Mnfc9ZMvhBBCiI/KjrhO1fMcLv8SVTho7fJpUX7I/d3e/nAUUNdfiwLxcCcqzCO6ihFXsULUWq6eb3Mt3KJ8VrRtF4hGs9GEWwxrlqP3XL7M5QktYSVQ1AbQRgUBLm/m/nUjsUeP3WbDfFuUFhutHwbXbFf4EFWwqO3z4Jq+u+cqHC1d4Soa3Llwx+5q293+bEOhghP969IeveeCcyF+uUjgvcds2ESp4ZX6DQoUWvkodNhsOAy9rXvNDdjhNYSb7ga3fdNp3LbFGDfKJC60c+GZciGmtdo1XzcKjApHBVeuPU/9Ru0+o7UfDmwR3TgtXjj9mMJig1q91LV+ww1LYKP13Q05vLErGx6D+yMQ1fYr66GVD9YF/Pfff5g/+sPfCWuFwxt1lCZ8dyxhII0NRzW30XyT7tx5XlgyagkfE67roa0XTqQelbKG+wibX0XnmGhU0qiABEVHRytN6QSuANidQ6wfDiDnvieN59JpYygVB3x3frXngm4UyvdRysfih0ULLo3aC9tqKQ9r3TaNde9rT2OV2m4XoGJu0LrtFAshhBBij6mw5rsxz+AC3Cgf1BgYBvUpWAGU9l0lsCGcoUWFeZoob7OdX4vyTFiXw3CZme1AszHvF4lGByesONDKVThEuQdsgI3yPGGwHokC+Oj1+mjkyh1pYw10dKw6nAvcfd79W5+JpWEMGkuA0mFTdrYneo3yh6jG2vSdixNVXmwXLii0bqiRF+KXhATee0xr7WoqG25ySimU1m4+w+jufcddfOdj1RBER2+6bbrFbdPzfEChlAfK9afZ3qm7KWvthUFe9FoYG4Z/GBopFf3BuDORnueC4DvT426C0etae/XnhHXXKurTrKI/HmHwqEBrVzK6/YfFnbftxIR7ic4L7ni296fq+9I66nDkAvrtP5HueOolruHxg0Jplxal3BRl2mv4A6b1dhNvXI1/46FH9dAuLdsJVMqlIzrH299HWPCAG5UUVxbQICzZrheyhNwHwgdCCCGE2DPhH+Z6MFrPE0Xuzgdtr3vne+4x2xkP5aY5DbMqYT7BPXd5mO0/9VEesnGbLuiM8jR35jvc8zvzCVHaG6flCt+55xLljxrX2853bu8j2r/b/nZeiih/FqbZ5U3DzdXTERYxaK++/p3ndNtu+Wkhftk03kHEHrvjhqUIR/W6e4lKBreX6P4T3fiim3Djze/O9xq3H8Z/d2+v/pp73LjNxm1HN8Kdy873GtNwZ5oajtmdiPrD8Gn9X6Vcf57tktXtm3pjuq1S9YVogJNwHy64D5cdn3NBc3getnfqGnUp7SrEw9fuWMK0ROfLKrDRryc6r2FA7c5lw/7rtktw65sN+zO5kt+whUBYHV9vphaWMN9ROnzXtoUQQgixF7bzRNuP3bIzb3T3e1EGRKntQvjG/MT2Ej13+RnVEOgrpcPOaeFyRz4sXBqyHXemY7d071w0SkWVJ2FaG5bt4L++hzueb6cz2lbDsTcetFIoHX6u/vrd+cfdzmdE3VUAIsQvD7lyPzE7m9N8kOVnsfOzH2TZayqs5dZ3Xnoq+r/G1xvSVP+jFPYvrwe6jes1LPXgtPGPmq33Ta8HyNCwz8ZlJ5e27Z7h26XR9q4gOEqbvftvKrhmXzuTaN1I6PdOfti/KlqiXQghhBDio3HXH+ydK3xYu+RX3ndp8H7puus9tUv+ZrcPf5ANf5DtCCHez25RhvhY/CyR08+ybuRn+czPsu7PKxxgxBJWFUc37cbm5e914zdAgA2X906zW9ctjdvnffbxHqwG6zVUczdq/KP1ftve+Qds52d3LK4K/u5FfrpCCCHEp9R75XG2vUeY/iHZHZUUQoiPguTePzI/420vHOTrZ1ru3MB7vbnL9ncGbzvf27mB97Nz/++97Awp79zOnYGxol5p3LDsCGjD15UNRxa3KlzC1+pbikTBamPAGw3msZvGGmZXy4xll8E/uCtY3v4k4TAi0X/be9xe7qrP3mW5c287z6AQQgghPqw7/9L+bHbmDe7+y33Xy++5fNB82Z0fjHIa28tOd+dKdhe9/n7r3GvZ5aVwwF4IBxi+6/0Puu1dPyDELwUJvD8yP+tNYGcg+H7LbsHWe918dm7/zuBw9/d+Fjtvfu+3vJed7zemL0qXe80Nw9E4sRjhetEo3zvPW8N26rXF0eL2u/PMuOW90t9Yo77zvVB9Qzvbjtfbj++67Cwf2flZqyw2HJBNCCGEED+re4Wnu/y9v3ulhrd2C3R3Lo125kvea4kyBu+ncV+N3em2a6vvTMnO9DWmcbfXotd32rmNncs9NAbfd76x4zX3/L3P8c6Xdm5DiF88eucL4uf1QW+SH6XGqO3jtkvU+L7LvXzQy1A3BNjvtT0a/nC9l/d6f0faG3bZOEr6e2+Du7fzc/kotiGEEEL8Kgnnr74jJjNuWi1MGJ66RwaDNQpjolm03bza1hgwtfBzYUWtexNrAwzhtozBWIsxYKzG2O0Wa8a6ObTdBgzgtmdtFB5HG3WPA2W26wgAY91io7TaKF22oVVcFGg3dK8LD8SE23A7dFNymSjAt7r+OWtqWFPFmiCc9sxNbWZMeN5wx+fSGrhjiXYb7ZpwarHoXIcvWizGWAzKHY/bqDuWaP/KHZsxBsL93rFpq8M0udnILQ2tN40BU8XaAGuNO1/h1G32PepIhPi4fdCIR7yvnzEo2hlLfZDlPTfwPm9/kOVnsvPDH2BRDQFsfYlKdz/A5u/Y1i7v37HuLu56764XGjTuq3F/7sH26KJ3f/7OpOz238513mvZ/T8hhBBCvIcoKNvJWqyFmrHUTBizRYu1GGOwxoZ/hS1WGWxQDQNot1EX6LptubmrG1vUuZ3a8P0oAI0+aY2bT9vUA28IjGV9I8fa5lb9cy6ADAPXemweHZTbh+sG5wJQ935j/iAM/A0EYTrdoghc3E5gXKGACapuP+EmGrvLwXYQCy5dNvyci7HDYBp3/rbTb8PAGnc+w8AaXKu9IDAolFsvWgdbfy06Trc9hQkDaBsOGWSMIagPH2TD0+C2FdxxnlyteTTHuBCfpF0iHiE+TtEfql8mjaHxR2tn4C2EEEKIn8fuBfsWRaUccP36HO++e40z745x5sw4Z89fZuLWBNVaxU3fiZvyyloFnkbhAnbCIV5Bo2wMjR+ONRNOT22NG6GlHsQDuFpatKsJx4LSbh1roViq8vqbZ3j5lbdczW4U4IbBbX02rTCQt9bVdjeO2aPwUNZrGAjWBc/ZfJEz58c4c+4KZ89fZez6BPOLy5RrNaxWrkhAa6zSGOVTwyPQKhxaxwWtxXKFQqlMNbBuKldwU7BqjVHKLYC1rhueVS5gtrgWBEprjLH4SqEw9SnKrI3OsQfKd2nHAjWU2m6dAIRTqkbHqlyFvRe2DtBuStiqgWy+RBAEGGVABeC5NCmZDkb8Arj7jiSEEEIIIcSnjgv0tvJFzpw9x62pSSrVCuVKkUKlSLlaBeOi3ABDoAiDSveatoTNyMOAEuuCzfp0peHMKyrcFxqUm0bV1QgrlPJBgzHb9bKBhprVBMRcMo1qaFlnGwriwwFlw+y7NS7ID0sEtveJcsGvMiyvrfPG22+zuLpKtpjn/Plr/PBHr/HuhatUgwCNhzY+yuiwqMKibXjE4aYnpue5cOU6gQ3CZu8q3C8oa9DhK1r5WBNVHXj1VFsbBdpR1bnbvsJVyUcFC1a51gbKemBcq0LXwdDVlNughlJhcE8NReAC9HB/+XyZM+9eZmUtG57b6Hup702IT5QE3kIIIYQQ4lPGhAHxdk2nDZuDKwWBNYzsG+TRx0/y+BMP8thjj3DsyBES8TjGKsq1gK1Sma1SlXzFYJTGKlfDXK3WqFZq27W5ForlCtVaAHiUqgGlWkDVWPLFMvlimVo1CPtLu5rwAEWhXCFXKpMv16gphVJhtly54L5UqZEvlsjmS9QCEwb8mnLNUK7WqBqzXRPtjnD72MMBYA0KPx7n2ImjPPHkI/z6l57n0JFDnD1/mZuT89iwP3otMBRLFfLFMsVSNeyHrSiUaswtrLO4skmpVKZScccYGE2xWKZUKFMoVqgGAbUAlPKwVrm0lavkCiVK1SrlqqFaNaA8ggDypTIBrsY6MIZytUqlGoDW7lyjKVegUKxSKJapVGtuZlflWhyUy4atQplisUKlHGACSzZbYHZmlWy2TLFcITCA9VzRRb3ZgBCfHGVt0DDMsvvJrq1nWVvf5OD+wbB7653xuQU2NrKsrW2yb98gWhPG8FGvEInnhRBCCCHEJyUIewh7EE4zGoWli+tbfPsHP+H40X08+tADYR0x6LBP9fzSGm+evszyyhYA/f2dPHzqOH1drZQKZV7+6RvE4z6f+9yzKAPr2Rzf+/4PePrpJxgc7Oenb5yjUKyQjMeZvjVDsVxm/74Bfu0LTxL3oBwo3r0wxqVLY4Am3dRCvpinrSXF7335C2hrmVlY4fV3zpHL5jEGjt93iAfvO0wqleCtty+yvpHH9xQz0xM89NAJHjl5H74X1YaHg5WhGJtc4sWXf8pvffE5hgd7MdaSK1T4/o/fwPMUv/vrz1IsFnnnzBi3ZuaomQClLU8++hDHDo/yzulLnDl/nUqpSkdLmoMHB3nokQe4cXOKyxevU6mVqdkKhw7v5/GHHyCTilEqVbl4eZwLF8fQKkZLWys1U6Gns4OnP/Moc3OzvP7aOzz3zJOMDPVTqdb46evvEgTwa194HAMsr67xzumrLCysoICRkV4ee/gkbS1pZuZWeP3t8+QKRXwL+w8McPDAfl5++TQLi5ukkyk6WjTPPfswQ4N9GBPgeds18EL8rCxQKJZZXFyhp7uLTDpxV1mOBUqlMvMLK3R0ddDWlLpzBYmQhRBCCCHEp47VdzR3BhddW6KW2T6ViqJYCCgUAgqFKsZqtvIl3nj7LNWgyueef5znn3+MUrnE62+9S6FYwgCViqVSC2uZNdQMlKqBG7UbKJTLTExN4sc1n/3ck9x38giT07MsL2cxVjM5fZt3zpxj//4hvvCFpzlyaAhMgApHW19c2eDlV9+iu6uLL37hGT7z7GPcuHGTW7dmMQYqVcPNiUmssTz/7NMcOLAf5fnuGA2u77fRKAPaemA8NzSrBU9ZmlIJOtpbyeXzlMoVquUamVSMZz/zML/xT56jv6eLSxeukN3MMTTUS+9ANwPDPTz11EMcO3IAXytq5SKPP3KC3/jiszx43/1M3Jzi9vwy1QDGr09z/uxF7j9+lH/yxc9w6OAoG5tb1KLRzA1UKrWwYbxrqm6pUQ4qGCCXL/L6m6eBgC9+4Wk+/7mnWF/b4MqVG5TLARcvT+J7cT7/3JM8/9zjDPZ00pSKc/TICK0tKR544DBPPX2KjrYWwKI9r6HdgxCfHAm8hRBCCCHEp0zUmlPVRxYnqvVWHuBz8eI1/u7vvs0//P23+MdvfZf55RWmZmZZXt3k4Yce5MBoDwdHejh5/DArqxssrGYJlMIoz42crVwQr5Qb0Czqau1pRUdnG/fff5iRkV4OHRzGjydZXc9TqVkuXb5BX/8gjz36EMMD3Rw7NEpPVydgqRnLzZlFCpUapx48SldHKyODPfT2dLO8tEhQq1KrVWltaeHUQ8c5uH+EtuZm1988HOU7PEhX+GAV2iiUVShr0dbiYYjFPMrlMpVymfaOFh5+5AQjwz10tWcYHhokny9QyOfp7e2itS1DOuOzb38fPT2tpJMepx46waEDg3R2NLNvpB+sz+ZGkXKpyrWxSYaGBnjo/iMM93dx7Mh+2ttaMCZA1adk0yir0MagrcGaKsozKAuL88usrWzy4Mn76Otpo6+njf37DrOyvEalXHZ9zU2VlkycoYEuDh0Ypb0lw+BAF8kkDA51MjLaSzoTd7X/gTs3QnzSJPAWQgghhBCfLo3NQO8aWysgMFVOPnCC3/u93+R3f/dL/Nbv/Aad3R3kiwWU0vR0deJZ8FG0NqeIxTzWN9awQKAsSmm0BU9FU2EpfBV2zjSKpB8j4Wl8LMlYDOV55CsVSjVLsRTQ0tRCOhkjhsWzuMHNlEdgLVulEoVKwAvfe5PvfOcVvvud11iYW8IaQxAYfN8jloiRSMTCOcUCTDSsunZzbilAKYXWisC62mUXkbu5s4NqQDKRIpZIUKhUuXR9hm/94DW++cJrvHtxnFLgUQmn4FKA57m+8aiAsq0xtbDACz95i2+88DI/fv0dNktlahhq1lAsl+jo6iSeCEcpD8+91p6rkLcaY2Ph0Gl+2B0g7kaZs7CVK1CsGl59/V2++Z1X+eZ3f8rV8RsEQQ2s4ZGHj6Bilr/51o948adnmV5YoRAYrIaarWG1Gy3egpvIOxoRXYhPmATeQgghhBDiUyaq5TZh+/KwnXnI9xUxPyCT0TQ3eaRTMTyt8ZWH73lUatUwSDUEJsCYGn5Dk2U30VY4j7TaHikpaj4NFm2jjLYbTd1Y0MqG811bN/Ybxg38pd2Y4oQ15smEz4MPHOKhB47w4MlDPPXkKR64/xjpmI+tBWg3gRjago8LWN3kWzUXx4ajhxtbdaOoKzBoAuuzlSuxsrxCcyZDIh7n+o0Zzp+/zMF9I3zx85/hs898Bs+Pu/7i1k17ppUKa/kVKyurvPb6G7S2pHnu2Sf4J198luZMkxvZPIyzA2MIwgIATTi2manhYfFU2OfenSYsGvDR1nehuFLEtc+JIwd4+OQhHj55hCceO8ETj91PcyZBb08Hv/Frz/H8s49TyhV55Sevs76WdWnFurKI+nn37/ruhfikSOAthBBCCCE+XWw4z7Xr3QxQnwILC4GpuXgXiwr7GWsLPZ3dVCoVZmbnqFqoGMP88hpg6e3qIq41cd+nVKpSDQw1E3B7YZ5y4EY5d0s0+XZjGlyFdML36WxvYXV1hfWtHFWrKNVqlGpVAgNxT9Hd3kxQLtHUlObQwSEOHBxk/74hujs60MrD027AOABtFLWaJZstUa4G0VG6XaPcTj1N2RjKxpAvV7g8dpOVtRVOHDsIxjA7O08mleHE0X20N8UoFvLhnNxhgYK15HIFgsBircfc7CK1quGBEyfo6WhGmcCVQJiAuKdpa21lfn6JYrmGMVAuV6mWq/hhP/O472FMQKlSIsCwkcuxvrnlRp23ls6ODmIa4hoO7Bvi0IFB9o0MMNDfjacVtXKVmOdxaP8Qjz58HI0it5kDpQhqAflC2SXHhJOxKTD1KdeE+OR4f/In/+lP3M9quw1GsVSmWCrT0d4Sjmp+d/uMUqlMsVimrc2tE32+8f+FEEIIIYT4+IV527B2lYZgOF+sMHFrlu72dob6+twAZMoNxdbS1EwlMJy9OMbmVo3ZuQ0uXxvn/pNHOTwyQMzzKRSqjI1PsZWvMDk5y8ztFQIDo6MDtLQ0cWtqjnK5yuEDIyTiPoVSmWvjNxno62Cot4tUU4pLV8dYXFwhV6hx9uI4t5eWaWmKc/+Rg7Q0NVMoB5w9d5VaucbKRp6Ll6+STidpamni1sw8W4UShw4Mk0x4XB2/zj986wWKpRr7R4dRSrupyZRicT3LlbGb5HJF5mZXeef0JRaXVzl16iTHj4zgex7ZfIlb03NgLNMzt7k6fo1yrcLhA0O0tTSTzxe5eWMOaxKUSlUSmRZuTS1QyJfJbhU4/e4lsltZhge7GBnoxffjXLs+yfxylmyuwrvnr7G0skZnRzv79w3hxX2u35phbuE2hVKJi+M3WdvYoK29iUMHB8m0pqkFlrPnr5HNVsgVyly8cg1MQFM6wze/+zLTc8tUgyo3bsxTrhQ5ft9hYvEYs3PLrKysE9QMMU+TTiVRyqK0m2tcYhTx86rWAvL5AplMmnjM37X7Qq0WkMsVSKVTJOOxnW9L4C2EEEIIIT6l6s3A3QOLQitFOhWnv7uTlqa0ezfMuiqt6OnpIpWKUyuX8bTl2JF9HD00SjLm4Xua1uYM6XQSG1RoaUry4P3Hae/I0N/TSTIeJ+Zrerra6epoxdPa7S+doL+ng5bmNE2ZFO1tbSgMtlZlcLCXo4dHGOhup7u9jZiv6e3uwvcUlWKeSqlET1cbfd1dxONxPE/R1d5CT2cbvucTi/nk8wUCYzh4YB+6ISLwPE1TKk5Hc4Z0wmOov4cHTx7n0P4h4p5LW0trCzFPUy3mSSU87jtxlL7uDvq6O8ikkjRnUqQSCSqlAqmkz/BgLy3NTVTLRTBVDh8a5cC+QXo622huStPW0kRXZzsmqBFUywwM9LG1lSWTirN/3xDxuEdneysxbcHUOLBvhCOH9tHV3kxnWzMa6O7qIpNKUqtUqJSKtLamGejtprm5ifb2VkytQm5ri+Z0kgfuP0pPdzvxeJy21maUqWJqFdpbW2hqSrkm6PV4RmIU8fP5KAJvmcdbCCGEEEJ8ekWtjHfp6hvlna11NaJR323CTDSA7/vhO6DDnK6xbqAzrRWedrXLNmzOrBpy5Cpqfm6te72hyXMtcMOQe43bV6q+irEGE7jhuD3fq6c1ajYdVYwVikVeevmnDI4Mc/99x12fatzw4a7mO/xgI1v/PwCMsRhj0J5Gu4z9HayxBEGA1soNkmYt1hiUUigdNudv2I+11m3TKmqB4tvf+R5tbS189rNP4WmLh6IW1MLjj0O98MOlyVq3T2Nc0Kw97TYfnltjDMa4vudah83rw3NSCwKwBt93U6xZa9Fagm7x87Myj7cQQgghhBDvoyHmih7uDMOUq2m6Y52Y7xHzvajXNIqw/zYu4Iv5Hp7WYdB+97aj7aswoG7cH4Dvafyd26/PB2bxtCYW8/F9746Avb59BbVajRvXb9Da1srhw4fcChbXs125FO9MT30jDbRW+L5XT+ddiwLf9/A8N1K5Vq42XWvXgiA6fduLxdPgeaA0WBtgrOsLXt9e/fgbP+f+00rheZpYzMOLgu4dafLD/Teef7DhdsN5zYkKQqItCPHJkcBbCCGEEEL8SrPWbtdK38O93oteVyoKdu/282w/qkFvfK/xNcLa+Pvuu48nHn+MVDyGirqyN9Rm38t7pfdedu7/vdhwVHNPwQMPnODwwf3oHV1YbThI3E47j31nWhvPudb6nsdxr/MmxCdBAm8hhBBCCCF2Cfju9d7O5zvfu5dovZ2BZON77/ca4edtGGT7vkYrwFq0crW/9/rcTjuPd2eaIu/13t22jxHcTGmHD+5ndHSo3ozd7fe9t2mta/5ujMGGBRc7z3njstu2Puh5EOLjIIG3EEIIIYT4lbdb4MZ7vP6zulfwuttr99IYfCq1/dzTqh58f5Da7p/XB02rwgXNtqEwQNlo+jbcJN71pLp+3Hd8vqGWu3G51zpC/DKQwFsIIYQQQoj3COZ2e/29mji/l90+s9v2G1+PeJ53x+BnO9+PHu/8917utd8P4v0+FxUGqLDWu3HMNqW89/zsvdzrM43Hu9v5EOKjYowb8PDnaUwhgbcQQgghhPiVdq8AbbfXdwvudluv0b3e3+31aHu77yOcGqthnfdadlINy8/rXtu+g3IRt7prZ+EI6OHyftu61/v3ej3S+P77rSvE+7IfTWsSCbyFEEIIIYT4pfDhM/97L5y3zeow1AgD4J0xuBC/RKx1XTs+TCGOBN5CCCGEEEL8QrOAa+LqmF/wADwKut+PxWIaZk8X4hfVneMr/Dzx9wf5RQghhBBCCCF+odxZ+x0927nc6d7vfBLuMZuYEL9YlCsiigLvn6d/NxJ4CyGEEEII8cvq54kAfp7PCCEIxwz4eUngLYQQQgghxC+87UHJPtwwaT/PZ/bSL1p6hLgXddfc8PUp/tz/3vNylsBbCCGEEEKIX2g7g+27A++dr+4elt/7nY9Uwy7u2NuOxLkxzqORzoX4xaXcBYvh5+vfjQTeQgghhBBCCCHEB7Aj6G6crs5aW5/nezcSeAshhBBCCCGEEB+Cm3Js56vbJPAWQgghhBBCCCE+FPueU+NJ4C2EEEIIIYQQQvwc3quWu5EE3kIIIYQQQgghxEdi99HXJPAWQgghhBBCCCF+DmrHKP73IoG3EEIIIYQQQgixhyTwFkIIIYQQQggh9pAE3kIIIYQQQgghxB6SwFsIIYQQQgghhNhDEngLIYQQQgghhBB7SAJvIYQQQgghhBBiD0ngLYQQQgghhBBC7CEJvIUQQgghhBBCiD0kgbcQQgghhBBCCLGHJPAWQgghhBBCCCH2kATeQgghhBBCCCHEHpLAWwghhBBCCCGE2EMSeAshhBBCCCGEEHtIAm8hhBBCCCGEEGIPSeAthBBCCCGEEELsIQm8hRBCCCGEEEKIPSSBtxBCCCGEEEIIsYck8BZCCCGEEEIIIfaQBN5CCCGEEEIIIcQeksBbCCGEEEIIIYTYQxJ4CyGEEEIIIYQQe0gCbyGEEEIIIYQQYg9J4C2EEEIIIYQQQuwhCbyFEEIIIYQQQog9JIG3EEIIIYQQQgixhyTwFkIIIYQQQggh9pAE3kIIIYQQQgghxB6SwFsIIYQQQgghhNhDEngLIYQQQgghhBB7SAJvIYQQQgghhBBiD0ngLYQQQgghhBBC7CEJvIUQQgghhBBCiD0kgbcQQgghhBBCCLGHJPAWQgghhBBCCCH2kATeQgghhBBCCCHEHpLAWwghhBBCCCGE2EMSeAshhBBCCCGEEHtIAm8hhBBCCCGEEGIPSeAthBBCCCGEEELsIQm8hRBCCCGEEEKIPSSBtxBCCCGEEEIIsYck8BZCCCGEEEIIIfaQBN5CCCGEEEIIIcQeksBbCCGEEEIIIYTYQxJ4CyGEEEIIIYQQe0gCbyGEEEIIIYQQYg9J4C2EEEIIIYQQQuwhCbyFEEIIIYQQQog9JIG3EEIIIYQQQgixhyTwFkIIIYQQQggh9pAE3kIIIYQQQgghxB6SwFsIIYQQQgghhNhDEngLIYQQQgghhBB7SAJvIYQQQgghhBBiD0ngLYQQQgghhBBC7CEJvIUQQgghhBBCiD0kgbcQQgghhBBCCLGHJPAWQgghhBBCCCH2kATeQgghhBBCCCHEHpLAWwghhBBCCCGE2EMSeAshhBBCCCGEEHtIAm8hhBBCCCGEEGIPSeAthBBCCCGEEELsIQm8hRBCCCGEEEKIPSSBtxDiLtZarLWAxdrwNcBasNF/dnu93ZbwEzted9swxmCMcY+tZTO7xczsHNmtrV3Xt27H0ZN6uhrftzYIl+izBosJ07L7cbnNus+5NLnXjbVs5fLMzd1mY2OTwFgCE302PAf1bd257Tv3Ea7feDzR5xu2s9vn3esGCCA8DmuD+jFZG30PDY+JtgXGQrlapVgqb59392kwFmssxm3Z7Ss6Fov7sLFYs8s5rT9360bnb/vgto892m41MOTLFQwGrDvPpWqNcrXWsK3w+MLtR2m1LpF3HWeUHmwA1mwfvbFgAgjPldtOeCatpVSuUipXsLbmzm3D+a4fi4nOh9s2NnDbDLft9hueq+jcWdy64WfqL9ePyzScq+3PNq7XeHVsvx69F2BtrWENd4zRvo1116j76nY7pnB/uHRgLbXAUCxVw/XDQ274Du9Mn/vut9MeHdv2OoGBwG6f661CiaW1DXLFkttkdF01HNsd57H+ZOf2G67uxvUb3q9/T+F26ue8vk7jtQy1IKBYqYS/6/rhEkS/OOt+IxiLsZZaeA2Z8DCC8DdmGvZt7zi28Luo/4Kjz4QrRPea8Dfo0rx9Xur72j5t7isM/9u+rqPzUN9s+FW7445+R+6z22lz53R7f9Fno+8vvFwa1ne/F2tNPT3WuC/EpcelJfrFWaJrsTHt0TrREn4fBkx4ng3BHb/Z7WsZMHfef3amvZ5uos9sp6HxuKJzuvNzQf072r4e6u+Hz6OTZq0N7ycVqrVaw/vRAyGEuJv3J3/yn/4EFG5xiqUyxVKZjvYWlALV8F6kVCpTLJZpa3PrRJ9v/H8hxC8zAyisVVhryWZzrK9vkkqn0Nr9xmu1GktLy3ieT8z33GcUUe4EwgygUmFeRCmCIOD73/8+a6sr9PX1s7ae5f/5L3/GSy+/QntHO0ODA+HuFeENaDsjE/5r3cawJrzjqChLZ1H18sQoq7f9cWNMuC5go/uUxdgaL7zwIzbWs/T29rCxtcXXv/73/OD7P8ZYxcLiIuM3b3Jw/2j9MzvzVi5NJjxWF3jdzR1P41vu8Nwr9XuttaC2zyGoMAMYuPUb3tnekQr3747fADduTTM1OcfAQF+Y6QWFQePOn7GAcgGGRmFRGAM6PAZUgEWh0FgbnTv3WZfpjvYEWF0/PjBYGx6rtUzPrzK3sERPVxvaWio1GJuYoRYEtDRnUKj6/tyRuLRYBdq6E+b+ceel/hfGWpRyAYSxKvyky0Zb5dLltuM+UalZrl2fYnlxke6uNrTW4XWgsGo7fFDWnSF3Zl1G2l3WNjw+Gx4vWBu4a04pd31pd36wKlw9ChktKkwT1mv4futHE57L6Ny5112A5PZvjMVqL7xeXOpU+D3mi0UuXhnHWkVLczo8N2CUQVkVpnf7GLEey8ubTEwu0NXdGp6LaJsNvzEbXpUqcHsMf3NuVffFKKuoBQGXrtwgX8jT0tJErlDi5dfOcHXsFvF4jJ6ujvBcKLcd5a6h8FbithU+jjbtTqAiaEhX/edrjbt2rUEpd8W4whbt9hEGncpdhPXfZrhzFlfWmJq7DconqAYk4zEMkK/W2NjKE/d9fKWoVausZrPUUKyvb7K1uUUuX2IjXySXL1MqFEjENZ6GWhXW1nN4vkZ77houVWtMzsyxuLhKvlginU7hh+moGcvyRhaMIe777ju3sL65Rc0E+LEY2a08W/kSsXjc/S7Dq2ljc4t8sUQiHgdjWV8vYLViq5CjVKqQiCfAuq9rcytHNlegUCji+x6+9rC4oHFjY8ttQ2kK5Qq3Zm+zuLRCtRqQyWQolkqsb2yRTvlo5e572XyFYqlCPO6DgkKxxNpmFu35aD+8XqzCWMV6LkehWCKRiKOVolarsba5SdVYEjEPrKJWhfWNTZTnzlulZlnb2ASt8cPtKatQNgDlfseraxt4vo/WHmDJlypsZnP4sRie564Hi8KgKJQqTM7MsbyySrFcIZlOoZVGW8hXKyyvrpHN5cnmC2zlilTLVZKJOCjI5ktsbuVJJJPu/IcRtsFQNZaLV8bxY3Ey6ZS7zqxFqe3frxDi06NarZHLF8g0ZUjG/Z1vQ7ROrkAms/s6EngLIe4hyni7PMTErSn+7M/+jAcffIBUKo0JYGFhnv/yp/+VgwcP09beGq7rPuNuDC7zqXQUDCtqtYAf/OCHKBRHjx3j4uUxXnrpVf7oj/4pR48eJpVMusy8ijL8LgHbt5no/uLWQbkAw73igj9rwZgo76MaGve4dWs1+Pa3X6BUqtDX240xlu989/to7XHk6GEuXRnnxRdf5Ctf+S2OHz/Ku2fPs7q2yiOnHkIpl6FU4f6juLd+7MplOpV2wVhQM/zghz9mfWODvv7eMB1uXZei7aqUxvyajY4FQOkwoFbk8wW+9Y/fIZNuoq21bfv4wiCXhnTcuDnF/Pwix44ecnFMGBdrFLlijXfOniWdSZNIpCiUKpw9d5lEMkEqnQQFRmm3dnR+lcJY7bbTmNbw+46CIJf+qIRBcf7yVVKZFH1d7WAtxVKFK+MT9HS309KUcQUomjBlGm2sCz61cjEiYLXboTGgsRjj9mlQGK3dZRL+ZxsCMnduXJqqgeHK2CRbW1uMjg67YFPpMPB3QSporFFcGr/F4uomnZ0d7tjC9cDVwqGigiaDUV54DrYDI6XC8xbuWymFxYTb8EBBECi0CgND5WrRwBUQ6YZthhtiYXGDS1eu093dA1rjUuTSXigWuXjxCm1tHXR2tKCUxlj3+9NojFGuUEC578RYxeTUHIVSif6BblAWrcKggYaLRSmMcgFsdK2rKFpWygXC4e/g3fMX8DT09/cyMTnLrVtzPPLIgwz0d5OI++GpcL9ni/vtuisl2nD4b/3aCfehtEtKuK4rMFLh7yK63sJAy2oCFFZrAmt5863zaO3T3NSE0tpdL8D1iSnK5RprmwUmb00zPNiP8jTXbkzzzukLDPR2kUmlWFld4413zqFicd5+820mJqa4fmuGsZuT3JqcZXlpkd6eLtLpNKtrW7z21jnaO9rINGVY38zyxpunuXL1OstL69y8Ncnq6jr9/X34cZ9sscSPXn6DleU1hgf78ZRHuWp4+bW3MaZCT083585f4cy5K7R1tNPSnEbZgFLZ8OIrb7GwtMJAfw8W+MkrZ/ATPvlSjvPnr9Hd3UUiFSebK/DWO2cpV6pcuXYN30/Q1tGOQXFl7CZXx2+yf/8oK2vrvPLq24zfuMHKygbXr99EKUilMrzx1mn8WJy2tjZMoPjxy29hgM6udm7cnOOnb7zFxOQUt6YWyCQytDQ1obSiUKry2hunmbg5Q19vN6lEAhMYro1PMXZjin2jQ6A0129McuXKOMMjQ2xtFXnxx69x7doNJm/NkG7K0NLSjHYXGoHVrG/mePX1t+ns6KC5Jc2tyQVeefUNxq7fYmZugZaWFjJNrkBvZXWdl159m7EbN1le3mD8+gQb61lGhwfQyjK7sM6PX3ydW5PTTE5NMnVrinwux+BAH8YqTp+9zPlL1+jt7aY5k8QaUBqUsuSLFS5fHWd0eIhUMhEWaLrffnirEEJ8inwUgbc0NRdC7Cqq0VRh4Vt/Xx+zs7NcvHjFBQjKcm3sBsVCifb2NoIAtvIFbk3OsLq6gTEuE1KpVFhf36RYLHH79m2q1Qpf+9rX+OIXfw2AhYUFaoGhpaWFaq3KVi4X7ZRaUGV1dZ1KpVoPAiyupiy7mWVqaorl5RWCwGLxqFYtyyurTE1NU8gX68FrdjNHIV9mbW2dxcUVcrkib799litXrrK4uEwtsPyLf/kv+OKvfQ6lYHV9nXK1QqYpTVdXJ7/927/JH/7B74f7hyAIWJhf5NbENPlcPgy0FFvZItNTs8wvLFOp1DAGCsUqZ86c59y5CywuLFEpV8Eqclt5pqdmWV5aJTC4mhvlautAYY1hM7vF1NQMC/PL1GquNm9ldZM3Xn+H8bGbLC6tuPNswVqFDgMRG8byyvNQvk+pUmFtfZ31jRzGKmoW1nMFbk4tMDe/xsZWgdVcgevT88wtrLO5ladqLdlimVylSjZfYnl1g2y+TBDWIpVrAetbRZaWsxSKtTAY1QQ2rCUNCwK2cgXWVpbZPzLsap61x9rmFlhobm4mCAy5Qo7FlQ02ckVqRrlaS2PI5QpUajXWNjZZXlmnWKm6ANAoCoUS+YphM19gcWmdQqmMBYxSYD1XSx82YS0VKiyvrrORy2GspmY9F6QpTbFaY3E9y/LGJoWypYZHsRowfXuFm9PLrG7mKFYCasBWqcriWpa1bJFyEGDD6zGwhmyhwPLaJlv5CluFCvlKhcAYsrkC+VLVtVgwPluFCqVK2bU+8KBcq7G6mWVlLUvVuPYISnuUKjXWNjZYWt2gUq1SrhmWlrPcnJxncW2LYqkS1qq766W5qYnnnnua4eE+gsA1Xi5VKqyubrK6kSWwLr2udt6jVC6zvLJId08r+UKBcrkC1l3b1VrAZjZPEFgCLPliifnlTbL5EjUgsIpytUa2UKJYCVhZ26RcrfHEZ57gyIljBAY2shWU5xNP+iit2MoVCYz7fqomYCufo1wphwVrrva6kVUKoxS5YpnltQ3W1reo1QxGgUGxmSuytLZJtlAlMC583ypXKVZrbBUKrK5nyebL3JxeZGZ+hdWtHNXAFX1UreX2wiI93e20d3Qwv7RMvlAEpZi4Ncvi8gZLqzkMsLyaJZcvcmDfIL/3e1/mD/7gKzS3tjE4so/f+70v8Zu/+Wu0dXRilUfVwPpWnlItIF8u89bpC2xmc3zlt7/EH/z+b/Dl3/x19/s9fYlS1VA1ho1ciWsTc9ycWsQosL5iM5elVKoAUCiWWVnPMjO3SC0IUEoxd3uZxeUtsvkqlQCq1rK6ladQqdLb20c+X2RyZoFyzXJ7YY31zS1GRobo6unl6vUpssUSa1tb3JycYWB4mPXcFi+9+japdJp/9k9/l9/76pf47S//Bj29PbS1N9Pf38fpi+OsZitcn5hjq1BkYLAHlOWdc1c4ePgYv/07v0lf/wjXrt2iUq5gDSyvrLGZLVOuWqZn57FYYtpncGCQpeV1bkzOs5YtcOnqOMOjw4DHa2+cpbu3j9///d/i/vtP8Oab51hd33LtNMKGG9XAsLqxRTkwbGZLvP72GY6cOMZXvvqbdPX189aZC2xk8+SKJd544yyaBH/wu7/FV7/yG/zWr/8ai4srvP32WWoGikWD1kl+7Quf5w9//yv84R98hWc/+zTxZJy1jSxLa1lq1ufGrSlqxhCWfwKK27fnSaeStDQ3hQ1/omj7zmtZCCEiUuMthNiVq2jWmLDpXCKZ4Pr1G2SzOU6ePIkxAT/5ySu0t3fw8CMPcW1snL/5229w5ux5Lly4SDKVoq+vh+vXr/OjH73E5ctX+cmLL9Pf38/LL79CLpcjnkjy7W+9wJWrY2xmN1iYv82N6zc5fvwYnqe5cX2Cb37zHzlwcD9NTRkAAmO5dPkqf/4Xf8Xp0+9y/sJFmlta6erq5JVXfsq3vvVdLly4zLWxG/QP9JNOZ/jmN7/P5cuXefmVl5idnWMrV+QHP/gxc3NzLC0vMTIyyo9+/DK5XI7W1jb+/hvf5OKF8ywvLXLkyDHeevs0c3MLHDl8gEKhyAsvfJ9v/MM3OXfuAhMTUxw7fpSxazf5xje+wzvvvMNLL/2UStWyb/8IZ89d5rvf/R4zM1MsL60wMDDE2sYmX/+rv+PM6bOcv3ARrTX9/f14nheefDjz7jn+/h++yTvvnObVV94kFkvQ09fP977/Q15++RWWl1ZYW1/jvvvu5+q1q4yPjzE8NFRvemlRzN5eZmFhia2tHGfPX2Ri8jbNLa3EYzHOXhrn1tQCmxtFNja3WM/mmJ5dYGM9Rzabo7u7k3cvjnNjYpbpyVkuXL7G7fllmppayWRSTNya5Z0zV5maXmJpZZWmTJp4MsnVa2MEFjKZFCjFzO0F8vk8x44cxAtrWm9NzeJ5HsND/Vy6cpWLF8e4fnOOick50pkMbS1NZLNbvPLGu8wvrHL58lXGxm+SzVXo7+vBWsMbb51nZn6Fa2PXuXptnIXlNdo72smkXK0UWmOVRzZb4K03z3Du4hXmltZYXc/RnE6zf98A2a0c7164wrXxScZvzLK8vkl3VxeL80tcuXaTtfUtNlezNDc1sbaxzrvnxrl+c4rxiZsopelsb0cpzdTMAq+/+S5XxyZYWl5l7PoEsWSKTDrFm29fIFes0N/fRc3A62+dphYY2jvayZdKvP3uFS5fvcnk1DzFQkB7RwtGad46fYVLV8eZnZ8ll89j8Ll09QaLy6usr63heYqe7k68sJAql8/z1jvnyDQ109KcYXltg7dPX2Ds6nUmJ+fY3CrQ19eD1hprFRubBW7fnmf/gREuXrzC6tomPb09aN9nZnaB02cuMDjcz+LyCm+fvsDU9CIzM/P4cY+W1mbmF5c5e+kGswtrXBu7TlNrExevTVAsl9HK59zlSZZWV8hmNwiMYmzsBt093cQTcba28rz51mlSqSRtrc1hHqMe0UBYuDO/tMab71xkbGyC6el5tAfNLa2M3Zjj9LmrTE4vMn97hc7OVrQf4/zlceZvr3Lt6jjzi8ssrxWYmr7N5maetZVlRoYH8WM+69ki09Mz3H/8GF48xbVr4wwNdJPMNHPx0g0yTS14yjI40MPkzDyBgcOHRol5HtrT3Lw1ix9PsG90gITvauMBNvIlJibnOLBvgFpQ48LlMR479SADPR14niadjGOJc2NiioHBHnxPMzZxm56uHpYXFxge6gfPY+z6ddpa2xgY6GVyaoF8sYoxAcND/ShPcfnKBMbGQVkOHRxGacXl8Wn6ejsY7OmkVrNMz8zR3dfDlcu36O1tZ//oEPFEgps3Z2ht7WRjI8vq6hoPnDzKwuIq87cXeeqJR2ltSuErTSoZJ5NJo1E0tzRz9cY05Yrh5s1Jjh47yOhwN0GtxuWrt+gf6KWnp51SpcLGygqjw/0oz2dsYgrlJ+jo7GRjY43Bvh7ivk8yk6RUrXD9xgT5YpliucITjzxAPp/n2tgNHjx1P62tGVpbmrk6Pk0qlaSrqw2U6y6Q3SoyMTnL/v2jVIoFpm/P8PDDD5BJJ4gnE1wbv0FPVyfFsuXa+ASPnrqPvq52fK3JZBIUKobJmTkGhvrJ5mosLi5x5NAozU1JPK3RWhPYgNnbi2zlKgyPjHL79gyjw/34sRhaK2qB5fzFywwODNDd6bpRbLcEcQWxQohPF6nxFkLsCeVyDi58C2tQlYJTD51ianKGzewWW7k8s3PzHDp8mOxWnn/4xncYGBrmj//lP+fY8aO88MIP2NgskMsX+dGPf0y1WuGP/tkfMjo6ytLSCpubm7R3tHHw0EGGB4f5nS9/mQcefIB3z11gYXGJWmC5cXOScrlCOpOsD9iT3czz//7X/0ZbWzv/6l/9C377t3+Tru5OJqfm+Na3fsBnnn2Gf/7HXyMeT/LDH/6YYrHI9fEbvPHGWzz99NP8+q//OocPHaKluZVnnvkMv/M7X6ajo52FhWVWV9dIpZMcPnSU0dFRvvrVr9Ld3cnK8gorK6sEQcDrr73Jd777Pb7yld/i//Ov/5jHn3iYWEyTaUrx+BMP88//+Gs89sQjfPeFF9jK5Rke6aO1o5knnnycr/7+V2jvaOcv//LrtLY38z/8iz/iyaee4scv/oT5eVcjZKwb3qm5pZlnnnuGf/U//isefuxhvv3dF1hfX+Pw4cN0dnbyxX/yOb70pX+C1vDSSy/zt3/zt5TL1bDvq/u+tFKUy2U6Otv5zDNPEkukuXbtJijo7+sjk0jw4ImDPPzgEQZ7O0nHU9x37BCnTh6hKZWgmCuxtbHF0cOjfPa5J/D8GOcvjZMrlLh05Srd3c08+9wpjh4dJZFOUiwHvP32WWamp7A2wFhYXd+ip6cHHQ04pmBxaZXuzjY8X9PS0srJkyd4/rnHyaTSXL52nVyxTMVYFlez6JjP008/zKOnTjI9Nc3kzBKBVaznSmRzBU49cB/PP/80+UKFi5cnqFTDfvAWqhbeevcCW1tZnn3yUR49eZSk72GNGyDK8zSDvd089dj9PPbQcZbm5li4vUhHRyuZpib6+rp4+pET9HS2kE4kOXpwhM9+5lEOHRzl4pWrrG9skC+U+Onp82Q62nn22ScYHhpkczNHsRhgAkt2qxDWxrsm0ptbRYrFClYpLl6+yubaCk898RBPP/UQk5MzTM8ssba2xezUDKfuP8FnnnyMocEB2tqaaG1L09LaxGOPP8ToyAD1HhxA1bgBASuVgHyxzNnzF6nWajz19OM8+PBJbk3PcO36TdcVAljfLJFINdGUaaKlpYO5+Xm2CgUqtYDbC8t4sSSFUpUzZy/Q2dnG00+fon+gi0tXrlIsVShXaty6NY01hsefeIie7g7yhTzFYoHW5hR9Pd10tLXz8IMnGB7sYWNjk6WVdWpWsZndIpvNk8m0hK1SdNifwN19rIHNbIE337kEpsrzn3mUJx89SXt7G3PL61y4Ms7RwyM8+9RDpONw7txF15c3X2Hs2jUOHxjlsVP3cXD/EMmkz6HDwzz66AOuubuFhduuOXI6laClOYEf12xs5VjbyKG0ZWigl+WVFUq1GpuFIm1trfiugwBagbIWW6vhWYMHeITN5sPAS2Ep5QuAR0tTxn3OBnhYujvaqdUM5VIZZRUemuGhfqwNuH5zEsJr1yhFAFitaW9rJ6jByuoW2a0CG1tZeno7XUcD67peoGpoLL6nGR3qIahWuT4+Qy67yb7hQWI+dLW3MtDfzbVrE0zcnGVkaICmdJLNzRypZJLmtI+HxSPAwx2bBjLpJIcPH+LSlXGqRnH00AjaKhJ+jAP7h7ly6TLj1ycZv36Tzu52EskEuVKRheUV+vq76B1oZ31zjVwhH9bzWI6fOMRWrsC18ZscOnaQeMJDa4X2FYVCLuyRoKkFkM3lw7EU3Md97a4RZSER9whqhlKp7Fr+oKiWA0rFCltbRTxP0dySgvC7Mxh6erqplqsUi2XQUKkVmZ6Z5frNWSZnFsgXSwTGMjczS3d7C/uHuigVCqyurmOVomoV2ULFdVXq63Xp2hFnR5ezq/u24fgNUhMuxK86CbyFEO9je3C0w4cPUq3WuH37Nrfnl6gFAYePHOTmxBSzc/NuYLKNDTKZZuZuz7OxmcVi6e3t5atf/QqHDx2muSmDDUcJb2rK0NfbS0tLM/v27+PokSO0tLRx+fI1SqUiY2PXOXrsGJl0Jmx+rhgfv0GhUOYrX/lt9u0f5eTJ+xgcGuCVV18jlcnQ1NTCxuYGzc3NTE9NUSjkSSSSPP/Zz/LUU08xNDRIT08vmUyG/oE+DhzYTyKZBEBrn3g8weDgIOl0E/v37SOVSobNeTXFYol3Tr/L0089w2OPP8r+/aM8/MjDJJNxRkYHGRkdYjO7iedptrayVKs1Ors6aWpqoqu7m9HRfayurTM2Ns7IyD42s1v4MU0+X2B29nZ90CwL7Ns3Sm9fHxubm3ieR7FYpFTK09/fS6YpxfDIEIND/SSTPv/6X/+P/Of//J9Jp91xRHlAYwwdnR0cP36IwcF+Rkb2kS+UsEBHWwvxmKazo4mernZaW5rxPY/Otma6u1rwfZe57evt4tCBIYYGejh44ADrq5uUy2VSqTirK4vkt7K0t7fRnM7QnPb5p3/wVU49eBKtPAr5AhubW/R2d4f9zi0b2RLFYome7m4U0D/QRyqTpFSqoX1NvlSiZgIMilgyxf79QwwM9HHo0H46O9qZnpnG4kYUHt03yuhwHwP9Pew7MMriygr5fMn1l8aykSsxu7DI8fuOMjo6xGB/L92dnWjlwr3mpgz9vd0QKIJqDa08clt5MpkkqVSM5nSK3p520qk4Pd0dtLVlKFfKGAu1mqJcrjF3e4FKTXHi2FFGBnoYHeyjKZVGmXCYL2WBoP7HVoV9t3P5Ercm5+juHXRBuamRTCdYWllx4wNYmF9cwQSW7u4empoyNDenSCUV3d3tNLdkXGZfhSMuYwnC/s1b+TwLS6scP36Yvr4u9u0bYHT/MGPXblCpuEHSZmZv09nRSTzmWh5UKpaVdTdg1+3FZYb3D7OyniOfr9La2kalWiaVSpDd3KRQKGAtZFJpHnnkKAN9XWSSCYJqFR9NJpGgOZUkFdP0dHbQ0dpEX08P0zPLlMsVbs+v0dnRTVMmhTJh14gw4IzGKVjfyLKZL/DQQyfp6+1gaLCX9s52bk3PEktmSGZSBEGJdDrO4vIy1UBRqxn2jYxw7Mh+ujva6e5sxdfQ3pqhr7eTmKcJqgG3Z+bYv28UrS1Jz9LZ3sp6rsTk7BytLSn2jfZQrpRYXCuxmSvQ3dWOByhrwu/VBX8a3IBfYWGlCQzGdRagWq5grOvr6xolGDAGT7tjVNbiKVDGkEx4PPjgCa5PTLGwtO66EISzDoCluSlJf38Pk9O3WVhaJ51J0dqaBGquZVIY7GMt2kJHWxP7Rka5cO4KQwM99HS24WNJxRTHDu1nbXmJcr7AwdFhfA2lQhFPh2NmhPcPawOUMagwYM2kYhhbI51JEvM0HgobWFJxH0/DhXMXWVtboaungwDFarbAZjZP3AcPS81qZpfW3TgHyhLzPDcAnNKkUgmUgta2Zg4eHuXtt0/z4k9+yve/9yLVWjgbQjhagTIaZd1Aegro6eygv7eXV19+jVde+imvv/IWNghQ1lIpl90I/to1UTcqQCmL57vxFqwxKGps5bKM3xjn0sULXLl0ia2NTXL5KvPLG8RTHsaUiSdSzC5uELh+DSwsLpBMJmlpSkd/mlyhpxBCvAcJvIUQu1LKDdyktRskSivo6GxnYGCAW7dmuHz5Ct3d3XR0dFAo5FhYvM1LL73Md7/7fd5+5x3uu+8YTU2upiERTxLzXZMbV6nlgsuwgqs+cnMqneKBBx7gytVrzM4tsLKyyonjx9DadzknqyiWcvg+JJNxN3JumO3c2FhjauoW3/veC3z3u99nenqCkyfvI5lM4vmKZCoRjsYeDmRVD4oaItXtYZ7coFcNtRgKTa0WUC6VaWpqRWmNxfWprlYNr776Fv/Pf/lzfvKTl1heXkMp37UcMK7PsasvsxSLRVZX13n1ldf47ne+z6uvvs7o6Ch9ff0opdDKB+vx4osv86d/+qe8+OMXWVtbx/d8qA90prHW9QtXSpFOp2ltbQlH6A6FXQTc+m6wKq2gUq1Qq1Xd6NYqmsgoPAeewSiDDZONdgNR2XCAu5jWqMAQU4qnn3icnp5+Tp++ymsvv8P6yiraQHMmSTweRynF5pbr/97UtD3K9uzcbdraWsmkkwS1gNOnz/PT199l4tbE9sjpClcAoWpuoDQFKI0f892UVliUqqFVEA50BPG4Dkfedpl0qzWFUpHAWpKZNEYrarj+4y5MtSwurfLST9/h/NVxFjY2qOKjvKQ7V1hUlJE2MDZ+i5dePc2VG5MUigEQw1oXfCe9GOl4DG1dIKUxeJgwKDJhRBkNxueOsVKpUqlYZubXuHTtJpfHJsg0+QwMtNPWkeLJ5x4lVy7xw5fe5OzZMYqFMsrUUGHQ5oIjdyQoNxiduyYV5arFoojF/DCYUsSTSapBOIVYuUI2u0lvbw8aRSadpK29m9vzWVbXC1gUHZ3NlMpVCoUqExNzXLt6k/n5RUaHhkknk2gUvufja40XXnYxL+ZqYDWusCH8CcU8n5HhIdZWN8huFFhZWmFwoI9ELOYCoPA8u7uC+/4q5RoWSzwVJ9CKIGyJXq6U2dhc59r4TS5eGyNbLLD/wGg9+IknYvVG6zYIf8du41hr2dzMUi6X6enpBOUCyN6OTtY3C8zenqe/v4eOlgyJVIrZ28sYA81NKZR210z9BhHN1hA9xSUg6prX1NSExVCtBhijQPmgNaVSHs8zrtk6FqzBxzLU3017aysTN6dRxMNr0F0/WhuGhvpYWpxndmaRnu4Owttp+N2HQal19xjtaQYGBsik04yMDuH77ppXWLo62+jqaKW3u4O21gxaQUtLC+VKhWrgZjEIw203ihhQKle5dm2cffsG2cyuMDW9hEWxuLTCxMQtnv/cs/zeV3+L0eFBzrx7nmxui+nZNfK5KufOjnH6rcvkNstMTs8ThFN8jY3fRGsY6O/j2rUJajWDpy2nHrifZz7zFH3d3Tzx2KO0NDeTTMRRynXDiUJwx+B5Hs888ziPPPIgPd3dPPbYKZqb0sTjPk3NKTCWWrXqVg+/rHy+hPIUsbi7R3e2t/Nrn3uWP/zdL/E7v/EFBvp6mZ1fZyNX4dLVW7z02mnWt4rM3l6lUq6gagFrS0sM9ve5Ky38O+LGPgmTJoQQu5DAWwjxPsIpwhQkk0kOHBzlxvVxrl29wn3Hj5BMxOno6GB0ZJR/+cdf4//43/83/uN//Pf823/7P9PV1RHmQ9w0MJaGOVnDLKqyLlBxzSQ97r//OFtbWc6dv0hrawt9fX3hSG+uqXlLSxvFUomtrVxYk+TyPYP9gxw8eID/9X/9d/yH//Dv+d//j3/P7//B75HJZOrBWhT0mKAWTu20XdsGFmO2ayYJtxtl3o0NiMd9mpubWVxaqM/5DbC2tsHLL73Eww89xL/9X/4XvvSl36C5uSncH67/XzgHcktzE3193Xzta3/I/+8//m/8x//w/+Xf/M//E/v3j2CNC0K2clm+/e3v8LnnP8+/+3f/hi984ddIpzNue1bjKTeiNVZhAjeidxRAK6WwQTStmzu3UV5QhSNXA2hlUDYI0+bSqJUJR7Z2p1wrN2CbsRAElq18Dj8ZA9+jqaWJxx59kM9//kmK5TxjN65TMTWM3s4Yr65t0NLcRDKZQGlFtWZYWFhkcGAQT8Pa2jqTk5M89NBJnn7mMUZGRvGVhzJhjaKNMtuKUqVCoVAkk0qjDfgolA1H67aK3NoGKT+GH/Mx2iMw0JTJ4CtNdjOPCb9HFRYmVGsBNyam0ErzzFOP8tjD99PZ3kYQBFgFNTRVrQi0YqtU4eKVaxw4OMJnn3mM+04cDqfPg0wmSa1apVAohOMruYvSKOsmf9Maq3xqQDWAWs1ilCIRT5CMJzg8OsDnn3uCzz//FJ997kn27xshpj1GBnp4/plHeeapxxi7Ns7y4jIePtp6aOtaI9gw+I4CiqgAJR7TKKso5N086QBb2RzJZBLt+SwvL5FK6bDWFBKJGAN9HSwtLzI7t0BbWwvNzU00Z9Kk0ylOPXSMzz3/JJ977mmefeZJWjJpt8Nwn1HwGTUZd+MqGoxxBTtKKTo624nHY0xNz1Or1ejqbHG/XeW2EhUEgQUVkEp6qFqNUsE1yVaufIHmZIbO1lY+88QjfO75Z/nc85/h0YdPEXdjE4b3CRcEa019qjcbXkcrq6s0tWSIxcPxFIKAzrZOspt5clt5+nq6SMdjdLS2MzM9i+/5pJLJsHAwqsHWroVBoAgMlCpVAgtKa5R2XXSaWppIpmLM3F6iZg01q6gGivEbN2luzrj7g7sDgTEkYj5Hj+xjbW2Ncjlw010B2BooQ1dXC4m4ZnNthd6ujvC8uTMH1GcGcGdcoz0P3/fctGaKcJo1VygS8zV+zF2bKI/u7jbyhQILS+sE4bVvlKYUBqy3JmYpVys8/NB9HNg3wqXL18kXqyyvrKB8n0xTBu1pjh46QKkQsLFZYnZ2juPH9vPs0w/yzGce5IGTR1hdWydbqLK5meP6tQlO3neM+48fZmNlnYWFlfpUkEODfdx3/1H8mKaQy9IZNrUvV9wAgQEWvPB7VRCP+YzuH+LYfUco1yoEGDLNaTo7mkApFhbWMIGbatFYzc2JW3R0dtLU3ASuOJPwasDi7nWzM3Mc3DfM80+f4pknHuKRB49TzBfY3CySLRTZKlbo7Gp3hU7hD8AV7EqttxDi3iTwFkK8D+sCZwyepzlx4ihXrlxmanKSBx98AK3g4L4Rhvr7+LM/+3MuXbzAu2fOcfHCZYJaDQ1u2qYw0xfVjinsdjCktmvHRkYG6e3t5e///u95/PFHSaUTDfNHW44cOcDQ0CB//ud/wZkzZ/nRD3/Mm2++xbPPPMPa6gp/9Zdf59Kly5w5/S4Tt25tzw8dDsxjrSWVjrNv3yhnzpxhbGyMUiEHKghr6izWuLpRG+bvrKmhtSWVSPHZ557h7NnTfOc73+PixUv8xZ//NdlsDqU0iwvzXLx4ib/9279jcWEehcL3Nfv2DXPxwgXGrl2jo72FU6ce5E//65/y9tvvcPHCRc6fP0+xWAynoFJo5eFpj5npWS5dGuPv/vbvWF5ZRiloakqQSiY5f+4y18dvUi6X+K//9b/xf/6f/4lyuewCMe0mmtIYl/awvl3ZKpgaHpCI+cTiMW7fXmVpeY1k3CeTjDE5Pc3S8gblchUTBExNz3D9+hS3Jm9z4dIl9h0YQMcS/OjFl7l+c4p8qUiNgFhTmlJg+Yuv/z3vnr9MqWZZWFigp6uFuOdhrJurt1QqMtDnmplH38fGxgbT00ucO3cBWzNoayGAUq7ElYs3mZ1Z4p0zV8jlC9x37KgLwozm2pXrTEzOc+nSGFM3Jzi6f5hUIsl3v/MjXnn5DRKeZqh/gLGxCaYmZxi/doObE2MuwNMKT/uUSgXW1la4ePEyt+cm8bTF1z5tba0sr60yt7RCsVbDKFhfW2NpaZnT77xDqZhDYRno7yERs1y6dI2ZuXnOXrzG4vIqViv8VJyW9namZuaYmlnhzLuXWVldRWmPdCbG/ccPcvniecav3WBlYYmJG5Pksjkmb03y2itvsrq8RrVcIBazJGIxujs6yWdzzM7eZnMjx9zMPH/1l/+dubnFegCnsLS3NnNw/zBn3jnN7OwS585dZnZqhvtPHsf3YWpqxk1f5eGuewUDAz2YWomZyQn2jfSTiGl6upppb03zzulz3J6d5/bsHNOT0+E1ZcBW8OohrYGgWi9o8nQVpaqAq6FvaUkyMtLDlStXaG9vpa21JbwPKIKo4EiFLRKUorurg+H+bt547U2mZm4zNnaDS+cvc2T/ELV8jrNnLrKyuMKN61OsLq27ftdB1RUchTmbuK9IJdMszK8wt7hKvlhheXWT/oHesFk7oDQtLSlKhTy2VqGtuRmtFcMD/awsztOSjJNKJtwQ9PVZFQKUdtOzvfH2ab73g58wOTnDuXMXSKcTNDc30ZRJc/LEUcauj/PWOxeYnlniJ6+8weLKCg8/dB+ZTDIslAhQ4XgMA33dDPb3sLG+ijIWz4CvDdZW8LXl5Ikj7B/uo7O9Fe25gjSFa0nhvgfXN7xmQWuDpYz2w3nNlRe29gAIsIS1wErR29vJkcOHef31tzl/6RrTc/P84MVX+cnLrzJze4VLl69y/4nD9HY08+CJ42zkclwbv0FvXx+lUpnLV8dZWVnh+vgMzU1NlMpVaqUCRw6OMNTfxVBfJ0cOjJL0NZOTM4xdmyAZj3Pk4BCD/Z3sGx7g7Jnz5LZKXDh3lSuXbjI9Nc9Pf/o2w4O9DPb3cO7sOb7//R9zY2Ka8xcu05RJ09zcRGANr7/5NjeuTzJxa4Z33jrNoYP76exoo6Upxf0njnLp4hXOXxxndn6Vl14+zcZ6lpMnjpNJxF3BpA2i0iIA1jc3WF1Z5L6j+xnp72a4v4sj+4dpbU5xa2qWtewWXixJU1MmbG1AvS5+N7u/KoT4VSSjmgsh7hbdEhT1gNc90STD/tAnThzjwQcfwPMU8XiMI0cPs7a6xptvvs3krQl6eroYGR7CWkM8FufgwUPEYzFAUa6UGBwcYKC/j0q5TFNThiNHDhOPx9CeTy6XZ2xsnK/90T+lqSmFMQaFh1aKeMzj0KHDLC4ucvr0GfL5PCdOHGPfviEOHT7I9fHrnDn9Luurq4yODtPZ2UG1XGVkeJCurk6UcoNq9ff1cfHCFSZuXmfffteXe6C/j76+XowJSCYSHD12mGQ8QaVapa+/h4G+PgaG+hkcHuSN19/k8uWrtLW18uhjj9DZ2cHVK9eYuHGTB+6/n/vuO87Ro4dJp5IM9PczNjbO9es3GBwc4umnnqSQz/PWW+9w/foNOjs62DcyQsx35ycWi9HR3sGFCxe4eeM6TzzxKMeOHmb/vlHa2lppbmrm4oULLC8vcezoUYrFIql0ivvvP46ntcsMKkUtCGjKpOnt7gYLtaBGJpWgr6ebVCoBOs7SUpZ8LsvI6ACpdJqVlU3WNrbo6mpjenYBpTSVSoWllTUOHRrlxLEDxGM+xWKFubkVFhZW6Ovr5OiRg8S8OLlcga6eLvxYghs3b3LyxDGS8RhWKaZn5yhXKhw+OIJWikTKBR+Li8tks5scOXSArvZWujrbqVSrTE7N09aSZnlpDaU0Dz90H73dLdjAcn1imlRzCxub62xls5w4eohjRw+hlWYrV6C5pZnurnb6e7sp5PPMzy9RswH7DozQ3dlGb1cHmXSGQrHI3O1FUukUw8ODdHW10dXWRDqdoJAvMD+/QEtLM/293ayubbC0tMLg0AD9Pd10d3XQ1JSiq72NjY015hdX8ONxiuUa3d099Pd3kE6nKJfLLM4v0tbexOjIAB1tzbS2NNPV5boszM8vMb+whKctXZ2dpNMZllfXmJ65zcbWFkeP7Gd0ZJjmpgzlSoXFxUVQhrbWNmrVgN7ebpKpJNYa+rq7aGlK0d3RgacVNyduUamUuO/EUfbtH6JQKHNjfJKT9x8hkfBdoGo1iVgC3/NozqQ4dGCEmO+RSPh0d3dSLpWZnZljfX2dTDpJR2c7YIj7moHeblfbjKVWrdHZ3kJbSxNBrUI6naCvp5O475r0Gu0xOTnDfSeO0NnZ4u4pSoXT6AF4WOuCw5jn0dXRRSWoMTWzxFY+z0BfL8MDfXR0tLK6vsHk9DzFYpGOtmZaWpoIghotLRk62lvDgh1FJpVidW2VlZUV0pkmFheW2L9vhOZ00jXlDrsAeDGPwf4eBvvdeASxeBxla+wb6aWrvaXeUkKjCGqG1rYMnR2tdLS3UygWmJubI5lM8NADJ+jqaMNTio62VtramllZWWV+YYlYzOPUg/e5Ub+Nq8KvBob+nk6aM6lwILAm/JhiuL+H9tZmqtUyLa0tdHa00dnWzujQAJ6nqQU1/JhHb3cHcc+jVqvR091GS5Pr+2+DAF8Zeno6SCQSUWtolFUEQZX29mba29vAKnzPo6+3m0Qizu35eZaWlkmnkjx86gGCoIbneRw/cZiYUqRiPvFUAo1hoL+XlpZWFhfmmZ+fJ+HDAw8cJ6ahpTnJvuEBfO2ujUQ8hlYKT4PvwYGDo7S1NuFrRUdrC+VigabmDJ7vcXt2noXFNbq62zn10P2kEx4d7a1s5YrM317Bi3mcOnWS7vYWlIFCrsDczBJrq5vs3z/C/ceP4nsQ19DZ2UFTSwsTU3O89sa7JFNJnn7qUYb6OvGtIjBV4jGfvt5eEu5CJlco4vuKfSNDxHyFVoqYF8OPeRhVo1CskozHGOrvRaPQWrmWQ1EzhOi6brCdN5b8sRC/rD6KUc2VtUF9aA7C7PXaepa19U0O7h8MA+87K8YtsLGRZW1tk337BsNaIu1KtrFSkS7Ep4qr7bZhprixG5u1YR9bIOp3XK26mmOlXIaEMAPsPuDuEK75umsqTdQPVrkar1K5yl/85V9TyBf5t//mf8JzueP63NCuZkFjAkutFuDFfFfzo1y/VqyiWq0R81wmKtq1S4MrRLDWrRcErgm79l1NlhdWlZmoz6RLtGu8qtxz19PTUgss1lhivhuNt/HYPc8Da+p9esEN/ASgvWh9S61WQymN77n9KtyAaFprjIGaMWit8KJmAvVaFU2t4uaUjfk+QWAw1oZ9OR1rLUa7ZuhRptuENcy+tVhtqQZgrIevwfMgsFCtuft4zFO88MM3STelefrJB1HWEvOi8+empLJAEBhiMfd3wkRVlx5cvX6LhYUlPvfME3ieolSp8va7F+hoa+O+IwfQKDcns3Xn0vPc96vCJrMrqxv88MU3eP6ZR+ju6gEPPG3xMJRKVb7zw1fZf+goxw8P4ymIe64GU6EwNmyAq8J+7ka5Zs9agYfri437DlwzekMsFtYZ2gAf7Zqbh/OAe55GK0Ngwuu5fl3j+vpiqAVgrCKby/HjH/+U48dOcN/9+9x3EVisAd9TKGVQgQXPI7AGrbT7/owiFg+/XveLoFZ137FSCl+7IvCatQSBwffcX2ZrXHpseKFrQAU11z/faiqBu4Z8T2OAqel5ro9N8oXnH8OPuwtDBT4QNUl2e3e/p2iAL49q1aXV85Xr+67dHOJeePxWgTGuxQbhcxvOiOADAYoLV29w7eotvvyl50mlYizMLnD+whWsdufF4EbBSidjPP3UoyTiMQxQqbnr09fWjZRg3UBy1ZrF9xS+Z8NpDz2MCfB1eMFbD6PcvM8WuH17iVs3Z3ni8QdoSruT7a4Xd+yKsBpcuXPl6t8NxripoiwGbXysBaPCOZ0Ju2LUXIsgPIUOu6y4mmZLYJRLq6/xNWjjrk+rFIFSeLhWHgYdjmlg8ayHCYJ6U3GFwgbuWlDKDRRm0WjjgmmjomycxdoAjYYgwIb3Ngib67tHoNzI/hAOVqbcNV817vqK+xoddg/CuseYwN3LtAZr0EphjcJgCIwh5vvuNxw0/F0wLv1R1tCEN2VjLL6qhUUZnutNpKBmA9eNB3df1IqwL7yrlC5XLV5MoTT4yg12Bx7VWnjr8VU4voDrYlMLFMbzyRXKvPTy25RKJY4ePUB7cxN9HS0kMkmMMa6AwAQYramh8awO87PWHXv4PRdqFV569W2OHdzHgdEhF3CDa/Wh3D2FsNXGtihvXP+ShBC/ZCyQzxeZX1ymp7eH1oyrhLprnUKR+YVlunt6aGu6ex2JkIUQH4DLLCjcAF1RDKt1FJyG/68U8biH52k8z2XCt2sBCAOhhkCc7ajQAhM3b/J//1//FxcvnON3v/JlVDjLELYxH+MyN0pp4vFYw2i8rnG1S0MM7YU1EXdkgKKMkctIa+3hx3zXn1JRDzOizK3buTtmbK2egdJYYr4mEfNd5jNcLx5zx+4yYTYMlN0Si3nEYj5emIFXCmIxn5gfDZjmNqLDNvfaU8RiGh12PlT19IUDMsXcOQbXt7Q+B3i0KQXaGheI1QsgXCZSKZcJj3mKuG/wtUGFUyMlfUvCd+slPUtCG2LakvAsOhyd21MuCIrpGsmYmyZJA74G33PTEZWLOY4e3o+vFYSFDMlEjP7eru30hec64Wt85T7n+uValLYkYhatLfGYJaYtngrPp7LEYoqYVyPmu31CdG0ZFAG+Z/CUS7NSATFPEdPg2RrYAI0bVTqmIRnz8Cz4uIGuou/YVzZMm2taHcMS0249Ny6BOwYNxDyI+5DQipSv8GwVz1p8GxDTNRJ+FGAFKO2CVV+54DnmaeIxsIHbJtYVDiRimniYbhcKBmjtWn1EhVuer11f/CjoNmG+3xrXnzfmAhgFWGuoVcvsGx1yv0/3i3axZlgoE/Xxd7+VAC8s1IrHPHw/3I9yn3SruRprlK4XtBEVUoXNcDc2c3z/+z/i/LlzPPTAMdIpNwBaV1cXjz32OI8/8hiPPPIIjz3yKI898igPPfgQsbiP1i6ASsVcwYoGUAFKGXwdkPLB165gULsfCJ6OUubOsbaWuK+IeYpqucTwYA/pZKx+vVjc8bnB9FyzbxVNHeYm9KoPyqjCM6a064LifqpupPK4r+pBtUuLQRu3f18bknF3rUXnzHWxoT5QHii3PRvgWeOu0bCwRZkw6gwLH60N0NbiWde1QGHR1k0n5n6fCm1rKA+0coUVHuE+3Tfr7pbhfU8pN5CgxhLT0e8xTJs1Log1xhVYKfe78JQbrdzTENOahO+H06a5e5iKBhes34MNyrpuLspGXY6UC/pNeM0p4+4rviUWM2gdnhs3uiJaK5IJjYf7DSrruhCBIeZZ4jFXKOSp7UDX89z6zek4X3j+CQ6MDHJ9bJxLFy+yvr7pzpdW4bbcudaocDyM6G+VS79Wllo1oL0lQ2+3G7/EfXfuWMK+C/VXhBBiJ6nxFkK8DxfUNN4nPixro0HWbL3/t7WWmZkZrt+4zvFjJ+jv7wO2g/Q7A+hfFtG5+6juia5gwPnZtxmWD9RrwN/r6zTGcHt+Ea01fX294aBsO6+De6encRfR40bRFqItRgUi4GrISqUyt+du09/XRzqdrgdIWKgFAbNz87S0tNDR3uamBWq4Pu59rbhaXOoh1C5sGLnSeH6i49w+xjtPoXtmjKVarTIzPUdHRwdt7a4fc/1vpOXObd0jCffyXufxDjYq0IqacO/+Pbi/19G7u3FpjWpM2fG9RRo/HRVCuXPtvtfcVo7p6WnaOjro7+tFh2MZuMEH730eXL3/9r7dXhvTHL3e8J01rmfrJU7b6Y1a7Nxjn3eK9tew/7Ap/Pv+iOrXUTTQYUP6wo/ahs1up+nua2134fZ3/SIaz1P0RvjmzmTvWG3n23UN60Xpblyn8Sw5O49j+1xGRQ3UB35sPFbXOsFxr9+VFthxjA3Hd9d727+BxnejT7j3orxr9Pze+90+it3fF0J8OtmPqMZbAm8hxMfOBVm7v+Yy5Nvv64Y+y2LvWWtdn/qwtUL0XUQFJHsl2k/0b9TknvCaaPz+d64bXSORT+paMcbcca3uTPevgp3fX3Q+Gv9FftdCCCF+iXxUgffe5qSEEOJ9REHeTtFrjQGV2HtRMKSU6xfNLoUheyHaX7TvqOl843UQLTs/tzMQ/6Qo5ea9j+yW3k+76JgbA+uoQIKGwojoeRAEO7YghBBCfDpJ4C2E+Ng1BlM7a74aA5XdXhN7LzrvWkdNgvf+/EfXQvQ4EqUletz4nB3B7W7vf1yiNDQWHvwqiq4Z7nEd7byW7hibQAghhPgUk8BbCPGJ2xlo7QzAflWDmE/CxxVo30tjAB493ykKbHdeF7sFdh+nxrTfqyXHp11j7fbO7yM6H42vRa0qhBBCiE87CbyFEB+7nQF1FOxFwdTOzPqvYgDzSWo859H3stcar4HGJu47RddG4zqN19EnqXH/n3RaPimNv+Gdjxvfb1xfCCGE+FUggbcQ4mMXZb4bl51NVKPXxMerMTBq/F4+jgAp2lfjPhsXGgK1e63zcaRzNzvT8HGet18kux3/e31Xv2rnRwghxK8uydUKIYQQQgghhBB7SAJvIYQQQgghhBBiD0ngLYQQQgghhBBC6zvf/wAABYpJREFU7CEJvIUQQgghhBBCiD0kgbcQQgghhBBCCLGHJPAWQgghhBBCCCH2kATeQgghhBBCCCHEHpLAWwghhBBCCCGE2EMSeAshhBBCCCGEEHtIAm8hhBBCCCGEEGIPSeAthBBCCCGEEELsIQm8hRBCCCGEEEKIPSSBtxBCCCGEEEIIsYck8BZCCCGEEEIIIfaQBN5CCCGEEEIIIcQeksBbCCGEEEIIIYTYQ+8ReNsdzw1Yi7XWvWUtYN1DVH2txsdCRNx1IossssgiiyyyyCKLLB/3Ev238/V7L0I0Mg3XhbVgo7j4Z/AegfduXNAdXbjhKw3BtgoXIe7mLtKdrwohhBBCCLF3dgbTkicVP4t6vTOgFARm94vn/SJhZW1gG1ezwNp6lrX1DQ7uH0IpUGisMSil6jvd2Miyur7B0PAgWmv3adtY3/1euxW/iu6+wUUvyLUihBBCCCE+Pkqyn+IDshZyxSKra+v0dHfRlEqgtXKxb3ghWaBQKDK/sExXTw9tTcmdm/lZAm8XJLm6bkU2l2dtY7O+s3BjDVt5v5hf/KpxzTGUu6bkbieEEEIIIT4RdpcKISHuzWhFUKvR3d1JSzoFYWyjta5XJebDwLv7Qwfe9atTYbEUimW2cjlMw1WrrHt3mwRXwnGtJQxYhedplFINwXdUUNP4uLE2XB7//I9V+Fwef7jHNnwujz/cYxU+l8cf3WMbPpfHH+6xCp/L4w/32IbP5fGHe6zC5/L4o3tsw+cqjGksQWCx1oSv7xR9XgiwWAwW3/NozjSRTiWw1qKURSkPd0W5wHvhowi8Cdu2AxhjUdqF2DsrLuUyFbtx5TPGXSGKsPjG3QjdNXPvG6Q8/jCPVfhcHn+4xzZ8Lo8/3GMVPpfHH91jGz6Xxx/usQqfy+MP99iGz+Xxh3uswufy+KN6vD06lapXElqrABvGMu5xtM7254VwV4bFBcPu6nCvQFS56Gq93y/wvsfgaq75hQWwKgyaLAoX2WvdcEk2hO0qTIOKrlshIiq8MJSMey+EEEIIIT5uYcAdBVHq7gpEIXZTj3XDeJgw4IZooq9oAPL3dleNt7GwvrHJ6tomB/YP44UbVY0Rtd1REhQ93Lk3uZiFEEIIIYQQQvzSu7NrgqucDgNwFLmiq/Hu6emmrcn1A2+0a423tbiO4tGAajYcgMCqMOjeIazpFkIIIYQQQgghPn22677rTSaUwoTxsaIeje9qR423wVjF2nqW9Y0sB/YNukGwtlff5dG2+m52e1MIKZ0RQgghhBC/8CSYEe9vZ4ydL7pRzXu6u2lrvrvGe9fAe30jy+raJgf3DwGgVdipexfRyxJSifd3r5EjhRBCCCGE+EWxa6NgIe7wkQTeUY33yFAfWmu3VaXvamXupg9zDFI4JIQQQgghhBDiU+SuKbPvFA1KXiyVWFleo6e7i5b3D7wtxsLGxhbZ7BZaR4OpgVUau2PoPxUG3wBGgm7RQMHdQ0Xe+3oVQgghhBDiF8D25GNCgIus3YRh96LDeb0VtVqNrq5OWprTO1dCWTeLfJ21lkKhTDabdYG4MW6gtcaVhLiH6HLyPA+tXYFONNy+EEIIIYQQv6istQSBwVrpHik+uCjottbi+x7pdIbmpg8QeBvjKiqtvbvCUpqSi/cTXU2N185urwkhhBBCCPGLRvKt4oPa2cc7YozF9+6+gO4KvLefNq4sV6D44HZehHLZCCGEEEIIIT5NorjZ1Xa7GMgNj2bRuwRA7xF4C/HzkablQgghhBDiF11j4LTb60L8LKLm5tHjne4aK18uNPFhWWvlOhJCCCGEEEJ8qkXB9geJfd63xvv9InchGjVeP3K9CCGEEEKIX1QS44gPIwq4o+vn/a6juwJvIYQQQgghhBBCfHT+/6ZE+B+/XDH8AAAAAElFTkSuQmCC)"
      ],
      "metadata": {
        "id": "lQDdNG9UZHK7"
      }
    },
    {
      "cell_type": "markdown",
      "source": [
        "### Kurs trudny i potrzeba do niego zaawansowanych umiejetnosci analizy danych. Mimo na wysoki poziom trudnosci daje duzo przydatnych informacji na temat tego jakie aplikacje mogą odnieść sukces na rynku."
      ],
      "metadata": {
        "id": "KQ5hjBN3ZP-G"
      }
    }
  ]
}